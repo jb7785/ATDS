{
  "nbformat": 4,
  "nbformat_minor": 0,
  "metadata": {
    "colab": {
      "provenance": [],
      "gpuType": "A100"
    },
    "kernelspec": {
      "name": "python3",
      "display_name": "Python 3"
    },
    "language_info": {
      "name": "python"
    },
    "accelerator": "GPU"
  },
  "cells": [
    {
      "cell_type": "code",
      "source": [
        "'''\n",
        "Imports\n",
        "'''\n",
        "\n",
        "# General\n",
        "import json\n",
        "import numpy as np\n",
        "from collections import Counter\n",
        "import pandas as pd\n",
        "\n",
        "try:\n",
        "  import wandb\n",
        "except:\n",
        "  ! pip install wandb\n",
        "  import wandb\n",
        "\n",
        "try:\n",
        "  from datasets import Dataset\n",
        "except:\n",
        "  ! pip install datasets\n",
        "  from datasets import Dataset\n",
        "\n",
        "# Metrics\n",
        "from sklearn.metrics import classification_report\n",
        "from sklearn.metrics import precision_score as sk_precision_score\n",
        "from sklearn.metrics import recall_score as sk_recall_score\n",
        "from sklearn.metrics import f1_score as sk_f1_score\n",
        "\n",
        "try:\n",
        "  from seqeval.metrics import classification_report as seqeval_classification_report\n",
        "  from seqeval.metrics import f1_score, precision_score, recall_score\n",
        "except:\n",
        "  ! pip install seqeval\n",
        "  from seqeval.metrics import classification_report as seqeval_classification_report\n",
        "  from seqeval.metrics import f1_score, precision_score, recall_score\n",
        "\n",
        "# PyTorch\n",
        "import torch\n",
        "import torch.nn as nn\n",
        "from torch.utils.data import Dataset\n",
        "\n",
        "# Transformers\n",
        "try:\n",
        "    from transformers import (\n",
        "        DataCollatorForTokenClassification,\n",
        "        DistilBertConfig,\n",
        "        DistilBertForTokenClassification,\n",
        "        DistilBertTokenizerFast,\n",
        "        Trainer,\n",
        "        TrainingArguments,\n",
        "    )\n",
        "except:\n",
        "    ! pip install transformers\n",
        "    from transformers import (\n",
        "        DataCollatorForTokenClassification,\n",
        "        DistilBertConfig,\n",
        "        DistilBertForTokenClassification,\n",
        "        DistilBertTokenizerFast,\n",
        "        Trainer,\n",
        "        TrainingArguments,\n",
        "    )\n",
        "\n",
        "! pip install accelerate"
      ],
      "metadata": {
        "colab": {
          "base_uri": "https://localhost:8080/"
        },
        "id": "yk0vCfVaKxw5",
        "outputId": "ab09bad1-25a4-49a3-9389-44ecd7bfca89"
      },
      "execution_count": null,
      "outputs": [
        {
          "output_type": "stream",
          "name": "stdout",
          "text": [
            "Requirement already satisfied: accelerate in /usr/local/lib/python3.11/dist-packages (1.6.0)\n",
            "Requirement already satisfied: numpy<3.0.0,>=1.17 in /usr/local/lib/python3.11/dist-packages (from accelerate) (2.0.2)\n",
            "Requirement already satisfied: packaging>=20.0 in /usr/local/lib/python3.11/dist-packages (from accelerate) (24.2)\n",
            "Requirement already satisfied: psutil in /usr/local/lib/python3.11/dist-packages (from accelerate) (5.9.5)\n",
            "Requirement already satisfied: pyyaml in /usr/local/lib/python3.11/dist-packages (from accelerate) (6.0.2)\n",
            "Requirement already satisfied: torch>=2.0.0 in /usr/local/lib/python3.11/dist-packages (from accelerate) (2.6.0+cu124)\n",
            "Requirement already satisfied: huggingface-hub>=0.21.0 in /usr/local/lib/python3.11/dist-packages (from accelerate) (0.30.2)\n",
            "Requirement already satisfied: safetensors>=0.4.3 in /usr/local/lib/python3.11/dist-packages (from accelerate) (0.5.3)\n",
            "Requirement already satisfied: filelock in /usr/local/lib/python3.11/dist-packages (from huggingface-hub>=0.21.0->accelerate) (3.18.0)\n",
            "Requirement already satisfied: fsspec>=2023.5.0 in /usr/local/lib/python3.11/dist-packages (from huggingface-hub>=0.21.0->accelerate) (2025.3.0)\n",
            "Requirement already satisfied: requests in /usr/local/lib/python3.11/dist-packages (from huggingface-hub>=0.21.0->accelerate) (2.32.3)\n",
            "Requirement already satisfied: tqdm>=4.42.1 in /usr/local/lib/python3.11/dist-packages (from huggingface-hub>=0.21.0->accelerate) (4.67.1)\n",
            "Requirement already satisfied: typing-extensions>=3.7.4.3 in /usr/local/lib/python3.11/dist-packages (from huggingface-hub>=0.21.0->accelerate) (4.13.2)\n",
            "Requirement already satisfied: networkx in /usr/local/lib/python3.11/dist-packages (from torch>=2.0.0->accelerate) (3.4.2)\n",
            "Requirement already satisfied: jinja2 in /usr/local/lib/python3.11/dist-packages (from torch>=2.0.0->accelerate) (3.1.6)\n",
            "Requirement already satisfied: nvidia-cuda-nvrtc-cu12==12.4.127 in /usr/local/lib/python3.11/dist-packages (from torch>=2.0.0->accelerate) (12.4.127)\n",
            "Requirement already satisfied: nvidia-cuda-runtime-cu12==12.4.127 in /usr/local/lib/python3.11/dist-packages (from torch>=2.0.0->accelerate) (12.4.127)\n",
            "Requirement already satisfied: nvidia-cuda-cupti-cu12==12.4.127 in /usr/local/lib/python3.11/dist-packages (from torch>=2.0.0->accelerate) (12.4.127)\n",
            "Requirement already satisfied: nvidia-cudnn-cu12==9.1.0.70 in /usr/local/lib/python3.11/dist-packages (from torch>=2.0.0->accelerate) (9.1.0.70)\n",
            "Requirement already satisfied: nvidia-cublas-cu12==12.4.5.8 in /usr/local/lib/python3.11/dist-packages (from torch>=2.0.0->accelerate) (12.4.5.8)\n",
            "Requirement already satisfied: nvidia-cufft-cu12==11.2.1.3 in /usr/local/lib/python3.11/dist-packages (from torch>=2.0.0->accelerate) (11.2.1.3)\n",
            "Requirement already satisfied: nvidia-curand-cu12==10.3.5.147 in /usr/local/lib/python3.11/dist-packages (from torch>=2.0.0->accelerate) (10.3.5.147)\n",
            "Requirement already satisfied: nvidia-cusolver-cu12==11.6.1.9 in /usr/local/lib/python3.11/dist-packages (from torch>=2.0.0->accelerate) (11.6.1.9)\n",
            "Requirement already satisfied: nvidia-cusparse-cu12==12.3.1.170 in /usr/local/lib/python3.11/dist-packages (from torch>=2.0.0->accelerate) (12.3.1.170)\n",
            "Requirement already satisfied: nvidia-cusparselt-cu12==0.6.2 in /usr/local/lib/python3.11/dist-packages (from torch>=2.0.0->accelerate) (0.6.2)\n",
            "Requirement already satisfied: nvidia-nccl-cu12==2.21.5 in /usr/local/lib/python3.11/dist-packages (from torch>=2.0.0->accelerate) (2.21.5)\n",
            "Requirement already satisfied: nvidia-nvtx-cu12==12.4.127 in /usr/local/lib/python3.11/dist-packages (from torch>=2.0.0->accelerate) (12.4.127)\n",
            "Requirement already satisfied: nvidia-nvjitlink-cu12==12.4.127 in /usr/local/lib/python3.11/dist-packages (from torch>=2.0.0->accelerate) (12.4.127)\n",
            "Requirement already satisfied: triton==3.2.0 in /usr/local/lib/python3.11/dist-packages (from torch>=2.0.0->accelerate) (3.2.0)\n",
            "Requirement already satisfied: sympy==1.13.1 in /usr/local/lib/python3.11/dist-packages (from torch>=2.0.0->accelerate) (1.13.1)\n",
            "Requirement already satisfied: mpmath<1.4,>=1.1.0 in /usr/local/lib/python3.11/dist-packages (from sympy==1.13.1->torch>=2.0.0->accelerate) (1.3.0)\n",
            "Requirement already satisfied: MarkupSafe>=2.0 in /usr/local/lib/python3.11/dist-packages (from jinja2->torch>=2.0.0->accelerate) (3.0.2)\n",
            "Requirement already satisfied: charset-normalizer<4,>=2 in /usr/local/lib/python3.11/dist-packages (from requests->huggingface-hub>=0.21.0->accelerate) (3.4.1)\n",
            "Requirement already satisfied: idna<4,>=2.5 in /usr/local/lib/python3.11/dist-packages (from requests->huggingface-hub>=0.21.0->accelerate) (3.10)\n",
            "Requirement already satisfied: urllib3<3,>=1.21.1 in /usr/local/lib/python3.11/dist-packages (from requests->huggingface-hub>=0.21.0->accelerate) (2.4.0)\n",
            "Requirement already satisfied: certifi>=2017.4.17 in /usr/local/lib/python3.11/dist-packages (from requests->huggingface-hub>=0.21.0->accelerate) (2025.4.26)\n"
          ]
        }
      ]
    },
    {
      "cell_type": "code",
      "source": [
        "import os\n",
        "#os.environ[\"WANDB_MODE\"] = \"offline\"\n",
        "from google.colab import drive\n",
        "if \"COLAB_GPU\" in os.environ:\n",
        "        drive.mount('/content/drive')\n",
        "\n",
        "output_dir = \"/content/drive/MyDrive/distilbert_outputs\"\n",
        "os.makedirs(output_dir, exist_ok=True)\n"
      ],
      "metadata": {
        "id": "1Xu4CRSdAGe2",
        "colab": {
          "base_uri": "https://localhost:8080/"
        },
        "outputId": "5cfeea0c-08b7-4d61-a60a-2be34aa31cc1"
      },
      "execution_count": null,
      "outputs": [
        {
          "output_type": "stream",
          "name": "stdout",
          "text": [
            "Drive already mounted at /content/drive; to attempt to forcibly remount, call drive.mount(\"/content/drive\", force_remount=True).\n"
          ]
        }
      ]
    },
    {
      "cell_type": "code",
      "source": [
        "\"\"\"\n",
        "    Preprocess a list of email chains for token classification with BIO tagging.\n",
        "\n",
        "    For each email chain, this function:\n",
        "    - Concatenates all email bodies into a single string.\n",
        "    - Extracts entity values from the tenant profile.\n",
        "    - Tokenizes the email text.\n",
        "    - Labels each token using the BIO format based on entity spans.\n",
        "    - Converts labels to IDs using the provided label2id mapping.\n",
        "    - Masks padding token positions with -100 for loss computation.\n",
        "\n",
        "    Args:\n",
        "        data (list): List of email chains, each as a dictionary with an email_chain and tenant_profile.\n",
        "        tokenizer (PreTrainedTokenizer): Hugging Face tokenizer.\n",
        "        label2id (dict): Mapping from BIO label strings to integer IDs.\n",
        "        max_length (int, optional): Maximum sequence length for tokenization. Defaults to 512.\n",
        "\n",
        "    Returns:\n",
        "        A tuple of two lists:\n",
        "            - List of tokenized input dictionaries (with input_ids, attention_mask, etc.)\n",
        "            - List of corresponding label ID sequences\n",
        "\"\"\"\n",
        "\n",
        "def preprocess_for_token_classification(data, tokenizer, label2id, max_length=512):\n",
        "    inputs, all_labels = [], []\n",
        "\n",
        "    for item in data:\n",
        "        email_text = \" \".join(email[\"body\"].replace(\"\\n\", \" \") for email in item[\"email_chain\"])\n",
        "        email_text_lower = email_text.lower()\n",
        "\n",
        "        profile = item.get(\"tenant_profile\", {})\n",
        "        prefs = profile.get(\"Property Preferences\", {})\n",
        "\n",
        "        # Get all entities\n",
        "        raw_entities = {\n",
        "            \"FirstName\": profile.get(\"Tenant Representative Details\", {}).get(\"First Name\", \"\"),\n",
        "            \"LastName\": profile.get(\"Tenant Representative Details\", {}).get(\"Last Name\", \"\"),\n",
        "            \"Email\": profile.get(\"Tenant Representative Details\", {}).get(\"Email\", \"\"),\n",
        "            \"Phone\": profile.get(\"Tenant Representative Details\", {}).get(\"Phone\", \"\"),\n",
        "            \"CompanyName\": profile.get(\"Company Details\", {}).get(\"Company Name\", \"\"),\n",
        "            \"Industry\": profile.get(\"Company Details\", {}).get(\"Industry\", \"\"),\n",
        "            \"CompanySize\": profile.get(\"Company Details\", {}).get(\"Company Size\", \"\"),\n",
        "            \"GrowthStage\": profile.get(\"Company Details\", {}).get(\"Growth Stage\", \"\"),\n",
        "            \"CurrentNeighborhood\": profile.get(\"Company Details\", {}).get(\"Current Neighborhood\", []),\n",
        "            \"FirstInteraction\": profile.get(\"First Interaction\", \"\"),\n",
        "            \"LastInteraction\": profile.get(\"Last Interaction\", \"\"),\n",
        "            \"DecisionMakerRole\": profile.get(\"Decision-Maker Role\", \"\"),\n",
        "            \"PropertyType\": prefs.get(\"Property Type\", \"\"),\n",
        "            \"PreferredNeighborhood\": prefs.get(\"Preferred Neighborhood\", []),\n",
        "            \"Budget\": prefs.get(\"Estimated or Stated Budget\", \"\"),\n",
        "            \"MustHaves\": prefs.get(\"Must-Haves\", []),\n",
        "            \"NiceToHaves\": prefs.get(\"Nice-to-Haves\", []),\n",
        "            \"SpaceSize\": prefs.get(\"Space Size\", \"\"),\n",
        "            \"PreferredLeaseTerm\": prefs.get(\"Preferred Lease Term\", \"\"),\n",
        "            \"MovingTerm\": prefs.get(\"Moving Term\", \"\"),\n",
        "            \"min_months\": prefs.get(\"Moving Timing\", {}).get(\"min_months\", \"\"),\n",
        "            \"max_months\": prefs.get(\"Moving Timing\", {}).get(\"max_months\", \"\"),\n",
        "            \"MovingTimeline\": profile.get(\"Moving Timeline\", \"\"),\n",
        "            \"PainPoint\": profile.get(\"Pain Points\", []),\n",
        "            \"UrgencyScore\": str(profile.get(\"Urgency Score\", \"\")),\n",
        "            \"Outcome\": profile.get(\"Outcome\", \"\"),\n",
        "            \"Personality\": profile.get(\"Tenant Personality\", \"\")\n",
        "        }\n",
        "\n",
        "        # Normalize all values to a list of values\n",
        "        entities = {}\n",
        "        for key, val in raw_entities.items():\n",
        "            if isinstance(val, list):\n",
        "                entities[key] = [str(v).strip() for v in val if v]\n",
        "            elif val:\n",
        "                entities[key] = [str(val).strip()]\n",
        "            else:\n",
        "                entities[key] = []\n",
        "\n",
        "        # Tokenize input\n",
        "        encoding = tokenizer(\n",
        "            email_text,\n",
        "            truncation=True,\n",
        "            padding=\"max_length\",\n",
        "            max_length=max_length,\n",
        "            return_offsets_mapping=True\n",
        "        )\n",
        "        offset_mapping = encoding.pop(\"offset_mapping\")\n",
        "        input_ids = encoding[\"input_ids\"]\n",
        "\n",
        "        # Set default label to \"O\"\n",
        "        label_list = [\"O\"] * len(input_ids)\n",
        "\n",
        "        # Tag tokens with BIO\n",
        "        for entity_type, values in entities.items():\n",
        "            for value in values:\n",
        "                start = email_text_lower.find(value.lower())\n",
        "                if start == -1:\n",
        "                    continue\n",
        "                end = start + len(value)\n",
        "\n",
        "                inside = False\n",
        "                for i, (token_start, token_end) in enumerate(offset_mapping):\n",
        "                    if token_start == 0 and token_end == 0:\n",
        "                        continue\n",
        "                    if token_start >= end or token_end <= start:\n",
        "                        continue\n",
        "                    tag = f\"I-{entity_type}\" if inside else f\"B-{entity_type}\"\n",
        "                    label_list[i] = tag\n",
        "                    inside = True\n",
        "\n",
        "        # Convert tags to IDs and mask padding\n",
        "        label_ids = [label2id.get(tag, label2id[\"O\"]) for tag in label_list]\n",
        "        label_ids = [\n",
        "            label_id if input_id != tokenizer.pad_token_id else -100\n",
        "            for label_id, input_id in zip(label_ids, input_ids)\n",
        "        ]\n",
        "\n",
        "        inputs.append(encoding)\n",
        "        all_labels.append(label_ids)\n",
        "\n",
        "    return inputs, all_labels\n"
      ],
      "metadata": {
        "id": "-DYakqf2jcu0"
      },
      "execution_count": null,
      "outputs": []
    },
    {
      "cell_type": "code",
      "source": [
        "\"\"\"\n",
        "    Creates a PyTorch Dataset from the pre-tokenized input encodings and their corresponding label sequences.\n",
        "\n",
        "    Args:\n",
        "        encodings (list of dict): List of dictionaries containing tokenized inputs.\n",
        "        labels (list of list): List of label ID sequences aligned with the tokenized inputs.\n",
        "\n",
        "    Methods:\n",
        "        __getitem__(index): Returns a single item from the dataset as a dictionary\n",
        "                          with input tensors and corresponding label tensor.\n",
        "        __len__(): Returns the number of items in the dataset.\n",
        "\"\"\"\n",
        "class EmailNERDataset(Dataset):\n",
        "    def __init__(self, encodings, labels):\n",
        "        self.encodings = encodings\n",
        "        self.labels = labels\n",
        "\n",
        "    def __getitem__(self, index):\n",
        "        item = {\n",
        "            key: torch.tensor(val)\n",
        "            for key, val in self.encodings[index].items()\n",
        "        }\n",
        "        item[\"labels\"] = torch.tensor(self.labels[index])\n",
        "        return item\n",
        "\n",
        "    def __len__(self):\n",
        "        return len(self.labels)\n"
      ],
      "metadata": {
        "id": "CxS6I4tbT0jP"
      },
      "execution_count": null,
      "outputs": []
    },
    {
      "cell_type": "code",
      "source": [
        "'''\n",
        "Define tokenizer and import pre-trained model\n",
        "'''\n",
        "tokenizer = DistilBertTokenizerFast.from_pretrained(\"distilbert-base-uncased\")"
      ],
      "metadata": {
        "id": "Em8VtJXOmYLv",
        "colab": {
          "base_uri": "https://localhost:8080/"
        },
        "outputId": "8cbeefa4-dc17-4922-e4ab-020ed1c1a678"
      },
      "execution_count": null,
      "outputs": [
        {
          "output_type": "stream",
          "name": "stderr",
          "text": [
            "/usr/local/lib/python3.11/dist-packages/huggingface_hub/utils/_auth.py:94: UserWarning: \n",
            "The secret `HF_TOKEN` does not exist in your Colab secrets.\n",
            "To authenticate with the Hugging Face Hub, create a token in your settings tab (https://huggingface.co/settings/tokens), set it as secret in your Google Colab and restart your session.\n",
            "You will be able to reuse this secret in all of your notebooks.\n",
            "Please note that authentication is recommended but still optional to access public models or datasets.\n",
            "  warnings.warn(\n"
          ]
        }
      ]
    },
    {
      "cell_type": "code",
      "source": [
        "'''\n",
        "Select ENTITY_TAGS for BIO tagging, having \"O\" as the default tag\n",
        "'''\n",
        "\n",
        "ENTITY_TAGS = [\n",
        "    \"O\",\n",
        "    \"B-FirstName\", \"I-FirstName\",\n",
        "    \"B-LastName\", \"I-LastName\",\n",
        "    \"B-Email\", \"I-Email\",\n",
        "    \"B-Phone\", \"I-Phone\",\n",
        "    \"B-CompanyName\", \"I-CompanyName\",\n",
        "    \"B-Industry\", \"I-Industry\",\n",
        "    \"B-CompanySize\", \"I-CompanySize\",\n",
        "    \"B-GrowthStage\", \"I-GrowthStage\",\n",
        "    \"B-CurrentNeighborhood\", \"I-CurrentNeighborhood\",\n",
        "    \"B-FirstInteraction\", \"I-FirstInteraction\",\n",
        "    \"B-LastInteraction\", \"I-LastInteraction\",\n",
        "    \"B-DecisionMakerRole\", \"I-DecisionMakerRole\",\n",
        "    \"B-PropertyType\", \"I-PropertyType\",\n",
        "    \"B-PreferredNeighborhood\", \"I-PreferredNeighborhood\",\n",
        "    \"B-Budget\", \"I-Budget\",\n",
        "    \"B-SpaceSize\", \"I-SpaceSize\",\n",
        "    \"B-PreferredLeaseTerm\", \"I-PreferredLeaseTerm\",\n",
        "    \"B-MovingTerm\", \"I-MovingTerm\",\n",
        "    \"B-min_months\", \"I-min_months\",\n",
        "    \"B-max_months\", \"I-max_months\",\n",
        "    \"B-MovingTimeline\", \"I-MovingTimeline\",\n",
        "    \"B-MustHaves\", \"I-MustHaves\",\n",
        "    \"B-NiceToHaves\", \"I-NiceToHaves\",\n",
        "    \"B-PainPoint\", \"I-PainPoint\",\n",
        "    \"B-UrgencyScore\", \"I-UrgencyScore\",\n",
        "    \"B-Outcome\", \"I-Outcome\",\n",
        "    \"B-Personality\", \"I-Personality\"\n",
        "]\n",
        "\n",
        "# Define label to id mappings\n",
        "label2id = {label: i for i, label in enumerate(ENTITY_TAGS)}\n",
        "id2label = {i: label for label, i in label2id.items()}\n",
        "\n",
        "# Set inicial label weights\n",
        "label_weights = torch.tensor([0.05] + [1.0] * (len(ENTITY_TAGS) - 1), dtype=torch.float)"
      ],
      "metadata": {
        "id": "6wG4itqup9Yc"
      },
      "execution_count": null,
      "outputs": []
    },
    {
      "cell_type": "code",
      "source": [
        "'''\n",
        "Initialize model\n",
        "'''\n",
        "\n",
        "model = DistilBertForTokenClassification.from_pretrained(\n",
        "    \"distilbert-base-uncased\",\n",
        "    num_labels=len(ENTITY_TAGS),\n",
        "    id2label=id2label,\n",
        "    label2id=label2id\n",
        ")"
      ],
      "metadata": {
        "colab": {
          "base_uri": "https://localhost:8080/"
        },
        "id": "TzlVM4t3qkkx",
        "outputId": "b2291daa-a2c9-4fc5-b65b-c8111fbd360a"
      },
      "execution_count": null,
      "outputs": [
        {
          "output_type": "stream",
          "name": "stderr",
          "text": [
            "Some weights of DistilBertForTokenClassification were not initialized from the model checkpoint at distilbert-base-uncased and are newly initialized: ['classifier.bias', 'classifier.weight']\n",
            "You should probably TRAIN this model on a down-stream task to be able to use it for predictions and inference.\n"
          ]
        }
      ]
    },
    {
      "cell_type": "code",
      "source": [
        "'''\n",
        "Import data and preprocess it\n",
        "'''\n",
        "\n",
        "with open(\"train.json\") as f:  # Change path according to the file location\n",
        "    train_data = json.load(f)\n",
        "with open(\"val.json\") as f:  # Change path according to the file location\n",
        "    val_data = json.load(f)\n",
        "with open(\"test.json\") as f:  # Change path according to the file location\n",
        "    test_data = json.load(f)\n",
        "\n",
        "'''\n",
        "For running with github repo.:\n",
        "with open(\"../3. Data Split/train.json\") as f:\n",
        "    train_data = json.load(f)\n",
        "with open(\"../3. Data Split/val.json\") as f:\n",
        "    val_data = json.load(f)\n",
        "with open(\"../3. Data Split/test.json\") as f:\n",
        "    test_data = json.load(f)\n",
        "'''\n",
        "\n",
        "# Tokenize\n",
        "train_encodings, train_labels = preprocess_for_token_classification(train_data, tokenizer, label2id)\n",
        "val_encodings, val_labels = preprocess_for_token_classification(val_data, tokenizer, label2id)\n",
        "test_encodings, test_labels = preprocess_for_token_classification(test_data, tokenizer, label2id)\n",
        "\n",
        "# Create Datasets\n",
        "train_data = EmailNERDataset(train_encodings, train_labels)\n",
        "val_data = EmailNERDataset(val_encodings, val_labels)\n",
        "test_data = EmailNERDataset(test_encodings, test_labels)\n"
      ],
      "metadata": {
        "id": "Mo1zbPG4T-vQ"
      },
      "execution_count": null,
      "outputs": []
    },
    {
      "cell_type": "code",
      "source": [
        "# Check tokenized outputs\n",
        "for name, dataset in zip([\"Validation\", \"Test\", \"Train\"], [val_data, test_data, train_data]):\n",
        "  print(f\"\\nLabel distribution for {name} dataset:\")\n",
        "  all_labels = sum([item['labels'].tolist() for item in dataset], [])\n",
        "  label_counts = Counter(all_labels)\n",
        "  print({(id2label[k] if k != -100 else 'IGNORED'): v for k, v in label_counts.items()})"
      ],
      "metadata": {
        "colab": {
          "base_uri": "https://localhost:8080/"
        },
        "id": "NMvlF-e7q-rX",
        "outputId": "55b6f675-31b3-4e08-de23-5ca5ce3dae54"
      },
      "execution_count": null,
      "outputs": [
        {
          "output_type": "stream",
          "name": "stdout",
          "text": [
            "\n",
            "Label distribution for Validation dataset:\n",
            "{'O': 12598, 'B-FirstName': 30, 'B-CompanyName': 25, 'I-CompanyName': 37, 'B-MustHaves': 60, 'I-MustHaves': 60, 'B-UrgencyScore': 21, 'IGNORED': 2406, 'B-LastName': 12, 'B-Industry': 13, 'B-CurrentNeighborhood': 2, 'I-CurrentNeighborhood': 2, 'B-PropertyType': 27, 'B-PreferredNeighborhood': 9, 'I-PreferredNeighborhood': 8, 'B-NiceToHaves': 10, 'I-NiceToHaves': 13, 'B-PreferredLeaseTerm': 4, 'I-PreferredLeaseTerm': 5, 'B-Personality': 2, 'B-DecisionMakerRole': 7, 'I-FirstName': 2, 'B-Outcome': 2, 'B-SpaceSize': 1, 'I-SpaceSize': 4}\n",
            "\n",
            "Label distribution for Test dataset:\n",
            "{'O': 12209, 'B-FirstName': 30, 'B-CompanyName': 26, 'I-CompanyName': 38, 'B-PreferredNeighborhood': 13, 'I-PreferredNeighborhood': 12, 'B-PropertyType': 26, 'B-MustHaves': 49, 'I-MustHaves': 60, 'B-UrgencyScore': 20, 'IGNORED': 2818, 'B-PreferredLeaseTerm': 3, 'I-PreferredLeaseTerm': 3, 'B-LastName': 8, 'B-NiceToHaves': 10, 'I-NiceToHaves': 10, 'B-Industry': 12, 'B-DecisionMakerRole': 6, 'B-CurrentNeighborhood': 1, 'B-PainPoint': 1, 'I-PainPoint': 3, 'I-PropertyType': 2}\n",
            "\n",
            "Label distribution for Train dataset:\n",
            "{'O': 58105, 'B-FirstName': 140, 'B-Industry': 80, 'B-PropertyType': 110, 'B-SpaceSize': 12, 'I-SpaceSize': 63, 'B-MustHaves': 212, 'I-MustHaves': 259, 'B-UrgencyScore': 92, 'B-PreferredLeaseTerm': 23, 'I-PreferredLeaseTerm': 19, 'IGNORED': 12018, 'B-LastName': 41, 'B-CompanyName': 102, 'I-CompanyName': 151, 'B-PreferredNeighborhood': 50, 'I-PreferredNeighborhood': 47, 'B-PainPoint': 7, 'I-PainPoint': 13, 'B-Personality': 3, 'I-FirstName': 3, 'B-DecisionMakerRole': 20, 'I-LastName': 2, 'B-Phone': 1, 'I-Phone': 5, 'B-NiceToHaves': 46, 'I-NiceToHaves': 37, 'B-Outcome': 4, 'I-Outcome': 3, 'B-CurrentNeighborhood': 3, 'B-Budget': 1, 'I-Budget': 4, 'I-CurrentNeighborhood': 2, 'I-Industry': 1, 'B-GrowthStage': 1}\n"
          ]
        }
      ]
    },
    {
      "cell_type": "code",
      "source": [
        "\"\"\"\n",
        "  A subclass of DistilBertForTokenClassification that incorporates class weights into the loss function.\n",
        "\n",
        "  This model is designed for token classification tasks where class imbalance may exist.\n",
        "  It uses a cross-entropy loss function with class weights and `ignore_index=-100`\n",
        "  to ignore padding tokens.\n",
        "\n",
        "  Args:\n",
        "      - config: Model configuration.\n",
        "      - class_weights (torch.Tensor, optional): 1D tensor of weights for each class. If None, standard (unweighted) loss is used.\n",
        "\"\"\"\n",
        "\n",
        "class WeightedDistilBertForTokenClassification(DistilBertForTokenClassification):\n",
        "    def __init__(self, config, class_weights=None):\n",
        "        super().__init__(config)\n",
        "        self.class_weights = class_weights\n",
        "\n",
        "    def forward(self, input_ids=None, attention_mask=None, num_items_in_batch=None, labels=None, **kwargs):\n",
        "        '''\n",
        "          Forward Args:\n",
        "              - input_ids (torch.LongTensor): Token IDs with shape (batch_size, sequence_length).\n",
        "              - attention_mask (torch.LongTensor): Mask to avoid performing attention on padding tokens.\n",
        "              - labels (torch.LongTensor, optional): Token-level labels for computing the loss.\n",
        "              - num_items_in_batch (optional): Unused placeholder for potential logging/debugging.\n",
        "              - **kwargs: Additional keyword arguments for base model.\n",
        "\n",
        "          Returns:\n",
        "              - dict: A dictionary with:\n",
        "                  - \"loss\" (torch.FloatTensor, optional): The weighted cross-entropy loss, if labels are provided.\n",
        "                  - \"logits\" (torch.FloatTensor): The predicted logits of shape (batch_size, sequence_length, num_labels).\n",
        "        '''\n",
        "        outputs = super().forward(input_ids=input_ids, attention_mask=attention_mask, labels=None, **kwargs)\n",
        "        logits = outputs.logits\n",
        "        loss = None\n",
        "        if labels is not None:\n",
        "            loss_fct = nn.CrossEntropyLoss(weight=self.class_weights.to(logits.dtype).to(logits.device), ignore_index=-100)\n",
        "            loss = loss_fct(logits.view(-1, self.num_labels), labels.view(-1))\n",
        "\n",
        "        return {\"loss\": loss, \"logits\": logits} if loss is not None else {\"logits\": logits}\n"
      ],
      "metadata": {
        "id": "0XtLizzPZCCJ"
      },
      "execution_count": null,
      "outputs": []
    },
    {
      "cell_type": "code",
      "source": [
        "'''\n",
        "Initialize model\n",
        "'''\n",
        "# Load configuration with entities, labels and label ids\n",
        "config = DistilBertConfig.from_pretrained(\n",
        "    \"distilbert-base-uncased\",\n",
        "    num_labels=len(ENTITY_TAGS),\n",
        "    id2label=id2label,\n",
        "    label2id=label2id\n",
        ")\n",
        "\n",
        "# Load model using weighted class\n",
        "model = WeightedDistilBertForTokenClassification.from_pretrained(\n",
        "    \"distilbert-base-uncased\",\n",
        "    config=config,\n",
        "    class_weights=label_weights\n",
        ")"
      ],
      "metadata": {
        "colab": {
          "base_uri": "https://localhost:8080/"
        },
        "id": "TUmM6vf4vNew",
        "outputId": "9ea8f338-8501-4dff-f294-6722afa0a9bf"
      },
      "execution_count": null,
      "outputs": [
        {
          "output_type": "stream",
          "name": "stderr",
          "text": [
            "Some weights of WeightedDistilBertForTokenClassification were not initialized from the model checkpoint at distilbert-base-uncased and are newly initialized: ['classifier.bias', 'classifier.weight']\n",
            "You should probably TRAIN this model on a down-stream task to be able to use it for predictions and inference.\n"
          ]
        }
      ]
    },
    {
      "cell_type": "code",
      "source": [
        "'''\n",
        "Define metrics for model evaluation\n",
        "'''\n",
        "\n",
        "def compute_metrics(p):\n",
        "    predictions, labels = p\n",
        "    preds = predictions.argmax(axis=-1)\n",
        "\n",
        "    true_labels = []\n",
        "    pred_labels = []\n",
        "\n",
        "    for pred, label in zip(preds, labels):\n",
        "        true_seq = []\n",
        "        pred_seq = []\n",
        "        for p_, l_ in zip(pred, label):\n",
        "            if l_ != -100: # Ignore padding\n",
        "                true_seq.append(id2label[l_])\n",
        "                pred_seq.append(id2label[p_])\n",
        "        true_labels.append(true_seq)\n",
        "        pred_labels.append(pred_seq)\n",
        "\n",
        "    return {\n",
        "        \"precision\": precision_score(true_labels, pred_labels, zero_division=1),\n",
        "        \"recall\": recall_score(true_labels, pred_labels, zero_division=1),\n",
        "        \"f1\": f1_score(true_labels, pred_labels, zero_division=1)\n",
        "    }\n"
      ],
      "metadata": {
        "id": "c3lIQ2-qNeY8"
      },
      "execution_count": null,
      "outputs": []
    },
    {
      "cell_type": "code",
      "source": [
        "\"\"\"\n",
        "Extract contiguous entities from BIO-tagged tokens.\n",
        "\n",
        "Args:\n",
        "    tokens (List[str]): List of tokens.\n",
        "    labels (List[str]): Corresponding BIO labels (e.g., B-Budget, I-Budget, O).\n",
        "\n",
        "Returns:\n",
        "    Dict[str, str]: A mapping from field name to extracted string value.\n",
        "\"\"\"\n",
        "def extract_entities_from_tokens(tokens, labels):\n",
        "\n",
        "    entity_dict = {}\n",
        "    current_entity = None\n",
        "    current_tokens = []\n",
        "\n",
        "    for token, label in zip(tokens, labels):\n",
        "        if label == \"O\" or token in tokenizer.all_special_tokens:\n",
        "            if current_entity:\n",
        "                value = tokenizer.convert_tokens_to_string(current_tokens).replace(\" ##\", \"\")\n",
        "                entity_dict.setdefault(current_entity.lower(), value.strip())\n",
        "                current_entity, current_tokens = None, []\n",
        "            continue\n",
        "\n",
        "        tag, field = label.split(\"-\", 1)\n",
        "\n",
        "        if tag == \"B\":\n",
        "            if current_entity:\n",
        "                value = tokenizer.convert_tokens_to_string(current_tokens).replace(\" ##\", \"\")\n",
        "                entity_dict.setdefault(current_entity.lower(), value.strip())\n",
        "            current_entity = field\n",
        "            current_tokens = [token]\n",
        "        elif tag == \"I\" and field == current_entity:\n",
        "            current_tokens.append(token)\n",
        "        else:\n",
        "            if current_entity:\n",
        "                value = tokenizer.convert_tokens_to_string(current_tokens).replace(\" ##\", \"\")\n",
        "                entity_dict.setdefault(current_entity.lower(), value.strip())\n",
        "            current_entity = None\n",
        "            current_tokens = []\n",
        "\n",
        "    if current_entity and current_tokens:\n",
        "        value = tokenizer.convert_tokens_to_string(current_tokens).replace(\" ##\", \"\")\n",
        "        entity_dict.setdefault(current_entity.lower(), value.strip())\n",
        "\n",
        "    return entity_dict\n"
      ],
      "metadata": {
        "id": "A729VaLX1htK"
      },
      "execution_count": null,
      "outputs": []
    },
    {
      "cell_type": "code",
      "source": [
        "\"\"\"\n",
        "Convert BERT predictions on token-level to structured tenant profiles.\n",
        "\n",
        "Args:\n",
        "    dataset: EmailNERDataset instance\n",
        "    predictions: raw logits from trainer.predict()\n",
        "    id2label: mapping from label id to BIO label\n",
        "    tokenizer: tokenizer used for encoding\n",
        "\n",
        "Returns:\n",
        "    List[Dict]: structured tenant profiles\n",
        "\"\"\"\n",
        "def convert_predictions_to_profiles(dataset, predictions, id2label, tokenizer):\n",
        "\n",
        "    predicted_ids = predictions.argmax(axis=-1)\n",
        "    profiles = []\n",
        "\n",
        "    for i in range(len(dataset)):\n",
        "        input_ids = dataset[i][\"input_ids\"]\n",
        "        tokens = tokenizer.convert_ids_to_tokens(input_ids)\n",
        "        label_ids = predicted_ids[i]\n",
        "\n",
        "\n",
        "        tokens_filtered = []\n",
        "        labels_filtered = []\n",
        "        for token, label_id in zip(tokens, label_ids):\n",
        "            if label_id == -100 or token == tokenizer.pad_token: # Ignore padding\n",
        "                continue\n",
        "            tokens_filtered.append(token)\n",
        "            labels_filtered.append(id2label[label_id])\n",
        "\n",
        "        entities = extract_entities_from_tokens(tokens_filtered, labels_filtered)\n",
        "\n",
        "        # Fill with all expected keys\n",
        "        structured_profile = {\n",
        "            key.lower(): entities.get(key.lower(), None)\n",
        "            for key in [\n",
        "                \"FirstName\", \"LastName\", \"Email\", \"Phone\",\n",
        "                \"CompanyName\", \"Industry\", \"CompanySize\", \"GrowthStage\",\n",
        "                \"CurrentNeighborhood\", \"FirstInteraction\", \"LastInteraction\",\n",
        "                \"DecisionMakerRole\", \"PropertyType\", \"PreferredNeighborhood\",\n",
        "                \"Budget\", \"SpaceSize\", \"PreferredLeaseTerm\", \"MovingTerm\",\n",
        "                \"min_months\", \"max_months\", \"MovingTimeline\",\n",
        "                \"MustHaves\", \"NiceToHaves\", \"PainPoint\",\n",
        "                \"UrgencyScore\", \"Outcome\", \"Personality\"\n",
        "            ]\n",
        "        }\n",
        "        profiles.append(structured_profile)\n",
        "\n",
        "    return profiles\n"
      ],
      "metadata": {
        "id": "4KCOhwgT1jhd"
      },
      "execution_count": null,
      "outputs": []
    },
    {
      "cell_type": "code",
      "source": [
        "\"\"\"\n",
        "  Extracts f1, Precsion and Recall for each entity (column) on the dataframe.\n",
        "\n",
        "  Args:\n",
        "      - df (pandas Dataframe):\n",
        "\n",
        "\"\"\"\n",
        "\n",
        "def get_entity_metrics(df):\n",
        "    field_names = df.columns.tolist()\n",
        "    results = {}\n",
        "    macro_p, macro_r, macro_f1 = [], [], []\n",
        "\n",
        "    for field in field_names:\n",
        "        y_true = df[field].fillna(\"\").str.strip().str.lower().tolist()\n",
        "        y_pred = df[field].fillna(\"\").str.strip().str.lower().tolist()\n",
        "\n",
        "        binary_true = [1 if val else 0 for val in y_true]\n",
        "        binary_pred = [1 if pred == val and val else 0 for pred, val in zip(y_pred, y_true)]\n",
        "\n",
        "        if any(binary_true):\n",
        "            p = sk_precision_score(binary_true, binary_pred, zero_division=0)\n",
        "            r = sk_recall_score(binary_true, binary_pred, zero_division=0)\n",
        "            f1 = sk_f1_score(binary_true, binary_pred, zero_division=0)\n",
        "            results[f\"{field}_precision\"] = round(p, 4)\n",
        "            results[f\"{field}_recall\"] = round(r, 4)\n",
        "            results[f\"{field}_f1\"] = round(f1, 4)\n",
        "            macro_p.append(p)\n",
        "            macro_r.append(r)\n",
        "            macro_f1.append(f1)\n",
        "\n",
        "    results[\"macro_precision\"] = round(np.mean(macro_p), 4) if macro_p else 0.0\n",
        "    results[\"macro_recall\"] = round(np.mean(macro_r), 4) if macro_r else 0.0\n",
        "    results[\"macro_f1\"] = round(np.mean(macro_f1), 4) if macro_f1 else 0.0\n",
        "\n",
        "\n",
        "    print(\"Structured Field-Level Metrics:\", results)\n",
        "    return results\n"
      ],
      "metadata": {
        "id": "Ol-8gwZ-1m6K"
      },
      "execution_count": null,
      "outputs": []
    },
    {
      "cell_type": "code",
      "source": [
        "\"\"\"\n",
        "  Evaluates a token classification model on the given dataset and prints a classification report.\n",
        "\n",
        "  This function assumes that the dataframe contains one column per entity field, with\n",
        "  predictions and ground truths already aligned. It treats each cell as correct if\n",
        "  the predicted value matches the true value exactly (case-insensitive and stripped).\n",
        "\n",
        "  Args:\n",
        "      - df (pandas.DataFrame): DataFrame containing one column per entity. Each column\n",
        "                               should contain both ground truth and predicted values\n",
        "                               already aligned row-wise.\n",
        "\n",
        "  Returns:\n",
        "     - dict: A dictionary with precision, recall, and F1 score for each field, as well\n",
        "             as macro-averaged precision, recall, and F1 score across all fields.\n",
        "\n",
        "\"\"\"\n",
        "def evaluate_model(trainer, dataset, id2label, tokenizer):\n",
        "    predictions, labels, _ = trainer.predict(dataset)\n",
        "    preds = predictions.argmax(axis=-1)\n",
        "\n",
        "    true_labels = []\n",
        "    pred_labels = []\n",
        "\n",
        "    for pred, label in zip(preds, labels):\n",
        "        true_seq = []\n",
        "        pred_seq = []\n",
        "        for p, l in zip(pred, label):\n",
        "            if l != -100:\n",
        "                true_seq.append(id2label[l])\n",
        "                pred_seq.append(id2label[p])\n",
        "        true_labels.append(true_seq)\n",
        "        pred_labels.append(pred_seq)\n",
        "\n",
        "    profiles = convert_predictions_to_profiles(test_data, predictions, id2label, tokenizer)\n",
        "    df_profiles = pd.DataFrame(profiles)\n",
        "\n",
        "    print(seqeval_classification_report(true_labels, pred_labels))\n",
        "\n",
        "    return df_profiles\n"
      ],
      "metadata": {
        "id": "afuIE3MMN_2o"
      },
      "execution_count": null,
      "outputs": []
    },
    {
      "cell_type": "code",
      "source": [
        "'''\n",
        "Initialize wandb\n",
        "'''\n",
        "\n",
        "wandb.init()"
      ],
      "metadata": {
        "id": "EgJxm2-nAvHu",
        "colab": {
          "base_uri": "https://localhost:8080/",
          "height": 157
        },
        "outputId": "e5999ab3-e2f1-43ab-804f-9c175e5a0de1"
      },
      "execution_count": null,
      "outputs": [
        {
          "output_type": "stream",
          "name": "stderr",
          "text": [
            "\u001b[34m\u001b[1mwandb\u001b[0m: Currently logged in as: \u001b[33mlidianeh\u001b[0m (\u001b[33mlidianeh-none\u001b[0m) to \u001b[32mhttps://api.wandb.ai\u001b[0m. Use \u001b[1m`wandb login --relogin`\u001b[0m to force relogin\n"
          ]
        },
        {
          "output_type": "display_data",
          "data": {
            "text/plain": [
              "<IPython.core.display.HTML object>"
            ],
            "text/html": [
              "Tracking run with wandb version 0.19.10"
            ]
          },
          "metadata": {}
        },
        {
          "output_type": "display_data",
          "data": {
            "text/plain": [
              "<IPython.core.display.HTML object>"
            ],
            "text/html": [
              "Run data is saved locally in <code>/content/wandb/run-20250509_165909-qxvuzbnw</code>"
            ]
          },
          "metadata": {}
        },
        {
          "output_type": "display_data",
          "data": {
            "text/plain": [
              "<IPython.core.display.HTML object>"
            ],
            "text/html": [
              "Syncing run <strong><a href='https://wandb.ai/lidianeh-none/uncategorized/runs/qxvuzbnw' target=\"_blank\">whole-forest-31</a></strong> to <a href='https://wandb.ai/lidianeh-none/uncategorized' target=\"_blank\">Weights & Biases</a> (<a href='https://wandb.me/developer-guide' target=\"_blank\">docs</a>)<br>"
            ]
          },
          "metadata": {}
        },
        {
          "output_type": "display_data",
          "data": {
            "text/plain": [
              "<IPython.core.display.HTML object>"
            ],
            "text/html": [
              " View project at <a href='https://wandb.ai/lidianeh-none/uncategorized' target=\"_blank\">https://wandb.ai/lidianeh-none/uncategorized</a>"
            ]
          },
          "metadata": {}
        },
        {
          "output_type": "display_data",
          "data": {
            "text/plain": [
              "<IPython.core.display.HTML object>"
            ],
            "text/html": [
              " View run at <a href='https://wandb.ai/lidianeh-none/uncategorized/runs/qxvuzbnw' target=\"_blank\">https://wandb.ai/lidianeh-none/uncategorized/runs/qxvuzbnw</a>"
            ]
          },
          "metadata": {}
        },
        {
          "output_type": "execute_result",
          "data": {
            "text/html": [
              "<button onClick=\"this.nextSibling.style.display='block';this.style.display='none';\">Display W&B run</button><iframe src='https://wandb.ai/lidianeh-none/uncategorized/runs/qxvuzbnw?jupyter=true' style='border:none;width:100%;height:420px;display:none;'></iframe>"
            ],
            "text/plain": [
              "<wandb.sdk.wandb_run.Run at 0x7cf5f901f410>"
            ]
          },
          "metadata": {},
          "execution_count": 17
        }
      ]
    },
    {
      "cell_type": "code",
      "source": [
        "'''\n",
        "Define sweep configurations and set up sweep agent\n",
        "'''\n",
        "\n",
        "sweep_config = {\n",
        "    \"method\": \"bayes\",\n",
        "    \"metric\": {\n",
        "        \"name\": \"eval_f1\",\n",
        "        \"goal\": \"maximize\"\n",
        "    },\n",
        "    \"parameters\": {\n",
        "        \"learning_rate\": {\n",
        "            \"distribution\": \"uniform\",\n",
        "            \"min\": 1e-5,\n",
        "            \"max\": 4e-5\n",
        "        },\n",
        "        \"per_device_train_batch_size\": {\n",
        "            \"values\": [8, 16]\n",
        "        },\n",
        "        \"num_train_epochs\": {\n",
        "            \"values\": [6, 8, 10]\n",
        "        },\n",
        "        \"weight_decay\": {\n",
        "            \"distribution\": \"uniform\",\n",
        "            \"min\": 0.05,\n",
        "            \"max\": 0.2\n",
        "        },\n",
        "        \"warmup_ratio\": {\n",
        "            \"distribution\": \"uniform\",\n",
        "            \"min\": 0.05,\n",
        "            \"max\": 0.2\n",
        "        },\n",
        "        \"adam_epsilon\": {\n",
        "            \"values\": [1e-8, 1e-6]\n",
        "        },\n",
        "        \"seed\": {\n",
        "            \"values\": [42, 2024]\n",
        "        }\n",
        "    }\n",
        "}\n",
        "\n",
        "\n",
        "sweep_id = wandb.sweep(sweep_config, project=\"distilbert-final\")"
      ],
      "metadata": {
        "id": "pAnzSVeIA30w",
        "colab": {
          "base_uri": "https://localhost:8080/"
        },
        "outputId": "6cec5b6a-7fb6-450b-8191-ef873c77ce70"
      },
      "execution_count": null,
      "outputs": [
        {
          "output_type": "stream",
          "name": "stdout",
          "text": [
            "Create sweep with ID: 6yae4880\n",
            "Sweep URL: https://wandb.ai/lidianeh-none/distilbert-final/sweeps/6yae4880\n"
          ]
        }
      ]
    },
    {
      "cell_type": "code",
      "source": [
        "\"\"\"\n",
        "Trains and evaluates DistilBERT-based token classification model using a W&B sweep configuration.\n",
        "\n",
        "This function initializes wandb, builds a model and training pipeline using hyperparameters from sweep_config,\n",
        "training and evaluating the model on the provided datasets, and logging evaluation metrics to W&B.\n",
        "\n",
        "Args:\n",
        "    - config (dict, optional): Sweep configuration containing training hyperparameters.\n",
        "      If None, wandb will use the default sweep config.\n",
        "\n",
        "Raises:\n",
        "    - Exception: Prints the error and finishes the wandb run if training fails.\n",
        "\"\"\"\n",
        "\n",
        "\n",
        "def train_with_wandb_sweep(config=None):\n",
        "\n",
        "    with wandb.init(config=config) as run:\n",
        "        config = wandb.config\n",
        "\n",
        "        model_config = DistilBertConfig.from_pretrained(\n",
        "            \"distilbert-base-uncased\",\n",
        "            num_labels=len(ENTITY_TAGS),\n",
        "            id2label=id2label,\n",
        "            label2id=label2id\n",
        "        )\n",
        "\n",
        "        model = WeightedDistilBertForTokenClassification.from_pretrained(\n",
        "            \"distilbert-base-uncased\",\n",
        "            config=model_config,\n",
        "            class_weights=label_weights\n",
        "        )\n",
        "\n",
        "        training_args = TrainingArguments(\n",
        "            output_dir=\"./results\",\n",
        "            num_train_epochs=config.num_train_epochs,\n",
        "            per_device_train_batch_size=config.per_device_train_batch_size,\n",
        "            per_device_eval_batch_size=config.per_device_train_batch_size,\n",
        "            learning_rate=config.learning_rate,\n",
        "            weight_decay=config.weight_decay,\n",
        "            warmup_ratio=config.warmup_ratio,\n",
        "            adam_epsilon=config.adam_epsilon,\n",
        "            seed=config.seed,\n",
        "            eval_strategy=\"epoch\",\n",
        "            save_strategy=\"epoch\",\n",
        "            logging_dir=\"./logs\",\n",
        "            logging_strategy=\"epoch\",\n",
        "            logging_steps=10,\n",
        "            report_to=\"wandb\",\n",
        "            load_best_model_at_end=True,\n",
        "            metric_for_best_model=\"eval_f1\",\n",
        "            greater_is_better=True\n",
        "        )\n",
        "\n",
        "\n",
        "        # Initialize trainer\n",
        "        trainer = Trainer(\n",
        "            model=model,\n",
        "            args=training_args,\n",
        "            train_dataset=train_data,\n",
        "            eval_dataset=val_data,\n",
        "            tokenizer=tokenizer,\n",
        "            compute_metrics=compute_metrics\n",
        "        )\n",
        "\n",
        "        # Train and evaluate\n",
        "        try:\n",
        "            trainer.train()\n",
        "            trainer.evaluate()\n",
        "            metrics = trainer.evaluate(test_data)\n",
        "            print(metrics)\n",
        "            df = evaluate_model(trainer, test_data, id2label, tokenizer)\n",
        "            print(df)\n",
        "            wandb_table = wandb.Table(dataframe=df)\n",
        "            wandb.log({f\"{run.name} Predictions\": wandb_table})\n",
        "\n",
        "            entity_metrics = get_entity_metrics(df)\n",
        "            wandb.log({**{f\"test_{k}\": float(v) for k, v in entity_metrics.items()}})\n",
        "\n",
        "            # Save all predictions to Google Drive\n",
        "            pred_path = os.path.join(output_dir, f\"{wandb.run.name}_predictions.json\")\n",
        "            df.to_json(pred_path, orient=\"records\", indent=2)\n",
        "            print(f\"Predictions saved to: {pred_path}\")\n",
        "\n",
        "        except Exception as e:\n",
        "            print(f\"Training failed: {e}\")\n",
        "            return\n"
      ],
      "metadata": {
        "id": "jA3JD1nKBhtt"
      },
      "execution_count": null,
      "outputs": []
    },
    {
      "cell_type": "code",
      "source": [
        "''' Launch the sweep agent '''\n",
        "wandb.agent(sweep_id, function=train_with_wandb_sweep, count=25)"
      ],
      "metadata": {
        "colab": {
          "base_uri": "https://localhost:8080/",
          "height": 1000
        },
        "id": "3oYGDd5zy4_t",
        "outputId": "42ee7284-3378-4c68-89e7-41c51c595bb7"
      },
      "execution_count": null,
      "outputs": [
        {
          "output_type": "stream",
          "name": "stderr",
          "text": [
            "\u001b[34m\u001b[1mwandb\u001b[0m: \u001b[33mWARNING\u001b[0m Calling wandb.login() after wandb.init() has no effect.\n",
            "\u001b[34m\u001b[1mwandb\u001b[0m: Agent Starting Run: o0qra5bp with config:\n",
            "\u001b[34m\u001b[1mwandb\u001b[0m: \tadam_epsilon: 1e-08\n",
            "\u001b[34m\u001b[1mwandb\u001b[0m: \tlearning_rate: 2.652952326169707e-05\n",
            "\u001b[34m\u001b[1mwandb\u001b[0m: \tnum_train_epochs: 8\n",
            "\u001b[34m\u001b[1mwandb\u001b[0m: \tper_device_train_batch_size: 8\n",
            "\u001b[34m\u001b[1mwandb\u001b[0m: \tseed: 2024\n",
            "\u001b[34m\u001b[1mwandb\u001b[0m: \twarmup_ratio: 0.07452962363800385\n",
            "\u001b[34m\u001b[1mwandb\u001b[0m: \tweight_decay: 0.11292689409200424\n"
          ]
        },
        {
          "output_type": "display_data",
          "data": {
            "text/plain": [
              "<IPython.core.display.HTML object>"
            ],
            "text/html": [
              "Tracking run with wandb version 0.19.10"
            ]
          },
          "metadata": {}
        },
        {
          "output_type": "display_data",
          "data": {
            "text/plain": [
              "<IPython.core.display.HTML object>"
            ],
            "text/html": [
              "Run data is saved locally in <code>/content/wandb/run-20250509_165914-o0qra5bp</code>"
            ]
          },
          "metadata": {}
        },
        {
          "output_type": "display_data",
          "data": {
            "text/plain": [
              "<IPython.core.display.HTML object>"
            ],
            "text/html": [
              "Syncing run <strong><a href='https://wandb.ai/lidianeh-none/distilbert-final/runs/o0qra5bp' target=\"_blank\">vague-sweep-1</a></strong> to <a href='https://wandb.ai/lidianeh-none/distilbert-final' target=\"_blank\">Weights & Biases</a> (<a href='https://wandb.me/developer-guide' target=\"_blank\">docs</a>)<br>Sweep page: <a href='https://wandb.ai/lidianeh-none/distilbert-final/sweeps/6yae4880' target=\"_blank\">https://wandb.ai/lidianeh-none/distilbert-final/sweeps/6yae4880</a>"
            ]
          },
          "metadata": {}
        },
        {
          "output_type": "display_data",
          "data": {
            "text/plain": [
              "<IPython.core.display.HTML object>"
            ],
            "text/html": [
              " View project at <a href='https://wandb.ai/lidianeh-none/distilbert-final' target=\"_blank\">https://wandb.ai/lidianeh-none/distilbert-final</a>"
            ]
          },
          "metadata": {}
        },
        {
          "output_type": "display_data",
          "data": {
            "text/plain": [
              "<IPython.core.display.HTML object>"
            ],
            "text/html": [
              " View sweep at <a href='https://wandb.ai/lidianeh-none/distilbert-final/sweeps/6yae4880' target=\"_blank\">https://wandb.ai/lidianeh-none/distilbert-final/sweeps/6yae4880</a>"
            ]
          },
          "metadata": {}
        },
        {
          "output_type": "display_data",
          "data": {
            "text/plain": [
              "<IPython.core.display.HTML object>"
            ],
            "text/html": [
              " View run at <a href='https://wandb.ai/lidianeh-none/distilbert-final/runs/o0qra5bp' target=\"_blank\">https://wandb.ai/lidianeh-none/distilbert-final/runs/o0qra5bp</a>"
            ]
          },
          "metadata": {}
        },
        {
          "output_type": "stream",
          "name": "stderr",
          "text": [
            "Some weights of WeightedDistilBertForTokenClassification were not initialized from the model checkpoint at distilbert-base-uncased and are newly initialized: ['classifier.bias', 'classifier.weight']\n",
            "You should probably TRAIN this model on a down-stream task to be able to use it for predictions and inference.\n",
            "<ipython-input-19-362b024c7306>:57: FutureWarning: `tokenizer` is deprecated and will be removed in version 5.0.0 for `Trainer.__init__`. Use `processing_class` instead.\n",
            "  trainer = Trainer(\n",
            "\u001b[34m\u001b[1mwandb\u001b[0m: \u001b[33mWARNING\u001b[0m The `run_name` is currently set to the same value as `TrainingArguments.output_dir`. If this was not intended, please specify a different run name by setting the `TrainingArguments.run_name` parameter.\n",
            "\u001b[34m\u001b[1mwandb\u001b[0m: \u001b[33mWARNING\u001b[0m Config item 'per_device_train_batch_size' was locked by 'sweep' (ignored update).\n",
            "\u001b[34m\u001b[1mwandb\u001b[0m: \u001b[33mWARNING\u001b[0m Config item 'learning_rate' was locked by 'sweep' (ignored update).\n",
            "\u001b[34m\u001b[1mwandb\u001b[0m: \u001b[33mWARNING\u001b[0m Config item 'weight_decay' was locked by 'sweep' (ignored update).\n",
            "\u001b[34m\u001b[1mwandb\u001b[0m: \u001b[33mWARNING\u001b[0m Config item 'adam_epsilon' was locked by 'sweep' (ignored update).\n",
            "\u001b[34m\u001b[1mwandb\u001b[0m: \u001b[33mWARNING\u001b[0m Config item 'num_train_epochs' was locked by 'sweep' (ignored update).\n",
            "\u001b[34m\u001b[1mwandb\u001b[0m: \u001b[33mWARNING\u001b[0m Config item 'warmup_ratio' was locked by 'sweep' (ignored update).\n",
            "\u001b[34m\u001b[1mwandb\u001b[0m: \u001b[33mWARNING\u001b[0m Config item 'seed' was locked by 'sweep' (ignored update).\n"
          ]
        },
        {
          "output_type": "display_data",
          "data": {
            "text/plain": [
              "<IPython.core.display.HTML object>"
            ],
            "text/html": [
              "\n",
              "    <div>\n",
              "      \n",
              "      <progress value='144' max='144' style='width:300px; height:20px; vertical-align: middle;'></progress>\n",
              "      [144/144 00:34, Epoch 8/8]\n",
              "    </div>\n",
              "    <table border=\"1\" class=\"dataframe\">\n",
              "  <thead>\n",
              " <tr style=\"text-align: left;\">\n",
              "      <th>Epoch</th>\n",
              "      <th>Training Loss</th>\n",
              "      <th>Validation Loss</th>\n",
              "      <th>Precision</th>\n",
              "      <th>Recall</th>\n",
              "      <th>F1</th>\n",
              "    </tr>\n",
              "  </thead>\n",
              "  <tbody>\n",
              "    <tr>\n",
              "      <td>1</td>\n",
              "      <td>3.056600</td>\n",
              "      <td>1.847368</td>\n",
              "      <td>1.000000</td>\n",
              "      <td>0.000000</td>\n",
              "      <td>0.000000</td>\n",
              "    </tr>\n",
              "    <tr>\n",
              "      <td>2</td>\n",
              "      <td>1.482800</td>\n",
              "      <td>1.168944</td>\n",
              "      <td>0.301075</td>\n",
              "      <td>0.246696</td>\n",
              "      <td>0.271186</td>\n",
              "    </tr>\n",
              "    <tr>\n",
              "      <td>3</td>\n",
              "      <td>0.979900</td>\n",
              "      <td>0.812521</td>\n",
              "      <td>0.244660</td>\n",
              "      <td>0.555066</td>\n",
              "      <td>0.339623</td>\n",
              "    </tr>\n",
              "    <tr>\n",
              "      <td>4</td>\n",
              "      <td>0.726400</td>\n",
              "      <td>0.646151</td>\n",
              "      <td>0.237013</td>\n",
              "      <td>0.643172</td>\n",
              "      <td>0.346382</td>\n",
              "    </tr>\n",
              "    <tr>\n",
              "      <td>5</td>\n",
              "      <td>0.581400</td>\n",
              "      <td>0.566431</td>\n",
              "      <td>0.250000</td>\n",
              "      <td>0.682819</td>\n",
              "      <td>0.365998</td>\n",
              "    </tr>\n",
              "    <tr>\n",
              "      <td>6</td>\n",
              "      <td>0.489200</td>\n",
              "      <td>0.520067</td>\n",
              "      <td>0.229137</td>\n",
              "      <td>0.713656</td>\n",
              "      <td>0.346895</td>\n",
              "    </tr>\n",
              "    <tr>\n",
              "      <td>7</td>\n",
              "      <td>0.447800</td>\n",
              "      <td>0.498501</td>\n",
              "      <td>0.269737</td>\n",
              "      <td>0.722467</td>\n",
              "      <td>0.392814</td>\n",
              "    </tr>\n",
              "    <tr>\n",
              "      <td>8</td>\n",
              "      <td>0.415000</td>\n",
              "      <td>0.493678</td>\n",
              "      <td>0.273345</td>\n",
              "      <td>0.709251</td>\n",
              "      <td>0.394608</td>\n",
              "    </tr>\n",
              "  </tbody>\n",
              "</table><p>"
            ]
          },
          "metadata": {}
        },
        {
          "output_type": "display_data",
          "data": {
            "text/plain": [
              "<IPython.core.display.HTML object>"
            ],
            "text/html": []
          },
          "metadata": {}
        },
        {
          "output_type": "stream",
          "name": "stdout",
          "text": [
            "{'eval_loss': 0.42069491744041443, 'eval_precision': 0.30326295585412666, 'eval_recall': 0.7632850241545893, 'eval_f1': 0.4340659340659341, 'eval_runtime': 0.2116, 'eval_samples_per_second': 141.81, 'eval_steps_per_second': 18.908, 'epoch': 8.0}\n"
          ]
        },
        {
          "output_type": "stream",
          "name": "stderr",
          "text": [
            "/usr/local/lib/python3.11/dist-packages/seqeval/metrics/v1.py:57: UndefinedMetricWarning: Precision and F-score are ill-defined and being set to 0.0 in labels with no predicted samples. Use `zero_division` parameter to control this behavior.\n",
            "  _warn_prf(average, modifier, msg_start, len(result))\n",
            "/usr/local/lib/python3.11/dist-packages/seqeval/metrics/v1.py:57: UndefinedMetricWarning: Recall and F-score are ill-defined and being set to 0.0 in labels with no true samples. Use `zero_division` parameter to control this behavior.\n",
            "  _warn_prf(average, modifier, msg_start, len(result))\n"
          ]
        },
        {
          "output_type": "stream",
          "name": "stdout",
          "text": [
            "                       precision    recall  f1-score   support\n",
            "\n",
            "          CompanyName       0.40      0.74      0.52        27\n",
            "  CurrentNeighborhood       0.00      0.00      0.00         1\n",
            "    DecisionMakerRole       0.33      0.17      0.22         6\n",
            "            FirstName       0.45      0.97      0.61        30\n",
            "             Industry       0.31      0.67      0.42        12\n",
            "             LastName       0.35      0.88      0.50         8\n",
            "            MustHaves       0.24      0.86      0.38        50\n",
            "          NiceToHaves       0.00      0.00      0.00        10\n",
            "            PainPoint       0.00      0.00      0.00         1\n",
            "   PreferredLeaseTerm       0.22      0.67      0.33         3\n",
            "PreferredNeighborhood       0.75      0.92      0.83        13\n",
            "         PropertyType       0.60      0.92      0.73        26\n",
            "            SpaceSize       0.00      0.00      0.00         0\n",
            "         UrgencyScore       0.12      0.60      0.21        20\n",
            "\n",
            "            micro avg       0.30      0.76      0.43       207\n",
            "            macro avg       0.27      0.53      0.34       207\n",
            "         weighted avg       0.35      0.76      0.47       207\n",
            "\n",
            "   firstname lastname email phone           companyname    industry  \\\n",
            "0       luke     None  None  None           urban lease   hospitals   \n",
            "1    michael   conrad  None  None                 urban        None   \n",
            "2     daniel     None  None  None              medivibe        None   \n",
            "3       liam     None  None  None    future innovations        None   \n",
            "4      jamie    novak  None  None        heritage legal        None   \n",
            "5       liam   carter  None  None                altura        None   \n",
            "6    michael      kim  None  None          urban legacy  facilities   \n",
            "7    rebecca     None  None  None            tenantsour        None   \n",
            "8     amelia    klein  None  None          urban retail        None   \n",
            "9       alex     None  None  None  greenview consulting   nonprofit   \n",
            "10      lena    mills  None  None            bridgeview        None   \n",
            "11      reed    miles  None  None             urbancore  healthcare   \n",
            "12      liam     None  None  None          healthaccess        None   \n",
            "13    samuel      lee  None  None           urban vista        None   \n",
            "14    evelyn      lee  None  None  cityscape commercial    outreach   \n",
            "15     ethan   monroe  None  None              crescent        None   \n",
            "16   michael    cohen  None  None            urban wave   nonprofit   \n",
            "17      liam  collins  None  None          urban realms       legal   \n",
            "18      liam    grant  None  None         city cultural   nonprofit   \n",
            "19     ethan   morgan  None  None         bright future   nonprofit   \n",
            "20      eric    blake  None  None             urbanedge        None   \n",
            "21      alex   morris  None  None        crescent legal  facilities   \n",
            "22      None   foster  None  None          new horizons        None   \n",
            "23      liam     None  None  None              urbanarc        None   \n",
            "24    evelyn     None  None  None                summit        None   \n",
            "25      alex     None  None  None                  None  healthcare   \n",
            "26    jordan   parker  None  None           careconnect  facilities   \n",
            "27      nina    blake  None  None   prestige properties  healthcare   \n",
            "28      mark     None  None  None    urban creative lab        None   \n",
            "29      jane  daniels  None  None    premier properties    creative   \n",
            "\n",
            "   companysize growthstage currentneighborhood firstinteraction  ...  \\\n",
            "0         None        None                None             None  ...   \n",
            "1         None        None                None             None  ...   \n",
            "2         None        None                None             None  ...   \n",
            "3         None        None                None             None  ...   \n",
            "4         None        None                None             None  ...   \n",
            "5         None        None                None             None  ...   \n",
            "6         None        None                None             None  ...   \n",
            "7         None        None                None             None  ...   \n",
            "8         None        None                None             None  ...   \n",
            "9         None        None                None             None  ...   \n",
            "10        None        None                None             None  ...   \n",
            "11        None        None                None             None  ...   \n",
            "12        None        None                None             None  ...   \n",
            "13        None        None                None             None  ...   \n",
            "14        None        None                None             None  ...   \n",
            "15        None        None                None             None  ...   \n",
            "16        None        None                None             None  ...   \n",
            "17        None        None                None             None  ...   \n",
            "18        None        None                None             None  ...   \n",
            "19        None        None                None             None  ...   \n",
            "20        None        None                None             None  ...   \n",
            "21        None        None                None             None  ...   \n",
            "22        None        None                None             None  ...   \n",
            "23        None        None                None             None  ...   \n",
            "24        None        None                None             None  ...   \n",
            "25        None        None                None             None  ...   \n",
            "26        None        None                None             None  ...   \n",
            "27        None        None                None             None  ...   \n",
            "28        None        None                None             None  ...   \n",
            "29        None        None                None             None  ...   \n",
            "\n",
            "   movingterm min_months max_months movingtimeline             musthaves  \\\n",
            "0        None       None       None           None                  hvac   \n",
            "1        None       None       None           None               parking   \n",
            "2        None       None       None           None        public transit   \n",
            "3        None       None       None           None                  hvac   \n",
            "4        None       None       None           None     quiet environment   \n",
            "5        None       None       None           None                  good   \n",
            "6        None       None       None           None         high ceilings   \n",
            "7        None       None       None           None                  good   \n",
            "8        None       None       None           None           easy access   \n",
            "9        None       None       None           None         natural light   \n",
            "10       None       None       None           None   green certification   \n",
            "11       None       None       None           None         natural light   \n",
            "12       None       None       None           None      hospital - grade   \n",
            "13       None       None       None           None                  None   \n",
            "14       None       None       None           None       street frontage   \n",
            "15       None       None       None           None                  hvac   \n",
            "16       None       None       None           None  flexible lease terms   \n",
            "17       None       None       None           None    transportation hub   \n",
            "18       None       None       None           None         natural light   \n",
            "19       None       None       None           None         natural light   \n",
            "20       None       None       None           None                  None   \n",
            "21       None       None       None           None          foot traffic   \n",
            "22       None       None       None           None  community engagement   \n",
            "23       None       None       None           None                  good   \n",
            "24       None       None       None           None              reliable   \n",
            "25       None       None       None           None         natural light   \n",
            "26       None       None       None           None             excellent   \n",
            "27       None       None       None           None           open layout   \n",
            "28       None       None       None           None         high ceilings   \n",
            "29       None       None       None           None               gallery   \n",
            "\n",
            "   nicetohaves painpoint urgencyscore outcome personality  \n",
            "0         None      None            4    None        None  \n",
            "1         None      None           45    None        None  \n",
            "2         None      None           01    None        None  \n",
            "3         None      None           45    None        None  \n",
            "4         None      None            5    None        None  \n",
            "5         None      None           20    None        None  \n",
            "6         None      None           45    None        None  \n",
            "7         None      None            7    None        None  \n",
            "8         None      None           28    None        None  \n",
            "9         None      None          212    None        None  \n",
            "10        None      None            4    None        None  \n",
            "11        None      None           70    None        None  \n",
            "12        None      None           74    None        None  \n",
            "13        None      None            4    None        None  \n",
            "14        None      None           35    None        None  \n",
            "15        None      None            6    None        None  \n",
            "16        None      None         None    None        None  \n",
            "17        None      None            8    None        None  \n",
            "18        None      None         10th    None        None  \n",
            "19        None      None            5    None        None  \n",
            "20        None      None            4    None        None  \n",
            "21        None      None          800    None        None  \n",
            "22        None      None           01    None        None  \n",
            "23        None      None           65    None        None  \n",
            "24        None      None           70    None        None  \n",
            "25        None      None            8    None        None  \n",
            "26        None      None           65    None        None  \n",
            "27        None      None           60    None        None  \n",
            "28        None      None           45    None        None  \n",
            "29        None      None           35    None        None  \n",
            "\n",
            "[30 rows x 27 columns]\n",
            "Structured Field-Level Metrics: {'firstname_precision': 1.0, 'firstname_recall': 1.0, 'firstname_f1': 1.0, 'lastname_precision': 1.0, 'lastname_recall': 1.0, 'lastname_f1': 1.0, 'companyname_precision': 1.0, 'companyname_recall': 1.0, 'companyname_f1': 1.0, 'industry_precision': 1.0, 'industry_recall': 1.0, 'industry_f1': 1.0, 'decisionmakerrole_precision': 1.0, 'decisionmakerrole_recall': 1.0, 'decisionmakerrole_f1': 1.0, 'propertytype_precision': 1.0, 'propertytype_recall': 1.0, 'propertytype_f1': 1.0, 'preferredneighborhood_precision': 1.0, 'preferredneighborhood_recall': 1.0, 'preferredneighborhood_f1': 1.0, 'preferredleaseterm_precision': 1.0, 'preferredleaseterm_recall': 1.0, 'preferredleaseterm_f1': 1.0, 'musthaves_precision': 1.0, 'musthaves_recall': 1.0, 'musthaves_f1': 1.0, 'urgencyscore_precision': 1.0, 'urgencyscore_recall': 1.0, 'urgencyscore_f1': 1.0, 'macro_precision': np.float64(1.0), 'macro_recall': np.float64(1.0), 'macro_f1': np.float64(1.0)}\n",
            "Predictions saved to: /content/drive/MyDrive/distilbert_outputs/vague-sweep-1_predictions.json\n"
          ]
        },
        {
          "output_type": "display_data",
          "data": {
            "text/plain": [
              "<IPython.core.display.HTML object>"
            ],
            "text/html": []
          },
          "metadata": {}
        },
        {
          "output_type": "display_data",
          "data": {
            "text/plain": [
              "<IPython.core.display.HTML object>"
            ],
            "text/html": [
              "<br>    <style><br>        .wandb-row {<br>            display: flex;<br>            flex-direction: row;<br>            flex-wrap: wrap;<br>            justify-content: flex-start;<br>            width: 100%;<br>        }<br>        .wandb-col {<br>            display: flex;<br>            flex-direction: column;<br>            flex-basis: 100%;<br>            flex: 1;<br>            padding: 10px;<br>        }<br>    </style><br><div class=\"wandb-row\"><div class=\"wandb-col\"><h3>Run history:</h3><br/><table class=\"wandb\"><tr><td>eval/f1</td><td>▁▅▆▇▇▇▇▇▇█</td></tr><tr><td>eval/loss</td><td>█▅▃▂▂▁▁▁▁▁</td></tr><tr><td>eval/precision</td><td>█▂▁▁▁▁▁▁▁▂</td></tr><tr><td>eval/recall</td><td>▁▃▆▇▇█████</td></tr><tr><td>eval/runtime</td><td>▂▂▁▂▁▂▁▁██</td></tr><tr><td>eval/samples_per_second</td><td>▇▇█▇█▇██▁▁</td></tr><tr><td>eval/steps_per_second</td><td>▇▇█▇█▇██▁▁</td></tr><tr><td>test/f1</td><td>▁</td></tr><tr><td>test/loss</td><td>▁</td></tr><tr><td>test/precision</td><td>▁</td></tr><tr><td>test/recall</td><td>▁</td></tr><tr><td>test/runtime</td><td>▁</td></tr><tr><td>test/samples_per_second</td><td>▁</td></tr><tr><td>test/steps_per_second</td><td>▁</td></tr><tr><td>test_companyname_f1</td><td>▁</td></tr><tr><td>test_companyname_precision</td><td>▁</td></tr><tr><td>test_companyname_recall</td><td>▁</td></tr><tr><td>test_decisionmakerrole_f1</td><td>▁</td></tr><tr><td>test_decisionmakerrole_precision</td><td>▁</td></tr><tr><td>test_decisionmakerrole_recall</td><td>▁</td></tr><tr><td>test_firstname_f1</td><td>▁</td></tr><tr><td>test_firstname_precision</td><td>▁</td></tr><tr><td>test_firstname_recall</td><td>▁</td></tr><tr><td>test_industry_f1</td><td>▁</td></tr><tr><td>test_industry_precision</td><td>▁</td></tr><tr><td>test_industry_recall</td><td>▁</td></tr><tr><td>test_lastname_f1</td><td>▁</td></tr><tr><td>test_lastname_precision</td><td>▁</td></tr><tr><td>test_lastname_recall</td><td>▁</td></tr><tr><td>test_macro_f1</td><td>▁</td></tr><tr><td>test_macro_precision</td><td>▁</td></tr><tr><td>test_macro_recall</td><td>▁</td></tr><tr><td>test_musthaves_f1</td><td>▁</td></tr><tr><td>test_musthaves_precision</td><td>▁</td></tr><tr><td>test_musthaves_recall</td><td>▁</td></tr><tr><td>test_preferredleaseterm_f1</td><td>▁</td></tr><tr><td>test_preferredleaseterm_precision</td><td>▁</td></tr><tr><td>test_preferredleaseterm_recall</td><td>▁</td></tr><tr><td>test_preferredneighborhood_f1</td><td>▁</td></tr><tr><td>test_preferredneighborhood_precision</td><td>▁</td></tr><tr><td>test_preferredneighborhood_recall</td><td>▁</td></tr><tr><td>test_propertytype_f1</td><td>▁</td></tr><tr><td>test_propertytype_precision</td><td>▁</td></tr><tr><td>test_propertytype_recall</td><td>▁</td></tr><tr><td>test_urgencyscore_f1</td><td>▁</td></tr><tr><td>test_urgencyscore_precision</td><td>▁</td></tr><tr><td>test_urgencyscore_recall</td><td>▁</td></tr><tr><td>train/epoch</td><td>▁▁▂▂▃▃▄▄▅▅▆▆▇▇█████</td></tr><tr><td>train/global_step</td><td>▁▁▂▂▃▃▄▄▅▅▆▆▇▇████████</td></tr><tr><td>train/grad_norm</td><td>▅▂▁▄▃▃█▂</td></tr><tr><td>train/learning_rate</td><td>█▇▆▅▄▃▂▁</td></tr><tr><td>train/loss</td><td>█▄▂▂▁▁▁▁</td></tr></table><br/></div><div class=\"wandb-col\"><h3>Run summary:</h3><br/><table class=\"wandb\"><tr><td>eval/f1</td><td>0.43407</td></tr><tr><td>eval/loss</td><td>0.42069</td></tr><tr><td>eval/precision</td><td>0.30326</td></tr><tr><td>eval/recall</td><td>0.76329</td></tr><tr><td>eval/runtime</td><td>0.2116</td></tr><tr><td>eval/samples_per_second</td><td>141.81</td></tr><tr><td>eval/steps_per_second</td><td>18.908</td></tr><tr><td>test/f1</td><td>0.43407</td></tr><tr><td>test/loss</td><td>0.42069</td></tr><tr><td>test/precision</td><td>0.30326</td></tr><tr><td>test/recall</td><td>0.76329</td></tr><tr><td>test/runtime</td><td>0.2006</td></tr><tr><td>test/samples_per_second</td><td>149.583</td></tr><tr><td>test/steps_per_second</td><td>19.944</td></tr><tr><td>test_companyname_f1</td><td>1</td></tr><tr><td>test_companyname_precision</td><td>1</td></tr><tr><td>test_companyname_recall</td><td>1</td></tr><tr><td>test_decisionmakerrole_f1</td><td>1</td></tr><tr><td>test_decisionmakerrole_precision</td><td>1</td></tr><tr><td>test_decisionmakerrole_recall</td><td>1</td></tr><tr><td>test_firstname_f1</td><td>1</td></tr><tr><td>test_firstname_precision</td><td>1</td></tr><tr><td>test_firstname_recall</td><td>1</td></tr><tr><td>test_industry_f1</td><td>1</td></tr><tr><td>test_industry_precision</td><td>1</td></tr><tr><td>test_industry_recall</td><td>1</td></tr><tr><td>test_lastname_f1</td><td>1</td></tr><tr><td>test_lastname_precision</td><td>1</td></tr><tr><td>test_lastname_recall</td><td>1</td></tr><tr><td>test_macro_f1</td><td>1</td></tr><tr><td>test_macro_precision</td><td>1</td></tr><tr><td>test_macro_recall</td><td>1</td></tr><tr><td>test_musthaves_f1</td><td>1</td></tr><tr><td>test_musthaves_precision</td><td>1</td></tr><tr><td>test_musthaves_recall</td><td>1</td></tr><tr><td>test_preferredleaseterm_f1</td><td>1</td></tr><tr><td>test_preferredleaseterm_precision</td><td>1</td></tr><tr><td>test_preferredleaseterm_recall</td><td>1</td></tr><tr><td>test_preferredneighborhood_f1</td><td>1</td></tr><tr><td>test_preferredneighborhood_precision</td><td>1</td></tr><tr><td>test_preferredneighborhood_recall</td><td>1</td></tr><tr><td>test_propertytype_f1</td><td>1</td></tr><tr><td>test_propertytype_precision</td><td>1</td></tr><tr><td>test_propertytype_recall</td><td>1</td></tr><tr><td>test_urgencyscore_f1</td><td>1</td></tr><tr><td>test_urgencyscore_precision</td><td>1</td></tr><tr><td>test_urgencyscore_recall</td><td>1</td></tr><tr><td>total_flos</td><td>146471702200320.0</td></tr><tr><td>train/epoch</td><td>8</td></tr><tr><td>train/global_step</td><td>144</td></tr><tr><td>train/grad_norm</td><td>1.94039</td></tr><tr><td>train/learning_rate</td><td>0.0</td></tr><tr><td>train/loss</td><td>0.415</td></tr><tr><td>train_loss</td><td>1.02241</td></tr><tr><td>train_runtime</td><td>34.7577</td></tr><tr><td>train_samples_per_second</td><td>32.223</td></tr><tr><td>train_steps_per_second</td><td>4.143</td></tr></table><br/></div></div>"
            ]
          },
          "metadata": {}
        },
        {
          "output_type": "display_data",
          "data": {
            "text/plain": [
              "<IPython.core.display.HTML object>"
            ],
            "text/html": [
              " View run <strong style=\"color:#cdcd00\">vague-sweep-1</strong> at: <a href='https://wandb.ai/lidianeh-none/distilbert-final/runs/o0qra5bp' target=\"_blank\">https://wandb.ai/lidianeh-none/distilbert-final/runs/o0qra5bp</a><br> View project at: <a href='https://wandb.ai/lidianeh-none/distilbert-final' target=\"_blank\">https://wandb.ai/lidianeh-none/distilbert-final</a><br>Synced 5 W&B file(s), 1 media file(s), 2 artifact file(s) and 0 other file(s)"
            ]
          },
          "metadata": {}
        },
        {
          "output_type": "display_data",
          "data": {
            "text/plain": [
              "<IPython.core.display.HTML object>"
            ],
            "text/html": [
              "Find logs at: <code>./wandb/run-20250509_165914-o0qra5bp/logs</code>"
            ]
          },
          "metadata": {}
        },
        {
          "output_type": "stream",
          "name": "stderr",
          "text": [
            "\u001b[34m\u001b[1mwandb\u001b[0m: Agent Starting Run: 3xgwd3px with config:\n",
            "\u001b[34m\u001b[1mwandb\u001b[0m: \tadam_epsilon: 1e-08\n",
            "\u001b[34m\u001b[1mwandb\u001b[0m: \tlearning_rate: 2.1641820645150784e-05\n",
            "\u001b[34m\u001b[1mwandb\u001b[0m: \tnum_train_epochs: 8\n",
            "\u001b[34m\u001b[1mwandb\u001b[0m: \tper_device_train_batch_size: 8\n",
            "\u001b[34m\u001b[1mwandb\u001b[0m: \tseed: 42\n",
            "\u001b[34m\u001b[1mwandb\u001b[0m: \twarmup_ratio: 0.16831289580189984\n",
            "\u001b[34m\u001b[1mwandb\u001b[0m: \tweight_decay: 0.17494773851259987\n"
          ]
        },
        {
          "output_type": "display_data",
          "data": {
            "text/plain": [
              "<IPython.core.display.HTML object>"
            ],
            "text/html": [
              "Tracking run with wandb version 0.19.10"
            ]
          },
          "metadata": {}
        },
        {
          "output_type": "display_data",
          "data": {
            "text/plain": [
              "<IPython.core.display.HTML object>"
            ],
            "text/html": [
              "Run data is saved locally in <code>/content/wandb/run-20250509_170002-3xgwd3px</code>"
            ]
          },
          "metadata": {}
        },
        {
          "output_type": "display_data",
          "data": {
            "text/plain": [
              "<IPython.core.display.HTML object>"
            ],
            "text/html": [
              "Syncing run <strong><a href='https://wandb.ai/lidianeh-none/distilbert-final/runs/3xgwd3px' target=\"_blank\">jolly-sweep-2</a></strong> to <a href='https://wandb.ai/lidianeh-none/distilbert-final' target=\"_blank\">Weights & Biases</a> (<a href='https://wandb.me/developer-guide' target=\"_blank\">docs</a>)<br>Sweep page: <a href='https://wandb.ai/lidianeh-none/distilbert-final/sweeps/6yae4880' target=\"_blank\">https://wandb.ai/lidianeh-none/distilbert-final/sweeps/6yae4880</a>"
            ]
          },
          "metadata": {}
        },
        {
          "output_type": "display_data",
          "data": {
            "text/plain": [
              "<IPython.core.display.HTML object>"
            ],
            "text/html": [
              " View project at <a href='https://wandb.ai/lidianeh-none/distilbert-final' target=\"_blank\">https://wandb.ai/lidianeh-none/distilbert-final</a>"
            ]
          },
          "metadata": {}
        },
        {
          "output_type": "display_data",
          "data": {
            "text/plain": [
              "<IPython.core.display.HTML object>"
            ],
            "text/html": [
              " View sweep at <a href='https://wandb.ai/lidianeh-none/distilbert-final/sweeps/6yae4880' target=\"_blank\">https://wandb.ai/lidianeh-none/distilbert-final/sweeps/6yae4880</a>"
            ]
          },
          "metadata": {}
        },
        {
          "output_type": "display_data",
          "data": {
            "text/plain": [
              "<IPython.core.display.HTML object>"
            ],
            "text/html": [
              " View run at <a href='https://wandb.ai/lidianeh-none/distilbert-final/runs/3xgwd3px' target=\"_blank\">https://wandb.ai/lidianeh-none/distilbert-final/runs/3xgwd3px</a>"
            ]
          },
          "metadata": {}
        },
        {
          "output_type": "stream",
          "name": "stderr",
          "text": [
            "Some weights of WeightedDistilBertForTokenClassification were not initialized from the model checkpoint at distilbert-base-uncased and are newly initialized: ['classifier.bias', 'classifier.weight']\n",
            "You should probably TRAIN this model on a down-stream task to be able to use it for predictions and inference.\n",
            "<ipython-input-19-362b024c7306>:57: FutureWarning: `tokenizer` is deprecated and will be removed in version 5.0.0 for `Trainer.__init__`. Use `processing_class` instead.\n",
            "  trainer = Trainer(\n",
            "\u001b[34m\u001b[1mwandb\u001b[0m: \u001b[33mWARNING\u001b[0m Config item 'per_device_train_batch_size' was locked by 'sweep' (ignored update).\n",
            "\u001b[34m\u001b[1mwandb\u001b[0m: \u001b[33mWARNING\u001b[0m Config item 'learning_rate' was locked by 'sweep' (ignored update).\n",
            "\u001b[34m\u001b[1mwandb\u001b[0m: \u001b[33mWARNING\u001b[0m Config item 'weight_decay' was locked by 'sweep' (ignored update).\n",
            "\u001b[34m\u001b[1mwandb\u001b[0m: \u001b[33mWARNING\u001b[0m Config item 'adam_epsilon' was locked by 'sweep' (ignored update).\n",
            "\u001b[34m\u001b[1mwandb\u001b[0m: \u001b[33mWARNING\u001b[0m Config item 'num_train_epochs' was locked by 'sweep' (ignored update).\n",
            "\u001b[34m\u001b[1mwandb\u001b[0m: \u001b[33mWARNING\u001b[0m Config item 'warmup_ratio' was locked by 'sweep' (ignored update).\n",
            "\u001b[34m\u001b[1mwandb\u001b[0m: \u001b[33mWARNING\u001b[0m Config item 'seed' was locked by 'sweep' (ignored update).\n"
          ]
        },
        {
          "output_type": "display_data",
          "data": {
            "text/plain": [
              "<IPython.core.display.HTML object>"
            ],
            "text/html": [
              "\n",
              "    <div>\n",
              "      \n",
              "      <progress value='144' max='144' style='width:300px; height:20px; vertical-align: middle;'></progress>\n",
              "      [144/144 00:33, Epoch 8/8]\n",
              "    </div>\n",
              "    <table border=\"1\" class=\"dataframe\">\n",
              "  <thead>\n",
              " <tr style=\"text-align: left;\">\n",
              "      <th>Epoch</th>\n",
              "      <th>Training Loss</th>\n",
              "      <th>Validation Loss</th>\n",
              "      <th>Precision</th>\n",
              "      <th>Recall</th>\n",
              "      <th>F1</th>\n",
              "    </tr>\n",
              "  </thead>\n",
              "  <tbody>\n",
              "    <tr>\n",
              "      <td>1</td>\n",
              "      <td>3.568900</td>\n",
              "      <td>2.472898</td>\n",
              "      <td>1.000000</td>\n",
              "      <td>0.000000</td>\n",
              "      <td>0.000000</td>\n",
              "    </tr>\n",
              "    <tr>\n",
              "      <td>2</td>\n",
              "      <td>1.837300</td>\n",
              "      <td>1.480993</td>\n",
              "      <td>1.000000</td>\n",
              "      <td>0.000000</td>\n",
              "      <td>0.000000</td>\n",
              "    </tr>\n",
              "    <tr>\n",
              "      <td>3</td>\n",
              "      <td>1.254900</td>\n",
              "      <td>1.039377</td>\n",
              "      <td>0.268456</td>\n",
              "      <td>0.352423</td>\n",
              "      <td>0.304762</td>\n",
              "    </tr>\n",
              "    <tr>\n",
              "      <td>4</td>\n",
              "      <td>0.918000</td>\n",
              "      <td>0.803044</td>\n",
              "      <td>0.219931</td>\n",
              "      <td>0.563877</td>\n",
              "      <td>0.316440</td>\n",
              "    </tr>\n",
              "    <tr>\n",
              "      <td>5</td>\n",
              "      <td>0.728800</td>\n",
              "      <td>0.678912</td>\n",
              "      <td>0.212219</td>\n",
              "      <td>0.581498</td>\n",
              "      <td>0.310954</td>\n",
              "    </tr>\n",
              "    <tr>\n",
              "      <td>6</td>\n",
              "      <td>0.618300</td>\n",
              "      <td>0.621917</td>\n",
              "      <td>0.267658</td>\n",
              "      <td>0.634361</td>\n",
              "      <td>0.376471</td>\n",
              "    </tr>\n",
              "    <tr>\n",
              "      <td>7</td>\n",
              "      <td>0.563500</td>\n",
              "      <td>0.595477</td>\n",
              "      <td>0.257840</td>\n",
              "      <td>0.651982</td>\n",
              "      <td>0.369538</td>\n",
              "    </tr>\n",
              "    <tr>\n",
              "      <td>8</td>\n",
              "      <td>0.534000</td>\n",
              "      <td>0.584327</td>\n",
              "      <td>0.261324</td>\n",
              "      <td>0.660793</td>\n",
              "      <td>0.374532</td>\n",
              "    </tr>\n",
              "  </tbody>\n",
              "</table><p>"
            ]
          },
          "metadata": {}
        },
        {
          "output_type": "display_data",
          "data": {
            "text/plain": [
              "<IPython.core.display.HTML object>"
            ],
            "text/html": []
          },
          "metadata": {}
        },
        {
          "output_type": "stream",
          "name": "stdout",
          "text": [
            "{'eval_loss': 0.5357958674430847, 'eval_precision': 0.3008298755186722, 'eval_recall': 0.7004830917874396, 'eval_f1': 0.420899854862119, 'eval_runtime': 0.1936, 'eval_samples_per_second': 154.96, 'eval_steps_per_second': 20.661, 'epoch': 8.0}\n"
          ]
        },
        {
          "output_type": "stream",
          "name": "stderr",
          "text": [
            "/usr/local/lib/python3.11/dist-packages/seqeval/metrics/v1.py:57: UndefinedMetricWarning: Precision and F-score are ill-defined and being set to 0.0 in labels with no predicted samples. Use `zero_division` parameter to control this behavior.\n",
            "  _warn_prf(average, modifier, msg_start, len(result))\n"
          ]
        },
        {
          "output_type": "stream",
          "name": "stdout",
          "text": [
            "                       precision    recall  f1-score   support\n",
            "\n",
            "          CompanyName       0.36      0.67      0.47        27\n",
            "  CurrentNeighborhood       0.00      0.00      0.00         1\n",
            "    DecisionMakerRole       0.00      0.00      0.00         6\n",
            "            FirstName       0.44      0.93      0.60        30\n",
            "             Industry       0.67      0.17      0.27        12\n",
            "             LastName       0.33      0.75      0.46         8\n",
            "            MustHaves       0.21      0.86      0.34        50\n",
            "          NiceToHaves       0.00      0.00      0.00        10\n",
            "            PainPoint       0.00      0.00      0.00         1\n",
            "   PreferredLeaseTerm       0.00      0.00      0.00         3\n",
            "PreferredNeighborhood       0.75      0.92      0.83        13\n",
            "         PropertyType       0.63      0.92      0.75        26\n",
            "         UrgencyScore       0.13      0.60      0.21        20\n",
            "\n",
            "            micro avg       0.30      0.70      0.42       207\n",
            "            macro avg       0.27      0.45      0.30       207\n",
            "         weighted avg       0.35      0.70      0.43       207\n",
            "\n",
            "   firstname lastname email phone              companyname    industry  \\\n",
            "0       luke     None  None  None              urban lease        None   \n",
            "1    michael   conrad  None  None        urban hype realty        None   \n",
            "2     daniel     None  None  None                     None        None   \n",
            "3       liam     None  None  None       future innovations        None   \n",
            "4      jamie    novak  None  None           heritage legal        None   \n",
            "5       liam   carter  None  None                   altura        None   \n",
            "6    michael      kim  None  None             urban legacy        None   \n",
            "7    rebecca     None  None  None             tenantsource        None   \n",
            "8     amelia    klein  None  None             urban retail        None   \n",
            "9       alex     None  None  None     greenview consulting        None   \n",
            "10      lena    mills  None  None               bridgeview        None   \n",
            "11      reed    miles  None  None                urbancore        None   \n",
            "12      liam     None  None  None                     None        None   \n",
            "13    samuel      lee  None  None              urban vista        None   \n",
            "14    evelyn      lee  None  None     cityscape commercial        None   \n",
            "15     ethan   monroe  None  None                 crescent        None   \n",
            "16   michael    cohen  None  None               urban wave   nonprofit   \n",
            "17      liam     None  None  None             urban realms        None   \n",
            "18      liam    grant  None  None            city cultural   nonprofit   \n",
            "19     ethan   morgan  None  None  bright future nonprofit        None   \n",
            "20      eric    blake  None  None                urbanedge        None   \n",
            "21      alex   morris  None  None           crescent legal        None   \n",
            "22    foster     None  None  None             new horizons        None   \n",
            "23      liam     None  None  None                 urbanarc        None   \n",
            "24    evelyn     None  None  None                   summit        None   \n",
            "25      alex     None  None  None                     None  healthcare   \n",
            "26    jordan   parker  None  None                     None        None   \n",
            "27      nina    blake  None  None      prestige properties        None   \n",
            "28      mark     None  None  None       urban creative lab        None   \n",
            "29      jane  daniels  None  None       premier properties        None   \n",
            "\n",
            "   companysize growthstage currentneighborhood firstinteraction  ...  \\\n",
            "0         None        None                None             None  ...   \n",
            "1         None        None                None             None  ...   \n",
            "2         None        None                None             None  ...   \n",
            "3         None        None                None             None  ...   \n",
            "4         None        None                None             None  ...   \n",
            "5         None        None                None             None  ...   \n",
            "6         None        None                None             None  ...   \n",
            "7         None        None                None             None  ...   \n",
            "8         None        None                None             None  ...   \n",
            "9         None        None                None             None  ...   \n",
            "10        None        None                None             None  ...   \n",
            "11        None        None                None             None  ...   \n",
            "12        None        None                None             None  ...   \n",
            "13        None        None                None             None  ...   \n",
            "14        None        None                None             None  ...   \n",
            "15        None        None                None             None  ...   \n",
            "16        None        None                None             None  ...   \n",
            "17        None        None                None             None  ...   \n",
            "18        None        None                None             None  ...   \n",
            "19        None        None                None             None  ...   \n",
            "20        None        None                None             None  ...   \n",
            "21        None        None                None             None  ...   \n",
            "22        None        None                None             None  ...   \n",
            "23        None        None                None             None  ...   \n",
            "24        None        None                None             None  ...   \n",
            "25        None        None                None             None  ...   \n",
            "26        None        None                None             None  ...   \n",
            "27        None        None                None             None  ...   \n",
            "28        None        None                None             None  ...   \n",
            "29        None        None                None             None  ...   \n",
            "\n",
            "   movingterm min_months max_months movingtimeline             musthaves  \\\n",
            "0        None       None       None           None          neighborhood   \n",
            "1        None       None       None           None               parking   \n",
            "2        None       None       None           None        public transit   \n",
            "3        None       None       None           None                  hvac   \n",
            "4        None       None       None           None     quiet environment   \n",
            "5        None       None       None           None         natural light   \n",
            "6        None       None       None           None         high ceilings   \n",
            "7        None       None       None           None         natural light   \n",
            "8        None       None       None           None           easy access   \n",
            "9        None       None       None           None         natural light   \n",
            "10       None       None       None           None                   eco   \n",
            "11       None       None       None           None         natural light   \n",
            "12       None       None       None           None      hospital - grade   \n",
            "13       None       None       None           None                  None   \n",
            "14       None       None       None           None       street frontage   \n",
            "15       None       None       None           None                  good   \n",
            "16       None       None       None           None  flexible lease terms   \n",
            "17       None       None       None           None    transportation hub   \n",
            "18       None       None       None           None         natural light   \n",
            "19       None       None       None           None         natural light   \n",
            "20       None       None       None           None         ada compliant   \n",
            "21       None       None       None           None                  high   \n",
            "22       None       None       None           None  community engagement   \n",
            "23       None       None       None           None         natural light   \n",
            "24       None       None       None           None              reliable   \n",
            "25       None       None       None           None         tech upgrades   \n",
            "26       None       None       None           None         natural light   \n",
            "27       None       None       None           None           open layout   \n",
            "28       None       None       None           None                  open   \n",
            "29       None       None       None           None               gallery   \n",
            "\n",
            "   nicetohaves painpoint urgencyscore outcome personality  \n",
            "0         None      None            4    None        None  \n",
            "1         None      None            3    None        None  \n",
            "2         None      None           01    None        None  \n",
            "3         None      None           45    None        None  \n",
            "4         None      None            5    None        None  \n",
            "5         None      None            3    None        None  \n",
            "6         None      None            4    None        None  \n",
            "7         None      None            7    None        None  \n",
            "8         None      None           28    None        None  \n",
            "9         None      None           98    None        None  \n",
            "10        None      None          500    None        None  \n",
            "11        None      None            4    None        None  \n",
            "12        None      None           74    None        None  \n",
            "13        None      None            4    None        None  \n",
            "14        None      None            3    None        None  \n",
            "15        None      None            8    None        None  \n",
            "16        None      None           42    None        None  \n",
            "17        None      None            8    None        None  \n",
            "18        None      None          200    None        None  \n",
            "19        None      None           35    None        None  \n",
            "20        None      None            4    None        None  \n",
            "21        None      None            4    None        None  \n",
            "22        None      None           01    None        None  \n",
            "23        None      None           65    None        None  \n",
            "24        None      None          500    None        None  \n",
            "25        None      None           34    None        None  \n",
            "26        None      None          500    None        None  \n",
            "27        None      None           60    None        None  \n",
            "28        None      None           45    None        None  \n",
            "29        None      None          200    None        None  \n",
            "\n",
            "[30 rows x 27 columns]\n",
            "Structured Field-Level Metrics: {'firstname_precision': 1.0, 'firstname_recall': 1.0, 'firstname_f1': 1.0, 'lastname_precision': 1.0, 'lastname_recall': 1.0, 'lastname_f1': 1.0, 'companyname_precision': 1.0, 'companyname_recall': 1.0, 'companyname_f1': 1.0, 'industry_precision': 1.0, 'industry_recall': 1.0, 'industry_f1': 1.0, 'propertytype_precision': 1.0, 'propertytype_recall': 1.0, 'propertytype_f1': 1.0, 'preferredneighborhood_precision': 1.0, 'preferredneighborhood_recall': 1.0, 'preferredneighborhood_f1': 1.0, 'musthaves_precision': 1.0, 'musthaves_recall': 1.0, 'musthaves_f1': 1.0, 'urgencyscore_precision': 1.0, 'urgencyscore_recall': 1.0, 'urgencyscore_f1': 1.0, 'macro_precision': np.float64(1.0), 'macro_recall': np.float64(1.0), 'macro_f1': np.float64(1.0)}\n",
            "Predictions saved to: /content/drive/MyDrive/distilbert_outputs/jolly-sweep-2_predictions.json\n"
          ]
        },
        {
          "output_type": "display_data",
          "data": {
            "text/plain": [
              "<IPython.core.display.HTML object>"
            ],
            "text/html": []
          },
          "metadata": {}
        },
        {
          "output_type": "display_data",
          "data": {
            "text/plain": [
              "<IPython.core.display.HTML object>"
            ],
            "text/html": [
              "<br>    <style><br>        .wandb-row {<br>            display: flex;<br>            flex-direction: row;<br>            flex-wrap: wrap;<br>            justify-content: flex-start;<br>            width: 100%;<br>        }<br>        .wandb-col {<br>            display: flex;<br>            flex-direction: column;<br>            flex-basis: 100%;<br>            flex: 1;<br>            padding: 10px;<br>        }<br>    </style><br><div class=\"wandb-row\"><div class=\"wandb-col\"><h3>Run history:</h3><br/><table class=\"wandb\"><tr><td>eval/f1</td><td>▁▁▆▆▆▇▇▇▇█</td></tr><tr><td>eval/loss</td><td>█▄▃▂▂▁▁▁▁▁</td></tr><tr><td>eval/precision</td><td>██▁▁▁▁▁▁▁▂</td></tr><tr><td>eval/recall</td><td>▁▁▅▇▇▇██▇█</td></tr><tr><td>eval/runtime</td><td>▆▁▅▅▃▄▅▃█▇</td></tr><tr><td>eval/samples_per_second</td><td>▃█▄▄▆▅▄▆▁▂</td></tr><tr><td>eval/steps_per_second</td><td>▃█▄▄▆▅▄▆▁▂</td></tr><tr><td>test/f1</td><td>▁</td></tr><tr><td>test/loss</td><td>▁</td></tr><tr><td>test/precision</td><td>▁</td></tr><tr><td>test/recall</td><td>▁</td></tr><tr><td>test/runtime</td><td>▁</td></tr><tr><td>test/samples_per_second</td><td>▁</td></tr><tr><td>test/steps_per_second</td><td>▁</td></tr><tr><td>test_companyname_f1</td><td>▁</td></tr><tr><td>test_companyname_precision</td><td>▁</td></tr><tr><td>test_companyname_recall</td><td>▁</td></tr><tr><td>test_firstname_f1</td><td>▁</td></tr><tr><td>test_firstname_precision</td><td>▁</td></tr><tr><td>test_firstname_recall</td><td>▁</td></tr><tr><td>test_industry_f1</td><td>▁</td></tr><tr><td>test_industry_precision</td><td>▁</td></tr><tr><td>test_industry_recall</td><td>▁</td></tr><tr><td>test_lastname_f1</td><td>▁</td></tr><tr><td>test_lastname_precision</td><td>▁</td></tr><tr><td>test_lastname_recall</td><td>▁</td></tr><tr><td>test_macro_f1</td><td>▁</td></tr><tr><td>test_macro_precision</td><td>▁</td></tr><tr><td>test_macro_recall</td><td>▁</td></tr><tr><td>test_musthaves_f1</td><td>▁</td></tr><tr><td>test_musthaves_precision</td><td>▁</td></tr><tr><td>test_musthaves_recall</td><td>▁</td></tr><tr><td>test_preferredneighborhood_f1</td><td>▁</td></tr><tr><td>test_preferredneighborhood_precision</td><td>▁</td></tr><tr><td>test_preferredneighborhood_recall</td><td>▁</td></tr><tr><td>test_propertytype_f1</td><td>▁</td></tr><tr><td>test_propertytype_precision</td><td>▁</td></tr><tr><td>test_propertytype_recall</td><td>▁</td></tr><tr><td>test_urgencyscore_f1</td><td>▁</td></tr><tr><td>test_urgencyscore_precision</td><td>▁</td></tr><tr><td>test_urgencyscore_recall</td><td>▁</td></tr><tr><td>train/epoch</td><td>▁▁▂▂▃▃▄▄▅▅▆▆▇▇█████</td></tr><tr><td>train/global_step</td><td>▁▁▂▂▃▃▄▄▅▅▆▆▇▇████████</td></tr><tr><td>train/grad_norm</td><td>█▁▁▁▁▁▁▂</td></tr><tr><td>train/learning_rate</td><td>▆█▇▆▄▃▂▁</td></tr><tr><td>train/loss</td><td>█▄▃▂▁▁▁▁</td></tr></table><br/></div><div class=\"wandb-col\"><h3>Run summary:</h3><br/><table class=\"wandb\"><tr><td>eval/f1</td><td>0.4209</td></tr><tr><td>eval/loss</td><td>0.5358</td></tr><tr><td>eval/precision</td><td>0.30083</td></tr><tr><td>eval/recall</td><td>0.70048</td></tr><tr><td>eval/runtime</td><td>0.1936</td></tr><tr><td>eval/samples_per_second</td><td>154.96</td></tr><tr><td>eval/steps_per_second</td><td>20.661</td></tr><tr><td>test/f1</td><td>0.4209</td></tr><tr><td>test/loss</td><td>0.5358</td></tr><tr><td>test/precision</td><td>0.30083</td></tr><tr><td>test/recall</td><td>0.70048</td></tr><tr><td>test/runtime</td><td>0.1891</td></tr><tr><td>test/samples_per_second</td><td>158.616</td></tr><tr><td>test/steps_per_second</td><td>21.149</td></tr><tr><td>test_companyname_f1</td><td>1</td></tr><tr><td>test_companyname_precision</td><td>1</td></tr><tr><td>test_companyname_recall</td><td>1</td></tr><tr><td>test_firstname_f1</td><td>1</td></tr><tr><td>test_firstname_precision</td><td>1</td></tr><tr><td>test_firstname_recall</td><td>1</td></tr><tr><td>test_industry_f1</td><td>1</td></tr><tr><td>test_industry_precision</td><td>1</td></tr><tr><td>test_industry_recall</td><td>1</td></tr><tr><td>test_lastname_f1</td><td>1</td></tr><tr><td>test_lastname_precision</td><td>1</td></tr><tr><td>test_lastname_recall</td><td>1</td></tr><tr><td>test_macro_f1</td><td>1</td></tr><tr><td>test_macro_precision</td><td>1</td></tr><tr><td>test_macro_recall</td><td>1</td></tr><tr><td>test_musthaves_f1</td><td>1</td></tr><tr><td>test_musthaves_precision</td><td>1</td></tr><tr><td>test_musthaves_recall</td><td>1</td></tr><tr><td>test_preferredneighborhood_f1</td><td>1</td></tr><tr><td>test_preferredneighborhood_precision</td><td>1</td></tr><tr><td>test_preferredneighborhood_recall</td><td>1</td></tr><tr><td>test_propertytype_f1</td><td>1</td></tr><tr><td>test_propertytype_precision</td><td>1</td></tr><tr><td>test_propertytype_recall</td><td>1</td></tr><tr><td>test_urgencyscore_f1</td><td>1</td></tr><tr><td>test_urgencyscore_precision</td><td>1</td></tr><tr><td>test_urgencyscore_recall</td><td>1</td></tr><tr><td>total_flos</td><td>146471702200320.0</td></tr><tr><td>train/epoch</td><td>8</td></tr><tr><td>train/global_step</td><td>144</td></tr><tr><td>train/grad_norm</td><td>2.89286</td></tr><tr><td>train/learning_rate</td><td>0.0</td></tr><tr><td>train/loss</td><td>0.534</td></tr><tr><td>train_loss</td><td>1.25296</td></tr><tr><td>train_runtime</td><td>33.6811</td></tr><tr><td>train_samples_per_second</td><td>33.253</td></tr><tr><td>train_steps_per_second</td><td>4.275</td></tr></table><br/></div></div>"
            ]
          },
          "metadata": {}
        },
        {
          "output_type": "display_data",
          "data": {
            "text/plain": [
              "<IPython.core.display.HTML object>"
            ],
            "text/html": [
              " View run <strong style=\"color:#cdcd00\">jolly-sweep-2</strong> at: <a href='https://wandb.ai/lidianeh-none/distilbert-final/runs/3xgwd3px' target=\"_blank\">https://wandb.ai/lidianeh-none/distilbert-final/runs/3xgwd3px</a><br> View project at: <a href='https://wandb.ai/lidianeh-none/distilbert-final' target=\"_blank\">https://wandb.ai/lidianeh-none/distilbert-final</a><br>Synced 5 W&B file(s), 1 media file(s), 2 artifact file(s) and 0 other file(s)"
            ]
          },
          "metadata": {}
        },
        {
          "output_type": "display_data",
          "data": {
            "text/plain": [
              "<IPython.core.display.HTML object>"
            ],
            "text/html": [
              "Find logs at: <code>./wandb/run-20250509_170002-3xgwd3px/logs</code>"
            ]
          },
          "metadata": {}
        },
        {
          "output_type": "stream",
          "name": "stderr",
          "text": [
            "\u001b[34m\u001b[1mwandb\u001b[0m: Agent Starting Run: sx8fssan with config:\n",
            "\u001b[34m\u001b[1mwandb\u001b[0m: \tadam_epsilon: 1e-06\n",
            "\u001b[34m\u001b[1mwandb\u001b[0m: \tlearning_rate: 2.4018086235892944e-05\n",
            "\u001b[34m\u001b[1mwandb\u001b[0m: \tnum_train_epochs: 10\n",
            "\u001b[34m\u001b[1mwandb\u001b[0m: \tper_device_train_batch_size: 8\n",
            "\u001b[34m\u001b[1mwandb\u001b[0m: \tseed: 42\n",
            "\u001b[34m\u001b[1mwandb\u001b[0m: \twarmup_ratio: 0.10133492200825173\n",
            "\u001b[34m\u001b[1mwandb\u001b[0m: \tweight_decay: 0.11867715277521929\n"
          ]
        },
        {
          "output_type": "display_data",
          "data": {
            "text/plain": [
              "<IPython.core.display.HTML object>"
            ],
            "text/html": [
              "Tracking run with wandb version 0.19.10"
            ]
          },
          "metadata": {}
        },
        {
          "output_type": "display_data",
          "data": {
            "text/plain": [
              "<IPython.core.display.HTML object>"
            ],
            "text/html": [
              "Run data is saved locally in <code>/content/wandb/run-20250509_170050-sx8fssan</code>"
            ]
          },
          "metadata": {}
        },
        {
          "output_type": "display_data",
          "data": {
            "text/plain": [
              "<IPython.core.display.HTML object>"
            ],
            "text/html": [
              "Syncing run <strong><a href='https://wandb.ai/lidianeh-none/distilbert-final/runs/sx8fssan' target=\"_blank\">devout-sweep-3</a></strong> to <a href='https://wandb.ai/lidianeh-none/distilbert-final' target=\"_blank\">Weights & Biases</a> (<a href='https://wandb.me/developer-guide' target=\"_blank\">docs</a>)<br>Sweep page: <a href='https://wandb.ai/lidianeh-none/distilbert-final/sweeps/6yae4880' target=\"_blank\">https://wandb.ai/lidianeh-none/distilbert-final/sweeps/6yae4880</a>"
            ]
          },
          "metadata": {}
        },
        {
          "output_type": "display_data",
          "data": {
            "text/plain": [
              "<IPython.core.display.HTML object>"
            ],
            "text/html": [
              " View project at <a href='https://wandb.ai/lidianeh-none/distilbert-final' target=\"_blank\">https://wandb.ai/lidianeh-none/distilbert-final</a>"
            ]
          },
          "metadata": {}
        },
        {
          "output_type": "display_data",
          "data": {
            "text/plain": [
              "<IPython.core.display.HTML object>"
            ],
            "text/html": [
              " View sweep at <a href='https://wandb.ai/lidianeh-none/distilbert-final/sweeps/6yae4880' target=\"_blank\">https://wandb.ai/lidianeh-none/distilbert-final/sweeps/6yae4880</a>"
            ]
          },
          "metadata": {}
        },
        {
          "output_type": "display_data",
          "data": {
            "text/plain": [
              "<IPython.core.display.HTML object>"
            ],
            "text/html": [
              " View run at <a href='https://wandb.ai/lidianeh-none/distilbert-final/runs/sx8fssan' target=\"_blank\">https://wandb.ai/lidianeh-none/distilbert-final/runs/sx8fssan</a>"
            ]
          },
          "metadata": {}
        },
        {
          "output_type": "stream",
          "name": "stderr",
          "text": [
            "Some weights of WeightedDistilBertForTokenClassification were not initialized from the model checkpoint at distilbert-base-uncased and are newly initialized: ['classifier.bias', 'classifier.weight']\n",
            "You should probably TRAIN this model on a down-stream task to be able to use it for predictions and inference.\n",
            "<ipython-input-19-362b024c7306>:57: FutureWarning: `tokenizer` is deprecated and will be removed in version 5.0.0 for `Trainer.__init__`. Use `processing_class` instead.\n",
            "  trainer = Trainer(\n",
            "\u001b[34m\u001b[1mwandb\u001b[0m: \u001b[33mWARNING\u001b[0m Config item 'per_device_train_batch_size' was locked by 'sweep' (ignored update).\n",
            "\u001b[34m\u001b[1mwandb\u001b[0m: \u001b[33mWARNING\u001b[0m Config item 'learning_rate' was locked by 'sweep' (ignored update).\n",
            "\u001b[34m\u001b[1mwandb\u001b[0m: \u001b[33mWARNING\u001b[0m Config item 'weight_decay' was locked by 'sweep' (ignored update).\n",
            "\u001b[34m\u001b[1mwandb\u001b[0m: \u001b[33mWARNING\u001b[0m Config item 'adam_epsilon' was locked by 'sweep' (ignored update).\n",
            "\u001b[34m\u001b[1mwandb\u001b[0m: \u001b[33mWARNING\u001b[0m Config item 'num_train_epochs' was locked by 'sweep' (ignored update).\n",
            "\u001b[34m\u001b[1mwandb\u001b[0m: \u001b[33mWARNING\u001b[0m Config item 'warmup_ratio' was locked by 'sweep' (ignored update).\n",
            "\u001b[34m\u001b[1mwandb\u001b[0m: \u001b[33mWARNING\u001b[0m Config item 'seed' was locked by 'sweep' (ignored update).\n"
          ]
        },
        {
          "output_type": "display_data",
          "data": {
            "text/plain": [
              "<IPython.core.display.HTML object>"
            ],
            "text/html": [
              "\n",
              "    <div>\n",
              "      \n",
              "      <progress value='180' max='180' style='width:300px; height:20px; vertical-align: middle;'></progress>\n",
              "      [180/180 00:42, Epoch 10/10]\n",
              "    </div>\n",
              "    <table border=\"1\" class=\"dataframe\">\n",
              "  <thead>\n",
              " <tr style=\"text-align: left;\">\n",
              "      <th>Epoch</th>\n",
              "      <th>Training Loss</th>\n",
              "      <th>Validation Loss</th>\n",
              "      <th>Precision</th>\n",
              "      <th>Recall</th>\n",
              "      <th>F1</th>\n",
              "    </tr>\n",
              "  </thead>\n",
              "  <tbody>\n",
              "    <tr>\n",
              "      <td>1</td>\n",
              "      <td>3.805600</td>\n",
              "      <td>2.437096</td>\n",
              "      <td>1.000000</td>\n",
              "      <td>0.000000</td>\n",
              "      <td>0.000000</td>\n",
              "    </tr>\n",
              "    <tr>\n",
              "      <td>2</td>\n",
              "      <td>1.760700</td>\n",
              "      <td>1.381711</td>\n",
              "      <td>0.000000</td>\n",
              "      <td>0.000000</td>\n",
              "      <td>0.000000</td>\n",
              "    </tr>\n",
              "    <tr>\n",
              "      <td>3</td>\n",
              "      <td>1.127900</td>\n",
              "      <td>0.912940</td>\n",
              "      <td>0.270396</td>\n",
              "      <td>0.511013</td>\n",
              "      <td>0.353659</td>\n",
              "    </tr>\n",
              "    <tr>\n",
              "      <td>4</td>\n",
              "      <td>0.793000</td>\n",
              "      <td>0.708407</td>\n",
              "      <td>0.197080</td>\n",
              "      <td>0.594714</td>\n",
              "      <td>0.296053</td>\n",
              "    </tr>\n",
              "    <tr>\n",
              "      <td>5</td>\n",
              "      <td>0.617800</td>\n",
              "      <td>0.600435</td>\n",
              "      <td>0.250438</td>\n",
              "      <td>0.629956</td>\n",
              "      <td>0.358396</td>\n",
              "    </tr>\n",
              "    <tr>\n",
              "      <td>6</td>\n",
              "      <td>0.500200</td>\n",
              "      <td>0.543308</td>\n",
              "      <td>0.272727</td>\n",
              "      <td>0.647577</td>\n",
              "      <td>0.383812</td>\n",
              "    </tr>\n",
              "    <tr>\n",
              "      <td>7</td>\n",
              "      <td>0.436700</td>\n",
              "      <td>0.508794</td>\n",
              "      <td>0.286232</td>\n",
              "      <td>0.696035</td>\n",
              "      <td>0.405648</td>\n",
              "    </tr>\n",
              "    <tr>\n",
              "      <td>8</td>\n",
              "      <td>0.391000</td>\n",
              "      <td>0.498798</td>\n",
              "      <td>0.278261</td>\n",
              "      <td>0.704846</td>\n",
              "      <td>0.399002</td>\n",
              "    </tr>\n",
              "    <tr>\n",
              "      <td>9</td>\n",
              "      <td>0.369700</td>\n",
              "      <td>0.496916</td>\n",
              "      <td>0.302326</td>\n",
              "      <td>0.687225</td>\n",
              "      <td>0.419919</td>\n",
              "    </tr>\n",
              "    <tr>\n",
              "      <td>10</td>\n",
              "      <td>0.354800</td>\n",
              "      <td>0.484197</td>\n",
              "      <td>0.292505</td>\n",
              "      <td>0.704846</td>\n",
              "      <td>0.413437</td>\n",
              "    </tr>\n",
              "  </tbody>\n",
              "</table><p>"
            ]
          },
          "metadata": {}
        },
        {
          "output_type": "display_data",
          "data": {
            "text/plain": [
              "<IPython.core.display.HTML object>"
            ],
            "text/html": []
          },
          "metadata": {}
        },
        {
          "output_type": "stream",
          "name": "stdout",
          "text": [
            "{'eval_loss': 0.4104796051979065, 'eval_precision': 0.3269230769230769, 'eval_recall': 0.7391304347826086, 'eval_f1': 0.4533333333333333, 'eval_runtime': 0.1912, 'eval_samples_per_second': 156.903, 'eval_steps_per_second': 20.92, 'epoch': 10.0}\n"
          ]
        },
        {
          "output_type": "stream",
          "name": "stderr",
          "text": [
            "/usr/local/lib/python3.11/dist-packages/seqeval/metrics/v1.py:57: UndefinedMetricWarning: Precision and F-score are ill-defined and being set to 0.0 in labels with no predicted samples. Use `zero_division` parameter to control this behavior.\n",
            "  _warn_prf(average, modifier, msg_start, len(result))\n",
            "/usr/local/lib/python3.11/dist-packages/seqeval/metrics/v1.py:57: UndefinedMetricWarning: Recall and F-score are ill-defined and being set to 0.0 in labels with no true samples. Use `zero_division` parameter to control this behavior.\n",
            "  _warn_prf(average, modifier, msg_start, len(result))\n"
          ]
        },
        {
          "output_type": "stream",
          "name": "stdout",
          "text": [
            "                       precision    recall  f1-score   support\n",
            "\n",
            "          CompanyName       0.49      0.78      0.60        27\n",
            "  CurrentNeighborhood       0.00      0.00      0.00         1\n",
            "    DecisionMakerRole       0.00      0.00      0.00         6\n",
            "            FirstName       0.44      0.93      0.60        30\n",
            "             Industry       0.35      0.67      0.46        12\n",
            "             LastName       0.35      0.88      0.50         8\n",
            "            MustHaves       0.28      0.82      0.41        50\n",
            "          NiceToHaves       0.00      0.00      0.00        10\n",
            "            PainPoint       0.00      0.00      0.00         1\n",
            "   PreferredLeaseTerm       0.17      0.67      0.27         3\n",
            "PreferredNeighborhood       0.80      0.92      0.86        13\n",
            "         PropertyType       0.59      0.92      0.72        26\n",
            "            SpaceSize       0.00      0.00      0.00         0\n",
            "         UrgencyScore       0.11      0.50      0.18        20\n",
            "\n",
            "            micro avg       0.33      0.74      0.45       207\n",
            "            macro avg       0.25      0.51      0.33       207\n",
            "         weighted avg       0.36      0.74      0.48       207\n",
            "\n",
            "   firstname lastname email phone           companyname     industry  \\\n",
            "0       luke     None  None  None           urban lease         None   \n",
            "1    michael   conrad  None  None            urban hype         None   \n",
            "2     daniel     None  None  None              medivibe         None   \n",
            "3       liam     None  None  None    future innovations         None   \n",
            "4      jamie    novak  None  None        heritage legal         None   \n",
            "5       liam   carter  None  None                altura         None   \n",
            "6    michael      kim  None  None          urban legacy   facilities   \n",
            "7    rebecca     None  None  None            tenantsour         None   \n",
            "8     amelia    klein  None  None          urban retail    community   \n",
            "9       alex     None  None  None  greenview consulting    nonprofit   \n",
            "10      lena    mills  None  None            bridgeview  sustainable   \n",
            "11      reed    miles  None  None             urbancore   healthcare   \n",
            "12      liam     None  None  None          healthaccess         None   \n",
            "13    samuel      lee  None  None           urban vista         None   \n",
            "14    evelyn      lee  None  None  cityscape commercial     outreach   \n",
            "15     ethan   monroe  None  None              crescent         None   \n",
            "16   michael    cohen  None  None            urban wave    nonprofit   \n",
            "17      liam  collins  None  None          urban realms        legal   \n",
            "18      liam    grant  None  None         city cultural    nonprofit   \n",
            "19     ethan   morgan  None  None         bright future    nonprofit   \n",
            "20      eric    blake  None  None             urbanedge         None   \n",
            "21      alex   morris  None  None        crescent legal   facilities   \n",
            "22      None   foster  None  None          new horizons         None   \n",
            "23      liam     None  None  None              urbanarc         None   \n",
            "24    evelyn     None  None  None                summit         None   \n",
            "25      alex     None  None  None                  None   healthcare   \n",
            "26    jordan   parker  None  None           careconnect   facilities   \n",
            "27      nina    blake  None  None   prestige properties   healthcare   \n",
            "28      mark     None  None  None    urban creative lab         None   \n",
            "29      jane  daniels  None  None    premier properties     creative   \n",
            "\n",
            "   companysize growthstage currentneighborhood firstinteraction  ...  \\\n",
            "0         None        None                None             None  ...   \n",
            "1         None        None                None             None  ...   \n",
            "2         None        None                None             None  ...   \n",
            "3         None        None                None             None  ...   \n",
            "4         None        None                None             None  ...   \n",
            "5         None        None                None             None  ...   \n",
            "6         None        None                None             None  ...   \n",
            "7         None        None                None             None  ...   \n",
            "8         None        None                None             None  ...   \n",
            "9         None        None                None             None  ...   \n",
            "10        None        None                None             None  ...   \n",
            "11        None        None                None             None  ...   \n",
            "12        None        None                None             None  ...   \n",
            "13        None        None                None             None  ...   \n",
            "14        None        None                None             None  ...   \n",
            "15        None        None                None             None  ...   \n",
            "16        None        None                None             None  ...   \n",
            "17        None        None                None             None  ...   \n",
            "18        None        None                None             None  ...   \n",
            "19        None        None                None             None  ...   \n",
            "20        None        None                None             None  ...   \n",
            "21        None        None                None             None  ...   \n",
            "22        None        None                None             None  ...   \n",
            "23        None        None                None             None  ...   \n",
            "24        None        None                None             None  ...   \n",
            "25        None        None                None             None  ...   \n",
            "26        None        None                None             None  ...   \n",
            "27        None        None                None             None  ...   \n",
            "28        None        None                None             None  ...   \n",
            "29        None        None                None             None  ...   \n",
            "\n",
            "   movingterm min_months max_months movingtimeline             musthaves  \\\n",
            "0        None       None       None           None                  hvac   \n",
            "1        None       None       None           None               parking   \n",
            "2        None       None       None           None        public transit   \n",
            "3        None       None       None           None               working   \n",
            "4        None       None       None           None     quiet environment   \n",
            "5        None       None       None           None         natural light   \n",
            "6        None       None       None           None         high ceilings   \n",
            "7        None       None       None           None         natural light   \n",
            "8        None       None       None           None           easy access   \n",
            "9        None       None       None           None         natural light   \n",
            "10       None       None       None           None                   eco   \n",
            "11       None       None       None           None         natural light   \n",
            "12       None       None       None           None      hospital - grade   \n",
            "13       None       None       None           None                  None   \n",
            "14       None       None       None           None       street frontage   \n",
            "15       None       None       None           None                  hvac   \n",
            "16       None       None       None           None    building amenities   \n",
            "17       None       None       None           None                courts   \n",
            "18       None       None       None           None         natural light   \n",
            "19       None       None       None           None         natural light   \n",
            "20       None       None       None           None                  None   \n",
            "21       None       None       None           None          foot traffic   \n",
            "22       None       None       None           None  community engagement   \n",
            "23       None       None       None           None         natural light   \n",
            "24       None       None       None           None              reliable   \n",
            "25       None       None       None           None         tech upgrades   \n",
            "26       None       None       None           None         natural light   \n",
            "27       None       None       None           None           open layout   \n",
            "28       None       None       None           None         high ceilings   \n",
            "29       None       None       None           None               gallery   \n",
            "\n",
            "   nicetohaves painpoint urgencyscore outcome personality  \n",
            "0         None      None           65    None        None  \n",
            "1         None      None            3    None        None  \n",
            "2         None      None           01    None        None  \n",
            "3         None      None          200    None        None  \n",
            "4         None      None           40    None        None  \n",
            "5         None      None            3    None        None  \n",
            "6         None      None            4    None        None  \n",
            "7         None      None            7    None        None  \n",
            "8         None      None           28    None        None  \n",
            "9         None      None           98    None        None  \n",
            "10        None      None            4    None        None  \n",
            "11        None      None            4    None        None  \n",
            "12        None      None           74    None        None  \n",
            "13        None      None           70    None        None  \n",
            "14        None      None           35    None        None  \n",
            "15        None      None            8    None        None  \n",
            "16        None      None           42    None        None  \n",
            "17        None      None            8    None        None  \n",
            "18        None      None         10th    None        None  \n",
            "19        None      None           35    None        None  \n",
            "20        None      None            4    None        None  \n",
            "21        None      None          800    None        None  \n",
            "22        None      None           01    None        None  \n",
            "23        None      None           65    None        None  \n",
            "24        None      None          500    None        None  \n",
            "25        None      None            8    None        None  \n",
            "26        None      None          500    None        None  \n",
            "27        None      None           60    None        None  \n",
            "28        None      None           45    None        None  \n",
            "29        None      None          200    None        None  \n",
            "\n",
            "[30 rows x 27 columns]\n",
            "Structured Field-Level Metrics: {'firstname_precision': 1.0, 'firstname_recall': 1.0, 'firstname_f1': 1.0, 'lastname_precision': 1.0, 'lastname_recall': 1.0, 'lastname_f1': 1.0, 'companyname_precision': 1.0, 'companyname_recall': 1.0, 'companyname_f1': 1.0, 'industry_precision': 1.0, 'industry_recall': 1.0, 'industry_f1': 1.0, 'propertytype_precision': 1.0, 'propertytype_recall': 1.0, 'propertytype_f1': 1.0, 'preferredneighborhood_precision': 1.0, 'preferredneighborhood_recall': 1.0, 'preferredneighborhood_f1': 1.0, 'preferredleaseterm_precision': 1.0, 'preferredleaseterm_recall': 1.0, 'preferredleaseterm_f1': 1.0, 'musthaves_precision': 1.0, 'musthaves_recall': 1.0, 'musthaves_f1': 1.0, 'urgencyscore_precision': 1.0, 'urgencyscore_recall': 1.0, 'urgencyscore_f1': 1.0, 'macro_precision': np.float64(1.0), 'macro_recall': np.float64(1.0), 'macro_f1': np.float64(1.0)}\n",
            "Predictions saved to: /content/drive/MyDrive/distilbert_outputs/devout-sweep-3_predictions.json\n"
          ]
        },
        {
          "output_type": "display_data",
          "data": {
            "text/plain": [
              "<IPython.core.display.HTML object>"
            ],
            "text/html": []
          },
          "metadata": {}
        },
        {
          "output_type": "display_data",
          "data": {
            "text/plain": [
              "<IPython.core.display.HTML object>"
            ],
            "text/html": [
              "<br>    <style><br>        .wandb-row {<br>            display: flex;<br>            flex-direction: row;<br>            flex-wrap: wrap;<br>            justify-content: flex-start;<br>            width: 100%;<br>        }<br>        .wandb-col {<br>            display: flex;<br>            flex-direction: column;<br>            flex-basis: 100%;<br>            flex: 1;<br>            padding: 10px;<br>        }<br>    </style><br><div class=\"wandb-row\"><div class=\"wandb-col\"><h3>Run history:</h3><br/><table class=\"wandb\"><tr><td>eval/f1</td><td>▁▁▆▆▇▇▇▇▇▇▇█</td></tr><tr><td>eval/loss</td><td>█▄▃▂▂▁▁▁▁▁▁▁</td></tr><tr><td>eval/precision</td><td>█▁▃▂▃▃▃▃▃▃▃▃</td></tr><tr><td>eval/recall</td><td>▁▁▆▇▇▇██████</td></tr><tr><td>eval/runtime</td><td>▁▁▂▂▁▂▂▂▂▂█▂</td></tr><tr><td>eval/samples_per_second</td><td>██▇▇█▇▇▇▇▇▁▇</td></tr><tr><td>eval/steps_per_second</td><td>██▇▇█▇▇▇▇▇▁▇</td></tr><tr><td>test/f1</td><td>▁</td></tr><tr><td>test/loss</td><td>▁</td></tr><tr><td>test/precision</td><td>▁</td></tr><tr><td>test/recall</td><td>▁</td></tr><tr><td>test/runtime</td><td>▁</td></tr><tr><td>test/samples_per_second</td><td>▁</td></tr><tr><td>test/steps_per_second</td><td>▁</td></tr><tr><td>test_companyname_f1</td><td>▁</td></tr><tr><td>test_companyname_precision</td><td>▁</td></tr><tr><td>test_companyname_recall</td><td>▁</td></tr><tr><td>test_firstname_f1</td><td>▁</td></tr><tr><td>test_firstname_precision</td><td>▁</td></tr><tr><td>test_firstname_recall</td><td>▁</td></tr><tr><td>test_industry_f1</td><td>▁</td></tr><tr><td>test_industry_precision</td><td>▁</td></tr><tr><td>test_industry_recall</td><td>▁</td></tr><tr><td>test_lastname_f1</td><td>▁</td></tr><tr><td>test_lastname_precision</td><td>▁</td></tr><tr><td>test_lastname_recall</td><td>▁</td></tr><tr><td>test_macro_f1</td><td>▁</td></tr><tr><td>test_macro_precision</td><td>▁</td></tr><tr><td>test_macro_recall</td><td>▁</td></tr><tr><td>test_musthaves_f1</td><td>▁</td></tr><tr><td>test_musthaves_precision</td><td>▁</td></tr><tr><td>test_musthaves_recall</td><td>▁</td></tr><tr><td>test_preferredleaseterm_f1</td><td>▁</td></tr><tr><td>test_preferredleaseterm_precision</td><td>▁</td></tr><tr><td>test_preferredleaseterm_recall</td><td>▁</td></tr><tr><td>test_preferredneighborhood_f1</td><td>▁</td></tr><tr><td>test_preferredneighborhood_precision</td><td>▁</td></tr><tr><td>test_preferredneighborhood_recall</td><td>▁</td></tr><tr><td>test_propertytype_f1</td><td>▁</td></tr><tr><td>test_propertytype_precision</td><td>▁</td></tr><tr><td>test_propertytype_recall</td><td>▁</td></tr><tr><td>test_urgencyscore_f1</td><td>▁</td></tr><tr><td>test_urgencyscore_precision</td><td>▁</td></tr><tr><td>test_urgencyscore_recall</td><td>▁</td></tr><tr><td>train/epoch</td><td>▁▁▂▂▃▃▃▃▄▄▅▅▆▆▆▆▇▇█████</td></tr><tr><td>train/global_step</td><td>▁▁▂▂▃▃▃▃▄▄▅▅▆▆▆▆▇▇████████</td></tr><tr><td>train/grad_norm</td><td>█▁▁▁▂▁▂▂▁▁</td></tr><tr><td>train/learning_rate</td><td>██▇▆▅▅▄▃▂▁</td></tr><tr><td>train/loss</td><td>█▄▃▂▂▁▁▁▁▁</td></tr></table><br/></div><div class=\"wandb-col\"><h3>Run summary:</h3><br/><table class=\"wandb\"><tr><td>eval/f1</td><td>0.45333</td></tr><tr><td>eval/loss</td><td>0.41048</td></tr><tr><td>eval/precision</td><td>0.32692</td></tr><tr><td>eval/recall</td><td>0.73913</td></tr><tr><td>eval/runtime</td><td>0.1912</td></tr><tr><td>eval/samples_per_second</td><td>156.903</td></tr><tr><td>eval/steps_per_second</td><td>20.92</td></tr><tr><td>test/f1</td><td>0.45333</td></tr><tr><td>test/loss</td><td>0.41048</td></tr><tr><td>test/precision</td><td>0.32692</td></tr><tr><td>test/recall</td><td>0.73913</td></tr><tr><td>test/runtime</td><td>0.1902</td></tr><tr><td>test/samples_per_second</td><td>157.751</td></tr><tr><td>test/steps_per_second</td><td>21.033</td></tr><tr><td>test_companyname_f1</td><td>1</td></tr><tr><td>test_companyname_precision</td><td>1</td></tr><tr><td>test_companyname_recall</td><td>1</td></tr><tr><td>test_firstname_f1</td><td>1</td></tr><tr><td>test_firstname_precision</td><td>1</td></tr><tr><td>test_firstname_recall</td><td>1</td></tr><tr><td>test_industry_f1</td><td>1</td></tr><tr><td>test_industry_precision</td><td>1</td></tr><tr><td>test_industry_recall</td><td>1</td></tr><tr><td>test_lastname_f1</td><td>1</td></tr><tr><td>test_lastname_precision</td><td>1</td></tr><tr><td>test_lastname_recall</td><td>1</td></tr><tr><td>test_macro_f1</td><td>1</td></tr><tr><td>test_macro_precision</td><td>1</td></tr><tr><td>test_macro_recall</td><td>1</td></tr><tr><td>test_musthaves_f1</td><td>1</td></tr><tr><td>test_musthaves_precision</td><td>1</td></tr><tr><td>test_musthaves_recall</td><td>1</td></tr><tr><td>test_preferredleaseterm_f1</td><td>1</td></tr><tr><td>test_preferredleaseterm_precision</td><td>1</td></tr><tr><td>test_preferredleaseterm_recall</td><td>1</td></tr><tr><td>test_preferredneighborhood_f1</td><td>1</td></tr><tr><td>test_preferredneighborhood_precision</td><td>1</td></tr><tr><td>test_preferredneighborhood_recall</td><td>1</td></tr><tr><td>test_propertytype_f1</td><td>1</td></tr><tr><td>test_propertytype_precision</td><td>1</td></tr><tr><td>test_propertytype_recall</td><td>1</td></tr><tr><td>test_urgencyscore_f1</td><td>1</td></tr><tr><td>test_urgencyscore_precision</td><td>1</td></tr><tr><td>test_urgencyscore_recall</td><td>1</td></tr><tr><td>total_flos</td><td>183089627750400.0</td></tr><tr><td>train/epoch</td><td>10</td></tr><tr><td>train/global_step</td><td>180</td></tr><tr><td>train/grad_norm</td><td>1.89829</td></tr><tr><td>train/learning_rate</td><td>0.0</td></tr><tr><td>train/loss</td><td>0.3548</td></tr><tr><td>train_loss</td><td>1.01574</td></tr><tr><td>train_runtime</td><td>42.7341</td></tr><tr><td>train_samples_per_second</td><td>32.761</td></tr><tr><td>train_steps_per_second</td><td>4.212</td></tr></table><br/></div></div>"
            ]
          },
          "metadata": {}
        },
        {
          "output_type": "display_data",
          "data": {
            "text/plain": [
              "<IPython.core.display.HTML object>"
            ],
            "text/html": [
              " View run <strong style=\"color:#cdcd00\">devout-sweep-3</strong> at: <a href='https://wandb.ai/lidianeh-none/distilbert-final/runs/sx8fssan' target=\"_blank\">https://wandb.ai/lidianeh-none/distilbert-final/runs/sx8fssan</a><br> View project at: <a href='https://wandb.ai/lidianeh-none/distilbert-final' target=\"_blank\">https://wandb.ai/lidianeh-none/distilbert-final</a><br>Synced 5 W&B file(s), 1 media file(s), 2 artifact file(s) and 0 other file(s)"
            ]
          },
          "metadata": {}
        },
        {
          "output_type": "display_data",
          "data": {
            "text/plain": [
              "<IPython.core.display.HTML object>"
            ],
            "text/html": [
              "Find logs at: <code>./wandb/run-20250509_170050-sx8fssan/logs</code>"
            ]
          },
          "metadata": {}
        },
        {
          "output_type": "stream",
          "name": "stderr",
          "text": [
            "\u001b[34m\u001b[1mwandb\u001b[0m: Agent Starting Run: ancgjdhp with config:\n",
            "\u001b[34m\u001b[1mwandb\u001b[0m: \tadam_epsilon: 1e-06\n",
            "\u001b[34m\u001b[1mwandb\u001b[0m: \tlearning_rate: 3.5114310508988655e-05\n",
            "\u001b[34m\u001b[1mwandb\u001b[0m: \tnum_train_epochs: 8\n",
            "\u001b[34m\u001b[1mwandb\u001b[0m: \tper_device_train_batch_size: 16\n",
            "\u001b[34m\u001b[1mwandb\u001b[0m: \tseed: 42\n",
            "\u001b[34m\u001b[1mwandb\u001b[0m: \twarmup_ratio: 0.10916818624206806\n",
            "\u001b[34m\u001b[1mwandb\u001b[0m: \tweight_decay: 0.11386470674631534\n"
          ]
        },
        {
          "output_type": "display_data",
          "data": {
            "text/plain": [
              "<IPython.core.display.HTML object>"
            ],
            "text/html": [
              "Tracking run with wandb version 0.19.10"
            ]
          },
          "metadata": {}
        },
        {
          "output_type": "display_data",
          "data": {
            "text/plain": [
              "<IPython.core.display.HTML object>"
            ],
            "text/html": [
              "Run data is saved locally in <code>/content/wandb/run-20250509_170144-ancgjdhp</code>"
            ]
          },
          "metadata": {}
        },
        {
          "output_type": "display_data",
          "data": {
            "text/plain": [
              "<IPython.core.display.HTML object>"
            ],
            "text/html": [
              "Syncing run <strong><a href='https://wandb.ai/lidianeh-none/distilbert-final/runs/ancgjdhp' target=\"_blank\">wild-sweep-4</a></strong> to <a href='https://wandb.ai/lidianeh-none/distilbert-final' target=\"_blank\">Weights & Biases</a> (<a href='https://wandb.me/developer-guide' target=\"_blank\">docs</a>)<br>Sweep page: <a href='https://wandb.ai/lidianeh-none/distilbert-final/sweeps/6yae4880' target=\"_blank\">https://wandb.ai/lidianeh-none/distilbert-final/sweeps/6yae4880</a>"
            ]
          },
          "metadata": {}
        },
        {
          "output_type": "display_data",
          "data": {
            "text/plain": [
              "<IPython.core.display.HTML object>"
            ],
            "text/html": [
              " View project at <a href='https://wandb.ai/lidianeh-none/distilbert-final' target=\"_blank\">https://wandb.ai/lidianeh-none/distilbert-final</a>"
            ]
          },
          "metadata": {}
        },
        {
          "output_type": "display_data",
          "data": {
            "text/plain": [
              "<IPython.core.display.HTML object>"
            ],
            "text/html": [
              " View sweep at <a href='https://wandb.ai/lidianeh-none/distilbert-final/sweeps/6yae4880' target=\"_blank\">https://wandb.ai/lidianeh-none/distilbert-final/sweeps/6yae4880</a>"
            ]
          },
          "metadata": {}
        },
        {
          "output_type": "display_data",
          "data": {
            "text/plain": [
              "<IPython.core.display.HTML object>"
            ],
            "text/html": [
              " View run at <a href='https://wandb.ai/lidianeh-none/distilbert-final/runs/ancgjdhp' target=\"_blank\">https://wandb.ai/lidianeh-none/distilbert-final/runs/ancgjdhp</a>"
            ]
          },
          "metadata": {}
        },
        {
          "output_type": "stream",
          "name": "stderr",
          "text": [
            "Some weights of WeightedDistilBertForTokenClassification were not initialized from the model checkpoint at distilbert-base-uncased and are newly initialized: ['classifier.bias', 'classifier.weight']\n",
            "You should probably TRAIN this model on a down-stream task to be able to use it for predictions and inference.\n",
            "<ipython-input-19-362b024c7306>:57: FutureWarning: `tokenizer` is deprecated and will be removed in version 5.0.0 for `Trainer.__init__`. Use `processing_class` instead.\n",
            "  trainer = Trainer(\n",
            "\u001b[34m\u001b[1mwandb\u001b[0m: \u001b[33mWARNING\u001b[0m Config item 'per_device_train_batch_size' was locked by 'sweep' (ignored update).\n",
            "\u001b[34m\u001b[1mwandb\u001b[0m: \u001b[33mWARNING\u001b[0m Config item 'learning_rate' was locked by 'sweep' (ignored update).\n",
            "\u001b[34m\u001b[1mwandb\u001b[0m: \u001b[33mWARNING\u001b[0m Config item 'weight_decay' was locked by 'sweep' (ignored update).\n",
            "\u001b[34m\u001b[1mwandb\u001b[0m: \u001b[33mWARNING\u001b[0m Config item 'adam_epsilon' was locked by 'sweep' (ignored update).\n",
            "\u001b[34m\u001b[1mwandb\u001b[0m: \u001b[33mWARNING\u001b[0m Config item 'num_train_epochs' was locked by 'sweep' (ignored update).\n",
            "\u001b[34m\u001b[1mwandb\u001b[0m: \u001b[33mWARNING\u001b[0m Config item 'warmup_ratio' was locked by 'sweep' (ignored update).\n",
            "\u001b[34m\u001b[1mwandb\u001b[0m: \u001b[33mWARNING\u001b[0m Config item 'seed' was locked by 'sweep' (ignored update).\n"
          ]
        },
        {
          "output_type": "display_data",
          "data": {
            "text/plain": [
              "<IPython.core.display.HTML object>"
            ],
            "text/html": [
              "\n",
              "    <div>\n",
              "      \n",
              "      <progress value='72' max='72' style='width:300px; height:20px; vertical-align: middle;'></progress>\n",
              "      [72/72 00:29, Epoch 8/8]\n",
              "    </div>\n",
              "    <table border=\"1\" class=\"dataframe\">\n",
              "  <thead>\n",
              " <tr style=\"text-align: left;\">\n",
              "      <th>Epoch</th>\n",
              "      <th>Training Loss</th>\n",
              "      <th>Validation Loss</th>\n",
              "      <th>Precision</th>\n",
              "      <th>Recall</th>\n",
              "      <th>F1</th>\n",
              "    </tr>\n",
              "  </thead>\n",
              "  <tbody>\n",
              "    <tr>\n",
              "      <td>1</td>\n",
              "      <td>3.630800</td>\n",
              "      <td>2.517639</td>\n",
              "      <td>1.000000</td>\n",
              "      <td>0.000000</td>\n",
              "      <td>0.000000</td>\n",
              "    </tr>\n",
              "    <tr>\n",
              "      <td>2</td>\n",
              "      <td>2.039100</td>\n",
              "      <td>1.756280</td>\n",
              "      <td>1.000000</td>\n",
              "      <td>0.000000</td>\n",
              "      <td>0.000000</td>\n",
              "    </tr>\n",
              "    <tr>\n",
              "      <td>3</td>\n",
              "      <td>1.543900</td>\n",
              "      <td>1.358725</td>\n",
              "      <td>0.000000</td>\n",
              "      <td>0.000000</td>\n",
              "      <td>0.000000</td>\n",
              "    </tr>\n",
              "    <tr>\n",
              "      <td>4</td>\n",
              "      <td>1.221400</td>\n",
              "      <td>1.083390</td>\n",
              "      <td>0.162413</td>\n",
              "      <td>0.308370</td>\n",
              "      <td>0.212766</td>\n",
              "    </tr>\n",
              "    <tr>\n",
              "      <td>5</td>\n",
              "      <td>0.989900</td>\n",
              "      <td>0.913266</td>\n",
              "      <td>0.247768</td>\n",
              "      <td>0.488987</td>\n",
              "      <td>0.328889</td>\n",
              "    </tr>\n",
              "    <tr>\n",
              "      <td>6</td>\n",
              "      <td>0.838600</td>\n",
              "      <td>0.811927</td>\n",
              "      <td>0.247917</td>\n",
              "      <td>0.524229</td>\n",
              "      <td>0.336634</td>\n",
              "    </tr>\n",
              "    <tr>\n",
              "      <td>7</td>\n",
              "      <td>0.743900</td>\n",
              "      <td>0.763362</td>\n",
              "      <td>0.265849</td>\n",
              "      <td>0.572687</td>\n",
              "      <td>0.363128</td>\n",
              "    </tr>\n",
              "    <tr>\n",
              "      <td>8</td>\n",
              "      <td>0.703900</td>\n",
              "      <td>0.743134</td>\n",
              "      <td>0.257692</td>\n",
              "      <td>0.590308</td>\n",
              "      <td>0.358768</td>\n",
              "    </tr>\n",
              "  </tbody>\n",
              "</table><p>"
            ]
          },
          "metadata": {}
        },
        {
          "output_type": "display_data",
          "data": {
            "text/plain": [
              "<IPython.core.display.HTML object>"
            ],
            "text/html": []
          },
          "metadata": {}
        },
        {
          "output_type": "stream",
          "name": "stdout",
          "text": [
            "{'eval_loss': 0.6860792636871338, 'eval_precision': 0.29411764705882354, 'eval_recall': 0.6521739130434783, 'eval_f1': 0.4054054054054054, 'eval_runtime': 0.1925, 'eval_samples_per_second': 155.855, 'eval_steps_per_second': 10.39, 'epoch': 8.0}\n"
          ]
        },
        {
          "output_type": "stream",
          "name": "stderr",
          "text": [
            "/usr/local/lib/python3.11/dist-packages/seqeval/metrics/v1.py:57: UndefinedMetricWarning: Precision and F-score are ill-defined and being set to 0.0 in labels with no predicted samples. Use `zero_division` parameter to control this behavior.\n",
            "  _warn_prf(average, modifier, msg_start, len(result))\n",
            "/usr/local/lib/python3.11/dist-packages/seqeval/metrics/v1.py:57: UndefinedMetricWarning: Recall and F-score are ill-defined and being set to 0.0 in labels with no true samples. Use `zero_division` parameter to control this behavior.\n",
            "  _warn_prf(average, modifier, msg_start, len(result))\n"
          ]
        },
        {
          "output_type": "stream",
          "name": "stdout",
          "text": [
            "                       precision    recall  f1-score   support\n",
            "\n",
            "          CompanyName       0.36      0.74      0.48        27\n",
            "  CurrentNeighborhood       0.00      0.00      0.00         1\n",
            "    DecisionMakerRole       0.00      0.00      0.00         6\n",
            "            FirstName       0.31      0.93      0.47        30\n",
            "             Industry       1.00      0.08      0.15        12\n",
            "             LastName       0.00      0.00      0.00         8\n",
            "            MustHaves       0.20      0.86      0.33        50\n",
            "          NiceToHaves       0.00      0.00      0.00        10\n",
            "            PainPoint       0.00      0.00      0.00         1\n",
            "   PreferredLeaseTerm       0.00      0.00      0.00         3\n",
            "PreferredNeighborhood       0.80      0.92      0.86        13\n",
            "         PropertyType       0.77      0.92      0.84        26\n",
            "            SpaceSize       0.00      0.00      0.00         0\n",
            "         UrgencyScore       0.14      0.35      0.20        20\n",
            "\n",
            "            micro avg       0.29      0.65      0.41       207\n",
            "            macro avg       0.26      0.34      0.24       207\n",
            "         weighted avg       0.36      0.65      0.40       207\n",
            "\n",
            "   firstname lastname email phone              companyname   industry  \\\n",
            "0       luke     None  None  None              urban lease       None   \n",
            "1    michael     None  None  None        urban hype realty       None   \n",
            "2     daniel     None  None  None                    urban       None   \n",
            "3       liam     None  None  None                     None       None   \n",
            "4      jamie     None  None  None                     None       None   \n",
            "5       liam     None  None  None            altura realty       None   \n",
            "6    michael     None  None  None               facilities       None   \n",
            "7    rebecca     None  None  None                     None       None   \n",
            "8     amelia     None  None  None             urban retail       None   \n",
            "9       alex     None  None  None     greenview consulting  nonprofit   \n",
            "10      lena     None  None  None        bridgeview realty       None   \n",
            "11      reed     None  None  None         urbancore realty       None   \n",
            "12      liam     None  None  None                     None       None   \n",
            "13    samuel     None  None  None              urban vista       None   \n",
            "14    evelyn     None  None  None     cityscape commercial       None   \n",
            "15     ethan     None  None  None                     None       None   \n",
            "16   michael     None  None  None        urban wave realty       None   \n",
            "17      liam     None  None  None             urban realms       None   \n",
            "18      liam     None  None  None            city cultural       None   \n",
            "19     ethan     None  None  None  bright future nonprofit       None   \n",
            "20      eric     None  None  None         urbanedge realty       None   \n",
            "21      alex     None  None  None                     None       None   \n",
            "22    foster     None  None  None             new horizons       None   \n",
            "23      liam     None  None  None                     None       None   \n",
            "24    evelyn     None  None  None                     None       None   \n",
            "25      alex     None  None  None                     None       None   \n",
            "26      dear     None  None  None                     None       None   \n",
            "27      nina     None  None  None      prestige properties       None   \n",
            "28      mark     None  None  None       urban creative lab       None   \n",
            "29      jane     None  None  None       premier properties       None   \n",
            "\n",
            "   companysize growthstage currentneighborhood firstinteraction  ...  \\\n",
            "0         None        None                None             None  ...   \n",
            "1         None        None                None             None  ...   \n",
            "2         None        None                None             None  ...   \n",
            "3         None        None                None             None  ...   \n",
            "4         None        None                None             None  ...   \n",
            "5         None        None                None             None  ...   \n",
            "6         None        None                None             None  ...   \n",
            "7         None        None                None             None  ...   \n",
            "8         None        None                None             None  ...   \n",
            "9         None        None                None             None  ...   \n",
            "10        None        None                None             None  ...   \n",
            "11        None        None                None             None  ...   \n",
            "12        None        None                None             None  ...   \n",
            "13        None        None                None             None  ...   \n",
            "14        None        None                None             None  ...   \n",
            "15        None        None                None             None  ...   \n",
            "16        None        None                None             None  ...   \n",
            "17        None        None                None             None  ...   \n",
            "18        None        None                None             None  ...   \n",
            "19        None        None                None             None  ...   \n",
            "20        None        None                None             None  ...   \n",
            "21        None        None                None             None  ...   \n",
            "22        None        None                None             None  ...   \n",
            "23        None        None                None             None  ...   \n",
            "24        None        None                None             None  ...   \n",
            "25        None        None                None             None  ...   \n",
            "26        None        None                None             None  ...   \n",
            "27        None        None                None             None  ...   \n",
            "28        None        None                None             None  ...   \n",
            "29        None        None                None             None  ...   \n",
            "\n",
            "   movingterm min_months max_months movingtimeline              musthaves  \\\n",
            "0        None       None       None           None                   high   \n",
            "1        None       None       None           None                parking   \n",
            "2        None       None       None           None         public transit   \n",
            "3        None       None       None           None                     co   \n",
            "4        None       None       None           None         private suites   \n",
            "5        None       None       None           None          natural light   \n",
            "6        None       None       None           None          high ceilings   \n",
            "7        None       None       None           None          natural light   \n",
            "8        None       None       None           None            easy access   \n",
            "9        None       None       None           None          natural light   \n",
            "10       None       None       None           None                    eco   \n",
            "11       None       None       None           None          natural light   \n",
            "12       None       None       None           None             urban rise   \n",
            "13       None       None       None           None                   None   \n",
            "14       None       None       None           None        street frontage   \n",
            "15       None       None       None           None                   hvac   \n",
            "16       None       None       None           None     building amenities   \n",
            "17       None       None       None           None                   high   \n",
            "18       None       None       None           None   community engagement   \n",
            "19       None       None       None           None          natural light   \n",
            "20       None       None       None           None          ada compliant   \n",
            "21       None       None       None           None           professional   \n",
            "22       None       None       None           None   community engagement   \n",
            "23       None       None       None           None          natural light   \n",
            "24       None       None       None           None               reliable   \n",
            "25       None       None       None           None          tech upgrades   \n",
            "26       None       None       None           None          natural light   \n",
            "27       None       None       None           None  public transportation   \n",
            "28       None       None       None           None                   open   \n",
            "29       None       None       None           None          natural light   \n",
            "\n",
            "   nicetohaves painpoint urgencyscore outcome personality  \n",
            "0         None      None          273    None        None  \n",
            "1         None      None           45    None        None  \n",
            "2         None      None           45    None        None  \n",
            "3         None      None           45    None        None  \n",
            "4         None      None           40    None        None  \n",
            "5         None      None            3    None        None  \n",
            "6         None      None           45    None        None  \n",
            "7         None      None            3    None        None  \n",
            "8         None      None           28    None        None  \n",
            "9         None      None           98    None        None  \n",
            "10        None      None         None    None        None  \n",
            "11        None      None           70    None        None  \n",
            "12        None      None           74    None        None  \n",
            "13        None      None           70    None        None  \n",
            "14        None      None           35    None        None  \n",
            "15        None      None            8    None        None  \n",
            "16        None      None         None    None        None  \n",
            "17        None      None         None    None        None  \n",
            "18        None      None         None    None        None  \n",
            "19        None      None           35    None        None  \n",
            "20        None      None            4    None        None  \n",
            "21        None      None           45    None        None  \n",
            "22        None      None         None    None        None  \n",
            "23        None      None           65    None        None  \n",
            "24        None      None           70    None        None  \n",
            "25        None      None         None    None        None  \n",
            "26        None      None           65    None        None  \n",
            "27        None      None           60    None        None  \n",
            "28        None      None           45    None        None  \n",
            "29        None      None           35    None        None  \n",
            "\n",
            "[30 rows x 27 columns]\n",
            "Structured Field-Level Metrics: {'firstname_precision': 1.0, 'firstname_recall': 1.0, 'firstname_f1': 1.0, 'companyname_precision': 1.0, 'companyname_recall': 1.0, 'companyname_f1': 1.0, 'industry_precision': 1.0, 'industry_recall': 1.0, 'industry_f1': 1.0, 'propertytype_precision': 1.0, 'propertytype_recall': 1.0, 'propertytype_f1': 1.0, 'preferredneighborhood_precision': 1.0, 'preferredneighborhood_recall': 1.0, 'preferredneighborhood_f1': 1.0, 'musthaves_precision': 1.0, 'musthaves_recall': 1.0, 'musthaves_f1': 1.0, 'urgencyscore_precision': 1.0, 'urgencyscore_recall': 1.0, 'urgencyscore_f1': 1.0, 'macro_precision': np.float64(1.0), 'macro_recall': np.float64(1.0), 'macro_f1': np.float64(1.0)}\n",
            "Predictions saved to: /content/drive/MyDrive/distilbert_outputs/wild-sweep-4_predictions.json\n"
          ]
        },
        {
          "output_type": "display_data",
          "data": {
            "text/plain": [
              "<IPython.core.display.HTML object>"
            ],
            "text/html": []
          },
          "metadata": {}
        },
        {
          "output_type": "display_data",
          "data": {
            "text/plain": [
              "<IPython.core.display.HTML object>"
            ],
            "text/html": [
              "<br>    <style><br>        .wandb-row {<br>            display: flex;<br>            flex-direction: row;<br>            flex-wrap: wrap;<br>            justify-content: flex-start;<br>            width: 100%;<br>        }<br>        .wandb-col {<br>            display: flex;<br>            flex-direction: column;<br>            flex-basis: 100%;<br>            flex: 1;<br>            padding: 10px;<br>        }<br>    </style><br><div class=\"wandb-row\"><div class=\"wandb-col\"><h3>Run history:</h3><br/><table class=\"wandb\"><tr><td>eval/f1</td><td>▁▁▁▅▇▇▇▇▇█</td></tr><tr><td>eval/loss</td><td>█▅▄▃▂▁▁▁▁▁</td></tr><tr><td>eval/precision</td><td>██▁▂▃▃▃▃▃▃</td></tr><tr><td>eval/recall</td><td>▁▁▁▄▆▇▇▇▇█</td></tr><tr><td>eval/runtime</td><td>▁▁▁▁▁▂▁▃█▄</td></tr><tr><td>eval/samples_per_second</td><td>█████▆█▆▁▄</td></tr><tr><td>eval/steps_per_second</td><td>█████▆█▆▁▄</td></tr><tr><td>test/f1</td><td>▁</td></tr><tr><td>test/loss</td><td>▁</td></tr><tr><td>test/precision</td><td>▁</td></tr><tr><td>test/recall</td><td>▁</td></tr><tr><td>test/runtime</td><td>▁</td></tr><tr><td>test/samples_per_second</td><td>▁</td></tr><tr><td>test/steps_per_second</td><td>▁</td></tr><tr><td>test_companyname_f1</td><td>▁</td></tr><tr><td>test_companyname_precision</td><td>▁</td></tr><tr><td>test_companyname_recall</td><td>▁</td></tr><tr><td>test_firstname_f1</td><td>▁</td></tr><tr><td>test_firstname_precision</td><td>▁</td></tr><tr><td>test_firstname_recall</td><td>▁</td></tr><tr><td>test_industry_f1</td><td>▁</td></tr><tr><td>test_industry_precision</td><td>▁</td></tr><tr><td>test_industry_recall</td><td>▁</td></tr><tr><td>test_macro_f1</td><td>▁</td></tr><tr><td>test_macro_precision</td><td>▁</td></tr><tr><td>test_macro_recall</td><td>▁</td></tr><tr><td>test_musthaves_f1</td><td>▁</td></tr><tr><td>test_musthaves_precision</td><td>▁</td></tr><tr><td>test_musthaves_recall</td><td>▁</td></tr><tr><td>test_preferredneighborhood_f1</td><td>▁</td></tr><tr><td>test_preferredneighborhood_precision</td><td>▁</td></tr><tr><td>test_preferredneighborhood_recall</td><td>▁</td></tr><tr><td>test_propertytype_f1</td><td>▁</td></tr><tr><td>test_propertytype_precision</td><td>▁</td></tr><tr><td>test_propertytype_recall</td><td>▁</td></tr><tr><td>test_urgencyscore_f1</td><td>▁</td></tr><tr><td>test_urgencyscore_precision</td><td>▁</td></tr><tr><td>test_urgencyscore_recall</td><td>▁</td></tr><tr><td>train/epoch</td><td>▁▁▂▂▃▃▄▄▅▅▆▆▇▇█████</td></tr><tr><td>train/global_step</td><td>▁▁▂▂▃▃▄▄▅▅▆▆▇▇████████</td></tr><tr><td>train/grad_norm</td><td>█▂▂▁▁▁▁▁</td></tr><tr><td>train/learning_rate</td><td>█▇▆▅▄▃▂▁</td></tr><tr><td>train/loss</td><td>█▄▃▂▂▁▁▁</td></tr></table><br/></div><div class=\"wandb-col\"><h3>Run summary:</h3><br/><table class=\"wandb\"><tr><td>eval/f1</td><td>0.40541</td></tr><tr><td>eval/loss</td><td>0.68608</td></tr><tr><td>eval/precision</td><td>0.29412</td></tr><tr><td>eval/recall</td><td>0.65217</td></tr><tr><td>eval/runtime</td><td>0.1925</td></tr><tr><td>eval/samples_per_second</td><td>155.855</td></tr><tr><td>eval/steps_per_second</td><td>10.39</td></tr><tr><td>test/f1</td><td>0.40541</td></tr><tr><td>test/loss</td><td>0.68608</td></tr><tr><td>test/precision</td><td>0.29412</td></tr><tr><td>test/recall</td><td>0.65217</td></tr><tr><td>test/runtime</td><td>0.1813</td></tr><tr><td>test/samples_per_second</td><td>165.504</td></tr><tr><td>test/steps_per_second</td><td>11.034</td></tr><tr><td>test_companyname_f1</td><td>1</td></tr><tr><td>test_companyname_precision</td><td>1</td></tr><tr><td>test_companyname_recall</td><td>1</td></tr><tr><td>test_firstname_f1</td><td>1</td></tr><tr><td>test_firstname_precision</td><td>1</td></tr><tr><td>test_firstname_recall</td><td>1</td></tr><tr><td>test_industry_f1</td><td>1</td></tr><tr><td>test_industry_precision</td><td>1</td></tr><tr><td>test_industry_recall</td><td>1</td></tr><tr><td>test_macro_f1</td><td>1</td></tr><tr><td>test_macro_precision</td><td>1</td></tr><tr><td>test_macro_recall</td><td>1</td></tr><tr><td>test_musthaves_f1</td><td>1</td></tr><tr><td>test_musthaves_precision</td><td>1</td></tr><tr><td>test_musthaves_recall</td><td>1</td></tr><tr><td>test_preferredneighborhood_f1</td><td>1</td></tr><tr><td>test_preferredneighborhood_precision</td><td>1</td></tr><tr><td>test_preferredneighborhood_recall</td><td>1</td></tr><tr><td>test_propertytype_f1</td><td>1</td></tr><tr><td>test_propertytype_precision</td><td>1</td></tr><tr><td>test_propertytype_recall</td><td>1</td></tr><tr><td>test_urgencyscore_f1</td><td>1</td></tr><tr><td>test_urgencyscore_precision</td><td>1</td></tr><tr><td>test_urgencyscore_recall</td><td>1</td></tr><tr><td>total_flos</td><td>146471702200320.0</td></tr><tr><td>train/epoch</td><td>8</td></tr><tr><td>train/global_step</td><td>72</td></tr><tr><td>train/grad_norm</td><td>1.36878</td></tr><tr><td>train/learning_rate</td><td>0.0</td></tr><tr><td>train/loss</td><td>0.7039</td></tr><tr><td>train_loss</td><td>1.46394</td></tr><tr><td>train_runtime</td><td>29.7766</td></tr><tr><td>train_samples_per_second</td><td>37.613</td></tr><tr><td>train_steps_per_second</td><td>2.418</td></tr></table><br/></div></div>"
            ]
          },
          "metadata": {}
        },
        {
          "output_type": "display_data",
          "data": {
            "text/plain": [
              "<IPython.core.display.HTML object>"
            ],
            "text/html": [
              " View run <strong style=\"color:#cdcd00\">wild-sweep-4</strong> at: <a href='https://wandb.ai/lidianeh-none/distilbert-final/runs/ancgjdhp' target=\"_blank\">https://wandb.ai/lidianeh-none/distilbert-final/runs/ancgjdhp</a><br> View project at: <a href='https://wandb.ai/lidianeh-none/distilbert-final' target=\"_blank\">https://wandb.ai/lidianeh-none/distilbert-final</a><br>Synced 5 W&B file(s), 1 media file(s), 2 artifact file(s) and 0 other file(s)"
            ]
          },
          "metadata": {}
        },
        {
          "output_type": "display_data",
          "data": {
            "text/plain": [
              "<IPython.core.display.HTML object>"
            ],
            "text/html": [
              "Find logs at: <code>./wandb/run-20250509_170144-ancgjdhp/logs</code>"
            ]
          },
          "metadata": {}
        },
        {
          "output_type": "stream",
          "name": "stderr",
          "text": [
            "\u001b[34m\u001b[1mwandb\u001b[0m: Agent Starting Run: qussyuaf with config:\n",
            "\u001b[34m\u001b[1mwandb\u001b[0m: \tadam_epsilon: 1e-06\n",
            "\u001b[34m\u001b[1mwandb\u001b[0m: \tlearning_rate: 2.8880267958389663e-05\n",
            "\u001b[34m\u001b[1mwandb\u001b[0m: \tnum_train_epochs: 6\n",
            "\u001b[34m\u001b[1mwandb\u001b[0m: \tper_device_train_batch_size: 16\n",
            "\u001b[34m\u001b[1mwandb\u001b[0m: \tseed: 2024\n",
            "\u001b[34m\u001b[1mwandb\u001b[0m: \twarmup_ratio: 0.09958715560020488\n",
            "\u001b[34m\u001b[1mwandb\u001b[0m: \tweight_decay: 0.12577085354759657\n"
          ]
        },
        {
          "output_type": "display_data",
          "data": {
            "text/plain": [
              "<IPython.core.display.HTML object>"
            ],
            "text/html": [
              "Tracking run with wandb version 0.19.10"
            ]
          },
          "metadata": {}
        },
        {
          "output_type": "display_data",
          "data": {
            "text/plain": [
              "<IPython.core.display.HTML object>"
            ],
            "text/html": [
              "Run data is saved locally in <code>/content/wandb/run-20250509_170226-qussyuaf</code>"
            ]
          },
          "metadata": {}
        },
        {
          "output_type": "display_data",
          "data": {
            "text/plain": [
              "<IPython.core.display.HTML object>"
            ],
            "text/html": [
              "Syncing run <strong><a href='https://wandb.ai/lidianeh-none/distilbert-final/runs/qussyuaf' target=\"_blank\">polished-sweep-5</a></strong> to <a href='https://wandb.ai/lidianeh-none/distilbert-final' target=\"_blank\">Weights & Biases</a> (<a href='https://wandb.me/developer-guide' target=\"_blank\">docs</a>)<br>Sweep page: <a href='https://wandb.ai/lidianeh-none/distilbert-final/sweeps/6yae4880' target=\"_blank\">https://wandb.ai/lidianeh-none/distilbert-final/sweeps/6yae4880</a>"
            ]
          },
          "metadata": {}
        },
        {
          "output_type": "display_data",
          "data": {
            "text/plain": [
              "<IPython.core.display.HTML object>"
            ],
            "text/html": [
              " View project at <a href='https://wandb.ai/lidianeh-none/distilbert-final' target=\"_blank\">https://wandb.ai/lidianeh-none/distilbert-final</a>"
            ]
          },
          "metadata": {}
        },
        {
          "output_type": "display_data",
          "data": {
            "text/plain": [
              "<IPython.core.display.HTML object>"
            ],
            "text/html": [
              " View sweep at <a href='https://wandb.ai/lidianeh-none/distilbert-final/sweeps/6yae4880' target=\"_blank\">https://wandb.ai/lidianeh-none/distilbert-final/sweeps/6yae4880</a>"
            ]
          },
          "metadata": {}
        },
        {
          "output_type": "display_data",
          "data": {
            "text/plain": [
              "<IPython.core.display.HTML object>"
            ],
            "text/html": [
              " View run at <a href='https://wandb.ai/lidianeh-none/distilbert-final/runs/qussyuaf' target=\"_blank\">https://wandb.ai/lidianeh-none/distilbert-final/runs/qussyuaf</a>"
            ]
          },
          "metadata": {}
        },
        {
          "output_type": "stream",
          "name": "stderr",
          "text": [
            "Some weights of WeightedDistilBertForTokenClassification were not initialized from the model checkpoint at distilbert-base-uncased and are newly initialized: ['classifier.bias', 'classifier.weight']\n",
            "You should probably TRAIN this model on a down-stream task to be able to use it for predictions and inference.\n",
            "<ipython-input-19-362b024c7306>:57: FutureWarning: `tokenizer` is deprecated and will be removed in version 5.0.0 for `Trainer.__init__`. Use `processing_class` instead.\n",
            "  trainer = Trainer(\n",
            "\u001b[34m\u001b[1mwandb\u001b[0m: \u001b[33mWARNING\u001b[0m Config item 'per_device_train_batch_size' was locked by 'sweep' (ignored update).\n",
            "\u001b[34m\u001b[1mwandb\u001b[0m: \u001b[33mWARNING\u001b[0m Config item 'learning_rate' was locked by 'sweep' (ignored update).\n",
            "\u001b[34m\u001b[1mwandb\u001b[0m: \u001b[33mWARNING\u001b[0m Config item 'weight_decay' was locked by 'sweep' (ignored update).\n",
            "\u001b[34m\u001b[1mwandb\u001b[0m: \u001b[33mWARNING\u001b[0m Config item 'adam_epsilon' was locked by 'sweep' (ignored update).\n",
            "\u001b[34m\u001b[1mwandb\u001b[0m: \u001b[33mWARNING\u001b[0m Config item 'num_train_epochs' was locked by 'sweep' (ignored update).\n",
            "\u001b[34m\u001b[1mwandb\u001b[0m: \u001b[33mWARNING\u001b[0m Config item 'warmup_ratio' was locked by 'sweep' (ignored update).\n",
            "\u001b[34m\u001b[1mwandb\u001b[0m: \u001b[33mWARNING\u001b[0m Config item 'seed' was locked by 'sweep' (ignored update).\n"
          ]
        },
        {
          "output_type": "display_data",
          "data": {
            "text/plain": [
              "<IPython.core.display.HTML object>"
            ],
            "text/html": [
              "\n",
              "    <div>\n",
              "      \n",
              "      <progress value='54' max='54' style='width:300px; height:20px; vertical-align: middle;'></progress>\n",
              "      [54/54 00:27, Epoch 6/6]\n",
              "    </div>\n",
              "    <table border=\"1\" class=\"dataframe\">\n",
              "  <thead>\n",
              " <tr style=\"text-align: left;\">\n",
              "      <th>Epoch</th>\n",
              "      <th>Training Loss</th>\n",
              "      <th>Validation Loss</th>\n",
              "      <th>Precision</th>\n",
              "      <th>Recall</th>\n",
              "      <th>F1</th>\n",
              "    </tr>\n",
              "  </thead>\n",
              "  <tbody>\n",
              "    <tr>\n",
              "      <td>1</td>\n",
              "      <td>3.950400</td>\n",
              "      <td>2.826158</td>\n",
              "      <td>0.000000</td>\n",
              "      <td>0.000000</td>\n",
              "      <td>0.000000</td>\n",
              "    </tr>\n",
              "    <tr>\n",
              "      <td>2</td>\n",
              "      <td>2.135500</td>\n",
              "      <td>1.748997</td>\n",
              "      <td>1.000000</td>\n",
              "      <td>0.000000</td>\n",
              "      <td>0.000000</td>\n",
              "    </tr>\n",
              "    <tr>\n",
              "      <td>3</td>\n",
              "      <td>1.577900</td>\n",
              "      <td>1.429992</td>\n",
              "      <td>1.000000</td>\n",
              "      <td>0.000000</td>\n",
              "      <td>0.000000</td>\n",
              "    </tr>\n",
              "    <tr>\n",
              "      <td>4</td>\n",
              "      <td>1.311200</td>\n",
              "      <td>1.209940</td>\n",
              "      <td>0.240741</td>\n",
              "      <td>0.057269</td>\n",
              "      <td>0.092527</td>\n",
              "    </tr>\n",
              "    <tr>\n",
              "      <td>5</td>\n",
              "      <td>1.139800</td>\n",
              "      <td>1.086138</td>\n",
              "      <td>0.349515</td>\n",
              "      <td>0.317181</td>\n",
              "      <td>0.332564</td>\n",
              "    </tr>\n",
              "    <tr>\n",
              "      <td>6</td>\n",
              "      <td>1.046000</td>\n",
              "      <td>1.044065</td>\n",
              "      <td>0.315985</td>\n",
              "      <td>0.374449</td>\n",
              "      <td>0.342742</td>\n",
              "    </tr>\n",
              "  </tbody>\n",
              "</table><p>"
            ]
          },
          "metadata": {}
        },
        {
          "output_type": "display_data",
          "data": {
            "text/plain": [
              "<IPython.core.display.HTML object>"
            ],
            "text/html": []
          },
          "metadata": {}
        },
        {
          "output_type": "stream",
          "name": "stdout",
          "text": [
            "{'eval_loss': 0.9761345982551575, 'eval_precision': 0.3471698113207547, 'eval_recall': 0.4444444444444444, 'eval_f1': 0.38983050847457623, 'eval_runtime': 0.1842, 'eval_samples_per_second': 162.834, 'eval_steps_per_second': 10.856, 'epoch': 6.0}\n"
          ]
        },
        {
          "output_type": "stream",
          "name": "stderr",
          "text": [
            "/usr/local/lib/python3.11/dist-packages/seqeval/metrics/v1.py:57: UndefinedMetricWarning: Precision and F-score are ill-defined and being set to 0.0 in labels with no predicted samples. Use `zero_division` parameter to control this behavior.\n",
            "  _warn_prf(average, modifier, msg_start, len(result))\n"
          ]
        },
        {
          "output_type": "stream",
          "name": "stdout",
          "text": [
            "                       precision    recall  f1-score   support\n",
            "\n",
            "          CompanyName       0.21      0.33      0.26        27\n",
            "  CurrentNeighborhood       0.00      0.00      0.00         1\n",
            "    DecisionMakerRole       0.00      0.00      0.00         6\n",
            "            FirstName       0.45      0.80      0.58        30\n",
            "             Industry       0.00      0.00      0.00        12\n",
            "             LastName       0.00      0.00      0.00         8\n",
            "            MustHaves       0.21      0.54      0.30        50\n",
            "          NiceToHaves       0.00      0.00      0.00        10\n",
            "            PainPoint       0.00      0.00      0.00         1\n",
            "   PreferredLeaseTerm       0.00      0.00      0.00         3\n",
            "PreferredNeighborhood       0.67      0.77      0.71        13\n",
            "         PropertyType       0.95      0.81      0.88        26\n",
            "         UrgencyScore       0.25      0.05      0.08        20\n",
            "\n",
            "            micro avg       0.35      0.44      0.39       207\n",
            "            macro avg       0.21      0.25      0.22       207\n",
            "         weighted avg       0.33      0.44      0.35       207\n",
            "\n",
            "   firstname lastname email phone companyname industry companysize  \\\n",
            "0       luke     None  None  None        None     None        None   \n",
            "1    michael     None  None  None        None     None        None   \n",
            "2     daniel     None  None  None        None     None        None   \n",
            "3       liam     None  None  None        None     None        None   \n",
            "4      jamie     None  None  None        None     None        None   \n",
            "5       liam     None  None  None        None     None        None   \n",
            "6    michael     None  None  None        None     None        None   \n",
            "7    rebecca     None  None  None        None     None        None   \n",
            "8     amelia     None  None  None        None     None        None   \n",
            "9       None     None  None  None        None     None        None   \n",
            "10      lena     None  None  None        None     None        None   \n",
            "11      reed     None  None  None        None     None        None   \n",
            "12      liam     None  None  None        None     None        None   \n",
            "13    samuel     None  None  None        None     None        None   \n",
            "14    evelyn     None  None  None        None     None        None   \n",
            "15     ethan     None  None  None        None     None        None   \n",
            "16   michael     None  None  None        None     None        None   \n",
            "17      liam     None  None  None        None     None        None   \n",
            "18      None     None  None  None        None     None        None   \n",
            "19     ethan     None  None  None        None     None        None   \n",
            "20      eric     None  None  None        None     None        None   \n",
            "21      alex     None  None  None        None     None        None   \n",
            "22      None     None  None  None        None     None        None   \n",
            "23      liam     None  None  None        None     None        None   \n",
            "24    evelyn     None  None  None        None     None        None   \n",
            "25      None     None  None  None        None     None        None   \n",
            "26      dear     None  None  None        None     None        None   \n",
            "27      nina     None  None  None        None     None        None   \n",
            "28      mark     None  None  None        None     None        None   \n",
            "29      None     None  None  None        None     None        None   \n",
            "\n",
            "   growthstage currentneighborhood firstinteraction  ... movingterm  \\\n",
            "0         None                None             None  ...       None   \n",
            "1         None                None             None  ...       None   \n",
            "2         None                None             None  ...       None   \n",
            "3         None                None             None  ...       None   \n",
            "4         None                None             None  ...       None   \n",
            "5         None                None             None  ...       None   \n",
            "6         None                None             None  ...       None   \n",
            "7         None                None             None  ...       None   \n",
            "8         None                None             None  ...       None   \n",
            "9         None                None             None  ...       None   \n",
            "10        None                None             None  ...       None   \n",
            "11        None                None             None  ...       None   \n",
            "12        None                None             None  ...       None   \n",
            "13        None                None             None  ...       None   \n",
            "14        None                None             None  ...       None   \n",
            "15        None                None             None  ...       None   \n",
            "16        None                None             None  ...       None   \n",
            "17        None                None             None  ...       None   \n",
            "18        None                None             None  ...       None   \n",
            "19        None                None             None  ...       None   \n",
            "20        None                None             None  ...       None   \n",
            "21        None                None             None  ...       None   \n",
            "22        None                None             None  ...       None   \n",
            "23        None                None             None  ...       None   \n",
            "24        None                None             None  ...       None   \n",
            "25        None                None             None  ...       None   \n",
            "26        None                None             None  ...       None   \n",
            "27        None                None             None  ...       None   \n",
            "28        None                None             None  ...       None   \n",
            "29        None                None             None  ...       None   \n",
            "\n",
            "   min_months max_months movingtimeline            musthaves nicetohaves  \\\n",
            "0        None       None           None                 None        None   \n",
            "1        None       None           None                 None        None   \n",
            "2        None       None           None       public transit        None   \n",
            "3        None       None           None                 None        None   \n",
            "4        None       None           None                 None        None   \n",
            "5        None       None           None        natural light        None   \n",
            "6        None       None           None        exposed brick        None   \n",
            "7        None       None           None        natural light        None   \n",
            "8        None       None           None               street        None   \n",
            "9        None       None           None        natural light        None   \n",
            "10       None       None           None  green certification        None   \n",
            "11       None       None           None        natural light        None   \n",
            "12       None       None           None                 None        None   \n",
            "13       None       None           None                 None        None   \n",
            "14       None       None           None         street front        None   \n",
            "15       None       None           None                 None        None   \n",
            "16       None       None           None                 None        None   \n",
            "17       None       None           None                 None        None   \n",
            "18       None       None           None        large windows        None   \n",
            "19       None       None           None        natural light        None   \n",
            "20       None       None           None                 None        None   \n",
            "21       None       None           None         foot traffic        None   \n",
            "22       None       None           None              outdoor        None   \n",
            "23       None       None           None        natural light        None   \n",
            "24       None       None           None        reliable hvac        None   \n",
            "25       None       None           None        natural light        None   \n",
            "26       None       None           None    natural light and        None   \n",
            "27       None       None           None        natural light        None   \n",
            "28       None       None           None        exposed brick        None   \n",
            "29       None       None           None             workshop        None   \n",
            "\n",
            "   painpoint urgencyscore outcome personality  \n",
            "0       None         None    None        None  \n",
            "1       None         None    None        None  \n",
            "2       None         None    None        None  \n",
            "3       None         None    None        None  \n",
            "4       None         None    None        None  \n",
            "5       None         None    None        None  \n",
            "6       None          800    None        None  \n",
            "7       None         None    None        None  \n",
            "8       None         None    None        None  \n",
            "9       None         None    None        None  \n",
            "10      None          500    None        None  \n",
            "11      None         None    None        None  \n",
            "12      None         None    None        None  \n",
            "13      None         None    None        None  \n",
            "14      None         None    None        None  \n",
            "15      None         None    None        None  \n",
            "16      None         None    None        None  \n",
            "17      None         None    None        None  \n",
            "18      None         None    None        None  \n",
            "19      None         None    None        None  \n",
            "20      None         None    None        None  \n",
            "21      None          800    None        None  \n",
            "22      None         None    None        None  \n",
            "23      None         None    None        None  \n",
            "24      None         None    None        None  \n",
            "25      None         None    None        None  \n",
            "26      None          500    None        None  \n",
            "27      None         None    None        None  \n",
            "28      None         None    None        None  \n",
            "29      None         None    None        None  \n",
            "\n",
            "[30 rows x 27 columns]\n",
            "Structured Field-Level Metrics: {'firstname_precision': 1.0, 'firstname_recall': 1.0, 'firstname_f1': 1.0, 'propertytype_precision': 1.0, 'propertytype_recall': 1.0, 'propertytype_f1': 1.0, 'preferredneighborhood_precision': 1.0, 'preferredneighborhood_recall': 1.0, 'preferredneighborhood_f1': 1.0, 'musthaves_precision': 1.0, 'musthaves_recall': 1.0, 'musthaves_f1': 1.0, 'urgencyscore_precision': 1.0, 'urgencyscore_recall': 1.0, 'urgencyscore_f1': 1.0, 'macro_precision': np.float64(1.0), 'macro_recall': np.float64(1.0), 'macro_f1': np.float64(1.0)}\n",
            "Predictions saved to: /content/drive/MyDrive/distilbert_outputs/polished-sweep-5_predictions.json\n"
          ]
        },
        {
          "output_type": "display_data",
          "data": {
            "text/plain": [
              "<IPython.core.display.HTML object>"
            ],
            "text/html": []
          },
          "metadata": {}
        },
        {
          "output_type": "display_data",
          "data": {
            "text/plain": [
              "<IPython.core.display.HTML object>"
            ],
            "text/html": [
              "<br>    <style><br>        .wandb-row {<br>            display: flex;<br>            flex-direction: row;<br>            flex-wrap: wrap;<br>            justify-content: flex-start;<br>            width: 100%;<br>        }<br>        .wandb-col {<br>            display: flex;<br>            flex-direction: column;<br>            flex-basis: 100%;<br>            flex: 1;<br>            padding: 10px;<br>        }<br>    </style><br><div class=\"wandb-row\"><div class=\"wandb-col\"><h3>Run history:</h3><br/><table class=\"wandb\"><tr><td>eval/f1</td><td>▁▁▁▃▇▇▇█</td></tr><tr><td>eval/loss</td><td>█▄▃▂▁▁▁▁</td></tr><tr><td>eval/precision</td><td>▁██▃▃▃▃▃</td></tr><tr><td>eval/recall</td><td>▁▁▁▂▆▇▇█</td></tr><tr><td>eval/runtime</td><td>▁▁▁▁▂▂█▃</td></tr><tr><td>eval/samples_per_second</td><td>████▇▇▁▆</td></tr><tr><td>eval/steps_per_second</td><td>████▇▇▁▆</td></tr><tr><td>test/f1</td><td>▁</td></tr><tr><td>test/loss</td><td>▁</td></tr><tr><td>test/precision</td><td>▁</td></tr><tr><td>test/recall</td><td>▁</td></tr><tr><td>test/runtime</td><td>▁</td></tr><tr><td>test/samples_per_second</td><td>▁</td></tr><tr><td>test/steps_per_second</td><td>▁</td></tr><tr><td>test_firstname_f1</td><td>▁</td></tr><tr><td>test_firstname_precision</td><td>▁</td></tr><tr><td>test_firstname_recall</td><td>▁</td></tr><tr><td>test_macro_f1</td><td>▁</td></tr><tr><td>test_macro_precision</td><td>▁</td></tr><tr><td>test_macro_recall</td><td>▁</td></tr><tr><td>test_musthaves_f1</td><td>▁</td></tr><tr><td>test_musthaves_precision</td><td>▁</td></tr><tr><td>test_musthaves_recall</td><td>▁</td></tr><tr><td>test_preferredneighborhood_f1</td><td>▁</td></tr><tr><td>test_preferredneighborhood_precision</td><td>▁</td></tr><tr><td>test_preferredneighborhood_recall</td><td>▁</td></tr><tr><td>test_propertytype_f1</td><td>▁</td></tr><tr><td>test_propertytype_precision</td><td>▁</td></tr><tr><td>test_propertytype_recall</td><td>▁</td></tr><tr><td>test_urgencyscore_f1</td><td>▁</td></tr><tr><td>test_urgencyscore_precision</td><td>▁</td></tr><tr><td>test_urgencyscore_recall</td><td>▁</td></tr><tr><td>train/epoch</td><td>▁▁▂▂▄▄▅▅▇▇█████</td></tr><tr><td>train/global_step</td><td>▁▁▂▂▄▄▅▅▇▇████████</td></tr><tr><td>train/grad_norm</td><td>█▂▁▁▁▁</td></tr><tr><td>train/learning_rate</td><td>█▇▅▄▂▁</td></tr><tr><td>train/loss</td><td>█▄▂▂▁▁</td></tr></table><br/></div><div class=\"wandb-col\"><h3>Run summary:</h3><br/><table class=\"wandb\"><tr><td>eval/f1</td><td>0.38983</td></tr><tr><td>eval/loss</td><td>0.97613</td></tr><tr><td>eval/precision</td><td>0.34717</td></tr><tr><td>eval/recall</td><td>0.44444</td></tr><tr><td>eval/runtime</td><td>0.1842</td></tr><tr><td>eval/samples_per_second</td><td>162.834</td></tr><tr><td>eval/steps_per_second</td><td>10.856</td></tr><tr><td>test/f1</td><td>0.38983</td></tr><tr><td>test/loss</td><td>0.97613</td></tr><tr><td>test/precision</td><td>0.34717</td></tr><tr><td>test/recall</td><td>0.44444</td></tr><tr><td>test/runtime</td><td>0.1775</td></tr><tr><td>test/samples_per_second</td><td>168.983</td></tr><tr><td>test/steps_per_second</td><td>11.266</td></tr><tr><td>test_firstname_f1</td><td>1</td></tr><tr><td>test_firstname_precision</td><td>1</td></tr><tr><td>test_firstname_recall</td><td>1</td></tr><tr><td>test_macro_f1</td><td>1</td></tr><tr><td>test_macro_precision</td><td>1</td></tr><tr><td>test_macro_recall</td><td>1</td></tr><tr><td>test_musthaves_f1</td><td>1</td></tr><tr><td>test_musthaves_precision</td><td>1</td></tr><tr><td>test_musthaves_recall</td><td>1</td></tr><tr><td>test_preferredneighborhood_f1</td><td>1</td></tr><tr><td>test_preferredneighborhood_precision</td><td>1</td></tr><tr><td>test_preferredneighborhood_recall</td><td>1</td></tr><tr><td>test_propertytype_f1</td><td>1</td></tr><tr><td>test_propertytype_precision</td><td>1</td></tr><tr><td>test_propertytype_recall</td><td>1</td></tr><tr><td>test_urgencyscore_f1</td><td>1</td></tr><tr><td>test_urgencyscore_precision</td><td>1</td></tr><tr><td>test_urgencyscore_recall</td><td>1</td></tr><tr><td>total_flos</td><td>109853776650240.0</td></tr><tr><td>train/epoch</td><td>6</td></tr><tr><td>train/global_step</td><td>54</td></tr><tr><td>train/grad_norm</td><td>1.55591</td></tr><tr><td>train/learning_rate</td><td>0.0</td></tr><tr><td>train/loss</td><td>1.046</td></tr><tr><td>train_loss</td><td>1.86012</td></tr><tr><td>train_runtime</td><td>27.8063</td></tr><tr><td>train_samples_per_second</td><td>30.209</td></tr><tr><td>train_steps_per_second</td><td>1.942</td></tr></table><br/></div></div>"
            ]
          },
          "metadata": {}
        },
        {
          "output_type": "display_data",
          "data": {
            "text/plain": [
              "<IPython.core.display.HTML object>"
            ],
            "text/html": [
              " View run <strong style=\"color:#cdcd00\">polished-sweep-5</strong> at: <a href='https://wandb.ai/lidianeh-none/distilbert-final/runs/qussyuaf' target=\"_blank\">https://wandb.ai/lidianeh-none/distilbert-final/runs/qussyuaf</a><br> View project at: <a href='https://wandb.ai/lidianeh-none/distilbert-final' target=\"_blank\">https://wandb.ai/lidianeh-none/distilbert-final</a><br>Synced 5 W&B file(s), 1 media file(s), 2 artifact file(s) and 0 other file(s)"
            ]
          },
          "metadata": {}
        },
        {
          "output_type": "display_data",
          "data": {
            "text/plain": [
              "<IPython.core.display.HTML object>"
            ],
            "text/html": [
              "Find logs at: <code>./wandb/run-20250509_170226-qussyuaf/logs</code>"
            ]
          },
          "metadata": {}
        },
        {
          "output_type": "stream",
          "name": "stderr",
          "text": [
            "\u001b[34m\u001b[1mwandb\u001b[0m: Agent Starting Run: w34dppic with config:\n",
            "\u001b[34m\u001b[1mwandb\u001b[0m: \tadam_epsilon: 1e-08\n",
            "\u001b[34m\u001b[1mwandb\u001b[0m: \tlearning_rate: 1.662658764808312e-05\n",
            "\u001b[34m\u001b[1mwandb\u001b[0m: \tnum_train_epochs: 8\n",
            "\u001b[34m\u001b[1mwandb\u001b[0m: \tper_device_train_batch_size: 8\n",
            "\u001b[34m\u001b[1mwandb\u001b[0m: \tseed: 2024\n",
            "\u001b[34m\u001b[1mwandb\u001b[0m: \twarmup_ratio: 0.08828829830770812\n",
            "\u001b[34m\u001b[1mwandb\u001b[0m: \tweight_decay: 0.1472663594066858\n"
          ]
        },
        {
          "output_type": "display_data",
          "data": {
            "text/plain": [
              "<IPython.core.display.HTML object>"
            ],
            "text/html": [
              "Tracking run with wandb version 0.19.10"
            ]
          },
          "metadata": {}
        },
        {
          "output_type": "display_data",
          "data": {
            "text/plain": [
              "<IPython.core.display.HTML object>"
            ],
            "text/html": [
              "Run data is saved locally in <code>/content/wandb/run-20250509_170310-w34dppic</code>"
            ]
          },
          "metadata": {}
        },
        {
          "output_type": "display_data",
          "data": {
            "text/plain": [
              "<IPython.core.display.HTML object>"
            ],
            "text/html": [
              "Syncing run <strong><a href='https://wandb.ai/lidianeh-none/distilbert-final/runs/w34dppic' target=\"_blank\">jumping-sweep-6</a></strong> to <a href='https://wandb.ai/lidianeh-none/distilbert-final' target=\"_blank\">Weights & Biases</a> (<a href='https://wandb.me/developer-guide' target=\"_blank\">docs</a>)<br>Sweep page: <a href='https://wandb.ai/lidianeh-none/distilbert-final/sweeps/6yae4880' target=\"_blank\">https://wandb.ai/lidianeh-none/distilbert-final/sweeps/6yae4880</a>"
            ]
          },
          "metadata": {}
        },
        {
          "output_type": "display_data",
          "data": {
            "text/plain": [
              "<IPython.core.display.HTML object>"
            ],
            "text/html": [
              " View project at <a href='https://wandb.ai/lidianeh-none/distilbert-final' target=\"_blank\">https://wandb.ai/lidianeh-none/distilbert-final</a>"
            ]
          },
          "metadata": {}
        },
        {
          "output_type": "display_data",
          "data": {
            "text/plain": [
              "<IPython.core.display.HTML object>"
            ],
            "text/html": [
              " View sweep at <a href='https://wandb.ai/lidianeh-none/distilbert-final/sweeps/6yae4880' target=\"_blank\">https://wandb.ai/lidianeh-none/distilbert-final/sweeps/6yae4880</a>"
            ]
          },
          "metadata": {}
        },
        {
          "output_type": "display_data",
          "data": {
            "text/plain": [
              "<IPython.core.display.HTML object>"
            ],
            "text/html": [
              " View run at <a href='https://wandb.ai/lidianeh-none/distilbert-final/runs/w34dppic' target=\"_blank\">https://wandb.ai/lidianeh-none/distilbert-final/runs/w34dppic</a>"
            ]
          },
          "metadata": {}
        },
        {
          "output_type": "stream",
          "name": "stderr",
          "text": [
            "Some weights of WeightedDistilBertForTokenClassification were not initialized from the model checkpoint at distilbert-base-uncased and are newly initialized: ['classifier.bias', 'classifier.weight']\n",
            "You should probably TRAIN this model on a down-stream task to be able to use it for predictions and inference.\n",
            "<ipython-input-19-362b024c7306>:57: FutureWarning: `tokenizer` is deprecated and will be removed in version 5.0.0 for `Trainer.__init__`. Use `processing_class` instead.\n",
            "  trainer = Trainer(\n",
            "\u001b[34m\u001b[1mwandb\u001b[0m: \u001b[33mWARNING\u001b[0m Config item 'per_device_train_batch_size' was locked by 'sweep' (ignored update).\n",
            "\u001b[34m\u001b[1mwandb\u001b[0m: \u001b[33mWARNING\u001b[0m Config item 'learning_rate' was locked by 'sweep' (ignored update).\n",
            "\u001b[34m\u001b[1mwandb\u001b[0m: \u001b[33mWARNING\u001b[0m Config item 'weight_decay' was locked by 'sweep' (ignored update).\n",
            "\u001b[34m\u001b[1mwandb\u001b[0m: \u001b[33mWARNING\u001b[0m Config item 'adam_epsilon' was locked by 'sweep' (ignored update).\n",
            "\u001b[34m\u001b[1mwandb\u001b[0m: \u001b[33mWARNING\u001b[0m Config item 'num_train_epochs' was locked by 'sweep' (ignored update).\n",
            "\u001b[34m\u001b[1mwandb\u001b[0m: \u001b[33mWARNING\u001b[0m Config item 'warmup_ratio' was locked by 'sweep' (ignored update).\n",
            "\u001b[34m\u001b[1mwandb\u001b[0m: \u001b[33mWARNING\u001b[0m Config item 'seed' was locked by 'sweep' (ignored update).\n"
          ]
        },
        {
          "output_type": "display_data",
          "data": {
            "text/plain": [
              "<IPython.core.display.HTML object>"
            ],
            "text/html": [
              "\n",
              "    <div>\n",
              "      \n",
              "      <progress value='144' max='144' style='width:300px; height:20px; vertical-align: middle;'></progress>\n",
              "      [144/144 00:32, Epoch 8/8]\n",
              "    </div>\n",
              "    <table border=\"1\" class=\"dataframe\">\n",
              "  <thead>\n",
              " <tr style=\"text-align: left;\">\n",
              "      <th>Epoch</th>\n",
              "      <th>Training Loss</th>\n",
              "      <th>Validation Loss</th>\n",
              "      <th>Precision</th>\n",
              "      <th>Recall</th>\n",
              "      <th>F1</th>\n",
              "    </tr>\n",
              "  </thead>\n",
              "  <tbody>\n",
              "    <tr>\n",
              "      <td>1</td>\n",
              "      <td>3.652800</td>\n",
              "      <td>2.392430</td>\n",
              "      <td>1.000000</td>\n",
              "      <td>0.000000</td>\n",
              "      <td>0.000000</td>\n",
              "    </tr>\n",
              "    <tr>\n",
              "      <td>2</td>\n",
              "      <td>1.818800</td>\n",
              "      <td>1.545832</td>\n",
              "      <td>1.000000</td>\n",
              "      <td>0.000000</td>\n",
              "      <td>0.000000</td>\n",
              "    </tr>\n",
              "    <tr>\n",
              "      <td>3</td>\n",
              "      <td>1.338800</td>\n",
              "      <td>1.145743</td>\n",
              "      <td>0.290323</td>\n",
              "      <td>0.158590</td>\n",
              "      <td>0.205128</td>\n",
              "    </tr>\n",
              "    <tr>\n",
              "      <td>4</td>\n",
              "      <td>1.033700</td>\n",
              "      <td>0.905422</td>\n",
              "      <td>0.280660</td>\n",
              "      <td>0.524229</td>\n",
              "      <td>0.365591</td>\n",
              "    </tr>\n",
              "    <tr>\n",
              "      <td>5</td>\n",
              "      <td>0.853900</td>\n",
              "      <td>0.795736</td>\n",
              "      <td>0.216216</td>\n",
              "      <td>0.599119</td>\n",
              "      <td>0.317757</td>\n",
              "    </tr>\n",
              "    <tr>\n",
              "      <td>6</td>\n",
              "      <td>0.752100</td>\n",
              "      <td>0.732282</td>\n",
              "      <td>0.203514</td>\n",
              "      <td>0.612335</td>\n",
              "      <td>0.305495</td>\n",
              "    </tr>\n",
              "    <tr>\n",
              "      <td>7</td>\n",
              "      <td>0.698800</td>\n",
              "      <td>0.691513</td>\n",
              "      <td>0.243860</td>\n",
              "      <td>0.612335</td>\n",
              "      <td>0.348808</td>\n",
              "    </tr>\n",
              "    <tr>\n",
              "      <td>8</td>\n",
              "      <td>0.660700</td>\n",
              "      <td>0.682073</td>\n",
              "      <td>0.231148</td>\n",
              "      <td>0.621145</td>\n",
              "      <td>0.336918</td>\n",
              "    </tr>\n",
              "  </tbody>\n",
              "</table><p>"
            ]
          },
          "metadata": {}
        },
        {
          "output_type": "display_data",
          "data": {
            "text/plain": [
              "<IPython.core.display.HTML object>"
            ],
            "text/html": []
          },
          "metadata": {}
        },
        {
          "output_type": "stream",
          "name": "stdout",
          "text": [
            "{'eval_loss': 0.8341310024261475, 'eval_precision': 0.29207920792079206, 'eval_recall': 0.5700483091787439, 'eval_f1': 0.3862520458265139, 'eval_runtime': 0.1896, 'eval_samples_per_second': 158.247, 'eval_steps_per_second': 21.1, 'epoch': 8.0}\n"
          ]
        },
        {
          "output_type": "stream",
          "name": "stderr",
          "text": [
            "/usr/local/lib/python3.11/dist-packages/seqeval/metrics/v1.py:57: UndefinedMetricWarning: Precision and F-score are ill-defined and being set to 0.0 in labels with no predicted samples. Use `zero_division` parameter to control this behavior.\n",
            "  _warn_prf(average, modifier, msg_start, len(result))\n"
          ]
        },
        {
          "output_type": "stream",
          "name": "stdout",
          "text": [
            "                       precision    recall  f1-score   support\n",
            "\n",
            "          CompanyName       0.28      0.74      0.41        27\n",
            "  CurrentNeighborhood       0.00      0.00      0.00         1\n",
            "    DecisionMakerRole       0.00      0.00      0.00         6\n",
            "            FirstName       0.33      0.93      0.49        30\n",
            "             Industry       0.00      0.00      0.00        12\n",
            "             LastName       0.00      0.00      0.00         8\n",
            "            MustHaves       0.20      0.78      0.32        50\n",
            "          NiceToHaves       0.00      0.00      0.00        10\n",
            "            PainPoint       0.00      0.00      0.00         1\n",
            "   PreferredLeaseTerm       0.00      0.00      0.00         3\n",
            "PreferredNeighborhood       0.53      0.62      0.57        13\n",
            "         PropertyType       0.73      0.85      0.79        26\n",
            "         UrgencyScore       0.08      0.05      0.06        20\n",
            "\n",
            "            micro avg       0.29      0.57      0.39       207\n",
            "            macro avg       0.17      0.31      0.20       207\n",
            "         weighted avg       0.27      0.57      0.34       207\n",
            "\n",
            "   firstname lastname email phone   companyname industry companysize  \\\n",
            "0       luke     None  None  None          None     None        None   \n",
            "1    michael     None  None  None          None     None        None   \n",
            "2     daniel     None  None  None          None     None        None   \n",
            "3       liam     None  None  None          None     None        None   \n",
            "4      jamie     None  None  None          None     None        None   \n",
            "5       liam     None  None  None          None     None        None   \n",
            "6    michael     None  None  None          None     None        None   \n",
            "7    rebecca     None  None  None          None     None        None   \n",
            "8     amelia     None  None  None          None     None        None   \n",
            "9       alex     None  None  None          None     None        None   \n",
            "10      lena     None  None  None          None     None        None   \n",
            "11        hi     None  None  None          None     None        None   \n",
            "12      liam     None  None  None          None     None        None   \n",
            "13    samuel     None  None  None          None     None        None   \n",
            "14    evelyn     None  None  None          None     None        None   \n",
            "15     ethan     None  None  None          None     None        None   \n",
            "16        hi     None  None  None          None     None        None   \n",
            "17      liam     None  None  None          None     None        None   \n",
            "18      liam     None  None  None          None     None        None   \n",
            "19     ethan     None  None  None          None     None        None   \n",
            "20      eric     None  None  None          None     None        None   \n",
            "21        hi     None  None  None          None     None        None   \n",
            "22    foster     None  None  None          None     None        None   \n",
            "23      liam     None  None  None  midtown east     None        None   \n",
            "24    evelyn     None  None  None          None     None        None   \n",
            "25      alex     None  None  None          None     None        None   \n",
            "26    jordan     None  None  None          None     None        None   \n",
            "27      nina     None  None  None          None     None        None   \n",
            "28      mark     None  None  None          None     None        None   \n",
            "29      jane     None  None  None          None     None        None   \n",
            "\n",
            "   growthstage currentneighborhood firstinteraction  ... movingterm  \\\n",
            "0         None                None             None  ...       None   \n",
            "1         None                None             None  ...       None   \n",
            "2         None                None             None  ...       None   \n",
            "3         None                None             None  ...       None   \n",
            "4         None                None             None  ...       None   \n",
            "5         None                None             None  ...       None   \n",
            "6         None                None             None  ...       None   \n",
            "7         None                None             None  ...       None   \n",
            "8         None                None             None  ...       None   \n",
            "9         None                None             None  ...       None   \n",
            "10        None                None             None  ...       None   \n",
            "11        None                None             None  ...       None   \n",
            "12        None                None             None  ...       None   \n",
            "13        None                None             None  ...       None   \n",
            "14        None                None             None  ...       None   \n",
            "15        None                None             None  ...       None   \n",
            "16        None                None             None  ...       None   \n",
            "17        None                None             None  ...       None   \n",
            "18        None                None             None  ...       None   \n",
            "19        None                None             None  ...       None   \n",
            "20        None                None             None  ...       None   \n",
            "21        None                None             None  ...       None   \n",
            "22        None                None             None  ...       None   \n",
            "23        None                None             None  ...       None   \n",
            "24        None                None             None  ...       None   \n",
            "25        None                None             None  ...       None   \n",
            "26        None                None             None  ...       None   \n",
            "27        None                None             None  ...       None   \n",
            "28        None                None             None  ...       None   \n",
            "29        None                None             None  ...       None   \n",
            "\n",
            "   min_months max_months movingtimeline                  musthaves  \\\n",
            "0        None       None           None                       high   \n",
            "1        None       None           None                       None   \n",
            "2        None       None           None             public transit   \n",
            "3        None       None           None                   flexible   \n",
            "4        None       None           None            private offices   \n",
            "5        None       None           None              natural light   \n",
            "6        None       None           None              high ceilings   \n",
            "7        None       None           None              natural light   \n",
            "8        None       None           None                       None   \n",
            "9        None       None           None              natural light   \n",
            "10       None       None           None  accessible transportation   \n",
            "11       None       None           None              natural light   \n",
            "12       None       None           None                   hospital   \n",
            "13       None       None           None                       None   \n",
            "14       None       None           None            street frontage   \n",
            "15       None       None           None                       hvac   \n",
            "16       None       None           None                       None   \n",
            "17       None       None           None          premium amenities   \n",
            "18       None       None           None              natural light   \n",
            "19       None       None           None              natural light   \n",
            "20       None       None           None                       None   \n",
            "21       None       None           None               foot traffic   \n",
            "22       None       None           None       community engagement   \n",
            "23       None       None           None              natural light   \n",
            "24       None       None           None                       hvac   \n",
            "25       None       None           None              tech upgrades   \n",
            "26       None       None           None              natural light   \n",
            "27       None       None           None                open layout   \n",
            "28       None       None           None                       open   \n",
            "29       None       None           None                   creative   \n",
            "\n",
            "   nicetohaves painpoint urgencyscore outcome personality  \n",
            "0         None      None         None    None        None  \n",
            "1         None      None         None    None        None  \n",
            "2         None      None         None    None        None  \n",
            "3         None      None         None    None        None  \n",
            "4         None      None         None    None        None  \n",
            "5         None      None         None    None        None  \n",
            "6         None      None         None    None        None  \n",
            "7         None      None            8    None        None  \n",
            "8         None      None         None    None        None  \n",
            "9         None      None         None    None        None  \n",
            "10        None      None          500    None        None  \n",
            "11        None      None         None    None        None  \n",
            "12        None      None         None    None        None  \n",
            "13        None      None         None    None        None  \n",
            "14        None      None         None    None        None  \n",
            "15        None      None            8    None        None  \n",
            "16        None      None         None    None        None  \n",
            "17        None      None         None    None        None  \n",
            "18        None      None         None    None        None  \n",
            "19        None      None         None    None        None  \n",
            "20        None      None            5    None        None  \n",
            "21        None      None         None    None        None  \n",
            "22        None      None         None    None        None  \n",
            "23        None      None         None    None        None  \n",
            "24        None      None          500    None        None  \n",
            "25        None      None         None    None        None  \n",
            "26        None      None          500    None        None  \n",
            "27        None      None           60    None        None  \n",
            "28        None      None          500    None        None  \n",
            "29        None      None         None    None        None  \n",
            "\n",
            "[30 rows x 27 columns]\n",
            "Structured Field-Level Metrics: {'firstname_precision': 1.0, 'firstname_recall': 1.0, 'firstname_f1': 1.0, 'companyname_precision': 1.0, 'companyname_recall': 1.0, 'companyname_f1': 1.0, 'propertytype_precision': 1.0, 'propertytype_recall': 1.0, 'propertytype_f1': 1.0, 'preferredneighborhood_precision': 1.0, 'preferredneighborhood_recall': 1.0, 'preferredneighborhood_f1': 1.0, 'musthaves_precision': 1.0, 'musthaves_recall': 1.0, 'musthaves_f1': 1.0, 'urgencyscore_precision': 1.0, 'urgencyscore_recall': 1.0, 'urgencyscore_f1': 1.0, 'macro_precision': np.float64(1.0), 'macro_recall': np.float64(1.0), 'macro_f1': np.float64(1.0)}\n",
            "Predictions saved to: /content/drive/MyDrive/distilbert_outputs/jumping-sweep-6_predictions.json\n"
          ]
        },
        {
          "output_type": "display_data",
          "data": {
            "text/plain": [
              "<IPython.core.display.HTML object>"
            ],
            "text/html": []
          },
          "metadata": {}
        },
        {
          "output_type": "display_data",
          "data": {
            "text/plain": [
              "<IPython.core.display.HTML object>"
            ],
            "text/html": [
              "<br>    <style><br>        .wandb-row {<br>            display: flex;<br>            flex-direction: row;<br>            flex-wrap: wrap;<br>            justify-content: flex-start;<br>            width: 100%;<br>        }<br>        .wandb-col {<br>            display: flex;<br>            flex-direction: column;<br>            flex-basis: 100%;<br>            flex: 1;<br>            padding: 10px;<br>        }<br>    </style><br><div class=\"wandb-row\"><div class=\"wandb-col\"><h3>Run history:</h3><br/><table class=\"wandb\"><tr><td>eval/f1</td><td>▁▁▅█▇▇▇▇██</td></tr><tr><td>eval/loss</td><td>█▅▃▂▁▁▁▁▂▂</td></tr><tr><td>eval/precision</td><td>██▂▂▁▁▁▁▂▂</td></tr><tr><td>eval/recall</td><td>▁▁▃▇████▇▇</td></tr><tr><td>eval/runtime</td><td>▂▁▁▁▂▁▁▂█▁</td></tr><tr><td>eval/samples_per_second</td><td>▇███▇██▇▁█</td></tr><tr><td>eval/steps_per_second</td><td>▇███▇██▇▁█</td></tr><tr><td>test/f1</td><td>▁</td></tr><tr><td>test/loss</td><td>▁</td></tr><tr><td>test/precision</td><td>▁</td></tr><tr><td>test/recall</td><td>▁</td></tr><tr><td>test/runtime</td><td>▁</td></tr><tr><td>test/samples_per_second</td><td>▁</td></tr><tr><td>test/steps_per_second</td><td>▁</td></tr><tr><td>test_companyname_f1</td><td>▁</td></tr><tr><td>test_companyname_precision</td><td>▁</td></tr><tr><td>test_companyname_recall</td><td>▁</td></tr><tr><td>test_firstname_f1</td><td>▁</td></tr><tr><td>test_firstname_precision</td><td>▁</td></tr><tr><td>test_firstname_recall</td><td>▁</td></tr><tr><td>test_macro_f1</td><td>▁</td></tr><tr><td>test_macro_precision</td><td>▁</td></tr><tr><td>test_macro_recall</td><td>▁</td></tr><tr><td>test_musthaves_f1</td><td>▁</td></tr><tr><td>test_musthaves_precision</td><td>▁</td></tr><tr><td>test_musthaves_recall</td><td>▁</td></tr><tr><td>test_preferredneighborhood_f1</td><td>▁</td></tr><tr><td>test_preferredneighborhood_precision</td><td>▁</td></tr><tr><td>test_preferredneighborhood_recall</td><td>▁</td></tr><tr><td>test_propertytype_f1</td><td>▁</td></tr><tr><td>test_propertytype_precision</td><td>▁</td></tr><tr><td>test_propertytype_recall</td><td>▁</td></tr><tr><td>test_urgencyscore_f1</td><td>▁</td></tr><tr><td>test_urgencyscore_precision</td><td>▁</td></tr><tr><td>test_urgencyscore_recall</td><td>▁</td></tr><tr><td>train/epoch</td><td>▁▁▂▂▃▃▄▄▅▅▆▆▇▇█████</td></tr><tr><td>train/global_step</td><td>▁▁▂▂▃▃▄▄▅▅▆▆▇▇████████</td></tr><tr><td>train/grad_norm</td><td>█▁▁▂▁▁▂▁</td></tr><tr><td>train/learning_rate</td><td>█▇▆▅▄▃▂▁</td></tr><tr><td>train/loss</td><td>█▄▃▂▁▁▁▁</td></tr></table><br/></div><div class=\"wandb-col\"><h3>Run summary:</h3><br/><table class=\"wandb\"><tr><td>eval/f1</td><td>0.38625</td></tr><tr><td>eval/loss</td><td>0.83413</td></tr><tr><td>eval/precision</td><td>0.29208</td></tr><tr><td>eval/recall</td><td>0.57005</td></tr><tr><td>eval/runtime</td><td>0.1896</td></tr><tr><td>eval/samples_per_second</td><td>158.247</td></tr><tr><td>eval/steps_per_second</td><td>21.1</td></tr><tr><td>test/f1</td><td>0.38625</td></tr><tr><td>test/loss</td><td>0.83413</td></tr><tr><td>test/precision</td><td>0.29208</td></tr><tr><td>test/recall</td><td>0.57005</td></tr><tr><td>test/runtime</td><td>0.1957</td></tr><tr><td>test/samples_per_second</td><td>153.335</td></tr><tr><td>test/steps_per_second</td><td>20.445</td></tr><tr><td>test_companyname_f1</td><td>1</td></tr><tr><td>test_companyname_precision</td><td>1</td></tr><tr><td>test_companyname_recall</td><td>1</td></tr><tr><td>test_firstname_f1</td><td>1</td></tr><tr><td>test_firstname_precision</td><td>1</td></tr><tr><td>test_firstname_recall</td><td>1</td></tr><tr><td>test_macro_f1</td><td>1</td></tr><tr><td>test_macro_precision</td><td>1</td></tr><tr><td>test_macro_recall</td><td>1</td></tr><tr><td>test_musthaves_f1</td><td>1</td></tr><tr><td>test_musthaves_precision</td><td>1</td></tr><tr><td>test_musthaves_recall</td><td>1</td></tr><tr><td>test_preferredneighborhood_f1</td><td>1</td></tr><tr><td>test_preferredneighborhood_precision</td><td>1</td></tr><tr><td>test_preferredneighborhood_recall</td><td>1</td></tr><tr><td>test_propertytype_f1</td><td>1</td></tr><tr><td>test_propertytype_precision</td><td>1</td></tr><tr><td>test_propertytype_recall</td><td>1</td></tr><tr><td>test_urgencyscore_f1</td><td>1</td></tr><tr><td>test_urgencyscore_precision</td><td>1</td></tr><tr><td>test_urgencyscore_recall</td><td>1</td></tr><tr><td>total_flos</td><td>146471702200320.0</td></tr><tr><td>train/epoch</td><td>8</td></tr><tr><td>train/global_step</td><td>144</td></tr><tr><td>train/grad_norm</td><td>2.21055</td></tr><tr><td>train/learning_rate</td><td>0.0</td></tr><tr><td>train/loss</td><td>0.6607</td></tr><tr><td>train_loss</td><td>1.35121</td></tr><tr><td>train_runtime</td><td>32.5942</td></tr><tr><td>train_samples_per_second</td><td>34.362</td></tr><tr><td>train_steps_per_second</td><td>4.418</td></tr></table><br/></div></div>"
            ]
          },
          "metadata": {}
        },
        {
          "output_type": "display_data",
          "data": {
            "text/plain": [
              "<IPython.core.display.HTML object>"
            ],
            "text/html": [
              " View run <strong style=\"color:#cdcd00\">jumping-sweep-6</strong> at: <a href='https://wandb.ai/lidianeh-none/distilbert-final/runs/w34dppic' target=\"_blank\">https://wandb.ai/lidianeh-none/distilbert-final/runs/w34dppic</a><br> View project at: <a href='https://wandb.ai/lidianeh-none/distilbert-final' target=\"_blank\">https://wandb.ai/lidianeh-none/distilbert-final</a><br>Synced 5 W&B file(s), 1 media file(s), 2 artifact file(s) and 0 other file(s)"
            ]
          },
          "metadata": {}
        },
        {
          "output_type": "display_data",
          "data": {
            "text/plain": [
              "<IPython.core.display.HTML object>"
            ],
            "text/html": [
              "Find logs at: <code>./wandb/run-20250509_170310-w34dppic/logs</code>"
            ]
          },
          "metadata": {}
        },
        {
          "output_type": "stream",
          "name": "stderr",
          "text": [
            "\u001b[34m\u001b[1mwandb\u001b[0m: Agent Starting Run: gi5aquan with config:\n",
            "\u001b[34m\u001b[1mwandb\u001b[0m: \tadam_epsilon: 1e-08\n",
            "\u001b[34m\u001b[1mwandb\u001b[0m: \tlearning_rate: 1.2557770678988033e-05\n",
            "\u001b[34m\u001b[1mwandb\u001b[0m: \tnum_train_epochs: 6\n",
            "\u001b[34m\u001b[1mwandb\u001b[0m: \tper_device_train_batch_size: 16\n",
            "\u001b[34m\u001b[1mwandb\u001b[0m: \tseed: 42\n",
            "\u001b[34m\u001b[1mwandb\u001b[0m: \twarmup_ratio: 0.05447096984109032\n",
            "\u001b[34m\u001b[1mwandb\u001b[0m: \tweight_decay: 0.10887050513865498\n"
          ]
        },
        {
          "output_type": "display_data",
          "data": {
            "text/plain": [
              "<IPython.core.display.HTML object>"
            ],
            "text/html": [
              "Tracking run with wandb version 0.19.10"
            ]
          },
          "metadata": {}
        },
        {
          "output_type": "display_data",
          "data": {
            "text/plain": [
              "<IPython.core.display.HTML object>"
            ],
            "text/html": [
              "Run data is saved locally in <code>/content/wandb/run-20250509_170352-gi5aquan</code>"
            ]
          },
          "metadata": {}
        },
        {
          "output_type": "display_data",
          "data": {
            "text/plain": [
              "<IPython.core.display.HTML object>"
            ],
            "text/html": [
              "Syncing run <strong><a href='https://wandb.ai/lidianeh-none/distilbert-final/runs/gi5aquan' target=\"_blank\">charmed-sweep-7</a></strong> to <a href='https://wandb.ai/lidianeh-none/distilbert-final' target=\"_blank\">Weights & Biases</a> (<a href='https://wandb.me/developer-guide' target=\"_blank\">docs</a>)<br>Sweep page: <a href='https://wandb.ai/lidianeh-none/distilbert-final/sweeps/6yae4880' target=\"_blank\">https://wandb.ai/lidianeh-none/distilbert-final/sweeps/6yae4880</a>"
            ]
          },
          "metadata": {}
        },
        {
          "output_type": "display_data",
          "data": {
            "text/plain": [
              "<IPython.core.display.HTML object>"
            ],
            "text/html": [
              " View project at <a href='https://wandb.ai/lidianeh-none/distilbert-final' target=\"_blank\">https://wandb.ai/lidianeh-none/distilbert-final</a>"
            ]
          },
          "metadata": {}
        },
        {
          "output_type": "display_data",
          "data": {
            "text/plain": [
              "<IPython.core.display.HTML object>"
            ],
            "text/html": [
              " View sweep at <a href='https://wandb.ai/lidianeh-none/distilbert-final/sweeps/6yae4880' target=\"_blank\">https://wandb.ai/lidianeh-none/distilbert-final/sweeps/6yae4880</a>"
            ]
          },
          "metadata": {}
        },
        {
          "output_type": "display_data",
          "data": {
            "text/plain": [
              "<IPython.core.display.HTML object>"
            ],
            "text/html": [
              " View run at <a href='https://wandb.ai/lidianeh-none/distilbert-final/runs/gi5aquan' target=\"_blank\">https://wandb.ai/lidianeh-none/distilbert-final/runs/gi5aquan</a>"
            ]
          },
          "metadata": {}
        },
        {
          "output_type": "stream",
          "name": "stderr",
          "text": [
            "Some weights of WeightedDistilBertForTokenClassification were not initialized from the model checkpoint at distilbert-base-uncased and are newly initialized: ['classifier.bias', 'classifier.weight']\n",
            "You should probably TRAIN this model on a down-stream task to be able to use it for predictions and inference.\n",
            "<ipython-input-19-362b024c7306>:57: FutureWarning: `tokenizer` is deprecated and will be removed in version 5.0.0 for `Trainer.__init__`. Use `processing_class` instead.\n",
            "  trainer = Trainer(\n",
            "\u001b[34m\u001b[1mwandb\u001b[0m: \u001b[33mWARNING\u001b[0m Config item 'per_device_train_batch_size' was locked by 'sweep' (ignored update).\n",
            "\u001b[34m\u001b[1mwandb\u001b[0m: \u001b[33mWARNING\u001b[0m Config item 'learning_rate' was locked by 'sweep' (ignored update).\n",
            "\u001b[34m\u001b[1mwandb\u001b[0m: \u001b[33mWARNING\u001b[0m Config item 'weight_decay' was locked by 'sweep' (ignored update).\n",
            "\u001b[34m\u001b[1mwandb\u001b[0m: \u001b[33mWARNING\u001b[0m Config item 'adam_epsilon' was locked by 'sweep' (ignored update).\n",
            "\u001b[34m\u001b[1mwandb\u001b[0m: \u001b[33mWARNING\u001b[0m Config item 'num_train_epochs' was locked by 'sweep' (ignored update).\n",
            "\u001b[34m\u001b[1mwandb\u001b[0m: \u001b[33mWARNING\u001b[0m Config item 'warmup_ratio' was locked by 'sweep' (ignored update).\n",
            "\u001b[34m\u001b[1mwandb\u001b[0m: \u001b[33mWARNING\u001b[0m Config item 'seed' was locked by 'sweep' (ignored update).\n"
          ]
        },
        {
          "output_type": "display_data",
          "data": {
            "text/plain": [
              "<IPython.core.display.HTML object>"
            ],
            "text/html": [
              "\n",
              "    <div>\n",
              "      \n",
              "      <progress value='54' max='54' style='width:300px; height:20px; vertical-align: middle;'></progress>\n",
              "      [54/54 00:23, Epoch 6/6]\n",
              "    </div>\n",
              "    <table border=\"1\" class=\"dataframe\">\n",
              "  <thead>\n",
              " <tr style=\"text-align: left;\">\n",
              "      <th>Epoch</th>\n",
              "      <th>Training Loss</th>\n",
              "      <th>Validation Loss</th>\n",
              "      <th>Precision</th>\n",
              "      <th>Recall</th>\n",
              "      <th>F1</th>\n",
              "    </tr>\n",
              "  </thead>\n",
              "  <tbody>\n",
              "    <tr>\n",
              "      <td>1</td>\n",
              "      <td>3.684100</td>\n",
              "      <td>3.099876</td>\n",
              "      <td>0.000000</td>\n",
              "      <td>0.000000</td>\n",
              "      <td>0.000000</td>\n",
              "    </tr>\n",
              "    <tr>\n",
              "      <td>2</td>\n",
              "      <td>2.548400</td>\n",
              "      <td>2.063484</td>\n",
              "      <td>1.000000</td>\n",
              "      <td>0.000000</td>\n",
              "      <td>0.000000</td>\n",
              "    </tr>\n",
              "    <tr>\n",
              "      <td>3</td>\n",
              "      <td>1.897000</td>\n",
              "      <td>1.809234</td>\n",
              "      <td>1.000000</td>\n",
              "      <td>0.000000</td>\n",
              "      <td>0.000000</td>\n",
              "    </tr>\n",
              "    <tr>\n",
              "      <td>4</td>\n",
              "      <td>1.721400</td>\n",
              "      <td>1.664777</td>\n",
              "      <td>1.000000</td>\n",
              "      <td>0.000000</td>\n",
              "      <td>0.000000</td>\n",
              "    </tr>\n",
              "    <tr>\n",
              "      <td>5</td>\n",
              "      <td>1.604500</td>\n",
              "      <td>1.584529</td>\n",
              "      <td>1.000000</td>\n",
              "      <td>0.000000</td>\n",
              "      <td>0.000000</td>\n",
              "    </tr>\n",
              "    <tr>\n",
              "      <td>6</td>\n",
              "      <td>1.548500</td>\n",
              "      <td>1.555294</td>\n",
              "      <td>1.000000</td>\n",
              "      <td>0.000000</td>\n",
              "      <td>0.000000</td>\n",
              "    </tr>\n",
              "  </tbody>\n",
              "</table><p>"
            ]
          },
          "metadata": {}
        },
        {
          "output_type": "display_data",
          "data": {
            "text/plain": [
              "<IPython.core.display.HTML object>"
            ],
            "text/html": []
          },
          "metadata": {}
        },
        {
          "output_type": "stream",
          "name": "stdout",
          "text": [
            "{'eval_loss': 3.090292453765869, 'eval_precision': 0.0, 'eval_recall': 0.0, 'eval_f1': 0.0, 'eval_runtime': 0.1759, 'eval_samples_per_second': 170.587, 'eval_steps_per_second': 11.372, 'epoch': 6.0}\n"
          ]
        },
        {
          "output_type": "stream",
          "name": "stderr",
          "text": [
            "/usr/local/lib/python3.11/dist-packages/seqeval/metrics/v1.py:57: UndefinedMetricWarning: Precision and F-score are ill-defined and being set to 0.0 in labels with no predicted samples. Use `zero_division` parameter to control this behavior.\n",
            "  _warn_prf(average, modifier, msg_start, len(result))\n"
          ]
        },
        {
          "output_type": "stream",
          "name": "stdout",
          "text": [
            "                       precision    recall  f1-score   support\n",
            "\n",
            "          CompanyName       0.00      0.00      0.00        27\n",
            "  CurrentNeighborhood       0.00      0.00      0.00         1\n",
            "    DecisionMakerRole       0.00      0.00      0.00         6\n",
            "            FirstName       0.00      0.00      0.00        30\n",
            "             Industry       0.00      0.00      0.00        12\n",
            "             LastName       0.00      0.00      0.00         8\n",
            "            MustHaves       0.00      0.00      0.00        50\n",
            "          NiceToHaves       0.00      0.00      0.00        10\n",
            "            PainPoint       0.00      0.00      0.00         1\n",
            "   PreferredLeaseTerm       0.00      0.00      0.00         3\n",
            "PreferredNeighborhood       0.00      0.00      0.00        13\n",
            "         PropertyType       0.00      0.00      0.00        26\n",
            "         UrgencyScore       0.00      0.00      0.00        20\n",
            "\n",
            "            micro avg       0.00      0.00      0.00       207\n",
            "            macro avg       0.00      0.00      0.00       207\n",
            "         weighted avg       0.00      0.00      0.00       207\n",
            "\n",
            "   firstname lastname email phone companyname industry companysize  \\\n",
            "0       None     None  None  None        None     None        None   \n",
            "1       None     None  None  None        None     None        None   \n",
            "2       None     None  None  None        None     None        None   \n",
            "3       None     None  None  None        None     None        None   \n",
            "4       None     None  None  None        None     None        None   \n",
            "5       None     None  None  None        None     None        None   \n",
            "6       None     None  None  None        None     None        None   \n",
            "7       None     None  None  None        None     None        None   \n",
            "8       None     None  None  None        None     None        None   \n",
            "9       None     None  None  None        None     None        None   \n",
            "10      None     None  None  None        None     None        None   \n",
            "11      None     None  None  None        None     None        None   \n",
            "12      None     None  None  None        None     None        None   \n",
            "13      None     None  None  None        None     None        None   \n",
            "14      None     None  None  None        None     None        None   \n",
            "15      None     None  None  None        None     None        None   \n",
            "16      None     None  None  None        None     None        None   \n",
            "17      None     None  None  None        None     None        None   \n",
            "18      None     None  None  None        None     None        None   \n",
            "19      None     None  None  None        None     None        None   \n",
            "20      None     None  None  None        None     None        None   \n",
            "21      None     None  None  None        None     None        None   \n",
            "22      None     None  None  None        None     None        None   \n",
            "23      None     None  None  None        None     None        None   \n",
            "24      None     None  None  None        None     None        None   \n",
            "25      None     None  None  None        None     None        None   \n",
            "26      None     None  None  None        None     None        None   \n",
            "27      None     None  None  None        None     None        None   \n",
            "28      None     None  None  None        None     None        None   \n",
            "29      None     None  None  None        None     None        None   \n",
            "\n",
            "   growthstage currentneighborhood firstinteraction  ... movingterm  \\\n",
            "0         None                None             None  ...       None   \n",
            "1         None                None             None  ...       None   \n",
            "2         None                None             None  ...       None   \n",
            "3         None                None             None  ...       None   \n",
            "4         None                None             None  ...       None   \n",
            "5         None                None             None  ...       None   \n",
            "6         None                None             None  ...       None   \n",
            "7         None                None             None  ...       None   \n",
            "8         None                None             None  ...       None   \n",
            "9         None                None             None  ...       None   \n",
            "10        None                None             None  ...       None   \n",
            "11        None                None             None  ...       None   \n",
            "12        None                None             None  ...       None   \n",
            "13        None                None             None  ...       None   \n",
            "14        None                None             None  ...       None   \n",
            "15        None                None             None  ...       None   \n",
            "16        None                None             None  ...       None   \n",
            "17        None                None             None  ...       None   \n",
            "18        None                None             None  ...       None   \n",
            "19        None                None             None  ...       None   \n",
            "20        None                None             None  ...       None   \n",
            "21        None                None             None  ...       None   \n",
            "22        None                None             None  ...       None   \n",
            "23        None                None             None  ...       None   \n",
            "24        None                None             None  ...       None   \n",
            "25        None                None             None  ...       None   \n",
            "26        None                None             None  ...       None   \n",
            "27        None                None             None  ...       None   \n",
            "28        None                None             None  ...       None   \n",
            "29        None                None             None  ...       None   \n",
            "\n",
            "   min_months max_months movingtimeline musthaves nicetohaves painpoint  \\\n",
            "0        None       None           None      None        None      None   \n",
            "1        None       None           None      None        None      None   \n",
            "2        None       None           None      None        None      None   \n",
            "3        None       None           None      None        None      None   \n",
            "4        None       None           None      None        None      None   \n",
            "5        None       None           None      None        None      None   \n",
            "6        None       None           None      None        None      None   \n",
            "7        None       None           None      None        None      None   \n",
            "8        None       None           None      None        None      None   \n",
            "9        None       None           None      None        None      None   \n",
            "10       None       None           None      None        None      None   \n",
            "11       None       None           None      None        None      None   \n",
            "12       None       None           None      None        None      None   \n",
            "13       None       None           None      None        None      None   \n",
            "14       None       None           None      None        None      None   \n",
            "15       None       None           None      None        None      None   \n",
            "16       None       None           None      None        None      None   \n",
            "17       None       None           None      None        None      None   \n",
            "18       None       None           None      None       build      None   \n",
            "19       None       None           None      None        None      None   \n",
            "20       None       None           None      None        None      None   \n",
            "21       None       None           None      None        None      None   \n",
            "22       None       None           None      None       build      None   \n",
            "23       None       None           None      None        None      None   \n",
            "24       None       None           None      None        None      None   \n",
            "25       None       None           None      None        None      None   \n",
            "26       None       None           None      None        ##ne      None   \n",
            "27       None       None           None      None        None      None   \n",
            "28       None       None           None      None        None      None   \n",
            "29       None       None           None      None        None      None   \n",
            "\n",
            "   urgencyscore outcome personality  \n",
            "0          None    None        None  \n",
            "1          None    None        None  \n",
            "2          None    None        None  \n",
            "3          None    None        None  \n",
            "4          None    None        None  \n",
            "5          None    None        None  \n",
            "6          None    None        None  \n",
            "7          None    None        None  \n",
            "8          None    None        None  \n",
            "9          None    None        None  \n",
            "10         None    None        None  \n",
            "11         None    None        None  \n",
            "12         None    None        None  \n",
            "13         None    None        None  \n",
            "14         None    None        None  \n",
            "15         None    None        None  \n",
            "16         None    None        None  \n",
            "17         None    None        None  \n",
            "18         None    None        None  \n",
            "19         None    None        None  \n",
            "20         None    None        None  \n",
            "21         None    None        None  \n",
            "22         None    None        None  \n",
            "23         None    None        None  \n",
            "24         None    None        None  \n",
            "25         None    None        None  \n",
            "26         None    None        None  \n",
            "27         None    None        None  \n",
            "28         None    None        None  \n",
            "29         None    None        None  \n",
            "\n",
            "[30 rows x 27 columns]\n",
            "Structured Field-Level Metrics: {'nicetohaves_precision': 1.0, 'nicetohaves_recall': 1.0, 'nicetohaves_f1': 1.0, 'macro_precision': np.float64(1.0), 'macro_recall': np.float64(1.0), 'macro_f1': np.float64(1.0)}\n",
            "Predictions saved to: /content/drive/MyDrive/distilbert_outputs/charmed-sweep-7_predictions.json\n"
          ]
        },
        {
          "output_type": "display_data",
          "data": {
            "text/plain": [
              "<IPython.core.display.HTML object>"
            ],
            "text/html": []
          },
          "metadata": {}
        },
        {
          "output_type": "display_data",
          "data": {
            "text/plain": [
              "<IPython.core.display.HTML object>"
            ],
            "text/html": [
              "<br>    <style><br>        .wandb-row {<br>            display: flex;<br>            flex-direction: row;<br>            flex-wrap: wrap;<br>            justify-content: flex-start;<br>            width: 100%;<br>        }<br>        .wandb-col {<br>            display: flex;<br>            flex-direction: column;<br>            flex-basis: 100%;<br>            flex: 1;<br>            padding: 10px;<br>        }<br>    </style><br><div class=\"wandb-row\"><div class=\"wandb-col\"><h3>Run history:</h3><br/><table class=\"wandb\"><tr><td>eval/f1</td><td>▁▁▁▁▁▁▁▁</td></tr><tr><td>eval/loss</td><td>█▃▂▁▁▁██</td></tr><tr><td>eval/precision</td><td>▁█████▁▁</td></tr><tr><td>eval/recall</td><td>▁▁▁▁▁▁▁▁</td></tr><tr><td>eval/runtime</td><td>█▄▆▆▄▃▆▁</td></tr><tr><td>eval/samples_per_second</td><td>▁▅▃▃▅▅▃█</td></tr><tr><td>eval/steps_per_second</td><td>▁▅▃▃▅▅▃█</td></tr><tr><td>test/f1</td><td>▁</td></tr><tr><td>test/loss</td><td>▁</td></tr><tr><td>test/precision</td><td>▁</td></tr><tr><td>test/recall</td><td>▁</td></tr><tr><td>test/runtime</td><td>▁</td></tr><tr><td>test/samples_per_second</td><td>▁</td></tr><tr><td>test/steps_per_second</td><td>▁</td></tr><tr><td>test_macro_f1</td><td>▁</td></tr><tr><td>test_macro_precision</td><td>▁</td></tr><tr><td>test_macro_recall</td><td>▁</td></tr><tr><td>test_nicetohaves_f1</td><td>▁</td></tr><tr><td>test_nicetohaves_precision</td><td>▁</td></tr><tr><td>test_nicetohaves_recall</td><td>▁</td></tr><tr><td>train/epoch</td><td>▁▁▂▂▄▄▅▅▇▇█████</td></tr><tr><td>train/global_step</td><td>▁▁▂▂▄▄▅▅▇▇████████</td></tr><tr><td>train/grad_norm</td><td>█▆▂▁▁▁</td></tr><tr><td>train/learning_rate</td><td>█▇▅▄▂▁</td></tr><tr><td>train/loss</td><td>█▄▂▂▁▁</td></tr></table><br/></div><div class=\"wandb-col\"><h3>Run summary:</h3><br/><table class=\"wandb\"><tr><td>eval/f1</td><td>0</td></tr><tr><td>eval/loss</td><td>3.09029</td></tr><tr><td>eval/precision</td><td>0</td></tr><tr><td>eval/recall</td><td>0</td></tr><tr><td>eval/runtime</td><td>0.1759</td></tr><tr><td>eval/samples_per_second</td><td>170.587</td></tr><tr><td>eval/steps_per_second</td><td>11.372</td></tr><tr><td>test/f1</td><td>0</td></tr><tr><td>test/loss</td><td>3.09029</td></tr><tr><td>test/precision</td><td>0</td></tr><tr><td>test/recall</td><td>0</td></tr><tr><td>test/runtime</td><td>0.1767</td></tr><tr><td>test/samples_per_second</td><td>169.819</td></tr><tr><td>test/steps_per_second</td><td>11.321</td></tr><tr><td>test_macro_f1</td><td>1</td></tr><tr><td>test_macro_precision</td><td>1</td></tr><tr><td>test_macro_recall</td><td>1</td></tr><tr><td>test_nicetohaves_f1</td><td>1</td></tr><tr><td>test_nicetohaves_precision</td><td>1</td></tr><tr><td>test_nicetohaves_recall</td><td>1</td></tr><tr><td>total_flos</td><td>109853776650240.0</td></tr><tr><td>train/epoch</td><td>6</td></tr><tr><td>train/global_step</td><td>54</td></tr><tr><td>train/grad_norm</td><td>1.71714</td></tr><tr><td>train/learning_rate</td><td>0.0</td></tr><tr><td>train/loss</td><td>1.5485</td></tr><tr><td>train_loss</td><td>2.16731</td></tr><tr><td>train_runtime</td><td>23.7254</td></tr><tr><td>train_samples_per_second</td><td>35.405</td></tr><tr><td>train_steps_per_second</td><td>2.276</td></tr></table><br/></div></div>"
            ]
          },
          "metadata": {}
        },
        {
          "output_type": "display_data",
          "data": {
            "text/plain": [
              "<IPython.core.display.HTML object>"
            ],
            "text/html": [
              " View run <strong style=\"color:#cdcd00\">charmed-sweep-7</strong> at: <a href='https://wandb.ai/lidianeh-none/distilbert-final/runs/gi5aquan' target=\"_blank\">https://wandb.ai/lidianeh-none/distilbert-final/runs/gi5aquan</a><br> View project at: <a href='https://wandb.ai/lidianeh-none/distilbert-final' target=\"_blank\">https://wandb.ai/lidianeh-none/distilbert-final</a><br>Synced 5 W&B file(s), 1 media file(s), 2 artifact file(s) and 0 other file(s)"
            ]
          },
          "metadata": {}
        },
        {
          "output_type": "display_data",
          "data": {
            "text/plain": [
              "<IPython.core.display.HTML object>"
            ],
            "text/html": [
              "Find logs at: <code>./wandb/run-20250509_170352-gi5aquan/logs</code>"
            ]
          },
          "metadata": {}
        },
        {
          "output_type": "stream",
          "name": "stderr",
          "text": [
            "\u001b[34m\u001b[1mwandb\u001b[0m: Agent Starting Run: n1p80o5x with config:\n",
            "\u001b[34m\u001b[1mwandb\u001b[0m: \tadam_epsilon: 1e-08\n",
            "\u001b[34m\u001b[1mwandb\u001b[0m: \tlearning_rate: 2.998565313689423e-05\n",
            "\u001b[34m\u001b[1mwandb\u001b[0m: \tnum_train_epochs: 10\n",
            "\u001b[34m\u001b[1mwandb\u001b[0m: \tper_device_train_batch_size: 16\n",
            "\u001b[34m\u001b[1mwandb\u001b[0m: \tseed: 2024\n",
            "\u001b[34m\u001b[1mwandb\u001b[0m: \twarmup_ratio: 0.11072242994588884\n",
            "\u001b[34m\u001b[1mwandb\u001b[0m: \tweight_decay: 0.08164553658184762\n"
          ]
        },
        {
          "output_type": "display_data",
          "data": {
            "text/plain": [
              "<IPython.core.display.HTML object>"
            ],
            "text/html": [
              "Tracking run with wandb version 0.19.10"
            ]
          },
          "metadata": {}
        },
        {
          "output_type": "display_data",
          "data": {
            "text/plain": [
              "<IPython.core.display.HTML object>"
            ],
            "text/html": [
              "Run data is saved locally in <code>/content/wandb/run-20250509_170430-n1p80o5x</code>"
            ]
          },
          "metadata": {}
        },
        {
          "output_type": "display_data",
          "data": {
            "text/plain": [
              "<IPython.core.display.HTML object>"
            ],
            "text/html": [
              "Syncing run <strong><a href='https://wandb.ai/lidianeh-none/distilbert-final/runs/n1p80o5x' target=\"_blank\">eager-sweep-8</a></strong> to <a href='https://wandb.ai/lidianeh-none/distilbert-final' target=\"_blank\">Weights & Biases</a> (<a href='https://wandb.me/developer-guide' target=\"_blank\">docs</a>)<br>Sweep page: <a href='https://wandb.ai/lidianeh-none/distilbert-final/sweeps/6yae4880' target=\"_blank\">https://wandb.ai/lidianeh-none/distilbert-final/sweeps/6yae4880</a>"
            ]
          },
          "metadata": {}
        },
        {
          "output_type": "display_data",
          "data": {
            "text/plain": [
              "<IPython.core.display.HTML object>"
            ],
            "text/html": [
              " View project at <a href='https://wandb.ai/lidianeh-none/distilbert-final' target=\"_blank\">https://wandb.ai/lidianeh-none/distilbert-final</a>"
            ]
          },
          "metadata": {}
        },
        {
          "output_type": "display_data",
          "data": {
            "text/plain": [
              "<IPython.core.display.HTML object>"
            ],
            "text/html": [
              " View sweep at <a href='https://wandb.ai/lidianeh-none/distilbert-final/sweeps/6yae4880' target=\"_blank\">https://wandb.ai/lidianeh-none/distilbert-final/sweeps/6yae4880</a>"
            ]
          },
          "metadata": {}
        },
        {
          "output_type": "display_data",
          "data": {
            "text/plain": [
              "<IPython.core.display.HTML object>"
            ],
            "text/html": [
              " View run at <a href='https://wandb.ai/lidianeh-none/distilbert-final/runs/n1p80o5x' target=\"_blank\">https://wandb.ai/lidianeh-none/distilbert-final/runs/n1p80o5x</a>"
            ]
          },
          "metadata": {}
        },
        {
          "output_type": "stream",
          "name": "stderr",
          "text": [
            "Some weights of WeightedDistilBertForTokenClassification were not initialized from the model checkpoint at distilbert-base-uncased and are newly initialized: ['classifier.bias', 'classifier.weight']\n",
            "You should probably TRAIN this model on a down-stream task to be able to use it for predictions and inference.\n",
            "<ipython-input-19-362b024c7306>:57: FutureWarning: `tokenizer` is deprecated and will be removed in version 5.0.0 for `Trainer.__init__`. Use `processing_class` instead.\n",
            "  trainer = Trainer(\n",
            "\u001b[34m\u001b[1mwandb\u001b[0m: \u001b[33mWARNING\u001b[0m Config item 'per_device_train_batch_size' was locked by 'sweep' (ignored update).\n",
            "\u001b[34m\u001b[1mwandb\u001b[0m: \u001b[33mWARNING\u001b[0m Config item 'learning_rate' was locked by 'sweep' (ignored update).\n",
            "\u001b[34m\u001b[1mwandb\u001b[0m: \u001b[33mWARNING\u001b[0m Config item 'weight_decay' was locked by 'sweep' (ignored update).\n",
            "\u001b[34m\u001b[1mwandb\u001b[0m: \u001b[33mWARNING\u001b[0m Config item 'adam_epsilon' was locked by 'sweep' (ignored update).\n",
            "\u001b[34m\u001b[1mwandb\u001b[0m: \u001b[33mWARNING\u001b[0m Config item 'num_train_epochs' was locked by 'sweep' (ignored update).\n",
            "\u001b[34m\u001b[1mwandb\u001b[0m: \u001b[33mWARNING\u001b[0m Config item 'warmup_ratio' was locked by 'sweep' (ignored update).\n",
            "\u001b[34m\u001b[1mwandb\u001b[0m: \u001b[33mWARNING\u001b[0m Config item 'seed' was locked by 'sweep' (ignored update).\n"
          ]
        },
        {
          "output_type": "display_data",
          "data": {
            "text/plain": [
              "<IPython.core.display.HTML object>"
            ],
            "text/html": [
              "\n",
              "    <div>\n",
              "      \n",
              "      <progress value='90' max='90' style='width:300px; height:20px; vertical-align: middle;'></progress>\n",
              "      [90/90 00:42, Epoch 10/10]\n",
              "    </div>\n",
              "    <table border=\"1\" class=\"dataframe\">\n",
              "  <thead>\n",
              " <tr style=\"text-align: left;\">\n",
              "      <th>Epoch</th>\n",
              "      <th>Training Loss</th>\n",
              "      <th>Validation Loss</th>\n",
              "      <th>Precision</th>\n",
              "      <th>Recall</th>\n",
              "      <th>F1</th>\n",
              "    </tr>\n",
              "  </thead>\n",
              "  <tbody>\n",
              "    <tr>\n",
              "      <td>1</td>\n",
              "      <td>4.012900</td>\n",
              "      <td>3.370392</td>\n",
              "      <td>0.000000</td>\n",
              "      <td>0.000000</td>\n",
              "      <td>0.000000</td>\n",
              "    </tr>\n",
              "    <tr>\n",
              "      <td>2</td>\n",
              "      <td>2.399900</td>\n",
              "      <td>1.877022</td>\n",
              "      <td>1.000000</td>\n",
              "      <td>0.000000</td>\n",
              "      <td>0.000000</td>\n",
              "    </tr>\n",
              "    <tr>\n",
              "      <td>3</td>\n",
              "      <td>1.676500</td>\n",
              "      <td>1.500938</td>\n",
              "      <td>1.000000</td>\n",
              "      <td>0.000000</td>\n",
              "      <td>0.000000</td>\n",
              "    </tr>\n",
              "    <tr>\n",
              "      <td>4</td>\n",
              "      <td>1.356600</td>\n",
              "      <td>1.190296</td>\n",
              "      <td>0.183673</td>\n",
              "      <td>0.079295</td>\n",
              "      <td>0.110769</td>\n",
              "    </tr>\n",
              "    <tr>\n",
              "      <td>5</td>\n",
              "      <td>1.078100</td>\n",
              "      <td>0.951940</td>\n",
              "      <td>0.288952</td>\n",
              "      <td>0.449339</td>\n",
              "      <td>0.351724</td>\n",
              "    </tr>\n",
              "    <tr>\n",
              "      <td>6</td>\n",
              "      <td>0.884700</td>\n",
              "      <td>0.814849</td>\n",
              "      <td>0.226168</td>\n",
              "      <td>0.533040</td>\n",
              "      <td>0.317585</td>\n",
              "    </tr>\n",
              "    <tr>\n",
              "      <td>7</td>\n",
              "      <td>0.761900</td>\n",
              "      <td>0.727622</td>\n",
              "      <td>0.272537</td>\n",
              "      <td>0.572687</td>\n",
              "      <td>0.369318</td>\n",
              "    </tr>\n",
              "    <tr>\n",
              "      <td>8</td>\n",
              "      <td>0.679700</td>\n",
              "      <td>0.677330</td>\n",
              "      <td>0.271287</td>\n",
              "      <td>0.603524</td>\n",
              "      <td>0.374317</td>\n",
              "    </tr>\n",
              "    <tr>\n",
              "      <td>9</td>\n",
              "      <td>0.627200</td>\n",
              "      <td>0.646012</td>\n",
              "      <td>0.273810</td>\n",
              "      <td>0.607930</td>\n",
              "      <td>0.377565</td>\n",
              "    </tr>\n",
              "    <tr>\n",
              "      <td>10</td>\n",
              "      <td>0.594500</td>\n",
              "      <td>0.636691</td>\n",
              "      <td>0.279678</td>\n",
              "      <td>0.612335</td>\n",
              "      <td>0.383978</td>\n",
              "    </tr>\n",
              "  </tbody>\n",
              "</table><p>"
            ]
          },
          "metadata": {}
        },
        {
          "output_type": "display_data",
          "data": {
            "text/plain": [
              "<IPython.core.display.HTML object>"
            ],
            "text/html": []
          },
          "metadata": {}
        },
        {
          "output_type": "stream",
          "name": "stdout",
          "text": [
            "{'eval_loss': 0.5629532933235168, 'eval_precision': 0.3050847457627119, 'eval_recall': 0.6956521739130435, 'eval_f1': 0.42415316642120765, 'eval_runtime': 0.1834, 'eval_samples_per_second': 163.559, 'eval_steps_per_second': 10.904, 'epoch': 10.0}\n"
          ]
        },
        {
          "output_type": "stream",
          "name": "stderr",
          "text": [
            "/usr/local/lib/python3.11/dist-packages/seqeval/metrics/v1.py:57: UndefinedMetricWarning: Precision and F-score are ill-defined and being set to 0.0 in labels with no predicted samples. Use `zero_division` parameter to control this behavior.\n",
            "  _warn_prf(average, modifier, msg_start, len(result))\n",
            "/usr/local/lib/python3.11/dist-packages/seqeval/metrics/v1.py:57: UndefinedMetricWarning: Recall and F-score are ill-defined and being set to 0.0 in labels with no true samples. Use `zero_division` parameter to control this behavior.\n",
            "  _warn_prf(average, modifier, msg_start, len(result))\n"
          ]
        },
        {
          "output_type": "stream",
          "name": "stdout",
          "text": [
            "                       precision    recall  f1-score   support\n",
            "\n",
            "          CompanyName       0.35      0.70      0.46        27\n",
            "  CurrentNeighborhood       0.00      0.00      0.00         1\n",
            "    DecisionMakerRole       0.00      0.00      0.00         6\n",
            "            FirstName       0.37      0.93      0.53        30\n",
            "             Industry       0.40      0.33      0.36        12\n",
            "             LastName       0.32      0.75      0.44         8\n",
            "            MustHaves       0.21      0.80      0.33        50\n",
            "          NiceToHaves       0.00      0.00      0.00        10\n",
            "            PainPoint       0.00      0.00      0.00         1\n",
            "   PreferredLeaseTerm       0.00      0.00      0.00         3\n",
            "PreferredNeighborhood       0.71      0.92      0.80        13\n",
            "         PropertyType       0.77      0.92      0.84        26\n",
            "            SpaceSize       0.00      0.00      0.00         0\n",
            "         UrgencyScore       0.16      0.55      0.25        20\n",
            "\n",
            "            micro avg       0.31      0.70      0.42       207\n",
            "            macro avg       0.23      0.42      0.29       207\n",
            "         weighted avg       0.34      0.70      0.44       207\n",
            "\n",
            "   firstname lastname email phone              companyname     industry  \\\n",
            "0       luke     None  None  None              urban lease         None   \n",
            "1    michael   conrad  None  None          urban hype real         None   \n",
            "2     daniel     None  None  None                     None         None   \n",
            "3       liam     None  None  None       future innovations         None   \n",
            "4      jamie    novak  None  None           heritage legal          nyc   \n",
            "5       liam   carter  None  None              altura real         None   \n",
            "6    michael      kim  None  None             urban legacy     creative   \n",
            "7    rebecca     None  None  None                  tenants         None   \n",
            "8     amelia    klein  None  None             urban retail         None   \n",
            "9       alex     None  None  None     greenview consulting    nonprofit   \n",
            "10      lena    mills  None  None          bridgeview real  sustainable   \n",
            "11      reed    miles  None  None           urbancore real         None   \n",
            "12      liam     None  None  None                     None         None   \n",
            "13    samuel      lee  None  None              urban vista         None   \n",
            "14    evelyn      lee  None  None     cityscape commercial     outreach   \n",
            "15     ethan   monroe  None  None            crescent real         None   \n",
            "16   michael    cohen  None  None          urban wave real    nonprofit   \n",
            "17      liam  collins  None  None             urban realms        legal   \n",
            "18      liam    grant  None  None            city cultural         None   \n",
            "19     ethan   morgan  None  None  bright future nonprofit         None   \n",
            "20      eric    blake  None  None           urbanedge real         None   \n",
            "21      alex   morris  None  None           crescent legal         None   \n",
            "22    foster     None  None  None             new horizons         None   \n",
            "23      liam     None  None  None                 urbanarc         None   \n",
            "24    evelyn     None  None  None                   summit         None   \n",
            "25      alex     None  None  None                     None   healthcare   \n",
            "26      dear   parker  None  None                     None       clinic   \n",
            "27      nina    blake  None  None      prestige properties         None   \n",
            "28      mark     None  None  None       urban creative lab         None   \n",
            "29      jane  daniels  None  None       premier properties         None   \n",
            "\n",
            "   companysize growthstage currentneighborhood firstinteraction  ...  \\\n",
            "0         None        None                None             None  ...   \n",
            "1         None        None                None             None  ...   \n",
            "2         None        None                None             None  ...   \n",
            "3         None        None                None             None  ...   \n",
            "4         None        None                None             None  ...   \n",
            "5         None        None                None             None  ...   \n",
            "6         None        None                None             None  ...   \n",
            "7         None        None                None             None  ...   \n",
            "8         None        None                None             None  ...   \n",
            "9         None        None                None             None  ...   \n",
            "10        None        None                None             None  ...   \n",
            "11        None        None                None             None  ...   \n",
            "12        None        None                None             None  ...   \n",
            "13        None        None                None             None  ...   \n",
            "14        None        None                None             None  ...   \n",
            "15        None        None                None             None  ...   \n",
            "16        None        None                None             None  ...   \n",
            "17        None        None                None             None  ...   \n",
            "18        None        None                None             None  ...   \n",
            "19        None        None                None             None  ...   \n",
            "20        None        None                None             None  ...   \n",
            "21        None        None                None             None  ...   \n",
            "22        None        None                None             None  ...   \n",
            "23        None        None                None             None  ...   \n",
            "24        None        None                None             None  ...   \n",
            "25        None        None                None             None  ...   \n",
            "26        None        None                None             None  ...   \n",
            "27        None        None                None             None  ...   \n",
            "28        None        None                None             None  ...   \n",
            "29        None        None                None             None  ...   \n",
            "\n",
            "   movingterm min_months max_months movingtimeline             musthaves  \\\n",
            "0        None       None       None           None                  high   \n",
            "1        None       None       None           None       parking options   \n",
            "2        None       None       None           None        public transit   \n",
            "3        None       None       None           None              flexible   \n",
            "4        None       None       None           None               private   \n",
            "5        None       None       None           None         natural light   \n",
            "6        None       None       None           None         high ceilings   \n",
            "7        None       None       None           None         natural light   \n",
            "8        None       None       None           None           easy access   \n",
            "9        None       None       None           None         natural light   \n",
            "10       None       None       None           None                   eco   \n",
            "11       None       None       None           None         natural light   \n",
            "12       None       None       None           None      hospital - grade   \n",
            "13       None       None       None           None                  None   \n",
            "14       None       None       None           None       street frontage   \n",
            "15       None       None       None           None                  hvac   \n",
            "16       None       None       None           None    building amenities   \n",
            "17       None       None       None           None                  high   \n",
            "18       None       None       None           None         natural light   \n",
            "19       None       None       None           None              flexible   \n",
            "20       None       None       None           None                   ada   \n",
            "21       None       None       None           None          foot traffic   \n",
            "22       None       None       None           None  community engagement   \n",
            "23       None       None       None           None         natural light   \n",
            "24       None       None       None           None              reliable   \n",
            "25       None       None       None           None         tech upgrades   \n",
            "26       None       None       None           None         natural light   \n",
            "27       None       None       None           None           open layout   \n",
            "28       None       None       None           None                  open   \n",
            "29       None       None       None           None              creative   \n",
            "\n",
            "   nicetohaves painpoint urgencyscore outcome personality  \n",
            "0         None      None            4    None        None  \n",
            "1         None      None           45    None        None  \n",
            "2         None      None           01    None        None  \n",
            "3         None      None           45    None        None  \n",
            "4         None      None           40    None        None  \n",
            "5         None      None         None    None        None  \n",
            "6         None      None           45    None        None  \n",
            "7         None      None            8    None        None  \n",
            "8         None      None           28    None        None  \n",
            "9         None      None           98    None        None  \n",
            "10        None      None          500    None        None  \n",
            "11        None      None            4    None        None  \n",
            "12        None      None           74    None        None  \n",
            "13        None      None           70    None        None  \n",
            "14        None      None           35    None        None  \n",
            "15        None      None            8    None        None  \n",
            "16        None      None            5    None        None  \n",
            "17        None      None            8    None        None  \n",
            "18        None      None         None    None        None  \n",
            "19        None      None            5    None        None  \n",
            "20        None      None            4    None        None  \n",
            "21        None      None          800    None        None  \n",
            "22        None      None         None    None        None  \n",
            "23        None      None           65    None        None  \n",
            "24        None      None          500    None        None  \n",
            "25        None      None           65    None        None  \n",
            "26        None      None          500    None        None  \n",
            "27        None      None           60    None        None  \n",
            "28        None      None           45    None        None  \n",
            "29        None      None          200    None        None  \n",
            "\n",
            "[30 rows x 27 columns]\n",
            "Structured Field-Level Metrics: {'firstname_precision': 1.0, 'firstname_recall': 1.0, 'firstname_f1': 1.0, 'lastname_precision': 1.0, 'lastname_recall': 1.0, 'lastname_f1': 1.0, 'companyname_precision': 1.0, 'companyname_recall': 1.0, 'companyname_f1': 1.0, 'industry_precision': 1.0, 'industry_recall': 1.0, 'industry_f1': 1.0, 'propertytype_precision': 1.0, 'propertytype_recall': 1.0, 'propertytype_f1': 1.0, 'preferredneighborhood_precision': 1.0, 'preferredneighborhood_recall': 1.0, 'preferredneighborhood_f1': 1.0, 'musthaves_precision': 1.0, 'musthaves_recall': 1.0, 'musthaves_f1': 1.0, 'urgencyscore_precision': 1.0, 'urgencyscore_recall': 1.0, 'urgencyscore_f1': 1.0, 'macro_precision': np.float64(1.0), 'macro_recall': np.float64(1.0), 'macro_f1': np.float64(1.0)}\n",
            "Predictions saved to: /content/drive/MyDrive/distilbert_outputs/eager-sweep-8_predictions.json\n"
          ]
        },
        {
          "output_type": "display_data",
          "data": {
            "text/plain": [
              "<IPython.core.display.HTML object>"
            ],
            "text/html": []
          },
          "metadata": {}
        },
        {
          "output_type": "display_data",
          "data": {
            "text/plain": [
              "<IPython.core.display.HTML object>"
            ],
            "text/html": [
              "<br>    <style><br>        .wandb-row {<br>            display: flex;<br>            flex-direction: row;<br>            flex-wrap: wrap;<br>            justify-content: flex-start;<br>            width: 100%;<br>        }<br>        .wandb-col {<br>            display: flex;<br>            flex-direction: column;<br>            flex-basis: 100%;<br>            flex: 1;<br>            padding: 10px;<br>        }<br>    </style><br><div class=\"wandb-row\"><div class=\"wandb-col\"><h3>Run history:</h3><br/><table class=\"wandb\"><tr><td>eval/f1</td><td>▁▁▁▃▇▆▇▇▇▇▇█</td></tr><tr><td>eval/loss</td><td>█▄▃▃▂▂▁▁▁▁▁▁</td></tr><tr><td>eval/precision</td><td>▁██▂▃▃▃▃▃▃▃▃</td></tr><tr><td>eval/recall</td><td>▁▁▁▂▆▆▇▇▇▇▇█</td></tr><tr><td>eval/runtime</td><td>▁▁▁▁▂▁▁▁▂▂█▂</td></tr><tr><td>eval/samples_per_second</td><td>▇███▇▇█▇▇▇▁▇</td></tr><tr><td>eval/steps_per_second</td><td>▇███▇▇█▇▇▇▁▇</td></tr><tr><td>test/f1</td><td>▁</td></tr><tr><td>test/loss</td><td>▁</td></tr><tr><td>test/precision</td><td>▁</td></tr><tr><td>test/recall</td><td>▁</td></tr><tr><td>test/runtime</td><td>▁</td></tr><tr><td>test/samples_per_second</td><td>▁</td></tr><tr><td>test/steps_per_second</td><td>▁</td></tr><tr><td>test_companyname_f1</td><td>▁</td></tr><tr><td>test_companyname_precision</td><td>▁</td></tr><tr><td>test_companyname_recall</td><td>▁</td></tr><tr><td>test_firstname_f1</td><td>▁</td></tr><tr><td>test_firstname_precision</td><td>▁</td></tr><tr><td>test_firstname_recall</td><td>▁</td></tr><tr><td>test_industry_f1</td><td>▁</td></tr><tr><td>test_industry_precision</td><td>▁</td></tr><tr><td>test_industry_recall</td><td>▁</td></tr><tr><td>test_lastname_f1</td><td>▁</td></tr><tr><td>test_lastname_precision</td><td>▁</td></tr><tr><td>test_lastname_recall</td><td>▁</td></tr><tr><td>test_macro_f1</td><td>▁</td></tr><tr><td>test_macro_precision</td><td>▁</td></tr><tr><td>test_macro_recall</td><td>▁</td></tr><tr><td>test_musthaves_f1</td><td>▁</td></tr><tr><td>test_musthaves_precision</td><td>▁</td></tr><tr><td>test_musthaves_recall</td><td>▁</td></tr><tr><td>test_preferredneighborhood_f1</td><td>▁</td></tr><tr><td>test_preferredneighborhood_precision</td><td>▁</td></tr><tr><td>test_preferredneighborhood_recall</td><td>▁</td></tr><tr><td>test_propertytype_f1</td><td>▁</td></tr><tr><td>test_propertytype_precision</td><td>▁</td></tr><tr><td>test_propertytype_recall</td><td>▁</td></tr><tr><td>test_urgencyscore_f1</td><td>▁</td></tr><tr><td>test_urgencyscore_precision</td><td>▁</td></tr><tr><td>test_urgencyscore_recall</td><td>▁</td></tr><tr><td>train/epoch</td><td>▁▁▂▂▃▃▃▃▄▄▅▅▆▆▆▆▇▇█████</td></tr><tr><td>train/global_step</td><td>▁▁▂▂▃▃▃▃▄▄▅▅▆▆▆▆▇▇████████</td></tr><tr><td>train/grad_norm</td><td>█▃▂▁▁▁▂▂▁▁</td></tr><tr><td>train/learning_rate</td><td>▇█▇▆▅▅▄▃▂▁</td></tr><tr><td>train/loss</td><td>█▅▃▃▂▂▁▁▁▁</td></tr></table><br/></div><div class=\"wandb-col\"><h3>Run summary:</h3><br/><table class=\"wandb\"><tr><td>eval/f1</td><td>0.42415</td></tr><tr><td>eval/loss</td><td>0.56295</td></tr><tr><td>eval/precision</td><td>0.30508</td></tr><tr><td>eval/recall</td><td>0.69565</td></tr><tr><td>eval/runtime</td><td>0.1834</td></tr><tr><td>eval/samples_per_second</td><td>163.559</td></tr><tr><td>eval/steps_per_second</td><td>10.904</td></tr><tr><td>test/f1</td><td>0.42415</td></tr><tr><td>test/loss</td><td>0.56295</td></tr><tr><td>test/precision</td><td>0.30508</td></tr><tr><td>test/recall</td><td>0.69565</td></tr><tr><td>test/runtime</td><td>0.1797</td></tr><tr><td>test/samples_per_second</td><td>166.903</td></tr><tr><td>test/steps_per_second</td><td>11.127</td></tr><tr><td>test_companyname_f1</td><td>1</td></tr><tr><td>test_companyname_precision</td><td>1</td></tr><tr><td>test_companyname_recall</td><td>1</td></tr><tr><td>test_firstname_f1</td><td>1</td></tr><tr><td>test_firstname_precision</td><td>1</td></tr><tr><td>test_firstname_recall</td><td>1</td></tr><tr><td>test_industry_f1</td><td>1</td></tr><tr><td>test_industry_precision</td><td>1</td></tr><tr><td>test_industry_recall</td><td>1</td></tr><tr><td>test_lastname_f1</td><td>1</td></tr><tr><td>test_lastname_precision</td><td>1</td></tr><tr><td>test_lastname_recall</td><td>1</td></tr><tr><td>test_macro_f1</td><td>1</td></tr><tr><td>test_macro_precision</td><td>1</td></tr><tr><td>test_macro_recall</td><td>1</td></tr><tr><td>test_musthaves_f1</td><td>1</td></tr><tr><td>test_musthaves_precision</td><td>1</td></tr><tr><td>test_musthaves_recall</td><td>1</td></tr><tr><td>test_preferredneighborhood_f1</td><td>1</td></tr><tr><td>test_preferredneighborhood_precision</td><td>1</td></tr><tr><td>test_preferredneighborhood_recall</td><td>1</td></tr><tr><td>test_propertytype_f1</td><td>1</td></tr><tr><td>test_propertytype_precision</td><td>1</td></tr><tr><td>test_propertytype_recall</td><td>1</td></tr><tr><td>test_urgencyscore_f1</td><td>1</td></tr><tr><td>test_urgencyscore_precision</td><td>1</td></tr><tr><td>test_urgencyscore_recall</td><td>1</td></tr><tr><td>total_flos</td><td>183089627750400.0</td></tr><tr><td>train/epoch</td><td>10</td></tr><tr><td>train/global_step</td><td>90</td></tr><tr><td>train/grad_norm</td><td>1.36359</td></tr><tr><td>train/learning_rate</td><td>0.0</td></tr><tr><td>train/loss</td><td>0.5945</td></tr><tr><td>train_loss</td><td>1.40718</td></tr><tr><td>train_runtime</td><td>43.1432</td></tr><tr><td>train_samples_per_second</td><td>32.45</td></tr><tr><td>train_steps_per_second</td><td>2.086</td></tr></table><br/></div></div>"
            ]
          },
          "metadata": {}
        },
        {
          "output_type": "display_data",
          "data": {
            "text/plain": [
              "<IPython.core.display.HTML object>"
            ],
            "text/html": [
              " View run <strong style=\"color:#cdcd00\">eager-sweep-8</strong> at: <a href='https://wandb.ai/lidianeh-none/distilbert-final/runs/n1p80o5x' target=\"_blank\">https://wandb.ai/lidianeh-none/distilbert-final/runs/n1p80o5x</a><br> View project at: <a href='https://wandb.ai/lidianeh-none/distilbert-final' target=\"_blank\">https://wandb.ai/lidianeh-none/distilbert-final</a><br>Synced 5 W&B file(s), 1 media file(s), 2 artifact file(s) and 0 other file(s)"
            ]
          },
          "metadata": {}
        },
        {
          "output_type": "display_data",
          "data": {
            "text/plain": [
              "<IPython.core.display.HTML object>"
            ],
            "text/html": [
              "Find logs at: <code>./wandb/run-20250509_170430-n1p80o5x/logs</code>"
            ]
          },
          "metadata": {}
        },
        {
          "output_type": "stream",
          "name": "stderr",
          "text": [
            "\u001b[34m\u001b[1mwandb\u001b[0m: Agent Starting Run: 0xs4aya7 with config:\n",
            "\u001b[34m\u001b[1mwandb\u001b[0m: \tadam_epsilon: 1e-08\n",
            "\u001b[34m\u001b[1mwandb\u001b[0m: \tlearning_rate: 3.73733386548396e-05\n",
            "\u001b[34m\u001b[1mwandb\u001b[0m: \tnum_train_epochs: 6\n",
            "\u001b[34m\u001b[1mwandb\u001b[0m: \tper_device_train_batch_size: 8\n",
            "\u001b[34m\u001b[1mwandb\u001b[0m: \tseed: 2024\n",
            "\u001b[34m\u001b[1mwandb\u001b[0m: \twarmup_ratio: 0.1979512776258529\n",
            "\u001b[34m\u001b[1mwandb\u001b[0m: \tweight_decay: 0.17452599929951376\n"
          ]
        },
        {
          "output_type": "display_data",
          "data": {
            "text/plain": [
              "<IPython.core.display.HTML object>"
            ],
            "text/html": [
              "Tracking run with wandb version 0.19.10"
            ]
          },
          "metadata": {}
        },
        {
          "output_type": "display_data",
          "data": {
            "text/plain": [
              "<IPython.core.display.HTML object>"
            ],
            "text/html": [
              "Run data is saved locally in <code>/content/wandb/run-20250509_170526-0xs4aya7</code>"
            ]
          },
          "metadata": {}
        },
        {
          "output_type": "display_data",
          "data": {
            "text/plain": [
              "<IPython.core.display.HTML object>"
            ],
            "text/html": [
              "Syncing run <strong><a href='https://wandb.ai/lidianeh-none/distilbert-final/runs/0xs4aya7' target=\"_blank\">rosy-sweep-9</a></strong> to <a href='https://wandb.ai/lidianeh-none/distilbert-final' target=\"_blank\">Weights & Biases</a> (<a href='https://wandb.me/developer-guide' target=\"_blank\">docs</a>)<br>Sweep page: <a href='https://wandb.ai/lidianeh-none/distilbert-final/sweeps/6yae4880' target=\"_blank\">https://wandb.ai/lidianeh-none/distilbert-final/sweeps/6yae4880</a>"
            ]
          },
          "metadata": {}
        },
        {
          "output_type": "display_data",
          "data": {
            "text/plain": [
              "<IPython.core.display.HTML object>"
            ],
            "text/html": [
              " View project at <a href='https://wandb.ai/lidianeh-none/distilbert-final' target=\"_blank\">https://wandb.ai/lidianeh-none/distilbert-final</a>"
            ]
          },
          "metadata": {}
        },
        {
          "output_type": "display_data",
          "data": {
            "text/plain": [
              "<IPython.core.display.HTML object>"
            ],
            "text/html": [
              " View sweep at <a href='https://wandb.ai/lidianeh-none/distilbert-final/sweeps/6yae4880' target=\"_blank\">https://wandb.ai/lidianeh-none/distilbert-final/sweeps/6yae4880</a>"
            ]
          },
          "metadata": {}
        },
        {
          "output_type": "display_data",
          "data": {
            "text/plain": [
              "<IPython.core.display.HTML object>"
            ],
            "text/html": [
              " View run at <a href='https://wandb.ai/lidianeh-none/distilbert-final/runs/0xs4aya7' target=\"_blank\">https://wandb.ai/lidianeh-none/distilbert-final/runs/0xs4aya7</a>"
            ]
          },
          "metadata": {}
        },
        {
          "output_type": "stream",
          "name": "stderr",
          "text": [
            "Some weights of WeightedDistilBertForTokenClassification were not initialized from the model checkpoint at distilbert-base-uncased and are newly initialized: ['classifier.bias', 'classifier.weight']\n",
            "You should probably TRAIN this model on a down-stream task to be able to use it for predictions and inference.\n",
            "<ipython-input-19-362b024c7306>:57: FutureWarning: `tokenizer` is deprecated and will be removed in version 5.0.0 for `Trainer.__init__`. Use `processing_class` instead.\n",
            "  trainer = Trainer(\n",
            "\u001b[34m\u001b[1mwandb\u001b[0m: \u001b[33mWARNING\u001b[0m Config item 'per_device_train_batch_size' was locked by 'sweep' (ignored update).\n",
            "\u001b[34m\u001b[1mwandb\u001b[0m: \u001b[33mWARNING\u001b[0m Config item 'learning_rate' was locked by 'sweep' (ignored update).\n",
            "\u001b[34m\u001b[1mwandb\u001b[0m: \u001b[33mWARNING\u001b[0m Config item 'weight_decay' was locked by 'sweep' (ignored update).\n",
            "\u001b[34m\u001b[1mwandb\u001b[0m: \u001b[33mWARNING\u001b[0m Config item 'adam_epsilon' was locked by 'sweep' (ignored update).\n",
            "\u001b[34m\u001b[1mwandb\u001b[0m: \u001b[33mWARNING\u001b[0m Config item 'num_train_epochs' was locked by 'sweep' (ignored update).\n",
            "\u001b[34m\u001b[1mwandb\u001b[0m: \u001b[33mWARNING\u001b[0m Config item 'warmup_ratio' was locked by 'sweep' (ignored update).\n",
            "\u001b[34m\u001b[1mwandb\u001b[0m: \u001b[33mWARNING\u001b[0m Config item 'seed' was locked by 'sweep' (ignored update).\n"
          ]
        },
        {
          "output_type": "display_data",
          "data": {
            "text/plain": [
              "<IPython.core.display.HTML object>"
            ],
            "text/html": [
              "\n",
              "    <div>\n",
              "      \n",
              "      <progress value='108' max='108' style='width:300px; height:20px; vertical-align: middle;'></progress>\n",
              "      [108/108 00:23, Epoch 6/6]\n",
              "    </div>\n",
              "    <table border=\"1\" class=\"dataframe\">\n",
              "  <thead>\n",
              " <tr style=\"text-align: left;\">\n",
              "      <th>Epoch</th>\n",
              "      <th>Training Loss</th>\n",
              "      <th>Validation Loss</th>\n",
              "      <th>Precision</th>\n",
              "      <th>Recall</th>\n",
              "      <th>F1</th>\n",
              "    </tr>\n",
              "  </thead>\n",
              "  <tbody>\n",
              "    <tr>\n",
              "      <td>1</td>\n",
              "      <td>3.428100</td>\n",
              "      <td>1.980274</td>\n",
              "      <td>1.000000</td>\n",
              "      <td>0.000000</td>\n",
              "      <td>0.000000</td>\n",
              "    </tr>\n",
              "    <tr>\n",
              "      <td>2</td>\n",
              "      <td>1.527900</td>\n",
              "      <td>1.137235</td>\n",
              "      <td>0.200000</td>\n",
              "      <td>0.061674</td>\n",
              "      <td>0.094276</td>\n",
              "    </tr>\n",
              "    <tr>\n",
              "      <td>3</td>\n",
              "      <td>0.939000</td>\n",
              "      <td>0.756390</td>\n",
              "      <td>0.213689</td>\n",
              "      <td>0.563877</td>\n",
              "      <td>0.309927</td>\n",
              "    </tr>\n",
              "    <tr>\n",
              "      <td>4</td>\n",
              "      <td>0.657600</td>\n",
              "      <td>0.595784</td>\n",
              "      <td>0.199719</td>\n",
              "      <td>0.625551</td>\n",
              "      <td>0.302772</td>\n",
              "    </tr>\n",
              "    <tr>\n",
              "      <td>5</td>\n",
              "      <td>0.527400</td>\n",
              "      <td>0.529695</td>\n",
              "      <td>0.209141</td>\n",
              "      <td>0.665198</td>\n",
              "      <td>0.318230</td>\n",
              "    </tr>\n",
              "    <tr>\n",
              "      <td>6</td>\n",
              "      <td>0.455900</td>\n",
              "      <td>0.512717</td>\n",
              "      <td>0.254098</td>\n",
              "      <td>0.682819</td>\n",
              "      <td>0.370370</td>\n",
              "    </tr>\n",
              "  </tbody>\n",
              "</table><p>"
            ]
          },
          "metadata": {}
        },
        {
          "output_type": "display_data",
          "data": {
            "text/plain": [
              "<IPython.core.display.HTML object>"
            ],
            "text/html": []
          },
          "metadata": {}
        },
        {
          "output_type": "stream",
          "name": "stdout",
          "text": [
            "{'eval_loss': 0.4335229992866516, 'eval_precision': 0.27175843694493784, 'eval_recall': 0.7391304347826086, 'eval_f1': 0.3974025974025973, 'eval_runtime': 0.1886, 'eval_samples_per_second': 159.101, 'eval_steps_per_second': 21.213, 'epoch': 6.0}\n"
          ]
        },
        {
          "output_type": "stream",
          "name": "stderr",
          "text": [
            "/usr/local/lib/python3.11/dist-packages/seqeval/metrics/v1.py:57: UndefinedMetricWarning: Precision and F-score are ill-defined and being set to 0.0 in labels with no predicted samples. Use `zero_division` parameter to control this behavior.\n",
            "  _warn_prf(average, modifier, msg_start, len(result))\n",
            "/usr/local/lib/python3.11/dist-packages/seqeval/metrics/v1.py:57: UndefinedMetricWarning: Recall and F-score are ill-defined and being set to 0.0 in labels with no true samples. Use `zero_division` parameter to control this behavior.\n",
            "  _warn_prf(average, modifier, msg_start, len(result))\n"
          ]
        },
        {
          "output_type": "stream",
          "name": "stdout",
          "text": [
            "                       precision    recall  f1-score   support\n",
            "\n",
            "          CompanyName       0.36      0.67      0.47        27\n",
            "  CurrentNeighborhood       0.00      0.00      0.00         1\n",
            "    DecisionMakerRole       0.00      0.00      0.00         6\n",
            "            FirstName       0.46      0.93      0.62        30\n",
            "             Industry       0.38      0.42      0.40        12\n",
            "             LastName       0.35      0.88      0.50         8\n",
            "            MustHaves       0.22      0.86      0.35        50\n",
            "          NiceToHaves       0.00      0.00      0.00        10\n",
            "            PainPoint       0.00      0.00      0.00         1\n",
            "   PreferredLeaseTerm       0.12      0.33      0.18         3\n",
            "PreferredNeighborhood       0.67      0.92      0.77        13\n",
            "         PropertyType       0.56      0.92      0.70        26\n",
            "            SpaceSize       0.00      0.00      0.00         0\n",
            "         UrgencyScore       0.11      0.75      0.20        20\n",
            "\n",
            "            micro avg       0.27      0.74      0.40       207\n",
            "            macro avg       0.23      0.48      0.30       207\n",
            "         weighted avg       0.33      0.74      0.44       207\n",
            "\n",
            "   firstname lastname email phone              companyname    industry  \\\n",
            "0       luke     None  None  None              urban lease        None   \n",
            "1    michael   conrad  None  None               urban hype        None   \n",
            "2     daniel     None  None  None                 medivibe        None   \n",
            "3       liam     None  None  None       future innovations        None   \n",
            "4      jamie    novak  None  None           heritage legal        None   \n",
            "5       liam   carter  None  None                   altura        None   \n",
            "6    michael      kim  None  None             urban legacy  facilities   \n",
            "7    rebecca     None  None  None             tenantsource        None   \n",
            "8     amelia    klein  None  None             urban retail        None   \n",
            "9       alex     None  None  None     greenview consulting   nonprofit   \n",
            "10      lena    mills  None  None               bridgeview        None   \n",
            "11      reed    miles  None  None                urbancore        None   \n",
            "12      liam     None  None  None              healthacces        None   \n",
            "13    samuel      lee  None  None              urban vista        None   \n",
            "14    evelyn      lee  None  None     cityscape commercial    outreach   \n",
            "15     ethan   monroe  None  None                 crescent        None   \n",
            "16   michael    cohen  None  None               urban wave   nonprofit   \n",
            "17      liam  collins  None  None             urban realms       legal   \n",
            "18      liam    grant  None  None            city cultural   nonprofit   \n",
            "19     ethan   morgan  None  None  bright future nonprofit        None   \n",
            "20      eric    blake  None  None                urbanedge        None   \n",
            "21      alex   morris  None  None           crescent legal  facilities   \n",
            "22      None   foster  None  None             new horizons        None   \n",
            "23      liam     None  None  None                 urbanarc        None   \n",
            "24    evelyn     None  None  None                   summit        None   \n",
            "25      alex     None  None  None                     None        None   \n",
            "26    jordan   parker  None  None              careconnect  facilities   \n",
            "27      nina    blake  None  None      prestige properties  healthcare   \n",
            "28      mark     None  None  None       urban creative lab        None   \n",
            "29      jane  daniels  None  None       premier properties    creative   \n",
            "\n",
            "   companysize growthstage currentneighborhood firstinteraction  ...  \\\n",
            "0         None        None                None             None  ...   \n",
            "1         None        None                None             None  ...   \n",
            "2         None        None                None             None  ...   \n",
            "3         None        None                None             None  ...   \n",
            "4         None        None                None             None  ...   \n",
            "5         None        None                None             None  ...   \n",
            "6         None        None                None             None  ...   \n",
            "7         None        None                None             None  ...   \n",
            "8         None        None                None             None  ...   \n",
            "9         None        None                None             None  ...   \n",
            "10        None        None                None             None  ...   \n",
            "11        None        None                None             None  ...   \n",
            "12        None        None                None             None  ...   \n",
            "13        None        None                None             None  ...   \n",
            "14        None        None                None             None  ...   \n",
            "15        None        None                None             None  ...   \n",
            "16        None        None                None             None  ...   \n",
            "17        None        None                None             None  ...   \n",
            "18        None        None                None             None  ...   \n",
            "19        None        None                None             None  ...   \n",
            "20        None        None                None             None  ...   \n",
            "21        None        None                None             None  ...   \n",
            "22        None        None                None             None  ...   \n",
            "23        None        None                None             None  ...   \n",
            "24        None        None                None             None  ...   \n",
            "25        None        None                None             None  ...   \n",
            "26        None        None                None             None  ...   \n",
            "27        None        None                None             None  ...   \n",
            "28        None        None                None             None  ...   \n",
            "29        None        None                None             None  ...   \n",
            "\n",
            "   movingterm min_months max_months movingtimeline             musthaves  \\\n",
            "0        None       None       None           None                  hvac   \n",
            "1        None       None       None           None               parking   \n",
            "2        None       None       None           None        public transit   \n",
            "3        None       None       None           None       private offices   \n",
            "4        None       None       None           None              internet   \n",
            "5        None       None       None           None                  good   \n",
            "6        None       None       None           None         high ceilings   \n",
            "7        None       None       None           None         natural light   \n",
            "8        None       None       None           None              outreach   \n",
            "9        None       None       None           None         natural light   \n",
            "10       None       None       None           None                   eco   \n",
            "11       None       None       None           None         natural light   \n",
            "12       None       None       None           None      hospital - grade   \n",
            "13       None       None       None           None                  None   \n",
            "14       None       None       None           None       street frontage   \n",
            "15       None       None       None           None                  hvac   \n",
            "16       None       None       None           None    building amenities   \n",
            "17       None       None       None           None    transportation hub   \n",
            "18       None       None       None           None         natural light   \n",
            "19       None       None       None           None         natural light   \n",
            "20       None       None       None           None         ada compliant   \n",
            "21       None       None       None           None          foot traffic   \n",
            "22       None       None       None           None  community engagement   \n",
            "23       None       None       None           None         natural light   \n",
            "24       None       None       None           None              reliable   \n",
            "25       None       None       None           None         tech upgrades   \n",
            "26       None       None       None           None         natural light   \n",
            "27       None       None       None           None           open layout   \n",
            "28       None       None       None           None         high ceilings   \n",
            "29       None       None       None           None               gallery   \n",
            "\n",
            "   nicetohaves painpoint urgencyscore outcome personality  \n",
            "0         None      None            4    None        None  \n",
            "1         None      None            3    None        None  \n",
            "2         None      None          555    None        None  \n",
            "3         None      None            4    None        None  \n",
            "4         None      None           40    None        None  \n",
            "5         None      None            3    None        None  \n",
            "6         None      None            4    None        None  \n",
            "7         None      None            3    None        None  \n",
            "8         None      None           28    None        None  \n",
            "9         None      None           98    None        None  \n",
            "10        None      None           45    None        None  \n",
            "11        None      None            4    None        None  \n",
            "12        None      None          555    None        None  \n",
            "13        None      None            4    None        None  \n",
            "14        None      None            2    None        None  \n",
            "15        None      None            8    None        None  \n",
            "16        None      None           40    None        None  \n",
            "17        None      None            8    None        None  \n",
            "18        None      None           30    None        None  \n",
            "19        None      None           35    None        None  \n",
            "20        None      None            4    None        None  \n",
            "21        None      None            4    None        None  \n",
            "22        None      None           01    None        None  \n",
            "23        None      None            6    None        None  \n",
            "24        None      None          500    None        None  \n",
            "25        None      None           34    None        None  \n",
            "26        None      None          500    None        None  \n",
            "27        None      None            4    None        None  \n",
            "28        None      None           45    None        None  \n",
            "29        None      None          200    None        None  \n",
            "\n",
            "[30 rows x 27 columns]\n",
            "Structured Field-Level Metrics: {'firstname_precision': 1.0, 'firstname_recall': 1.0, 'firstname_f1': 1.0, 'lastname_precision': 1.0, 'lastname_recall': 1.0, 'lastname_f1': 1.0, 'companyname_precision': 1.0, 'companyname_recall': 1.0, 'companyname_f1': 1.0, 'industry_precision': 1.0, 'industry_recall': 1.0, 'industry_f1': 1.0, 'propertytype_precision': 1.0, 'propertytype_recall': 1.0, 'propertytype_f1': 1.0, 'preferredneighborhood_precision': 1.0, 'preferredneighborhood_recall': 1.0, 'preferredneighborhood_f1': 1.0, 'preferredleaseterm_precision': 1.0, 'preferredleaseterm_recall': 1.0, 'preferredleaseterm_f1': 1.0, 'musthaves_precision': 1.0, 'musthaves_recall': 1.0, 'musthaves_f1': 1.0, 'urgencyscore_precision': 1.0, 'urgencyscore_recall': 1.0, 'urgencyscore_f1': 1.0, 'macro_precision': np.float64(1.0), 'macro_recall': np.float64(1.0), 'macro_f1': np.float64(1.0)}\n",
            "Predictions saved to: /content/drive/MyDrive/distilbert_outputs/rosy-sweep-9_predictions.json\n"
          ]
        },
        {
          "output_type": "display_data",
          "data": {
            "text/plain": [
              "<IPython.core.display.HTML object>"
            ],
            "text/html": []
          },
          "metadata": {}
        },
        {
          "output_type": "display_data",
          "data": {
            "text/plain": [
              "<IPython.core.display.HTML object>"
            ],
            "text/html": [
              "<br>    <style><br>        .wandb-row {<br>            display: flex;<br>            flex-direction: row;<br>            flex-wrap: wrap;<br>            justify-content: flex-start;<br>            width: 100%;<br>        }<br>        .wandb-col {<br>            display: flex;<br>            flex-direction: column;<br>            flex-basis: 100%;<br>            flex: 1;<br>            padding: 10px;<br>        }<br>    </style><br><div class=\"wandb-row\"><div class=\"wandb-col\"><h3>Run history:</h3><br/><table class=\"wandb\"><tr><td>eval/f1</td><td>▁▃▆▆▇███</td></tr><tr><td>eval/loss</td><td>█▄▂▂▁▁▁▁</td></tr><tr><td>eval/precision</td><td>█▁▁▁▁▁▁▂</td></tr><tr><td>eval/recall</td><td>▁▂▆▇▇▇▇█</td></tr><tr><td>eval/runtime</td><td>▁▁▂▂▁▂█▁</td></tr><tr><td>eval/samples_per_second</td><td>██▇▇█▇▁█</td></tr><tr><td>eval/steps_per_second</td><td>██▇▇█▇▁█</td></tr><tr><td>test/f1</td><td>▁</td></tr><tr><td>test/loss</td><td>▁</td></tr><tr><td>test/precision</td><td>▁</td></tr><tr><td>test/recall</td><td>▁</td></tr><tr><td>test/runtime</td><td>▁</td></tr><tr><td>test/samples_per_second</td><td>▁</td></tr><tr><td>test/steps_per_second</td><td>▁</td></tr><tr><td>test_companyname_f1</td><td>▁</td></tr><tr><td>test_companyname_precision</td><td>▁</td></tr><tr><td>test_companyname_recall</td><td>▁</td></tr><tr><td>test_firstname_f1</td><td>▁</td></tr><tr><td>test_firstname_precision</td><td>▁</td></tr><tr><td>test_firstname_recall</td><td>▁</td></tr><tr><td>test_industry_f1</td><td>▁</td></tr><tr><td>test_industry_precision</td><td>▁</td></tr><tr><td>test_industry_recall</td><td>▁</td></tr><tr><td>test_lastname_f1</td><td>▁</td></tr><tr><td>test_lastname_precision</td><td>▁</td></tr><tr><td>test_lastname_recall</td><td>▁</td></tr><tr><td>test_macro_f1</td><td>▁</td></tr><tr><td>test_macro_precision</td><td>▁</td></tr><tr><td>test_macro_recall</td><td>▁</td></tr><tr><td>test_musthaves_f1</td><td>▁</td></tr><tr><td>test_musthaves_precision</td><td>▁</td></tr><tr><td>test_musthaves_recall</td><td>▁</td></tr><tr><td>test_preferredleaseterm_f1</td><td>▁</td></tr><tr><td>test_preferredleaseterm_precision</td><td>▁</td></tr><tr><td>test_preferredleaseterm_recall</td><td>▁</td></tr><tr><td>test_preferredneighborhood_f1</td><td>▁</td></tr><tr><td>test_preferredneighborhood_precision</td><td>▁</td></tr><tr><td>test_preferredneighborhood_recall</td><td>▁</td></tr><tr><td>test_propertytype_f1</td><td>▁</td></tr><tr><td>test_propertytype_precision</td><td>▁</td></tr><tr><td>test_propertytype_recall</td><td>▁</td></tr><tr><td>test_urgencyscore_f1</td><td>▁</td></tr><tr><td>test_urgencyscore_precision</td><td>▁</td></tr><tr><td>test_urgencyscore_recall</td><td>▁</td></tr><tr><td>train/epoch</td><td>▁▁▂▂▄▄▅▅▇▇█████</td></tr><tr><td>train/global_step</td><td>▁▁▂▂▄▄▅▅▇▇████████</td></tr><tr><td>train/grad_norm</td><td>█▂▁▄▂▁</td></tr><tr><td>train/learning_rate</td><td>▇█▆▅▃▁</td></tr><tr><td>train/loss</td><td>█▄▂▁▁▁</td></tr></table><br/></div><div class=\"wandb-col\"><h3>Run summary:</h3><br/><table class=\"wandb\"><tr><td>eval/f1</td><td>0.3974</td></tr><tr><td>eval/loss</td><td>0.43352</td></tr><tr><td>eval/precision</td><td>0.27176</td></tr><tr><td>eval/recall</td><td>0.73913</td></tr><tr><td>eval/runtime</td><td>0.1886</td></tr><tr><td>eval/samples_per_second</td><td>159.101</td></tr><tr><td>eval/steps_per_second</td><td>21.213</td></tr><tr><td>test/f1</td><td>0.3974</td></tr><tr><td>test/loss</td><td>0.43352</td></tr><tr><td>test/precision</td><td>0.27176</td></tr><tr><td>test/recall</td><td>0.73913</td></tr><tr><td>test/runtime</td><td>0.1887</td></tr><tr><td>test/samples_per_second</td><td>159.022</td></tr><tr><td>test/steps_per_second</td><td>21.203</td></tr><tr><td>test_companyname_f1</td><td>1</td></tr><tr><td>test_companyname_precision</td><td>1</td></tr><tr><td>test_companyname_recall</td><td>1</td></tr><tr><td>test_firstname_f1</td><td>1</td></tr><tr><td>test_firstname_precision</td><td>1</td></tr><tr><td>test_firstname_recall</td><td>1</td></tr><tr><td>test_industry_f1</td><td>1</td></tr><tr><td>test_industry_precision</td><td>1</td></tr><tr><td>test_industry_recall</td><td>1</td></tr><tr><td>test_lastname_f1</td><td>1</td></tr><tr><td>test_lastname_precision</td><td>1</td></tr><tr><td>test_lastname_recall</td><td>1</td></tr><tr><td>test_macro_f1</td><td>1</td></tr><tr><td>test_macro_precision</td><td>1</td></tr><tr><td>test_macro_recall</td><td>1</td></tr><tr><td>test_musthaves_f1</td><td>1</td></tr><tr><td>test_musthaves_precision</td><td>1</td></tr><tr><td>test_musthaves_recall</td><td>1</td></tr><tr><td>test_preferredleaseterm_f1</td><td>1</td></tr><tr><td>test_preferredleaseterm_precision</td><td>1</td></tr><tr><td>test_preferredleaseterm_recall</td><td>1</td></tr><tr><td>test_preferredneighborhood_f1</td><td>1</td></tr><tr><td>test_preferredneighborhood_precision</td><td>1</td></tr><tr><td>test_preferredneighborhood_recall</td><td>1</td></tr><tr><td>test_propertytype_f1</td><td>1</td></tr><tr><td>test_propertytype_precision</td><td>1</td></tr><tr><td>test_propertytype_recall</td><td>1</td></tr><tr><td>test_urgencyscore_f1</td><td>1</td></tr><tr><td>test_urgencyscore_precision</td><td>1</td></tr><tr><td>test_urgencyscore_recall</td><td>1</td></tr><tr><td>total_flos</td><td>109853776650240.0</td></tr><tr><td>train/epoch</td><td>6</td></tr><tr><td>train/global_step</td><td>108</td></tr><tr><td>train/grad_norm</td><td>1.74053</td></tr><tr><td>train/learning_rate</td><td>0.0</td></tr><tr><td>train/loss</td><td>0.4559</td></tr><tr><td>train_loss</td><td>1.25599</td></tr><tr><td>train_runtime</td><td>23.7172</td></tr><tr><td>train_samples_per_second</td><td>35.417</td></tr><tr><td>train_steps_per_second</td><td>4.554</td></tr></table><br/></div></div>"
            ]
          },
          "metadata": {}
        },
        {
          "output_type": "display_data",
          "data": {
            "text/plain": [
              "<IPython.core.display.HTML object>"
            ],
            "text/html": [
              " View run <strong style=\"color:#cdcd00\">rosy-sweep-9</strong> at: <a href='https://wandb.ai/lidianeh-none/distilbert-final/runs/0xs4aya7' target=\"_blank\">https://wandb.ai/lidianeh-none/distilbert-final/runs/0xs4aya7</a><br> View project at: <a href='https://wandb.ai/lidianeh-none/distilbert-final' target=\"_blank\">https://wandb.ai/lidianeh-none/distilbert-final</a><br>Synced 5 W&B file(s), 1 media file(s), 2 artifact file(s) and 0 other file(s)"
            ]
          },
          "metadata": {}
        },
        {
          "output_type": "display_data",
          "data": {
            "text/plain": [
              "<IPython.core.display.HTML object>"
            ],
            "text/html": [
              "Find logs at: <code>./wandb/run-20250509_170526-0xs4aya7/logs</code>"
            ]
          },
          "metadata": {}
        },
        {
          "output_type": "stream",
          "name": "stderr",
          "text": [
            "\u001b[34m\u001b[1mwandb\u001b[0m: Agent Starting Run: kglsctp6 with config:\n",
            "\u001b[34m\u001b[1mwandb\u001b[0m: \tadam_epsilon: 1e-08\n",
            "\u001b[34m\u001b[1mwandb\u001b[0m: \tlearning_rate: 2.90022867164286e-05\n",
            "\u001b[34m\u001b[1mwandb\u001b[0m: \tnum_train_epochs: 10\n",
            "\u001b[34m\u001b[1mwandb\u001b[0m: \tper_device_train_batch_size: 16\n",
            "\u001b[34m\u001b[1mwandb\u001b[0m: \tseed: 2024\n",
            "\u001b[34m\u001b[1mwandb\u001b[0m: \twarmup_ratio: 0.06740521023032645\n",
            "\u001b[34m\u001b[1mwandb\u001b[0m: \tweight_decay: 0.08554009050599434\n"
          ]
        },
        {
          "output_type": "display_data",
          "data": {
            "text/plain": [
              "<IPython.core.display.HTML object>"
            ],
            "text/html": [
              "Tracking run with wandb version 0.19.10"
            ]
          },
          "metadata": {}
        },
        {
          "output_type": "display_data",
          "data": {
            "text/plain": [
              "<IPython.core.display.HTML object>"
            ],
            "text/html": [
              "Run data is saved locally in <code>/content/wandb/run-20250509_170604-kglsctp6</code>"
            ]
          },
          "metadata": {}
        },
        {
          "output_type": "display_data",
          "data": {
            "text/plain": [
              "<IPython.core.display.HTML object>"
            ],
            "text/html": [
              "Syncing run <strong><a href='https://wandb.ai/lidianeh-none/distilbert-final/runs/kglsctp6' target=\"_blank\">vital-sweep-10</a></strong> to <a href='https://wandb.ai/lidianeh-none/distilbert-final' target=\"_blank\">Weights & Biases</a> (<a href='https://wandb.me/developer-guide' target=\"_blank\">docs</a>)<br>Sweep page: <a href='https://wandb.ai/lidianeh-none/distilbert-final/sweeps/6yae4880' target=\"_blank\">https://wandb.ai/lidianeh-none/distilbert-final/sweeps/6yae4880</a>"
            ]
          },
          "metadata": {}
        },
        {
          "output_type": "display_data",
          "data": {
            "text/plain": [
              "<IPython.core.display.HTML object>"
            ],
            "text/html": [
              " View project at <a href='https://wandb.ai/lidianeh-none/distilbert-final' target=\"_blank\">https://wandb.ai/lidianeh-none/distilbert-final</a>"
            ]
          },
          "metadata": {}
        },
        {
          "output_type": "display_data",
          "data": {
            "text/plain": [
              "<IPython.core.display.HTML object>"
            ],
            "text/html": [
              " View sweep at <a href='https://wandb.ai/lidianeh-none/distilbert-final/sweeps/6yae4880' target=\"_blank\">https://wandb.ai/lidianeh-none/distilbert-final/sweeps/6yae4880</a>"
            ]
          },
          "metadata": {}
        },
        {
          "output_type": "display_data",
          "data": {
            "text/plain": [
              "<IPython.core.display.HTML object>"
            ],
            "text/html": [
              " View run at <a href='https://wandb.ai/lidianeh-none/distilbert-final/runs/kglsctp6' target=\"_blank\">https://wandb.ai/lidianeh-none/distilbert-final/runs/kglsctp6</a>"
            ]
          },
          "metadata": {}
        },
        {
          "output_type": "stream",
          "name": "stderr",
          "text": [
            "Some weights of WeightedDistilBertForTokenClassification were not initialized from the model checkpoint at distilbert-base-uncased and are newly initialized: ['classifier.bias', 'classifier.weight']\n",
            "You should probably TRAIN this model on a down-stream task to be able to use it for predictions and inference.\n",
            "<ipython-input-19-362b024c7306>:57: FutureWarning: `tokenizer` is deprecated and will be removed in version 5.0.0 for `Trainer.__init__`. Use `processing_class` instead.\n",
            "  trainer = Trainer(\n",
            "\u001b[34m\u001b[1mwandb\u001b[0m: \u001b[33mWARNING\u001b[0m Config item 'per_device_train_batch_size' was locked by 'sweep' (ignored update).\n",
            "\u001b[34m\u001b[1mwandb\u001b[0m: \u001b[33mWARNING\u001b[0m Config item 'learning_rate' was locked by 'sweep' (ignored update).\n",
            "\u001b[34m\u001b[1mwandb\u001b[0m: \u001b[33mWARNING\u001b[0m Config item 'weight_decay' was locked by 'sweep' (ignored update).\n",
            "\u001b[34m\u001b[1mwandb\u001b[0m: \u001b[33mWARNING\u001b[0m Config item 'adam_epsilon' was locked by 'sweep' (ignored update).\n",
            "\u001b[34m\u001b[1mwandb\u001b[0m: \u001b[33mWARNING\u001b[0m Config item 'num_train_epochs' was locked by 'sweep' (ignored update).\n",
            "\u001b[34m\u001b[1mwandb\u001b[0m: \u001b[33mWARNING\u001b[0m Config item 'warmup_ratio' was locked by 'sweep' (ignored update).\n",
            "\u001b[34m\u001b[1mwandb\u001b[0m: \u001b[33mWARNING\u001b[0m Config item 'seed' was locked by 'sweep' (ignored update).\n"
          ]
        },
        {
          "output_type": "display_data",
          "data": {
            "text/plain": [
              "<IPython.core.display.HTML object>"
            ],
            "text/html": [
              "\n",
              "    <div>\n",
              "      \n",
              "      <progress value='90' max='90' style='width:300px; height:20px; vertical-align: middle;'></progress>\n",
              "      [90/90 00:39, Epoch 10/10]\n",
              "    </div>\n",
              "    <table border=\"1\" class=\"dataframe\">\n",
              "  <thead>\n",
              " <tr style=\"text-align: left;\">\n",
              "      <th>Epoch</th>\n",
              "      <th>Training Loss</th>\n",
              "      <th>Validation Loss</th>\n",
              "      <th>Precision</th>\n",
              "      <th>Recall</th>\n",
              "      <th>F1</th>\n",
              "    </tr>\n",
              "  </thead>\n",
              "  <tbody>\n",
              "    <tr>\n",
              "      <td>1</td>\n",
              "      <td>3.842000</td>\n",
              "      <td>2.915444</td>\n",
              "      <td>1.000000</td>\n",
              "      <td>0.000000</td>\n",
              "      <td>0.000000</td>\n",
              "    </tr>\n",
              "    <tr>\n",
              "      <td>2</td>\n",
              "      <td>2.114200</td>\n",
              "      <td>1.741963</td>\n",
              "      <td>1.000000</td>\n",
              "      <td>0.000000</td>\n",
              "      <td>0.000000</td>\n",
              "    </tr>\n",
              "    <tr>\n",
              "      <td>3</td>\n",
              "      <td>1.553100</td>\n",
              "      <td>1.384127</td>\n",
              "      <td>0.153846</td>\n",
              "      <td>0.008811</td>\n",
              "      <td>0.016667</td>\n",
              "    </tr>\n",
              "    <tr>\n",
              "      <td>4</td>\n",
              "      <td>1.244800</td>\n",
              "      <td>1.087119</td>\n",
              "      <td>0.291391</td>\n",
              "      <td>0.193833</td>\n",
              "      <td>0.232804</td>\n",
              "    </tr>\n",
              "    <tr>\n",
              "      <td>5</td>\n",
              "      <td>1.000000</td>\n",
              "      <td>0.902282</td>\n",
              "      <td>0.237736</td>\n",
              "      <td>0.555066</td>\n",
              "      <td>0.332893</td>\n",
              "    </tr>\n",
              "    <tr>\n",
              "      <td>6</td>\n",
              "      <td>0.841800</td>\n",
              "      <td>0.782280</td>\n",
              "      <td>0.239714</td>\n",
              "      <td>0.590308</td>\n",
              "      <td>0.340967</td>\n",
              "    </tr>\n",
              "    <tr>\n",
              "      <td>7</td>\n",
              "      <td>0.741900</td>\n",
              "      <td>0.714377</td>\n",
              "      <td>0.234506</td>\n",
              "      <td>0.616740</td>\n",
              "      <td>0.339806</td>\n",
              "    </tr>\n",
              "    <tr>\n",
              "      <td>8</td>\n",
              "      <td>0.670300</td>\n",
              "      <td>0.671170</td>\n",
              "      <td>0.225397</td>\n",
              "      <td>0.625551</td>\n",
              "      <td>0.331389</td>\n",
              "    </tr>\n",
              "    <tr>\n",
              "      <td>9</td>\n",
              "      <td>0.627300</td>\n",
              "      <td>0.642434</td>\n",
              "      <td>0.245645</td>\n",
              "      <td>0.621145</td>\n",
              "      <td>0.352060</td>\n",
              "    </tr>\n",
              "    <tr>\n",
              "      <td>10</td>\n",
              "      <td>0.600600</td>\n",
              "      <td>0.633100</td>\n",
              "      <td>0.254054</td>\n",
              "      <td>0.621145</td>\n",
              "      <td>0.360614</td>\n",
              "    </tr>\n",
              "  </tbody>\n",
              "</table><p>"
            ]
          },
          "metadata": {}
        },
        {
          "output_type": "display_data",
          "data": {
            "text/plain": [
              "<IPython.core.display.HTML object>"
            ],
            "text/html": []
          },
          "metadata": {}
        },
        {
          "output_type": "stream",
          "name": "stdout",
          "text": [
            "{'eval_loss': 0.5611169934272766, 'eval_precision': 0.27920792079207923, 'eval_recall': 0.6811594202898551, 'eval_f1': 0.3960674157303371, 'eval_runtime': 0.1789, 'eval_samples_per_second': 167.729, 'eval_steps_per_second': 11.182, 'epoch': 10.0}\n"
          ]
        },
        {
          "output_type": "stream",
          "name": "stderr",
          "text": [
            "/usr/local/lib/python3.11/dist-packages/seqeval/metrics/v1.py:57: UndefinedMetricWarning: Precision and F-score are ill-defined and being set to 0.0 in labels with no predicted samples. Use `zero_division` parameter to control this behavior.\n",
            "  _warn_prf(average, modifier, msg_start, len(result))\n",
            "/usr/local/lib/python3.11/dist-packages/seqeval/metrics/v1.py:57: UndefinedMetricWarning: Recall and F-score are ill-defined and being set to 0.0 in labels with no true samples. Use `zero_division` parameter to control this behavior.\n",
            "  _warn_prf(average, modifier, msg_start, len(result))\n"
          ]
        },
        {
          "output_type": "stream",
          "name": "stdout",
          "text": [
            "                       precision    recall  f1-score   support\n",
            "\n",
            "          CompanyName       0.43      0.74      0.54        27\n",
            "  CurrentNeighborhood       0.00      0.00      0.00         1\n",
            "    DecisionMakerRole       0.00      0.00      0.00         6\n",
            "            FirstName       0.31      0.93      0.46        30\n",
            "             Industry       0.44      0.33      0.38        12\n",
            "             LastName       0.50      0.25      0.33         8\n",
            "            MustHaves       0.21      0.86      0.34        50\n",
            "          NiceToHaves       0.00      0.00      0.00        10\n",
            "            PainPoint       0.00      0.00      0.00         1\n",
            "   PreferredLeaseTerm       0.00      0.00      0.00         3\n",
            "PreferredNeighborhood       0.63      0.92      0.75        13\n",
            "         PropertyType       0.55      0.92      0.69        26\n",
            "            SpaceSize       0.00      0.00      0.00         0\n",
            "         UrgencyScore       0.11      0.40      0.17        20\n",
            "\n",
            "            micro avg       0.28      0.68      0.40       207\n",
            "            macro avg       0.23      0.38      0.26       207\n",
            "         weighted avg       0.32      0.68      0.40       207\n",
            "\n",
            "   firstname lastname email phone              companyname       industry  \\\n",
            "0       luke     None  None  None              urban lease           None   \n",
            "1    michael     None  None  None               urban hype           None   \n",
            "2     daniel     None  None  None                     None           None   \n",
            "3       liam     None  None  None       future innovations           None   \n",
            "4      jamie     None  None  None           heritage legal           None   \n",
            "5       liam     None  None  None            green horizon           None   \n",
            "6    michael     None  None  None             urban legacy       creative   \n",
            "7    rebecca     None  None  None                     None           None   \n",
            "8     amelia    klein  None  None             urban retail      community   \n",
            "9       alex     None  None  None     greenview consulting      nonprofit   \n",
            "10      lena    mills  None  None               bridgeview           None   \n",
            "11      reed     None  None  None                urbancore           None   \n",
            "12      liam     None  None  None                     None           None   \n",
            "13    samuel     None  None  None              urban vista           None   \n",
            "14    evelyn     None  None  None     cityscape commercial       outreach   \n",
            "15     ethan     None  None  None                 crescent           None   \n",
            "16   michael     None  None  None               urban wave      nonprofit   \n",
            "17      liam     None  None  None             urban realms          legal   \n",
            "18      liam    grant  None  None            city cultural      nonprofit   \n",
            "19     ethan     None  None  None  bright future nonprofit           None   \n",
            "20      eric     None  None  None                urbanedge           None   \n",
            "21      alex   morris  None  None           crescent legal           None   \n",
            "22    foster     None  None  None             new horizons           None   \n",
            "23      liam     None  None  None                 urbanarc           None   \n",
            "24    evelyn     None  None  None                   summit           None   \n",
            "25      alex     None  None  None                     None  organizations   \n",
            "26    jordan     None  None  None                     None           None   \n",
            "27      nina     None  None  None      prestige properties           None   \n",
            "28      mark     None  None  None                     None           None   \n",
            "29      jane     None  None  None       premier properties       creative   \n",
            "\n",
            "   companysize growthstage currentneighborhood firstinteraction  ...  \\\n",
            "0         None        None                None             None  ...   \n",
            "1         None        None                None             None  ...   \n",
            "2         None        None                None             None  ...   \n",
            "3         None        None                None             None  ...   \n",
            "4         None        None                None             None  ...   \n",
            "5         None        None                None             None  ...   \n",
            "6         None        None                None             None  ...   \n",
            "7         None        None                None             None  ...   \n",
            "8         None        None                None             None  ...   \n",
            "9         None        None                None             None  ...   \n",
            "10        None        None                None             None  ...   \n",
            "11        None        None                None             None  ...   \n",
            "12        None        None                None             None  ...   \n",
            "13        None        None                None             None  ...   \n",
            "14        None        None                None             None  ...   \n",
            "15        None        None                None             None  ...   \n",
            "16        None        None                None             None  ...   \n",
            "17        None        None                None             None  ...   \n",
            "18        None        None                None             None  ...   \n",
            "19        None        None                None             None  ...   \n",
            "20        None        None                None             None  ...   \n",
            "21        None        None                None             None  ...   \n",
            "22        None        None                None             None  ...   \n",
            "23        None        None                None             None  ...   \n",
            "24        None        None                None             None  ...   \n",
            "25        None        None                None             None  ...   \n",
            "26        None        None                None             None  ...   \n",
            "27        None        None                None             None  ...   \n",
            "28        None        None                None             None  ...   \n",
            "29        None        None                None             None  ...   \n",
            "\n",
            "   movingterm min_months max_months movingtimeline             musthaves  \\\n",
            "0        None       None       None           None                  high   \n",
            "1        None       None       None           None               parking   \n",
            "2        None       None       None           None        public transit   \n",
            "3        None       None       None           None                  high   \n",
            "4        None       None       None           None               private   \n",
            "5        None       None       None           None         natural light   \n",
            "6        None       None       None           None         high ceilings   \n",
            "7        None       None       None           None         natural light   \n",
            "8        None       None       None           None       display windows   \n",
            "9        None       None       None           None         natural light   \n",
            "10       None       None       None           None                   eco   \n",
            "11       None       None       None           None         natural light   \n",
            "12       None       None       None           None      hospital - grade   \n",
            "13       None       None       None           None                  None   \n",
            "14       None       None       None           None       street frontage   \n",
            "15       None       None       None           None                  hvac   \n",
            "16       None       None       None           None        flexible lease   \n",
            "17       None       None       None           None     premium amenities   \n",
            "18       None       None       None           None         natural light   \n",
            "19       None       None       None           None         natural light   \n",
            "20       None       None       None           None         ada compliant   \n",
            "21       None       None       None           None          foot traffic   \n",
            "22       None       None       None           None  community engagement   \n",
            "23       None       None       None           None         natural light   \n",
            "24       None       None       None           None              reliable   \n",
            "25       None       None       None           None         tech upgrades   \n",
            "26       None       None       None           None     natural light and   \n",
            "27       None       None       None           None           open layout   \n",
            "28       None       None       None           None                  open   \n",
            "29       None       None       None           None               gallery   \n",
            "\n",
            "   nicetohaves painpoint urgencyscore outcome personality  \n",
            "0         None      None            4    None        None  \n",
            "1         None      None            3    None        None  \n",
            "2         None      None         None    None        None  \n",
            "3         None      None          000    None        None  \n",
            "4         None      None            7    None        None  \n",
            "5         None      None            3    None        None  \n",
            "6         None      None           45    None        None  \n",
            "7         None      None            7    None        None  \n",
            "8         None      None           28    None        None  \n",
            "9         None      None         None    None        None  \n",
            "10        None      None          500    None        None  \n",
            "11        None      None            4    None        None  \n",
            "12        None      None           74    None        None  \n",
            "13        None      None            4    None        None  \n",
            "14        None      None          000    None        None  \n",
            "15        None      None            8    None        None  \n",
            "16        None      None            5    None        None  \n",
            "17        None      None            8    None        None  \n",
            "18        None      None          200    None        None  \n",
            "19        None      None            5    None        None  \n",
            "20        None      None            4    None        None  \n",
            "21        None      None          800    None        None  \n",
            "22        None      None         None    None        None  \n",
            "23        None      None           65    None        None  \n",
            "24        None      None          500    None        None  \n",
            "25        None      None           34    None        None  \n",
            "26        None      None          500    None        None  \n",
            "27        None      None           60    None        None  \n",
            "28        None      None          500    None        None  \n",
            "29        None      None          200    None        None  \n",
            "\n",
            "[30 rows x 27 columns]\n",
            "Structured Field-Level Metrics: {'firstname_precision': 1.0, 'firstname_recall': 1.0, 'firstname_f1': 1.0, 'lastname_precision': 1.0, 'lastname_recall': 1.0, 'lastname_f1': 1.0, 'companyname_precision': 1.0, 'companyname_recall': 1.0, 'companyname_f1': 1.0, 'industry_precision': 1.0, 'industry_recall': 1.0, 'industry_f1': 1.0, 'propertytype_precision': 1.0, 'propertytype_recall': 1.0, 'propertytype_f1': 1.0, 'preferredneighborhood_precision': 1.0, 'preferredneighborhood_recall': 1.0, 'preferredneighborhood_f1': 1.0, 'musthaves_precision': 1.0, 'musthaves_recall': 1.0, 'musthaves_f1': 1.0, 'urgencyscore_precision': 1.0, 'urgencyscore_recall': 1.0, 'urgencyscore_f1': 1.0, 'macro_precision': np.float64(1.0), 'macro_recall': np.float64(1.0), 'macro_f1': np.float64(1.0)}\n",
            "Predictions saved to: /content/drive/MyDrive/distilbert_outputs/vital-sweep-10_predictions.json\n"
          ]
        },
        {
          "output_type": "display_data",
          "data": {
            "text/plain": [
              "<IPython.core.display.HTML object>"
            ],
            "text/html": []
          },
          "metadata": {}
        },
        {
          "output_type": "display_data",
          "data": {
            "text/plain": [
              "<IPython.core.display.HTML object>"
            ],
            "text/html": [
              "<br>    <style><br>        .wandb-row {<br>            display: flex;<br>            flex-direction: row;<br>            flex-wrap: wrap;<br>            justify-content: flex-start;<br>            width: 100%;<br>        }<br>        .wandb-col {<br>            display: flex;<br>            flex-direction: column;<br>            flex-basis: 100%;<br>            flex: 1;<br>            padding: 10px;<br>        }<br>    </style><br><div class=\"wandb-row\"><div class=\"wandb-col\"><h3>Run history:</h3><br/><table class=\"wandb\"><tr><td>eval/f1</td><td>▁▁▁▅▇▇▇▇▇▇▇█</td></tr><tr><td>eval/loss</td><td>█▅▃▃▂▂▁▁▁▁▁▁</td></tr><tr><td>eval/precision</td><td>██▁▂▂▂▂▂▂▂▂▂</td></tr><tr><td>eval/recall</td><td>▁▁▁▃▇▇▇▇▇▇▇█</td></tr><tr><td>eval/runtime</td><td>▁▂▁▂▂▃▂▂▂▂█▁</td></tr><tr><td>eval/samples_per_second</td><td>█▇█▇▇▆▇▇▆▇▁█</td></tr><tr><td>eval/steps_per_second</td><td>█▇█▇▇▆▇▇▆▇▁█</td></tr><tr><td>test/f1</td><td>▁</td></tr><tr><td>test/loss</td><td>▁</td></tr><tr><td>test/precision</td><td>▁</td></tr><tr><td>test/recall</td><td>▁</td></tr><tr><td>test/runtime</td><td>▁</td></tr><tr><td>test/samples_per_second</td><td>▁</td></tr><tr><td>test/steps_per_second</td><td>▁</td></tr><tr><td>test_companyname_f1</td><td>▁</td></tr><tr><td>test_companyname_precision</td><td>▁</td></tr><tr><td>test_companyname_recall</td><td>▁</td></tr><tr><td>test_firstname_f1</td><td>▁</td></tr><tr><td>test_firstname_precision</td><td>▁</td></tr><tr><td>test_firstname_recall</td><td>▁</td></tr><tr><td>test_industry_f1</td><td>▁</td></tr><tr><td>test_industry_precision</td><td>▁</td></tr><tr><td>test_industry_recall</td><td>▁</td></tr><tr><td>test_lastname_f1</td><td>▁</td></tr><tr><td>test_lastname_precision</td><td>▁</td></tr><tr><td>test_lastname_recall</td><td>▁</td></tr><tr><td>test_macro_f1</td><td>▁</td></tr><tr><td>test_macro_precision</td><td>▁</td></tr><tr><td>test_macro_recall</td><td>▁</td></tr><tr><td>test_musthaves_f1</td><td>▁</td></tr><tr><td>test_musthaves_precision</td><td>▁</td></tr><tr><td>test_musthaves_recall</td><td>▁</td></tr><tr><td>test_preferredneighborhood_f1</td><td>▁</td></tr><tr><td>test_preferredneighborhood_precision</td><td>▁</td></tr><tr><td>test_preferredneighborhood_recall</td><td>▁</td></tr><tr><td>test_propertytype_f1</td><td>▁</td></tr><tr><td>test_propertytype_precision</td><td>▁</td></tr><tr><td>test_propertytype_recall</td><td>▁</td></tr><tr><td>test_urgencyscore_f1</td><td>▁</td></tr><tr><td>test_urgencyscore_precision</td><td>▁</td></tr><tr><td>test_urgencyscore_recall</td><td>▁</td></tr><tr><td>train/epoch</td><td>▁▁▂▂▃▃▃▃▄▄▅▅▆▆▆▆▇▇█████</td></tr><tr><td>train/global_step</td><td>▁▁▂▂▃▃▃▃▄▄▅▅▆▆▆▆▇▇████████</td></tr><tr><td>train/grad_norm</td><td>█▃▂▁▁▁▂▁▁▁</td></tr><tr><td>train/learning_rate</td><td>█▇▆▆▅▄▃▃▂▁</td></tr><tr><td>train/loss</td><td>█▄▃▂▂▂▁▁▁▁</td></tr></table><br/></div><div class=\"wandb-col\"><h3>Run summary:</h3><br/><table class=\"wandb\"><tr><td>eval/f1</td><td>0.39607</td></tr><tr><td>eval/loss</td><td>0.56112</td></tr><tr><td>eval/precision</td><td>0.27921</td></tr><tr><td>eval/recall</td><td>0.68116</td></tr><tr><td>eval/runtime</td><td>0.1789</td></tr><tr><td>eval/samples_per_second</td><td>167.729</td></tr><tr><td>eval/steps_per_second</td><td>11.182</td></tr><tr><td>test/f1</td><td>0.39607</td></tr><tr><td>test/loss</td><td>0.56112</td></tr><tr><td>test/precision</td><td>0.27921</td></tr><tr><td>test/recall</td><td>0.68116</td></tr><tr><td>test/runtime</td><td>0.1781</td></tr><tr><td>test/samples_per_second</td><td>168.414</td></tr><tr><td>test/steps_per_second</td><td>11.228</td></tr><tr><td>test_companyname_f1</td><td>1</td></tr><tr><td>test_companyname_precision</td><td>1</td></tr><tr><td>test_companyname_recall</td><td>1</td></tr><tr><td>test_firstname_f1</td><td>1</td></tr><tr><td>test_firstname_precision</td><td>1</td></tr><tr><td>test_firstname_recall</td><td>1</td></tr><tr><td>test_industry_f1</td><td>1</td></tr><tr><td>test_industry_precision</td><td>1</td></tr><tr><td>test_industry_recall</td><td>1</td></tr><tr><td>test_lastname_f1</td><td>1</td></tr><tr><td>test_lastname_precision</td><td>1</td></tr><tr><td>test_lastname_recall</td><td>1</td></tr><tr><td>test_macro_f1</td><td>1</td></tr><tr><td>test_macro_precision</td><td>1</td></tr><tr><td>test_macro_recall</td><td>1</td></tr><tr><td>test_musthaves_f1</td><td>1</td></tr><tr><td>test_musthaves_precision</td><td>1</td></tr><tr><td>test_musthaves_recall</td><td>1</td></tr><tr><td>test_preferredneighborhood_f1</td><td>1</td></tr><tr><td>test_preferredneighborhood_precision</td><td>1</td></tr><tr><td>test_preferredneighborhood_recall</td><td>1</td></tr><tr><td>test_propertytype_f1</td><td>1</td></tr><tr><td>test_propertytype_precision</td><td>1</td></tr><tr><td>test_propertytype_recall</td><td>1</td></tr><tr><td>test_urgencyscore_f1</td><td>1</td></tr><tr><td>test_urgencyscore_precision</td><td>1</td></tr><tr><td>test_urgencyscore_recall</td><td>1</td></tr><tr><td>total_flos</td><td>183089627750400.0</td></tr><tr><td>train/epoch</td><td>10</td></tr><tr><td>train/global_step</td><td>90</td></tr><tr><td>train/grad_norm</td><td>1.26085</td></tr><tr><td>train/learning_rate</td><td>0.0</td></tr><tr><td>train/loss</td><td>0.6006</td></tr><tr><td>train_loss</td><td>1.3236</td></tr><tr><td>train_runtime</td><td>39.2324</td></tr><tr><td>train_samples_per_second</td><td>35.685</td></tr><tr><td>train_steps_per_second</td><td>2.294</td></tr></table><br/></div></div>"
            ]
          },
          "metadata": {}
        },
        {
          "output_type": "display_data",
          "data": {
            "text/plain": [
              "<IPython.core.display.HTML object>"
            ],
            "text/html": [
              " View run <strong style=\"color:#cdcd00\">vital-sweep-10</strong> at: <a href='https://wandb.ai/lidianeh-none/distilbert-final/runs/kglsctp6' target=\"_blank\">https://wandb.ai/lidianeh-none/distilbert-final/runs/kglsctp6</a><br> View project at: <a href='https://wandb.ai/lidianeh-none/distilbert-final' target=\"_blank\">https://wandb.ai/lidianeh-none/distilbert-final</a><br>Synced 5 W&B file(s), 1 media file(s), 2 artifact file(s) and 0 other file(s)"
            ]
          },
          "metadata": {}
        },
        {
          "output_type": "display_data",
          "data": {
            "text/plain": [
              "<IPython.core.display.HTML object>"
            ],
            "text/html": [
              "Find logs at: <code>./wandb/run-20250509_170604-kglsctp6/logs</code>"
            ]
          },
          "metadata": {}
        },
        {
          "output_type": "stream",
          "name": "stderr",
          "text": [
            "\u001b[34m\u001b[1mwandb\u001b[0m: Agent Starting Run: 3fhkwut8 with config:\n",
            "\u001b[34m\u001b[1mwandb\u001b[0m: \tadam_epsilon: 1e-08\n",
            "\u001b[34m\u001b[1mwandb\u001b[0m: \tlearning_rate: 3.685217715775454e-05\n",
            "\u001b[34m\u001b[1mwandb\u001b[0m: \tnum_train_epochs: 10\n",
            "\u001b[34m\u001b[1mwandb\u001b[0m: \tper_device_train_batch_size: 16\n",
            "\u001b[34m\u001b[1mwandb\u001b[0m: \tseed: 42\n",
            "\u001b[34m\u001b[1mwandb\u001b[0m: \twarmup_ratio: 0.06554292766090644\n",
            "\u001b[34m\u001b[1mwandb\u001b[0m: \tweight_decay: 0.1366542653968309\n"
          ]
        },
        {
          "output_type": "display_data",
          "data": {
            "text/plain": [
              "<IPython.core.display.HTML object>"
            ],
            "text/html": [
              "Tracking run with wandb version 0.19.10"
            ]
          },
          "metadata": {}
        },
        {
          "output_type": "display_data",
          "data": {
            "text/plain": [
              "<IPython.core.display.HTML object>"
            ],
            "text/html": [
              "Run data is saved locally in <code>/content/wandb/run-20250509_170652-3fhkwut8</code>"
            ]
          },
          "metadata": {}
        },
        {
          "output_type": "display_data",
          "data": {
            "text/plain": [
              "<IPython.core.display.HTML object>"
            ],
            "text/html": [
              "Syncing run <strong><a href='https://wandb.ai/lidianeh-none/distilbert-final/runs/3fhkwut8' target=\"_blank\">still-sweep-11</a></strong> to <a href='https://wandb.ai/lidianeh-none/distilbert-final' target=\"_blank\">Weights & Biases</a> (<a href='https://wandb.me/developer-guide' target=\"_blank\">docs</a>)<br>Sweep page: <a href='https://wandb.ai/lidianeh-none/distilbert-final/sweeps/6yae4880' target=\"_blank\">https://wandb.ai/lidianeh-none/distilbert-final/sweeps/6yae4880</a>"
            ]
          },
          "metadata": {}
        },
        {
          "output_type": "display_data",
          "data": {
            "text/plain": [
              "<IPython.core.display.HTML object>"
            ],
            "text/html": [
              " View project at <a href='https://wandb.ai/lidianeh-none/distilbert-final' target=\"_blank\">https://wandb.ai/lidianeh-none/distilbert-final</a>"
            ]
          },
          "metadata": {}
        },
        {
          "output_type": "display_data",
          "data": {
            "text/plain": [
              "<IPython.core.display.HTML object>"
            ],
            "text/html": [
              " View sweep at <a href='https://wandb.ai/lidianeh-none/distilbert-final/sweeps/6yae4880' target=\"_blank\">https://wandb.ai/lidianeh-none/distilbert-final/sweeps/6yae4880</a>"
            ]
          },
          "metadata": {}
        },
        {
          "output_type": "display_data",
          "data": {
            "text/plain": [
              "<IPython.core.display.HTML object>"
            ],
            "text/html": [
              " View run at <a href='https://wandb.ai/lidianeh-none/distilbert-final/runs/3fhkwut8' target=\"_blank\">https://wandb.ai/lidianeh-none/distilbert-final/runs/3fhkwut8</a>"
            ]
          },
          "metadata": {}
        },
        {
          "output_type": "stream",
          "name": "stderr",
          "text": [
            "Some weights of WeightedDistilBertForTokenClassification were not initialized from the model checkpoint at distilbert-base-uncased and are newly initialized: ['classifier.bias', 'classifier.weight']\n",
            "You should probably TRAIN this model on a down-stream task to be able to use it for predictions and inference.\n",
            "<ipython-input-19-362b024c7306>:57: FutureWarning: `tokenizer` is deprecated and will be removed in version 5.0.0 for `Trainer.__init__`. Use `processing_class` instead.\n",
            "  trainer = Trainer(\n",
            "\u001b[34m\u001b[1mwandb\u001b[0m: \u001b[33mWARNING\u001b[0m Config item 'per_device_train_batch_size' was locked by 'sweep' (ignored update).\n",
            "\u001b[34m\u001b[1mwandb\u001b[0m: \u001b[33mWARNING\u001b[0m Config item 'learning_rate' was locked by 'sweep' (ignored update).\n",
            "\u001b[34m\u001b[1mwandb\u001b[0m: \u001b[33mWARNING\u001b[0m Config item 'weight_decay' was locked by 'sweep' (ignored update).\n",
            "\u001b[34m\u001b[1mwandb\u001b[0m: \u001b[33mWARNING\u001b[0m Config item 'adam_epsilon' was locked by 'sweep' (ignored update).\n",
            "\u001b[34m\u001b[1mwandb\u001b[0m: \u001b[33mWARNING\u001b[0m Config item 'num_train_epochs' was locked by 'sweep' (ignored update).\n",
            "\u001b[34m\u001b[1mwandb\u001b[0m: \u001b[33mWARNING\u001b[0m Config item 'warmup_ratio' was locked by 'sweep' (ignored update).\n",
            "\u001b[34m\u001b[1mwandb\u001b[0m: \u001b[33mWARNING\u001b[0m Config item 'seed' was locked by 'sweep' (ignored update).\n"
          ]
        },
        {
          "output_type": "display_data",
          "data": {
            "text/plain": [
              "<IPython.core.display.HTML object>"
            ],
            "text/html": [
              "\n",
              "    <div>\n",
              "      \n",
              "      <progress value='90' max='90' style='width:300px; height:20px; vertical-align: middle;'></progress>\n",
              "      [90/90 00:42, Epoch 10/10]\n",
              "    </div>\n",
              "    <table border=\"1\" class=\"dataframe\">\n",
              "  <thead>\n",
              " <tr style=\"text-align: left;\">\n",
              "      <th>Epoch</th>\n",
              "      <th>Training Loss</th>\n",
              "      <th>Validation Loss</th>\n",
              "      <th>Precision</th>\n",
              "      <th>Recall</th>\n",
              "      <th>F1</th>\n",
              "    </tr>\n",
              "  </thead>\n",
              "  <tbody>\n",
              "    <tr>\n",
              "      <td>1</td>\n",
              "      <td>3.639800</td>\n",
              "      <td>2.253623</td>\n",
              "      <td>1.000000</td>\n",
              "      <td>0.000000</td>\n",
              "      <td>0.000000</td>\n",
              "    </tr>\n",
              "    <tr>\n",
              "      <td>2</td>\n",
              "      <td>1.837400</td>\n",
              "      <td>1.540029</td>\n",
              "      <td>1.000000</td>\n",
              "      <td>0.000000</td>\n",
              "      <td>0.000000</td>\n",
              "    </tr>\n",
              "    <tr>\n",
              "      <td>3</td>\n",
              "      <td>1.361500</td>\n",
              "      <td>1.167056</td>\n",
              "      <td>0.188889</td>\n",
              "      <td>0.074890</td>\n",
              "      <td>0.107256</td>\n",
              "    </tr>\n",
              "    <tr>\n",
              "      <td>4</td>\n",
              "      <td>1.048400</td>\n",
              "      <td>0.913696</td>\n",
              "      <td>0.212569</td>\n",
              "      <td>0.506608</td>\n",
              "      <td>0.299479</td>\n",
              "    </tr>\n",
              "    <tr>\n",
              "      <td>5</td>\n",
              "      <td>0.836100</td>\n",
              "      <td>0.759918</td>\n",
              "      <td>0.201893</td>\n",
              "      <td>0.563877</td>\n",
              "      <td>0.297329</td>\n",
              "    </tr>\n",
              "    <tr>\n",
              "      <td>6</td>\n",
              "      <td>0.692700</td>\n",
              "      <td>0.666948</td>\n",
              "      <td>0.193948</td>\n",
              "      <td>0.621145</td>\n",
              "      <td>0.295597</td>\n",
              "    </tr>\n",
              "    <tr>\n",
              "      <td>7</td>\n",
              "      <td>0.594600</td>\n",
              "      <td>0.604296</td>\n",
              "      <td>0.238579</td>\n",
              "      <td>0.621145</td>\n",
              "      <td>0.344743</td>\n",
              "    </tr>\n",
              "    <tr>\n",
              "      <td>8</td>\n",
              "      <td>0.537300</td>\n",
              "      <td>0.568701</td>\n",
              "      <td>0.238250</td>\n",
              "      <td>0.647577</td>\n",
              "      <td>0.348341</td>\n",
              "    </tr>\n",
              "    <tr>\n",
              "      <td>9</td>\n",
              "      <td>0.499500</td>\n",
              "      <td>0.553790</td>\n",
              "      <td>0.234930</td>\n",
              "      <td>0.669604</td>\n",
              "      <td>0.347826</td>\n",
              "    </tr>\n",
              "    <tr>\n",
              "      <td>10</td>\n",
              "      <td>0.475500</td>\n",
              "      <td>0.545298</td>\n",
              "      <td>0.248333</td>\n",
              "      <td>0.656388</td>\n",
              "      <td>0.360339</td>\n",
              "    </tr>\n",
              "  </tbody>\n",
              "</table><p>"
            ]
          },
          "metadata": {}
        },
        {
          "output_type": "display_data",
          "data": {
            "text/plain": [
              "<IPython.core.display.HTML object>"
            ],
            "text/html": []
          },
          "metadata": {}
        },
        {
          "output_type": "stream",
          "name": "stdout",
          "text": [
            "{'eval_loss': 0.4603821337223053, 'eval_precision': 0.27387387387387385, 'eval_recall': 0.7342995169082126, 'eval_f1': 0.3989501312335958, 'eval_runtime': 0.1839, 'eval_samples_per_second': 163.108, 'eval_steps_per_second': 10.874, 'epoch': 10.0}\n"
          ]
        },
        {
          "output_type": "stream",
          "name": "stderr",
          "text": [
            "/usr/local/lib/python3.11/dist-packages/seqeval/metrics/v1.py:57: UndefinedMetricWarning: Precision and F-score are ill-defined and being set to 0.0 in labels with no predicted samples. Use `zero_division` parameter to control this behavior.\n",
            "  _warn_prf(average, modifier, msg_start, len(result))\n",
            "/usr/local/lib/python3.11/dist-packages/seqeval/metrics/v1.py:57: UndefinedMetricWarning: Recall and F-score are ill-defined and being set to 0.0 in labels with no true samples. Use `zero_division` parameter to control this behavior.\n",
            "  _warn_prf(average, modifier, msg_start, len(result))\n"
          ]
        },
        {
          "output_type": "stream",
          "name": "stdout",
          "text": [
            "                       precision    recall  f1-score   support\n",
            "\n",
            "          CompanyName       0.37      0.70      0.49        27\n",
            "  CurrentNeighborhood       0.00      0.00      0.00         1\n",
            "    DecisionMakerRole       0.00      0.00      0.00         6\n",
            "            FirstName       0.39      0.93      0.55        30\n",
            "             Industry       0.33      0.25      0.29        12\n",
            "             LastName       0.35      0.88      0.50         8\n",
            "            MustHaves       0.23      0.88      0.36        50\n",
            "          NiceToHaves       0.00      0.00      0.00        10\n",
            "            PainPoint       0.00      0.00      0.00         1\n",
            "   PreferredLeaseTerm       0.14      0.33      0.20         3\n",
            "PreferredNeighborhood       0.67      0.92      0.77        13\n",
            "         PropertyType       0.52      0.92      0.67        26\n",
            "            SpaceSize       0.00      0.00      0.00         0\n",
            "         UrgencyScore       0.11      0.70      0.19        20\n",
            "\n",
            "            micro avg       0.27      0.73      0.40       207\n",
            "            macro avg       0.22      0.47      0.29       207\n",
            "         weighted avg       0.31      0.73      0.42       207\n",
            "\n",
            "   firstname lastname email phone              companyname    industry  \\\n",
            "0       luke     None  None  None              urban lease        None   \n",
            "1    michael   conrad  None  None               urban hype        None   \n",
            "2     daniel     None  None  None                     None        None   \n",
            "3       liam     None  None  None       future innovations        None   \n",
            "4      jamie    novak  None  None           heritage legal        None   \n",
            "5       liam   carter  None  None                   altura        None   \n",
            "6    michael      kim  None  None             urban legacy  facilities   \n",
            "7    rebecca     None  None  None             tenantsource        None   \n",
            "8     amelia    klein  None  None             urban retail        None   \n",
            "9       alex     None  None  None     greenview consulting   nonprofit   \n",
            "10      lena    mills  None  None               bridgeview        None   \n",
            "11      reed    miles  None  None                urbancore        None   \n",
            "12      liam     None  None  None              healthacces        None   \n",
            "13    samuel      lee  None  None              urban vista        None   \n",
            "14    evelyn      lee  None  None     cityscape commercial    outreach   \n",
            "15     ethan   monroe  None  None                 crescent        None   \n",
            "16   michael    cohen  None  None               urban wave   nonprofit   \n",
            "17      liam  collins  None  None             urban realms       legal   \n",
            "18      liam    grant  None  None            city cultural   nonprofit   \n",
            "19     ethan   morgan  None  None  bright future nonprofit        None   \n",
            "20      eric    blake  None  None                urbanedge        None   \n",
            "21      alex   morris  None  None           crescent legal  facilities   \n",
            "22      None   foster  None  None             new horizons        None   \n",
            "23      liam     None  None  None                 urbanarc        None   \n",
            "24    evelyn     None  None  None                   summit        None   \n",
            "25      alex     None  None  None                     None        None   \n",
            "26    jordan   parker  None  None              careconnect  facilities   \n",
            "27      nina    blake  None  None      prestige properties        None   \n",
            "28      mark     None  None  None       urban creative lab        None   \n",
            "29      jane  daniels  None  None       premier properties        None   \n",
            "\n",
            "   companysize growthstage currentneighborhood firstinteraction  ...  \\\n",
            "0         None        None                None             None  ...   \n",
            "1         None        None                None             None  ...   \n",
            "2         None        None                None             None  ...   \n",
            "3         None        None                None             None  ...   \n",
            "4         None        None                None             None  ...   \n",
            "5         None        None                None             None  ...   \n",
            "6         None        None                None             None  ...   \n",
            "7         None        None                None             None  ...   \n",
            "8         None        None                None             None  ...   \n",
            "9         None        None                None             None  ...   \n",
            "10        None        None                None             None  ...   \n",
            "11        None        None                None             None  ...   \n",
            "12        None        None                None             None  ...   \n",
            "13        None        None                None             None  ...   \n",
            "14        None        None                None             None  ...   \n",
            "15        None        None                None             None  ...   \n",
            "16        None        None                None             None  ...   \n",
            "17        None        None                None             None  ...   \n",
            "18        None        None                None             None  ...   \n",
            "19        None        None                None             None  ...   \n",
            "20        None        None                None             None  ...   \n",
            "21        None        None                None             None  ...   \n",
            "22        None        None                None             None  ...   \n",
            "23        None        None                None             None  ...   \n",
            "24        None        None                None             None  ...   \n",
            "25        None        None                None             None  ...   \n",
            "26        None        None                None             None  ...   \n",
            "27        None        None                None             None  ...   \n",
            "28        None        None                None             None  ...   \n",
            "29        None        None                None             None  ...   \n",
            "\n",
            "   movingterm min_months max_months movingtimeline             musthaves  \\\n",
            "0        None       None       None           None                  hvac   \n",
            "1        None       None       None           None               parking   \n",
            "2        None       None       None           None        public transit   \n",
            "3        None       None       None           None       private offices   \n",
            "4        None       None       None           None              internet   \n",
            "5        None       None       None           None                  good   \n",
            "6        None       None       None           None         high ceilings   \n",
            "7        None       None       None           None                  good   \n",
            "8        None       None       None           None              outreach   \n",
            "9        None       None       None           None         natural light   \n",
            "10       None       None       None           None                   eco   \n",
            "11       None       None       None           None         natural light   \n",
            "12       None       None       None           None      hospital - grade   \n",
            "13       None       None       None           None                  None   \n",
            "14       None       None       None           None       street frontage   \n",
            "15       None       None       None           None                  hvac   \n",
            "16       None       None       None           None  flexible lease terms   \n",
            "17       None       None       None           None    transportation hub   \n",
            "18       None       None       None           None         natural light   \n",
            "19       None       None       None           None         natural light   \n",
            "20       None       None       None           None         ada compliant   \n",
            "21       None       None       None           None          foot traffic   \n",
            "22       None       None       None           None  community engagement   \n",
            "23       None       None       None           None         natural light   \n",
            "24       None       None       None           None              reliable   \n",
            "25       None       None       None           None         tech upgrades   \n",
            "26       None       None       None           None             excellent   \n",
            "27       None       None       None           None           open layout   \n",
            "28       None       None       None           None         high ceilings   \n",
            "29       None       None       None           None               gallery   \n",
            "\n",
            "   nicetohaves painpoint urgencyscore outcome personality  \n",
            "0         None      None            4    None        None  \n",
            "1         None      None            3    None        None  \n",
            "2         None      None           01    None        None  \n",
            "3         None      None           45    None        None  \n",
            "4         None      None            5    None        None  \n",
            "5         None      None            3    None        None  \n",
            "6         None      None            4    None        None  \n",
            "7         None      None            7    None        None  \n",
            "8         None      None           28    None        None  \n",
            "9         None      None          212    None        None  \n",
            "10        None      None          500    None        None  \n",
            "11        None      None            4    None        None  \n",
            "12        None      None          555    None        None  \n",
            "13        None      None            4    None        None  \n",
            "14        None      None            2    None        None  \n",
            "15        None      None            8    None        None  \n",
            "16        None      None           42    None        None  \n",
            "17        None      None            8    None        None  \n",
            "18        None      None         10th    None        None  \n",
            "19        None      None           35    None        None  \n",
            "20        None      None            4    None        None  \n",
            "21        None      None            4    None        None  \n",
            "22        None      None           01    None        None  \n",
            "23        None      None           65    None        None  \n",
            "24        None      None          500    None        None  \n",
            "25        None      None           34    None        None  \n",
            "26        None      None          500    None        None  \n",
            "27        None      None           60    None        None  \n",
            "28        None      None           45    None        None  \n",
            "29        None      None          200    None        None  \n",
            "\n",
            "[30 rows x 27 columns]\n",
            "Structured Field-Level Metrics: {'firstname_precision': 1.0, 'firstname_recall': 1.0, 'firstname_f1': 1.0, 'lastname_precision': 1.0, 'lastname_recall': 1.0, 'lastname_f1': 1.0, 'companyname_precision': 1.0, 'companyname_recall': 1.0, 'companyname_f1': 1.0, 'industry_precision': 1.0, 'industry_recall': 1.0, 'industry_f1': 1.0, 'propertytype_precision': 1.0, 'propertytype_recall': 1.0, 'propertytype_f1': 1.0, 'preferredneighborhood_precision': 1.0, 'preferredneighborhood_recall': 1.0, 'preferredneighborhood_f1': 1.0, 'preferredleaseterm_precision': 1.0, 'preferredleaseterm_recall': 1.0, 'preferredleaseterm_f1': 1.0, 'musthaves_precision': 1.0, 'musthaves_recall': 1.0, 'musthaves_f1': 1.0, 'urgencyscore_precision': 1.0, 'urgencyscore_recall': 1.0, 'urgencyscore_f1': 1.0, 'macro_precision': np.float64(1.0), 'macro_recall': np.float64(1.0), 'macro_f1': np.float64(1.0)}\n",
            "Predictions saved to: /content/drive/MyDrive/distilbert_outputs/still-sweep-11_predictions.json\n"
          ]
        },
        {
          "output_type": "display_data",
          "data": {
            "text/plain": [
              "<IPython.core.display.HTML object>"
            ],
            "text/html": []
          },
          "metadata": {}
        },
        {
          "output_type": "display_data",
          "data": {
            "text/plain": [
              "<IPython.core.display.HTML object>"
            ],
            "text/html": [
              "<br>    <style><br>        .wandb-row {<br>            display: flex;<br>            flex-direction: row;<br>            flex-wrap: wrap;<br>            justify-content: flex-start;<br>            width: 100%;<br>        }<br>        .wandb-col {<br>            display: flex;<br>            flex-direction: column;<br>            flex-basis: 100%;<br>            flex: 1;<br>            padding: 10px;<br>        }<br>    </style><br><div class=\"wandb-row\"><div class=\"wandb-col\"><h3>Run history:</h3><br/><table class=\"wandb\"><tr><td>eval/f1</td><td>▁▁▃▆▆▆▇▇▇▇▇█</td></tr><tr><td>eval/loss</td><td>█▅▄▃▂▂▂▁▁▁▁▁</td></tr><tr><td>eval/precision</td><td>██▁▁▁▁▁▁▁▂▂▂</td></tr><tr><td>eval/recall</td><td>▁▁▂▆▆▇▇▇▇▇▇█</td></tr><tr><td>eval/runtime</td><td>▃▁▄▃▅▂▂█▁▆▆▅</td></tr><tr><td>eval/samples_per_second</td><td>▆█▅▆▄▇▇▁█▃▃▄</td></tr><tr><td>eval/steps_per_second</td><td>▆█▅▆▄▇▇▁█▃▃▄</td></tr><tr><td>test/f1</td><td>▁</td></tr><tr><td>test/loss</td><td>▁</td></tr><tr><td>test/precision</td><td>▁</td></tr><tr><td>test/recall</td><td>▁</td></tr><tr><td>test/runtime</td><td>▁</td></tr><tr><td>test/samples_per_second</td><td>▁</td></tr><tr><td>test/steps_per_second</td><td>▁</td></tr><tr><td>test_companyname_f1</td><td>▁</td></tr><tr><td>test_companyname_precision</td><td>▁</td></tr><tr><td>test_companyname_recall</td><td>▁</td></tr><tr><td>test_firstname_f1</td><td>▁</td></tr><tr><td>test_firstname_precision</td><td>▁</td></tr><tr><td>test_firstname_recall</td><td>▁</td></tr><tr><td>test_industry_f1</td><td>▁</td></tr><tr><td>test_industry_precision</td><td>▁</td></tr><tr><td>test_industry_recall</td><td>▁</td></tr><tr><td>test_lastname_f1</td><td>▁</td></tr><tr><td>test_lastname_precision</td><td>▁</td></tr><tr><td>test_lastname_recall</td><td>▁</td></tr><tr><td>test_macro_f1</td><td>▁</td></tr><tr><td>test_macro_precision</td><td>▁</td></tr><tr><td>test_macro_recall</td><td>▁</td></tr><tr><td>test_musthaves_f1</td><td>▁</td></tr><tr><td>test_musthaves_precision</td><td>▁</td></tr><tr><td>test_musthaves_recall</td><td>▁</td></tr><tr><td>test_preferredleaseterm_f1</td><td>▁</td></tr><tr><td>test_preferredleaseterm_precision</td><td>▁</td></tr><tr><td>test_preferredleaseterm_recall</td><td>▁</td></tr><tr><td>test_preferredneighborhood_f1</td><td>▁</td></tr><tr><td>test_preferredneighborhood_precision</td><td>▁</td></tr><tr><td>test_preferredneighborhood_recall</td><td>▁</td></tr><tr><td>test_propertytype_f1</td><td>▁</td></tr><tr><td>test_propertytype_precision</td><td>▁</td></tr><tr><td>test_propertytype_recall</td><td>▁</td></tr><tr><td>test_urgencyscore_f1</td><td>▁</td></tr><tr><td>test_urgencyscore_precision</td><td>▁</td></tr><tr><td>test_urgencyscore_recall</td><td>▁</td></tr><tr><td>train/epoch</td><td>▁▁▂▂▃▃▃▃▄▄▅▅▆▆▆▆▇▇█████</td></tr><tr><td>train/global_step</td><td>▁▁▂▂▃▃▃▃▄▄▅▅▆▆▆▆▇▇████████</td></tr><tr><td>train/grad_norm</td><td>█▂▂▁▁▁▁▁▁▁</td></tr><tr><td>train/learning_rate</td><td>█▇▆▆▅▄▃▃▂▁</td></tr><tr><td>train/loss</td><td>█▄▃▂▂▁▁▁▁▁</td></tr></table><br/></div><div class=\"wandb-col\"><h3>Run summary:</h3><br/><table class=\"wandb\"><tr><td>eval/f1</td><td>0.39895</td></tr><tr><td>eval/loss</td><td>0.46038</td></tr><tr><td>eval/precision</td><td>0.27387</td></tr><tr><td>eval/recall</td><td>0.7343</td></tr><tr><td>eval/runtime</td><td>0.1839</td></tr><tr><td>eval/samples_per_second</td><td>163.108</td></tr><tr><td>eval/steps_per_second</td><td>10.874</td></tr><tr><td>test/f1</td><td>0.39895</td></tr><tr><td>test/loss</td><td>0.46038</td></tr><tr><td>test/precision</td><td>0.27387</td></tr><tr><td>test/recall</td><td>0.7343</td></tr><tr><td>test/runtime</td><td>0.1805</td></tr><tr><td>test/samples_per_second</td><td>166.169</td></tr><tr><td>test/steps_per_second</td><td>11.078</td></tr><tr><td>test_companyname_f1</td><td>1</td></tr><tr><td>test_companyname_precision</td><td>1</td></tr><tr><td>test_companyname_recall</td><td>1</td></tr><tr><td>test_firstname_f1</td><td>1</td></tr><tr><td>test_firstname_precision</td><td>1</td></tr><tr><td>test_firstname_recall</td><td>1</td></tr><tr><td>test_industry_f1</td><td>1</td></tr><tr><td>test_industry_precision</td><td>1</td></tr><tr><td>test_industry_recall</td><td>1</td></tr><tr><td>test_lastname_f1</td><td>1</td></tr><tr><td>test_lastname_precision</td><td>1</td></tr><tr><td>test_lastname_recall</td><td>1</td></tr><tr><td>test_macro_f1</td><td>1</td></tr><tr><td>test_macro_precision</td><td>1</td></tr><tr><td>test_macro_recall</td><td>1</td></tr><tr><td>test_musthaves_f1</td><td>1</td></tr><tr><td>test_musthaves_precision</td><td>1</td></tr><tr><td>test_musthaves_recall</td><td>1</td></tr><tr><td>test_preferredleaseterm_f1</td><td>1</td></tr><tr><td>test_preferredleaseterm_precision</td><td>1</td></tr><tr><td>test_preferredleaseterm_recall</td><td>1</td></tr><tr><td>test_preferredneighborhood_f1</td><td>1</td></tr><tr><td>test_preferredneighborhood_precision</td><td>1</td></tr><tr><td>test_preferredneighborhood_recall</td><td>1</td></tr><tr><td>test_propertytype_f1</td><td>1</td></tr><tr><td>test_propertytype_precision</td><td>1</td></tr><tr><td>test_propertytype_recall</td><td>1</td></tr><tr><td>test_urgencyscore_f1</td><td>1</td></tr><tr><td>test_urgencyscore_precision</td><td>1</td></tr><tr><td>test_urgencyscore_recall</td><td>1</td></tr><tr><td>total_flos</td><td>183089627750400.0</td></tr><tr><td>train/epoch</td><td>10</td></tr><tr><td>train/global_step</td><td>90</td></tr><tr><td>train/grad_norm</td><td>1.11048</td></tr><tr><td>train/learning_rate</td><td>0.0</td></tr><tr><td>train/loss</td><td>0.4755</td></tr><tr><td>train_loss</td><td>1.15228</td></tr><tr><td>train_runtime</td><td>43.003</td></tr><tr><td>train_samples_per_second</td><td>32.556</td></tr><tr><td>train_steps_per_second</td><td>2.093</td></tr></table><br/></div></div>"
            ]
          },
          "metadata": {}
        },
        {
          "output_type": "display_data",
          "data": {
            "text/plain": [
              "<IPython.core.display.HTML object>"
            ],
            "text/html": [
              " View run <strong style=\"color:#cdcd00\">still-sweep-11</strong> at: <a href='https://wandb.ai/lidianeh-none/distilbert-final/runs/3fhkwut8' target=\"_blank\">https://wandb.ai/lidianeh-none/distilbert-final/runs/3fhkwut8</a><br> View project at: <a href='https://wandb.ai/lidianeh-none/distilbert-final' target=\"_blank\">https://wandb.ai/lidianeh-none/distilbert-final</a><br>Synced 5 W&B file(s), 1 media file(s), 2 artifact file(s) and 0 other file(s)"
            ]
          },
          "metadata": {}
        },
        {
          "output_type": "display_data",
          "data": {
            "text/plain": [
              "<IPython.core.display.HTML object>"
            ],
            "text/html": [
              "Find logs at: <code>./wandb/run-20250509_170652-3fhkwut8/logs</code>"
            ]
          },
          "metadata": {}
        },
        {
          "output_type": "stream",
          "name": "stderr",
          "text": [
            "\u001b[34m\u001b[1mwandb\u001b[0m: Sweep Agent: Waiting for job.\n",
            "\u001b[34m\u001b[1mwandb\u001b[0m: Job received.\n",
            "\u001b[34m\u001b[1mwandb\u001b[0m: Agent Starting Run: nqyyovyy with config:\n",
            "\u001b[34m\u001b[1mwandb\u001b[0m: \tadam_epsilon: 1e-08\n",
            "\u001b[34m\u001b[1mwandb\u001b[0m: \tlearning_rate: 3.818662923264096e-05\n",
            "\u001b[34m\u001b[1mwandb\u001b[0m: \tnum_train_epochs: 10\n",
            "\u001b[34m\u001b[1mwandb\u001b[0m: \tper_device_train_batch_size: 16\n",
            "\u001b[34m\u001b[1mwandb\u001b[0m: \tseed: 42\n",
            "\u001b[34m\u001b[1mwandb\u001b[0m: \twarmup_ratio: 0.08584422328219288\n",
            "\u001b[34m\u001b[1mwandb\u001b[0m: \tweight_decay: 0.09700009289287068\n"
          ]
        },
        {
          "output_type": "display_data",
          "data": {
            "text/plain": [
              "<IPython.core.display.HTML object>"
            ],
            "text/html": [
              "Tracking run with wandb version 0.19.10"
            ]
          },
          "metadata": {}
        },
        {
          "output_type": "display_data",
          "data": {
            "text/plain": [
              "<IPython.core.display.HTML object>"
            ],
            "text/html": [
              "Run data is saved locally in <code>/content/wandb/run-20250509_170757-nqyyovyy</code>"
            ]
          },
          "metadata": {}
        },
        {
          "output_type": "display_data",
          "data": {
            "text/plain": [
              "<IPython.core.display.HTML object>"
            ],
            "text/html": [
              "Syncing run <strong><a href='https://wandb.ai/lidianeh-none/distilbert-final/runs/nqyyovyy' target=\"_blank\">unique-sweep-12</a></strong> to <a href='https://wandb.ai/lidianeh-none/distilbert-final' target=\"_blank\">Weights & Biases</a> (<a href='https://wandb.me/developer-guide' target=\"_blank\">docs</a>)<br>Sweep page: <a href='https://wandb.ai/lidianeh-none/distilbert-final/sweeps/6yae4880' target=\"_blank\">https://wandb.ai/lidianeh-none/distilbert-final/sweeps/6yae4880</a>"
            ]
          },
          "metadata": {}
        },
        {
          "output_type": "display_data",
          "data": {
            "text/plain": [
              "<IPython.core.display.HTML object>"
            ],
            "text/html": [
              " View project at <a href='https://wandb.ai/lidianeh-none/distilbert-final' target=\"_blank\">https://wandb.ai/lidianeh-none/distilbert-final</a>"
            ]
          },
          "metadata": {}
        },
        {
          "output_type": "display_data",
          "data": {
            "text/plain": [
              "<IPython.core.display.HTML object>"
            ],
            "text/html": [
              " View sweep at <a href='https://wandb.ai/lidianeh-none/distilbert-final/sweeps/6yae4880' target=\"_blank\">https://wandb.ai/lidianeh-none/distilbert-final/sweeps/6yae4880</a>"
            ]
          },
          "metadata": {}
        },
        {
          "output_type": "display_data",
          "data": {
            "text/plain": [
              "<IPython.core.display.HTML object>"
            ],
            "text/html": [
              " View run at <a href='https://wandb.ai/lidianeh-none/distilbert-final/runs/nqyyovyy' target=\"_blank\">https://wandb.ai/lidianeh-none/distilbert-final/runs/nqyyovyy</a>"
            ]
          },
          "metadata": {}
        },
        {
          "output_type": "stream",
          "name": "stderr",
          "text": [
            "Some weights of WeightedDistilBertForTokenClassification were not initialized from the model checkpoint at distilbert-base-uncased and are newly initialized: ['classifier.bias', 'classifier.weight']\n",
            "You should probably TRAIN this model on a down-stream task to be able to use it for predictions and inference.\n",
            "<ipython-input-19-362b024c7306>:57: FutureWarning: `tokenizer` is deprecated and will be removed in version 5.0.0 for `Trainer.__init__`. Use `processing_class` instead.\n",
            "  trainer = Trainer(\n",
            "\u001b[34m\u001b[1mwandb\u001b[0m: \u001b[33mWARNING\u001b[0m Config item 'per_device_train_batch_size' was locked by 'sweep' (ignored update).\n",
            "\u001b[34m\u001b[1mwandb\u001b[0m: \u001b[33mWARNING\u001b[0m Config item 'learning_rate' was locked by 'sweep' (ignored update).\n",
            "\u001b[34m\u001b[1mwandb\u001b[0m: \u001b[33mWARNING\u001b[0m Config item 'weight_decay' was locked by 'sweep' (ignored update).\n",
            "\u001b[34m\u001b[1mwandb\u001b[0m: \u001b[33mWARNING\u001b[0m Config item 'adam_epsilon' was locked by 'sweep' (ignored update).\n",
            "\u001b[34m\u001b[1mwandb\u001b[0m: \u001b[33mWARNING\u001b[0m Config item 'num_train_epochs' was locked by 'sweep' (ignored update).\n",
            "\u001b[34m\u001b[1mwandb\u001b[0m: \u001b[33mWARNING\u001b[0m Config item 'warmup_ratio' was locked by 'sweep' (ignored update).\n",
            "\u001b[34m\u001b[1mwandb\u001b[0m: \u001b[33mWARNING\u001b[0m Config item 'seed' was locked by 'sweep' (ignored update).\n"
          ]
        },
        {
          "output_type": "display_data",
          "data": {
            "text/plain": [
              "<IPython.core.display.HTML object>"
            ],
            "text/html": [
              "\n",
              "    <div>\n",
              "      \n",
              "      <progress value='90' max='90' style='width:300px; height:20px; vertical-align: middle;'></progress>\n",
              "      [90/90 00:42, Epoch 10/10]\n",
              "    </div>\n",
              "    <table border=\"1\" class=\"dataframe\">\n",
              "  <thead>\n",
              " <tr style=\"text-align: left;\">\n",
              "      <th>Epoch</th>\n",
              "      <th>Training Loss</th>\n",
              "      <th>Validation Loss</th>\n",
              "      <th>Precision</th>\n",
              "      <th>Recall</th>\n",
              "      <th>F1</th>\n",
              "    </tr>\n",
              "  </thead>\n",
              "  <tbody>\n",
              "    <tr>\n",
              "      <td>1</td>\n",
              "      <td>3.586100</td>\n",
              "      <td>2.412189</td>\n",
              "      <td>1.000000</td>\n",
              "      <td>0.000000</td>\n",
              "      <td>0.000000</td>\n",
              "    </tr>\n",
              "    <tr>\n",
              "      <td>2</td>\n",
              "      <td>1.979000</td>\n",
              "      <td>1.693933</td>\n",
              "      <td>1.000000</td>\n",
              "      <td>0.000000</td>\n",
              "      <td>0.000000</td>\n",
              "    </tr>\n",
              "    <tr>\n",
              "      <td>3</td>\n",
              "      <td>1.473200</td>\n",
              "      <td>1.269024</td>\n",
              "      <td>0.166667</td>\n",
              "      <td>0.048458</td>\n",
              "      <td>0.075085</td>\n",
              "    </tr>\n",
              "    <tr>\n",
              "      <td>4</td>\n",
              "      <td>1.125900</td>\n",
              "      <td>0.983335</td>\n",
              "      <td>0.217500</td>\n",
              "      <td>0.383260</td>\n",
              "      <td>0.277512</td>\n",
              "    </tr>\n",
              "    <tr>\n",
              "      <td>5</td>\n",
              "      <td>0.873100</td>\n",
              "      <td>0.803840</td>\n",
              "      <td>0.221207</td>\n",
              "      <td>0.533040</td>\n",
              "      <td>0.312661</td>\n",
              "    </tr>\n",
              "    <tr>\n",
              "      <td>6</td>\n",
              "      <td>0.707000</td>\n",
              "      <td>0.689144</td>\n",
              "      <td>0.233503</td>\n",
              "      <td>0.607930</td>\n",
              "      <td>0.337408</td>\n",
              "    </tr>\n",
              "    <tr>\n",
              "      <td>7</td>\n",
              "      <td>0.594200</td>\n",
              "      <td>0.630744</td>\n",
              "      <td>0.241546</td>\n",
              "      <td>0.660793</td>\n",
              "      <td>0.353774</td>\n",
              "    </tr>\n",
              "    <tr>\n",
              "      <td>8</td>\n",
              "      <td>0.531300</td>\n",
              "      <td>0.596550</td>\n",
              "      <td>0.264755</td>\n",
              "      <td>0.691630</td>\n",
              "      <td>0.382927</td>\n",
              "    </tr>\n",
              "    <tr>\n",
              "      <td>9</td>\n",
              "      <td>0.488600</td>\n",
              "      <td>0.581389</td>\n",
              "      <td>0.283859</td>\n",
              "      <td>0.674009</td>\n",
              "      <td>0.399478</td>\n",
              "    </tr>\n",
              "    <tr>\n",
              "      <td>10</td>\n",
              "      <td>0.467300</td>\n",
              "      <td>0.572488</td>\n",
              "      <td>0.280000</td>\n",
              "      <td>0.678414</td>\n",
              "      <td>0.396396</td>\n",
              "    </tr>\n",
              "  </tbody>\n",
              "</table><p>"
            ]
          },
          "metadata": {}
        },
        {
          "output_type": "display_data",
          "data": {
            "text/plain": [
              "<IPython.core.display.HTML object>"
            ],
            "text/html": []
          },
          "metadata": {}
        },
        {
          "output_type": "stream",
          "name": "stdout",
          "text": [
            "{'eval_loss': 0.5020738840103149, 'eval_precision': 0.30495049504950494, 'eval_recall': 0.7439613526570048, 'eval_f1': 0.4325842696629213, 'eval_runtime': 0.1805, 'eval_samples_per_second': 166.161, 'eval_steps_per_second': 11.077, 'epoch': 10.0}\n"
          ]
        },
        {
          "output_type": "stream",
          "name": "stderr",
          "text": [
            "/usr/local/lib/python3.11/dist-packages/seqeval/metrics/v1.py:57: UndefinedMetricWarning: Precision and F-score are ill-defined and being set to 0.0 in labels with no predicted samples. Use `zero_division` parameter to control this behavior.\n",
            "  _warn_prf(average, modifier, msg_start, len(result))\n",
            "/usr/local/lib/python3.11/dist-packages/seqeval/metrics/v1.py:57: UndefinedMetricWarning: Recall and F-score are ill-defined and being set to 0.0 in labels with no true samples. Use `zero_division` parameter to control this behavior.\n",
            "  _warn_prf(average, modifier, msg_start, len(result))\n"
          ]
        },
        {
          "output_type": "stream",
          "name": "stdout",
          "text": [
            "                       precision    recall  f1-score   support\n",
            "\n",
            "          CompanyName       0.47      0.78      0.58        27\n",
            "  CurrentNeighborhood       0.00      0.00      0.00         1\n",
            "    DecisionMakerRole       0.00      0.00      0.00         6\n",
            "            FirstName       0.38      0.93      0.54        30\n",
            "             Industry       0.41      0.58      0.48        12\n",
            "             LastName       0.35      0.88      0.50         8\n",
            "            MustHaves       0.24      0.84      0.37        50\n",
            "          NiceToHaves       0.00      0.00      0.00        10\n",
            "            PainPoint       0.00      0.00      0.00         1\n",
            "   PreferredLeaseTerm       0.17      0.67      0.27         3\n",
            "PreferredNeighborhood       0.80      0.92      0.86        13\n",
            "         PropertyType       0.62      0.92      0.74        26\n",
            "            SpaceSize       0.00      0.00      0.00         0\n",
            "         UrgencyScore       0.12      0.55      0.19        20\n",
            "\n",
            "            micro avg       0.30      0.74      0.43       207\n",
            "            macro avg       0.25      0.51      0.32       207\n",
            "         weighted avg       0.35      0.74      0.46       207\n",
            "\n",
            "   firstname lastname email phone           companyname     industry  \\\n",
            "0       luke     None  None  None           urban lease         None   \n",
            "1    michael   conrad  None  None            urban hype         None   \n",
            "2     daniel     None  None  None              medivibe         None   \n",
            "3       liam     None  None  None    future innovations         None   \n",
            "4      jamie    novak  None  None        heritage legal         None   \n",
            "5       liam   carter  None  None                altura         None   \n",
            "6    michael      kim  None  None          urban legacy   facilities   \n",
            "7    rebecca     None  None  None          tenantsource         None   \n",
            "8     amelia    klein  None  None          urban retail         None   \n",
            "9       alex     None  None  None  greenview consulting    nonprofit   \n",
            "10      lena    mills  None  None            bridgeview  sustainable   \n",
            "11      reed    miles  None  None             urbancore   healthcare   \n",
            "12      liam     None  None  None                  None         None   \n",
            "13    samuel      lee  None  None           urban vista         None   \n",
            "14    evelyn      lee  None  None  cityscape commercial         None   \n",
            "15     ethan   monroe  None  None              crescent         None   \n",
            "16   michael    cohen  None  None            urban wave    nonprofit   \n",
            "17      liam  collins  None  None          urban realms        legal   \n",
            "18      liam    grant  None  None         city cultural    nonprofit   \n",
            "19     ethan   morgan  None  None         bright future    nonprofit   \n",
            "20      eric    blake  None  None             urbanedge         None   \n",
            "21      alex   morris  None  None        crescent legal   facilities   \n",
            "22      None   foster  None  None          new horizons         None   \n",
            "23      liam     None  None  None              urbanarc         None   \n",
            "24    evelyn     None  None  None                summit         None   \n",
            "25      alex     None  None  None                  None         None   \n",
            "26    jordan   parker  None  None           careconnect   facilities   \n",
            "27      nina    blake  None  None   prestige properties   healthcare   \n",
            "28      mark     None  None  None    urban creative lab         None   \n",
            "29      jane  daniels  None  None    premier properties         flex   \n",
            "\n",
            "   companysize growthstage currentneighborhood firstinteraction  ...  \\\n",
            "0         None        None                None             None  ...   \n",
            "1         None        None                None             None  ...   \n",
            "2         None        None                None             None  ...   \n",
            "3         None        None                None             None  ...   \n",
            "4         None        None                None             None  ...   \n",
            "5         None        None                None             None  ...   \n",
            "6         None        None                None             None  ...   \n",
            "7         None        None                None             None  ...   \n",
            "8         None        None                None             None  ...   \n",
            "9         None        None                None             None  ...   \n",
            "10        None        None                None             None  ...   \n",
            "11        None        None                None             None  ...   \n",
            "12        None        None                None             None  ...   \n",
            "13        None        None                None             None  ...   \n",
            "14        None        None                None             None  ...   \n",
            "15        None        None                None             None  ...   \n",
            "16        None        None                None             None  ...   \n",
            "17        None        None                None             None  ...   \n",
            "18        None        None                None             None  ...   \n",
            "19        None        None                None             None  ...   \n",
            "20        None        None                None             None  ...   \n",
            "21        None        None                None             None  ...   \n",
            "22        None        None                None             None  ...   \n",
            "23        None        None                None             None  ...   \n",
            "24        None        None                None             None  ...   \n",
            "25        None        None                None             None  ...   \n",
            "26        None        None                None             None  ...   \n",
            "27        None        None                None             None  ...   \n",
            "28        None        None                None             None  ...   \n",
            "29        None        None                None             None  ...   \n",
            "\n",
            "   movingterm min_months max_months movingtimeline              musthaves  \\\n",
            "0        None       None       None           None                   hvac   \n",
            "1        None       None       None           None                parking   \n",
            "2        None       None       None           None         public transit   \n",
            "3        None       None       None           None                working   \n",
            "4        None       None       None           None      quiet environment   \n",
            "5        None       None       None           None          natural light   \n",
            "6        None       None       None           None          high ceilings   \n",
            "7        None       None       None           None          natural light   \n",
            "8        None       None       None           None            easy access   \n",
            "9        None       None       None           None          natural light   \n",
            "10       None       None       None           None                    eco   \n",
            "11       None       None       None           None          natural light   \n",
            "12       None       None       None           None       hospital - grade   \n",
            "13       None       None       None           None                   None   \n",
            "14       None       None       None           None        street frontage   \n",
            "15       None       None       None           None                   hvac   \n",
            "16       None       None       None           None     building amenities   \n",
            "17       None       None       None           None                   high   \n",
            "18       None       None       None           None          natural light   \n",
            "19       None       None       None           None          natural light   \n",
            "20       None       None       None           None                   None   \n",
            "21       None       None       None           None           foot traffic   \n",
            "22       None       None       None           None   community engagement   \n",
            "23       None       None       None           None          natural light   \n",
            "24       None       None       None           None               reliable   \n",
            "25       None       None       None           None          tech upgrades   \n",
            "26       None       None       None           None          natural light   \n",
            "27       None       None       None           None  public transportation   \n",
            "28       None       None       None           None          high ceilings   \n",
            "29       None       None       None           None           workshop use   \n",
            "\n",
            "   nicetohaves painpoint urgencyscore outcome personality  \n",
            "0         None      None           65    None        None  \n",
            "1         None      None            3    None        None  \n",
            "2         None      None           01    None        None  \n",
            "3         None      None           45    None        None  \n",
            "4         None      None           40    None        None  \n",
            "5         None      None            3    None        None  \n",
            "6         None      None            4    None        None  \n",
            "7         None      None            7    None        None  \n",
            "8         None      None           28    None        None  \n",
            "9         None      None          212    None        None  \n",
            "10        None      None           45    None        None  \n",
            "11        None      None           70    None        None  \n",
            "12        None      None           74    None        None  \n",
            "13        None      None           70    None        None  \n",
            "14        None      None           35    None        None  \n",
            "15        None      None            8    None        None  \n",
            "16        None      None           42    None        None  \n",
            "17        None      None            8    None        None  \n",
            "18        None      None         10th    None        None  \n",
            "19        None      None           35    None        None  \n",
            "20        None      None            4    None        None  \n",
            "21        None      None           45    None        None  \n",
            "22        None      None           01    None        None  \n",
            "23        None      None           65    None        None  \n",
            "24        None      None           70    None        None  \n",
            "25        None      None           34    None        None  \n",
            "26        None      None           65    None        None  \n",
            "27        None      None           60    None        None  \n",
            "28        None      None           45    None        None  \n",
            "29        None      None           35    None        None  \n",
            "\n",
            "[30 rows x 27 columns]\n",
            "Structured Field-Level Metrics: {'firstname_precision': 1.0, 'firstname_recall': 1.0, 'firstname_f1': 1.0, 'lastname_precision': 1.0, 'lastname_recall': 1.0, 'lastname_f1': 1.0, 'companyname_precision': 1.0, 'companyname_recall': 1.0, 'companyname_f1': 1.0, 'industry_precision': 1.0, 'industry_recall': 1.0, 'industry_f1': 1.0, 'propertytype_precision': 1.0, 'propertytype_recall': 1.0, 'propertytype_f1': 1.0, 'preferredneighborhood_precision': 1.0, 'preferredneighborhood_recall': 1.0, 'preferredneighborhood_f1': 1.0, 'preferredleaseterm_precision': 1.0, 'preferredleaseterm_recall': 1.0, 'preferredleaseterm_f1': 1.0, 'musthaves_precision': 1.0, 'musthaves_recall': 1.0, 'musthaves_f1': 1.0, 'urgencyscore_precision': 1.0, 'urgencyscore_recall': 1.0, 'urgencyscore_f1': 1.0, 'macro_precision': np.float64(1.0), 'macro_recall': np.float64(1.0), 'macro_f1': np.float64(1.0)}\n",
            "Predictions saved to: /content/drive/MyDrive/distilbert_outputs/unique-sweep-12_predictions.json\n"
          ]
        },
        {
          "output_type": "display_data",
          "data": {
            "text/plain": [
              "<IPython.core.display.HTML object>"
            ],
            "text/html": []
          },
          "metadata": {}
        },
        {
          "output_type": "display_data",
          "data": {
            "text/plain": [
              "<IPython.core.display.HTML object>"
            ],
            "text/html": [
              "<br>    <style><br>        .wandb-row {<br>            display: flex;<br>            flex-direction: row;<br>            flex-wrap: wrap;<br>            justify-content: flex-start;<br>            width: 100%;<br>        }<br>        .wandb-col {<br>            display: flex;<br>            flex-direction: column;<br>            flex-basis: 100%;<br>            flex: 1;<br>            padding: 10px;<br>        }<br>    </style><br><div class=\"wandb-row\"><div class=\"wandb-col\"><h3>Run history:</h3><br/><table class=\"wandb\"><tr><td>eval/f1</td><td>▁▁▂▅▆▆▇▇▇▇▇█</td></tr><tr><td>eval/loss</td><td>█▅▄▃▂▂▁▁▁▁▁▁</td></tr><tr><td>eval/precision</td><td>██▁▁▁▂▂▂▂▂▂▂</td></tr><tr><td>eval/recall</td><td>▁▁▁▅▆▇▇█▇▇▇█</td></tr><tr><td>eval/runtime</td><td>▂▁▁▁▂▂▂▂▃▂█▂</td></tr><tr><td>eval/samples_per_second</td><td>▇███▇▆▇▇▆▇▁▇</td></tr><tr><td>eval/steps_per_second</td><td>▇███▇▆▇▇▆▇▁▇</td></tr><tr><td>test/f1</td><td>▁</td></tr><tr><td>test/loss</td><td>▁</td></tr><tr><td>test/precision</td><td>▁</td></tr><tr><td>test/recall</td><td>▁</td></tr><tr><td>test/runtime</td><td>▁</td></tr><tr><td>test/samples_per_second</td><td>▁</td></tr><tr><td>test/steps_per_second</td><td>▁</td></tr><tr><td>test_companyname_f1</td><td>▁</td></tr><tr><td>test_companyname_precision</td><td>▁</td></tr><tr><td>test_companyname_recall</td><td>▁</td></tr><tr><td>test_firstname_f1</td><td>▁</td></tr><tr><td>test_firstname_precision</td><td>▁</td></tr><tr><td>test_firstname_recall</td><td>▁</td></tr><tr><td>test_industry_f1</td><td>▁</td></tr><tr><td>test_industry_precision</td><td>▁</td></tr><tr><td>test_industry_recall</td><td>▁</td></tr><tr><td>test_lastname_f1</td><td>▁</td></tr><tr><td>test_lastname_precision</td><td>▁</td></tr><tr><td>test_lastname_recall</td><td>▁</td></tr><tr><td>test_macro_f1</td><td>▁</td></tr><tr><td>test_macro_precision</td><td>▁</td></tr><tr><td>test_macro_recall</td><td>▁</td></tr><tr><td>test_musthaves_f1</td><td>▁</td></tr><tr><td>test_musthaves_precision</td><td>▁</td></tr><tr><td>test_musthaves_recall</td><td>▁</td></tr><tr><td>test_preferredleaseterm_f1</td><td>▁</td></tr><tr><td>test_preferredleaseterm_precision</td><td>▁</td></tr><tr><td>test_preferredleaseterm_recall</td><td>▁</td></tr><tr><td>test_preferredneighborhood_f1</td><td>▁</td></tr><tr><td>test_preferredneighborhood_precision</td><td>▁</td></tr><tr><td>test_preferredneighborhood_recall</td><td>▁</td></tr><tr><td>test_propertytype_f1</td><td>▁</td></tr><tr><td>test_propertytype_precision</td><td>▁</td></tr><tr><td>test_propertytype_recall</td><td>▁</td></tr><tr><td>test_urgencyscore_f1</td><td>▁</td></tr><tr><td>test_urgencyscore_precision</td><td>▁</td></tr><tr><td>test_urgencyscore_recall</td><td>▁</td></tr><tr><td>train/epoch</td><td>▁▁▂▂▃▃▃▃▄▄▅▅▆▆▆▆▇▇█████</td></tr><tr><td>train/global_step</td><td>▁▁▂▂▃▃▃▃▄▄▅▅▆▆▆▆▇▇████████</td></tr><tr><td>train/grad_norm</td><td>█▂▂▁▁▁▁▁▁▁</td></tr><tr><td>train/learning_rate</td><td>█▇▆▆▅▄▃▃▂▁</td></tr><tr><td>train/loss</td><td>█▄▃▂▂▂▁▁▁▁</td></tr></table><br/></div><div class=\"wandb-col\"><h3>Run summary:</h3><br/><table class=\"wandb\"><tr><td>eval/f1</td><td>0.43258</td></tr><tr><td>eval/loss</td><td>0.50207</td></tr><tr><td>eval/precision</td><td>0.30495</td></tr><tr><td>eval/recall</td><td>0.74396</td></tr><tr><td>eval/runtime</td><td>0.1805</td></tr><tr><td>eval/samples_per_second</td><td>166.161</td></tr><tr><td>eval/steps_per_second</td><td>11.077</td></tr><tr><td>test/f1</td><td>0.43258</td></tr><tr><td>test/loss</td><td>0.50207</td></tr><tr><td>test/precision</td><td>0.30495</td></tr><tr><td>test/recall</td><td>0.74396</td></tr><tr><td>test/runtime</td><td>0.1783</td></tr><tr><td>test/samples_per_second</td><td>168.277</td></tr><tr><td>test/steps_per_second</td><td>11.218</td></tr><tr><td>test_companyname_f1</td><td>1</td></tr><tr><td>test_companyname_precision</td><td>1</td></tr><tr><td>test_companyname_recall</td><td>1</td></tr><tr><td>test_firstname_f1</td><td>1</td></tr><tr><td>test_firstname_precision</td><td>1</td></tr><tr><td>test_firstname_recall</td><td>1</td></tr><tr><td>test_industry_f1</td><td>1</td></tr><tr><td>test_industry_precision</td><td>1</td></tr><tr><td>test_industry_recall</td><td>1</td></tr><tr><td>test_lastname_f1</td><td>1</td></tr><tr><td>test_lastname_precision</td><td>1</td></tr><tr><td>test_lastname_recall</td><td>1</td></tr><tr><td>test_macro_f1</td><td>1</td></tr><tr><td>test_macro_precision</td><td>1</td></tr><tr><td>test_macro_recall</td><td>1</td></tr><tr><td>test_musthaves_f1</td><td>1</td></tr><tr><td>test_musthaves_precision</td><td>1</td></tr><tr><td>test_musthaves_recall</td><td>1</td></tr><tr><td>test_preferredleaseterm_f1</td><td>1</td></tr><tr><td>test_preferredleaseterm_precision</td><td>1</td></tr><tr><td>test_preferredleaseterm_recall</td><td>1</td></tr><tr><td>test_preferredneighborhood_f1</td><td>1</td></tr><tr><td>test_preferredneighborhood_precision</td><td>1</td></tr><tr><td>test_preferredneighborhood_recall</td><td>1</td></tr><tr><td>test_propertytype_f1</td><td>1</td></tr><tr><td>test_propertytype_precision</td><td>1</td></tr><tr><td>test_propertytype_recall</td><td>1</td></tr><tr><td>test_urgencyscore_f1</td><td>1</td></tr><tr><td>test_urgencyscore_precision</td><td>1</td></tr><tr><td>test_urgencyscore_recall</td><td>1</td></tr><tr><td>total_flos</td><td>183089627750400.0</td></tr><tr><td>train/epoch</td><td>10</td></tr><tr><td>train/global_step</td><td>90</td></tr><tr><td>train/grad_norm</td><td>1.19818</td></tr><tr><td>train/learning_rate</td><td>0.0</td></tr><tr><td>train/loss</td><td>0.4673</td></tr><tr><td>train_loss</td><td>1.18258</td></tr><tr><td>train_runtime</td><td>43.1042</td></tr><tr><td>train_samples_per_second</td><td>32.479</td></tr><tr><td>train_steps_per_second</td><td>2.088</td></tr></table><br/></div></div>"
            ]
          },
          "metadata": {}
        },
        {
          "output_type": "display_data",
          "data": {
            "text/plain": [
              "<IPython.core.display.HTML object>"
            ],
            "text/html": [
              " View run <strong style=\"color:#cdcd00\">unique-sweep-12</strong> at: <a href='https://wandb.ai/lidianeh-none/distilbert-final/runs/nqyyovyy' target=\"_blank\">https://wandb.ai/lidianeh-none/distilbert-final/runs/nqyyovyy</a><br> View project at: <a href='https://wandb.ai/lidianeh-none/distilbert-final' target=\"_blank\">https://wandb.ai/lidianeh-none/distilbert-final</a><br>Synced 5 W&B file(s), 1 media file(s), 2 artifact file(s) and 0 other file(s)"
            ]
          },
          "metadata": {}
        },
        {
          "output_type": "display_data",
          "data": {
            "text/plain": [
              "<IPython.core.display.HTML object>"
            ],
            "text/html": [
              "Find logs at: <code>./wandb/run-20250509_170757-nqyyovyy/logs</code>"
            ]
          },
          "metadata": {}
        },
        {
          "output_type": "stream",
          "name": "stderr",
          "text": [
            "\u001b[34m\u001b[1mwandb\u001b[0m: Agent Starting Run: o2445qbl with config:\n",
            "\u001b[34m\u001b[1mwandb\u001b[0m: \tadam_epsilon: 1e-08\n",
            "\u001b[34m\u001b[1mwandb\u001b[0m: \tlearning_rate: 2.791276222771067e-05\n",
            "\u001b[34m\u001b[1mwandb\u001b[0m: \tnum_train_epochs: 6\n",
            "\u001b[34m\u001b[1mwandb\u001b[0m: \tper_device_train_batch_size: 16\n",
            "\u001b[34m\u001b[1mwandb\u001b[0m: \tseed: 2024\n",
            "\u001b[34m\u001b[1mwandb\u001b[0m: \twarmup_ratio: 0.1041864430213464\n",
            "\u001b[34m\u001b[1mwandb\u001b[0m: \tweight_decay: 0.08287537290740327\n"
          ]
        },
        {
          "output_type": "display_data",
          "data": {
            "text/plain": [
              "<IPython.core.display.HTML object>"
            ],
            "text/html": [
              "Tracking run with wandb version 0.19.10"
            ]
          },
          "metadata": {}
        },
        {
          "output_type": "display_data",
          "data": {
            "text/plain": [
              "<IPython.core.display.HTML object>"
            ],
            "text/html": [
              "Run data is saved locally in <code>/content/wandb/run-20250509_170851-o2445qbl</code>"
            ]
          },
          "metadata": {}
        },
        {
          "output_type": "display_data",
          "data": {
            "text/plain": [
              "<IPython.core.display.HTML object>"
            ],
            "text/html": [
              "Syncing run <strong><a href='https://wandb.ai/lidianeh-none/distilbert-final/runs/o2445qbl' target=\"_blank\">toasty-sweep-13</a></strong> to <a href='https://wandb.ai/lidianeh-none/distilbert-final' target=\"_blank\">Weights & Biases</a> (<a href='https://wandb.me/developer-guide' target=\"_blank\">docs</a>)<br>Sweep page: <a href='https://wandb.ai/lidianeh-none/distilbert-final/sweeps/6yae4880' target=\"_blank\">https://wandb.ai/lidianeh-none/distilbert-final/sweeps/6yae4880</a>"
            ]
          },
          "metadata": {}
        },
        {
          "output_type": "display_data",
          "data": {
            "text/plain": [
              "<IPython.core.display.HTML object>"
            ],
            "text/html": [
              " View project at <a href='https://wandb.ai/lidianeh-none/distilbert-final' target=\"_blank\">https://wandb.ai/lidianeh-none/distilbert-final</a>"
            ]
          },
          "metadata": {}
        },
        {
          "output_type": "display_data",
          "data": {
            "text/plain": [
              "<IPython.core.display.HTML object>"
            ],
            "text/html": [
              " View sweep at <a href='https://wandb.ai/lidianeh-none/distilbert-final/sweeps/6yae4880' target=\"_blank\">https://wandb.ai/lidianeh-none/distilbert-final/sweeps/6yae4880</a>"
            ]
          },
          "metadata": {}
        },
        {
          "output_type": "display_data",
          "data": {
            "text/plain": [
              "<IPython.core.display.HTML object>"
            ],
            "text/html": [
              " View run at <a href='https://wandb.ai/lidianeh-none/distilbert-final/runs/o2445qbl' target=\"_blank\">https://wandb.ai/lidianeh-none/distilbert-final/runs/o2445qbl</a>"
            ]
          },
          "metadata": {}
        },
        {
          "output_type": "stream",
          "name": "stderr",
          "text": [
            "Some weights of WeightedDistilBertForTokenClassification were not initialized from the model checkpoint at distilbert-base-uncased and are newly initialized: ['classifier.bias', 'classifier.weight']\n",
            "You should probably TRAIN this model on a down-stream task to be able to use it for predictions and inference.\n",
            "<ipython-input-19-362b024c7306>:57: FutureWarning: `tokenizer` is deprecated and will be removed in version 5.0.0 for `Trainer.__init__`. Use `processing_class` instead.\n",
            "  trainer = Trainer(\n",
            "\u001b[34m\u001b[1mwandb\u001b[0m: \u001b[33mWARNING\u001b[0m Config item 'per_device_train_batch_size' was locked by 'sweep' (ignored update).\n",
            "\u001b[34m\u001b[1mwandb\u001b[0m: \u001b[33mWARNING\u001b[0m Config item 'learning_rate' was locked by 'sweep' (ignored update).\n",
            "\u001b[34m\u001b[1mwandb\u001b[0m: \u001b[33mWARNING\u001b[0m Config item 'weight_decay' was locked by 'sweep' (ignored update).\n",
            "\u001b[34m\u001b[1mwandb\u001b[0m: \u001b[33mWARNING\u001b[0m Config item 'adam_epsilon' was locked by 'sweep' (ignored update).\n",
            "\u001b[34m\u001b[1mwandb\u001b[0m: \u001b[33mWARNING\u001b[0m Config item 'num_train_epochs' was locked by 'sweep' (ignored update).\n",
            "\u001b[34m\u001b[1mwandb\u001b[0m: \u001b[33mWARNING\u001b[0m Config item 'warmup_ratio' was locked by 'sweep' (ignored update).\n",
            "\u001b[34m\u001b[1mwandb\u001b[0m: \u001b[33mWARNING\u001b[0m Config item 'seed' was locked by 'sweep' (ignored update).\n"
          ]
        },
        {
          "output_type": "display_data",
          "data": {
            "text/plain": [
              "<IPython.core.display.HTML object>"
            ],
            "text/html": [
              "\n",
              "    <div>\n",
              "      \n",
              "      <progress value='54' max='54' style='width:300px; height:20px; vertical-align: middle;'></progress>\n",
              "      [54/54 00:24, Epoch 6/6]\n",
              "    </div>\n",
              "    <table border=\"1\" class=\"dataframe\">\n",
              "  <thead>\n",
              " <tr style=\"text-align: left;\">\n",
              "      <th>Epoch</th>\n",
              "      <th>Training Loss</th>\n",
              "      <th>Validation Loss</th>\n",
              "      <th>Precision</th>\n",
              "      <th>Recall</th>\n",
              "      <th>F1</th>\n",
              "    </tr>\n",
              "  </thead>\n",
              "  <tbody>\n",
              "    <tr>\n",
              "      <td>1</td>\n",
              "      <td>3.606700</td>\n",
              "      <td>2.537847</td>\n",
              "      <td>1.000000</td>\n",
              "      <td>0.000000</td>\n",
              "      <td>0.000000</td>\n",
              "    </tr>\n",
              "    <tr>\n",
              "      <td>2</td>\n",
              "      <td>2.070500</td>\n",
              "      <td>1.819223</td>\n",
              "      <td>1.000000</td>\n",
              "      <td>0.000000</td>\n",
              "      <td>0.000000</td>\n",
              "    </tr>\n",
              "    <tr>\n",
              "      <td>3</td>\n",
              "      <td>1.644000</td>\n",
              "      <td>1.499149</td>\n",
              "      <td>1.000000</td>\n",
              "      <td>0.000000</td>\n",
              "      <td>0.000000</td>\n",
              "    </tr>\n",
              "    <tr>\n",
              "      <td>4</td>\n",
              "      <td>1.380600</td>\n",
              "      <td>1.283248</td>\n",
              "      <td>0.238095</td>\n",
              "      <td>0.044053</td>\n",
              "      <td>0.074349</td>\n",
              "    </tr>\n",
              "    <tr>\n",
              "      <td>5</td>\n",
              "      <td>1.206200</td>\n",
              "      <td>1.153052</td>\n",
              "      <td>0.187266</td>\n",
              "      <td>0.220264</td>\n",
              "      <td>0.202429</td>\n",
              "    </tr>\n",
              "    <tr>\n",
              "      <td>6</td>\n",
              "      <td>1.111500</td>\n",
              "      <td>1.108884</td>\n",
              "      <td>0.225806</td>\n",
              "      <td>0.277533</td>\n",
              "      <td>0.249012</td>\n",
              "    </tr>\n",
              "  </tbody>\n",
              "</table><p>"
            ]
          },
          "metadata": {}
        },
        {
          "output_type": "display_data",
          "data": {
            "text/plain": [
              "<IPython.core.display.HTML object>"
            ],
            "text/html": []
          },
          "metadata": {}
        },
        {
          "output_type": "stream",
          "name": "stdout",
          "text": [
            "{'eval_loss': 1.0522377490997314, 'eval_precision': 0.23461538461538461, 'eval_recall': 0.2946859903381642, 'eval_f1': 0.2612419700214132, 'eval_runtime': 0.1786, 'eval_samples_per_second': 167.972, 'eval_steps_per_second': 11.198, 'epoch': 6.0}\n"
          ]
        },
        {
          "output_type": "stream",
          "name": "stderr",
          "text": [
            "/usr/local/lib/python3.11/dist-packages/seqeval/metrics/v1.py:57: UndefinedMetricWarning: Precision and F-score are ill-defined and being set to 0.0 in labels with no predicted samples. Use `zero_division` parameter to control this behavior.\n",
            "  _warn_prf(average, modifier, msg_start, len(result))\n"
          ]
        },
        {
          "output_type": "stream",
          "name": "stdout",
          "text": [
            "                       precision    recall  f1-score   support\n",
            "\n",
            "          CompanyName       0.21      0.26      0.23        27\n",
            "  CurrentNeighborhood       0.00      0.00      0.00         1\n",
            "    DecisionMakerRole       0.00      0.00      0.00         6\n",
            "            FirstName       0.45      0.83      0.59        30\n",
            "             Industry       0.00      0.00      0.00        12\n",
            "             LastName       0.00      0.00      0.00         8\n",
            "            MustHaves       0.18      0.58      0.27        50\n",
            "          NiceToHaves       0.00      0.00      0.00        10\n",
            "            PainPoint       0.00      0.00      0.00         1\n",
            "   PreferredLeaseTerm       0.00      0.00      0.00         3\n",
            "PreferredNeighborhood       0.00      0.00      0.00        13\n",
            "         PropertyType       0.00      0.00      0.00        26\n",
            "         UrgencyScore       0.00      0.00      0.00        20\n",
            "\n",
            "            micro avg       0.23      0.29      0.26       207\n",
            "            macro avg       0.06      0.13      0.08       207\n",
            "         weighted avg       0.14      0.29      0.18       207\n",
            "\n",
            "   firstname lastname email phone    companyname industry companysize  \\\n",
            "0       luke     None  None  None           None     None        None   \n",
            "1    michael     None  None  None          urban     None        None   \n",
            "2     daniel     None  None  None           None     None        None   \n",
            "3       liam     None  None  None           None     None        None   \n",
            "4      jamie     None  None  None           None     None        None   \n",
            "5       liam     None  None  None           None     None        None   \n",
            "6    michael     None  None  None           None     None        None   \n",
            "7    rebecca     None  None  None           None     None        None   \n",
            "8     amelia     None  None  None           None     None        None   \n",
            "9       None     None  None  None           None     None        None   \n",
            "10      lena     None  None  None           None     None        None   \n",
            "11      reed     None  None  None      urbancore     None        None   \n",
            "12      liam     None  None  None           None     None        None   \n",
            "13    samuel     None  None  None    urban vista     None        None   \n",
            "14    evelyn     None  None  None           None     None        None   \n",
            "15     ethan     None  None  None           None     None        None   \n",
            "16   michael     None  None  None          urban     None        None   \n",
            "17      liam     None  None  None           None     None        None   \n",
            "18      liam     None  None  None  city cultural     None        None   \n",
            "19     ethan     None  None  None           None     None        None   \n",
            "20      eric     None  None  None      urbanedge     None        None   \n",
            "21      alex     None  None  None           None     None        None   \n",
            "22      None     None  None  None           None     None        None   \n",
            "23      None     None  None  None           None     None        None   \n",
            "24    evelyn     None  None  None           None     None        None   \n",
            "25      None     None  None  None           None     None        None   \n",
            "26    jordan     None  None  None           None     None        None   \n",
            "27      nina     None  None  None           None     None        None   \n",
            "28      mark     None  None  None           None     None        None   \n",
            "29      jane     None  None  None           None     None        None   \n",
            "\n",
            "   growthstage currentneighborhood firstinteraction  ... movingterm  \\\n",
            "0         None                None             None  ...       None   \n",
            "1         None                None             None  ...       None   \n",
            "2         None                None             None  ...       None   \n",
            "3         None                None             None  ...       None   \n",
            "4         None                None             None  ...       None   \n",
            "5         None                None             None  ...       None   \n",
            "6         None                None             None  ...       None   \n",
            "7         None                None             None  ...       None   \n",
            "8         None                None             None  ...       None   \n",
            "9         None                None             None  ...       None   \n",
            "10        None                None             None  ...       None   \n",
            "11        None                None             None  ...       None   \n",
            "12        None                None             None  ...       None   \n",
            "13        None                None             None  ...       None   \n",
            "14        None                None             None  ...       None   \n",
            "15        None                None             None  ...       None   \n",
            "16        None                None             None  ...       None   \n",
            "17        None                None             None  ...       None   \n",
            "18        None                None             None  ...       None   \n",
            "19        None                None             None  ...       None   \n",
            "20        None                None             None  ...       None   \n",
            "21        None                None             None  ...       None   \n",
            "22        None                None             None  ...       None   \n",
            "23        None                None             None  ...       None   \n",
            "24        None                None             None  ...       None   \n",
            "25        None                None             None  ...       None   \n",
            "26        None                None             None  ...       None   \n",
            "27        None                None             None  ...       None   \n",
            "28        None                None             None  ...       None   \n",
            "29        None                None             None  ...       None   \n",
            "\n",
            "   min_months max_months movingtimeline         musthaves nicetohaves  \\\n",
            "0        None       None           None              None        None   \n",
            "1        None       None           None              None        None   \n",
            "2        None       None           None    public transit        None   \n",
            "3        None       None           None              None        None   \n",
            "4        None       None           None              None        None   \n",
            "5        None       None           None              None        None   \n",
            "6        None       None           None              None        None   \n",
            "7        None       None           None     natural light        None   \n",
            "8        None       None           None              None        None   \n",
            "9        None       None           None     natural light        None   \n",
            "10       None       None           None  operable windows        None   \n",
            "11       None       None           None              None        None   \n",
            "12       None       None           None       healthacces        None   \n",
            "13       None       None           None              None        None   \n",
            "14       None       None           None              None        None   \n",
            "15       None       None           None              None        None   \n",
            "16       None       None           None              None        None   \n",
            "17       None       None           None            courts        None   \n",
            "18       None       None           None              None        None   \n",
            "19       None       None           None              None        None   \n",
            "20       None       None           None              None        None   \n",
            "21       None       None           None              None        None   \n",
            "22       None       None           None              None        None   \n",
            "23       None       None           None              None        None   \n",
            "24       None       None           None              None        None   \n",
            "25       None       None           None     natural light        None   \n",
            "26       None       None           None              None        None   \n",
            "27       None       None           None           artisan        None   \n",
            "28       None       None           None              None        None   \n",
            "29       None       None           None              None        None   \n",
            "\n",
            "   painpoint urgencyscore outcome personality  \n",
            "0       None         None    None        None  \n",
            "1       None         None    None        None  \n",
            "2       None         None    None        None  \n",
            "3       None         None    None        None  \n",
            "4       None         None    None        None  \n",
            "5       None         None    None        None  \n",
            "6       None         None    None        None  \n",
            "7       None         None    None        None  \n",
            "8       None         None    None        None  \n",
            "9       None         None    None        None  \n",
            "10      None         None    None        None  \n",
            "11      None         None    None        None  \n",
            "12      None         None    None        None  \n",
            "13      None         None    None        None  \n",
            "14      None         None    None        None  \n",
            "15      None         None    None        None  \n",
            "16      None         None    None        None  \n",
            "17      None         None    None        None  \n",
            "18      None         None    None        None  \n",
            "19      None         None    None        None  \n",
            "20      None         None    None        None  \n",
            "21      None         None    None        None  \n",
            "22      None         None    None        None  \n",
            "23      None         None    None        None  \n",
            "24      None         None    None        None  \n",
            "25      None         None    None        None  \n",
            "26      None         None    None        None  \n",
            "27      None         None    None        None  \n",
            "28      None         None    None        None  \n",
            "29      None         None    None        None  \n",
            "\n",
            "[30 rows x 27 columns]\n",
            "Structured Field-Level Metrics: {'firstname_precision': 1.0, 'firstname_recall': 1.0, 'firstname_f1': 1.0, 'companyname_precision': 1.0, 'companyname_recall': 1.0, 'companyname_f1': 1.0, 'musthaves_precision': 1.0, 'musthaves_recall': 1.0, 'musthaves_f1': 1.0, 'macro_precision': np.float64(1.0), 'macro_recall': np.float64(1.0), 'macro_f1': np.float64(1.0)}\n",
            "Predictions saved to: /content/drive/MyDrive/distilbert_outputs/toasty-sweep-13_predictions.json\n"
          ]
        },
        {
          "output_type": "display_data",
          "data": {
            "text/plain": [
              "<IPython.core.display.HTML object>"
            ],
            "text/html": []
          },
          "metadata": {}
        },
        {
          "output_type": "display_data",
          "data": {
            "text/plain": [
              "<IPython.core.display.HTML object>"
            ],
            "text/html": [
              "<br>    <style><br>        .wandb-row {<br>            display: flex;<br>            flex-direction: row;<br>            flex-wrap: wrap;<br>            justify-content: flex-start;<br>            width: 100%;<br>        }<br>        .wandb-col {<br>            display: flex;<br>            flex-direction: column;<br>            flex-basis: 100%;<br>            flex: 1;<br>            padding: 10px;<br>        }<br>    </style><br><div class=\"wandb-row\"><div class=\"wandb-col\"><h3>Run history:</h3><br/><table class=\"wandb\"><tr><td>eval/f1</td><td>▁▁▁▃▆███</td></tr><tr><td>eval/loss</td><td>█▅▃▂▁▁▁▁</td></tr><tr><td>eval/precision</td><td>███▁▁▁▁▁</td></tr><tr><td>eval/recall</td><td>▁▁▁▂▆███</td></tr><tr><td>eval/runtime</td><td>▂▂▂▁▁▃█▁</td></tr><tr><td>eval/samples_per_second</td><td>▇▇▇██▆▁█</td></tr><tr><td>eval/steps_per_second</td><td>▇▇▇██▆▁█</td></tr><tr><td>test/f1</td><td>▁</td></tr><tr><td>test/loss</td><td>▁</td></tr><tr><td>test/precision</td><td>▁</td></tr><tr><td>test/recall</td><td>▁</td></tr><tr><td>test/runtime</td><td>▁</td></tr><tr><td>test/samples_per_second</td><td>▁</td></tr><tr><td>test/steps_per_second</td><td>▁</td></tr><tr><td>test_companyname_f1</td><td>▁</td></tr><tr><td>test_companyname_precision</td><td>▁</td></tr><tr><td>test_companyname_recall</td><td>▁</td></tr><tr><td>test_firstname_f1</td><td>▁</td></tr><tr><td>test_firstname_precision</td><td>▁</td></tr><tr><td>test_firstname_recall</td><td>▁</td></tr><tr><td>test_macro_f1</td><td>▁</td></tr><tr><td>test_macro_precision</td><td>▁</td></tr><tr><td>test_macro_recall</td><td>▁</td></tr><tr><td>test_musthaves_f1</td><td>▁</td></tr><tr><td>test_musthaves_precision</td><td>▁</td></tr><tr><td>test_musthaves_recall</td><td>▁</td></tr><tr><td>train/epoch</td><td>▁▁▂▂▄▄▅▅▇▇█████</td></tr><tr><td>train/global_step</td><td>▁▁▂▂▄▄▅▅▇▇████████</td></tr><tr><td>train/grad_norm</td><td>█▂▁▁▁▁</td></tr><tr><td>train/learning_rate</td><td>█▇▅▄▂▁</td></tr><tr><td>train/loss</td><td>█▄▂▂▁▁</td></tr></table><br/></div><div class=\"wandb-col\"><h3>Run summary:</h3><br/><table class=\"wandb\"><tr><td>eval/f1</td><td>0.26124</td></tr><tr><td>eval/loss</td><td>1.05224</td></tr><tr><td>eval/precision</td><td>0.23462</td></tr><tr><td>eval/recall</td><td>0.29469</td></tr><tr><td>eval/runtime</td><td>0.1786</td></tr><tr><td>eval/samples_per_second</td><td>167.972</td></tr><tr><td>eval/steps_per_second</td><td>11.198</td></tr><tr><td>test/f1</td><td>0.26124</td></tr><tr><td>test/loss</td><td>1.05224</td></tr><tr><td>test/precision</td><td>0.23462</td></tr><tr><td>test/recall</td><td>0.29469</td></tr><tr><td>test/runtime</td><td>0.1776</td></tr><tr><td>test/samples_per_second</td><td>168.963</td></tr><tr><td>test/steps_per_second</td><td>11.264</td></tr><tr><td>test_companyname_f1</td><td>1</td></tr><tr><td>test_companyname_precision</td><td>1</td></tr><tr><td>test_companyname_recall</td><td>1</td></tr><tr><td>test_firstname_f1</td><td>1</td></tr><tr><td>test_firstname_precision</td><td>1</td></tr><tr><td>test_firstname_recall</td><td>1</td></tr><tr><td>test_macro_f1</td><td>1</td></tr><tr><td>test_macro_precision</td><td>1</td></tr><tr><td>test_macro_recall</td><td>1</td></tr><tr><td>test_musthaves_f1</td><td>1</td></tr><tr><td>test_musthaves_precision</td><td>1</td></tr><tr><td>test_musthaves_recall</td><td>1</td></tr><tr><td>total_flos</td><td>109853776650240.0</td></tr><tr><td>train/epoch</td><td>6</td></tr><tr><td>train/global_step</td><td>54</td></tr><tr><td>train/grad_norm</td><td>1.64542</td></tr><tr><td>train/learning_rate</td><td>0.0</td></tr><tr><td>train/loss</td><td>1.1115</td></tr><tr><td>train_loss</td><td>1.83658</td></tr><tr><td>train_runtime</td><td>24.8659</td></tr><tr><td>train_samples_per_second</td><td>33.781</td></tr><tr><td>train_steps_per_second</td><td>2.172</td></tr></table><br/></div></div>"
            ]
          },
          "metadata": {}
        },
        {
          "output_type": "display_data",
          "data": {
            "text/plain": [
              "<IPython.core.display.HTML object>"
            ],
            "text/html": [
              " View run <strong style=\"color:#cdcd00\">toasty-sweep-13</strong> at: <a href='https://wandb.ai/lidianeh-none/distilbert-final/runs/o2445qbl' target=\"_blank\">https://wandb.ai/lidianeh-none/distilbert-final/runs/o2445qbl</a><br> View project at: <a href='https://wandb.ai/lidianeh-none/distilbert-final' target=\"_blank\">https://wandb.ai/lidianeh-none/distilbert-final</a><br>Synced 5 W&B file(s), 1 media file(s), 2 artifact file(s) and 0 other file(s)"
            ]
          },
          "metadata": {}
        },
        {
          "output_type": "display_data",
          "data": {
            "text/plain": [
              "<IPython.core.display.HTML object>"
            ],
            "text/html": [
              "Find logs at: <code>./wandb/run-20250509_170851-o2445qbl/logs</code>"
            ]
          },
          "metadata": {}
        },
        {
          "output_type": "stream",
          "name": "stderr",
          "text": [
            "\u001b[34m\u001b[1mwandb\u001b[0m: Agent Starting Run: 0fom09w6 with config:\n",
            "\u001b[34m\u001b[1mwandb\u001b[0m: \tadam_epsilon: 1e-06\n",
            "\u001b[34m\u001b[1mwandb\u001b[0m: \tlearning_rate: 2.8847783730441056e-05\n",
            "\u001b[34m\u001b[1mwandb\u001b[0m: \tnum_train_epochs: 6\n",
            "\u001b[34m\u001b[1mwandb\u001b[0m: \tper_device_train_batch_size: 16\n",
            "\u001b[34m\u001b[1mwandb\u001b[0m: \tseed: 42\n",
            "\u001b[34m\u001b[1mwandb\u001b[0m: \twarmup_ratio: 0.1274301632716811\n",
            "\u001b[34m\u001b[1mwandb\u001b[0m: \tweight_decay: 0.1498608020433817\n"
          ]
        },
        {
          "output_type": "display_data",
          "data": {
            "text/plain": [
              "<IPython.core.display.HTML object>"
            ],
            "text/html": [
              "Tracking run with wandb version 0.19.10"
            ]
          },
          "metadata": {}
        },
        {
          "output_type": "display_data",
          "data": {
            "text/plain": [
              "<IPython.core.display.HTML object>"
            ],
            "text/html": [
              "Run data is saved locally in <code>/content/wandb/run-20250509_170928-0fom09w6</code>"
            ]
          },
          "metadata": {}
        },
        {
          "output_type": "display_data",
          "data": {
            "text/plain": [
              "<IPython.core.display.HTML object>"
            ],
            "text/html": [
              "Syncing run <strong><a href='https://wandb.ai/lidianeh-none/distilbert-final/runs/0fom09w6' target=\"_blank\">classic-sweep-14</a></strong> to <a href='https://wandb.ai/lidianeh-none/distilbert-final' target=\"_blank\">Weights & Biases</a> (<a href='https://wandb.me/developer-guide' target=\"_blank\">docs</a>)<br>Sweep page: <a href='https://wandb.ai/lidianeh-none/distilbert-final/sweeps/6yae4880' target=\"_blank\">https://wandb.ai/lidianeh-none/distilbert-final/sweeps/6yae4880</a>"
            ]
          },
          "metadata": {}
        },
        {
          "output_type": "display_data",
          "data": {
            "text/plain": [
              "<IPython.core.display.HTML object>"
            ],
            "text/html": [
              " View project at <a href='https://wandb.ai/lidianeh-none/distilbert-final' target=\"_blank\">https://wandb.ai/lidianeh-none/distilbert-final</a>"
            ]
          },
          "metadata": {}
        },
        {
          "output_type": "display_data",
          "data": {
            "text/plain": [
              "<IPython.core.display.HTML object>"
            ],
            "text/html": [
              " View sweep at <a href='https://wandb.ai/lidianeh-none/distilbert-final/sweeps/6yae4880' target=\"_blank\">https://wandb.ai/lidianeh-none/distilbert-final/sweeps/6yae4880</a>"
            ]
          },
          "metadata": {}
        },
        {
          "output_type": "display_data",
          "data": {
            "text/plain": [
              "<IPython.core.display.HTML object>"
            ],
            "text/html": [
              " View run at <a href='https://wandb.ai/lidianeh-none/distilbert-final/runs/0fom09w6' target=\"_blank\">https://wandb.ai/lidianeh-none/distilbert-final/runs/0fom09w6</a>"
            ]
          },
          "metadata": {}
        },
        {
          "output_type": "stream",
          "name": "stderr",
          "text": [
            "Some weights of WeightedDistilBertForTokenClassification were not initialized from the model checkpoint at distilbert-base-uncased and are newly initialized: ['classifier.bias', 'classifier.weight']\n",
            "You should probably TRAIN this model on a down-stream task to be able to use it for predictions and inference.\n",
            "<ipython-input-19-362b024c7306>:57: FutureWarning: `tokenizer` is deprecated and will be removed in version 5.0.0 for `Trainer.__init__`. Use `processing_class` instead.\n",
            "  trainer = Trainer(\n",
            "\u001b[34m\u001b[1mwandb\u001b[0m: \u001b[33mWARNING\u001b[0m Config item 'per_device_train_batch_size' was locked by 'sweep' (ignored update).\n",
            "\u001b[34m\u001b[1mwandb\u001b[0m: \u001b[33mWARNING\u001b[0m Config item 'learning_rate' was locked by 'sweep' (ignored update).\n",
            "\u001b[34m\u001b[1mwandb\u001b[0m: \u001b[33mWARNING\u001b[0m Config item 'weight_decay' was locked by 'sweep' (ignored update).\n",
            "\u001b[34m\u001b[1mwandb\u001b[0m: \u001b[33mWARNING\u001b[0m Config item 'adam_epsilon' was locked by 'sweep' (ignored update).\n",
            "\u001b[34m\u001b[1mwandb\u001b[0m: \u001b[33mWARNING\u001b[0m Config item 'num_train_epochs' was locked by 'sweep' (ignored update).\n",
            "\u001b[34m\u001b[1mwandb\u001b[0m: \u001b[33mWARNING\u001b[0m Config item 'warmup_ratio' was locked by 'sweep' (ignored update).\n",
            "\u001b[34m\u001b[1mwandb\u001b[0m: \u001b[33mWARNING\u001b[0m Config item 'seed' was locked by 'sweep' (ignored update).\n"
          ]
        },
        {
          "output_type": "display_data",
          "data": {
            "text/plain": [
              "<IPython.core.display.HTML object>"
            ],
            "text/html": [
              "\n",
              "    <div>\n",
              "      \n",
              "      <progress value='54' max='54' style='width:300px; height:20px; vertical-align: middle;'></progress>\n",
              "      [54/54 00:23, Epoch 6/6]\n",
              "    </div>\n",
              "    <table border=\"1\" class=\"dataframe\">\n",
              "  <thead>\n",
              " <tr style=\"text-align: left;\">\n",
              "      <th>Epoch</th>\n",
              "      <th>Training Loss</th>\n",
              "      <th>Validation Loss</th>\n",
              "      <th>Precision</th>\n",
              "      <th>Recall</th>\n",
              "      <th>F1</th>\n",
              "    </tr>\n",
              "  </thead>\n",
              "  <tbody>\n",
              "    <tr>\n",
              "      <td>1</td>\n",
              "      <td>3.846500</td>\n",
              "      <td>2.951985</td>\n",
              "      <td>1.000000</td>\n",
              "      <td>0.000000</td>\n",
              "      <td>0.000000</td>\n",
              "    </tr>\n",
              "    <tr>\n",
              "      <td>2</td>\n",
              "      <td>2.156500</td>\n",
              "      <td>1.787640</td>\n",
              "      <td>1.000000</td>\n",
              "      <td>0.000000</td>\n",
              "      <td>0.000000</td>\n",
              "    </tr>\n",
              "    <tr>\n",
              "      <td>3</td>\n",
              "      <td>1.597500</td>\n",
              "      <td>1.462809</td>\n",
              "      <td>1.000000</td>\n",
              "      <td>0.000000</td>\n",
              "      <td>0.000000</td>\n",
              "    </tr>\n",
              "    <tr>\n",
              "      <td>4</td>\n",
              "      <td>1.356900</td>\n",
              "      <td>1.239013</td>\n",
              "      <td>0.370370</td>\n",
              "      <td>0.088106</td>\n",
              "      <td>0.142349</td>\n",
              "    </tr>\n",
              "    <tr>\n",
              "      <td>5</td>\n",
              "      <td>1.169000</td>\n",
              "      <td>1.105938</td>\n",
              "      <td>0.292517</td>\n",
              "      <td>0.189427</td>\n",
              "      <td>0.229947</td>\n",
              "    </tr>\n",
              "    <tr>\n",
              "      <td>6</td>\n",
              "      <td>1.079600</td>\n",
              "      <td>1.058767</td>\n",
              "      <td>0.277512</td>\n",
              "      <td>0.255507</td>\n",
              "      <td>0.266055</td>\n",
              "    </tr>\n",
              "  </tbody>\n",
              "</table><p>"
            ]
          },
          "metadata": {}
        },
        {
          "output_type": "display_data",
          "data": {
            "text/plain": [
              "<IPython.core.display.HTML object>"
            ],
            "text/html": []
          },
          "metadata": {}
        },
        {
          "output_type": "stream",
          "name": "stdout",
          "text": [
            "{'eval_loss': 0.989685595035553, 'eval_precision': 0.3471502590673575, 'eval_recall': 0.32367149758454106, 'eval_f1': 0.335, 'eval_runtime': 0.1779, 'eval_samples_per_second': 168.592, 'eval_steps_per_second': 11.239, 'epoch': 6.0}\n"
          ]
        },
        {
          "output_type": "stream",
          "name": "stderr",
          "text": [
            "/usr/local/lib/python3.11/dist-packages/seqeval/metrics/v1.py:57: UndefinedMetricWarning: Precision and F-score are ill-defined and being set to 0.0 in labels with no predicted samples. Use `zero_division` parameter to control this behavior.\n",
            "  _warn_prf(average, modifier, msg_start, len(result))\n"
          ]
        },
        {
          "output_type": "stream",
          "name": "stdout",
          "text": [
            "                       precision    recall  f1-score   support\n",
            "\n",
            "          CompanyName       0.28      0.74      0.41        27\n",
            "  CurrentNeighborhood       0.00      0.00      0.00         1\n",
            "    DecisionMakerRole       0.00      0.00      0.00         6\n",
            "            FirstName       0.88      0.23      0.37        30\n",
            "             Industry       0.00      0.00      0.00        12\n",
            "             LastName       0.00      0.00      0.00         8\n",
            "            MustHaves       0.22      0.36      0.27        50\n",
            "          NiceToHaves       0.00      0.00      0.00        10\n",
            "            PainPoint       0.00      0.00      0.00         1\n",
            "   PreferredLeaseTerm       0.00      0.00      0.00         3\n",
            "PreferredNeighborhood       0.00      0.00      0.00        13\n",
            "         PropertyType       0.88      0.85      0.86        26\n",
            "         UrgencyScore       0.00      0.00      0.00        20\n",
            "\n",
            "            micro avg       0.35      0.32      0.34       207\n",
            "            macro avg       0.17      0.17      0.15       207\n",
            "         weighted avg       0.33      0.32      0.28       207\n",
            "\n",
            "   firstname lastname email phone companyname industry companysize  \\\n",
            "0       None     None  None  None        None     None        None   \n",
            "1       None     None  None  None        None     None        None   \n",
            "2     daniel     None  None  None        None     None        None   \n",
            "3       None     None  None  None        None     None        None   \n",
            "4       None     None  None  None        None     None        None   \n",
            "5       None     None  None  None        None     None        None   \n",
            "6       None     None  None  None        None     None        None   \n",
            "7       None     None  None  None        None     None        None   \n",
            "8       None     None  None  None        None     None        None   \n",
            "9       None     None  None  None        None     None        None   \n",
            "10      lena     None  None  None        None     None        None   \n",
            "11      reed     None  None  None        None     None        None   \n",
            "12      None     None  None  None        None     None        None   \n",
            "13    samuel     None  None  None        None     None        None   \n",
            "14      None     None  None  None        None     None        None   \n",
            "15      None     None  None  None        None     None        None   \n",
            "16   michael     None  None  None        None     None        None   \n",
            "17      None     None  None  None        None     None        None   \n",
            "18      None     None  None  None        None     None        None   \n",
            "19      None     None  None  None        None     None        None   \n",
            "20      None     None  None  None        None     None        None   \n",
            "21    jordan     None  None  None        None     None        None   \n",
            "22      None     None  None  None        None     None        None   \n",
            "23      None     None  None  None        None     None        None   \n",
            "24    evelyn     None  None  None        None     None        None   \n",
            "25      None     None  None  None        None     None        None   \n",
            "26      None     None  None  None        None     None        None   \n",
            "27      None     None  None  None        None     None        None   \n",
            "28      None     None  None  None        None     None        None   \n",
            "29      None     None  None  None        None     None        None   \n",
            "\n",
            "   growthstage currentneighborhood firstinteraction  ... movingterm  \\\n",
            "0         None                None             None  ...       None   \n",
            "1         None                None             None  ...       None   \n",
            "2         None                None             None  ...       None   \n",
            "3         None                None             None  ...       None   \n",
            "4         None                None             None  ...       None   \n",
            "5         None                None             None  ...       None   \n",
            "6         None                None             None  ...       None   \n",
            "7         None                None             None  ...       None   \n",
            "8         None                None             None  ...       None   \n",
            "9         None                None             None  ...       None   \n",
            "10        None                None             None  ...       None   \n",
            "11        None                None             None  ...       None   \n",
            "12        None                None             None  ...       None   \n",
            "13        None                None             None  ...       None   \n",
            "14        None                None             None  ...       None   \n",
            "15        None                None             None  ...       None   \n",
            "16        None                None             None  ...       None   \n",
            "17        None                None             None  ...       None   \n",
            "18        None                None             None  ...       None   \n",
            "19        None                None             None  ...       None   \n",
            "20        None                None             None  ...       None   \n",
            "21        None                None             None  ...       None   \n",
            "22        None                None             None  ...       None   \n",
            "23        None                None             None  ...       None   \n",
            "24        None                None             None  ...       None   \n",
            "25        None                None             None  ...       None   \n",
            "26        None                None             None  ...       None   \n",
            "27        None                None             None  ...       None   \n",
            "28        None                None             None  ...       None   \n",
            "29        None                None             None  ...       None   \n",
            "\n",
            "   min_months max_months movingtimeline       musthaves nicetohaves painpoint  \\\n",
            "0        None       None           None            hvac        None      None   \n",
            "1        None       None           None            None        None      None   \n",
            "2        None       None           None  public transit        None      None   \n",
            "3        None       None           None            None        None      None   \n",
            "4        None       None           None      soundproof        None      None   \n",
            "5        None       None           None   natural light        None      None   \n",
            "6        None       None           None   natural light        None      None   \n",
            "7        None       None           None   natural light        None      None   \n",
            "8        None       None           None            None        None      None   \n",
            "9        None       None           None   natural light        None      None   \n",
            "10       None       None           None            None        None      None   \n",
            "11       None       None           None   natural light        None      None   \n",
            "12       None       None           None            hvac        None      None   \n",
            "13       None       None           None            None        None      None   \n",
            "14       None       None           None            None        None      None   \n",
            "15       None       None           None            hvac        None      None   \n",
            "16       None       None           None            None        None      None   \n",
            "17       None       None           None            None        None      None   \n",
            "18       None       None           None            None        None      None   \n",
            "19       None       None           None            None        None      None   \n",
            "20       None       None           None            None        None      None   \n",
            "21       None       None           None            None        None      None   \n",
            "22       None       None           None            None        None      None   \n",
            "23       None       None           None   natural light        None      None   \n",
            "24       None       None           None            hvac        None      None   \n",
            "25       None       None           None   natural light        None      None   \n",
            "26       None       None           None   natural light        None      None   \n",
            "27       None       None           None            None        None      None   \n",
            "28       None       None           None            None        None      None   \n",
            "29       None       None           None   natural light        None      None   \n",
            "\n",
            "   urgencyscore outcome personality  \n",
            "0          None    None        None  \n",
            "1          None    None        None  \n",
            "2          None    None        None  \n",
            "3          None    None        None  \n",
            "4          None    None        None  \n",
            "5          None    None        None  \n",
            "6          None    None        None  \n",
            "7          None    None        None  \n",
            "8          None    None        None  \n",
            "9          None    None        None  \n",
            "10         None    None        None  \n",
            "11         None    None        None  \n",
            "12         None    None        None  \n",
            "13         None    None        None  \n",
            "14         None    None        None  \n",
            "15         None    None        None  \n",
            "16         None    None        None  \n",
            "17         None    None        None  \n",
            "18         None    None        None  \n",
            "19         None    None        None  \n",
            "20         None    None        None  \n",
            "21         None    None        None  \n",
            "22         None    None        None  \n",
            "23         None    None        None  \n",
            "24         None    None        None  \n",
            "25         None    None        None  \n",
            "26         None    None        None  \n",
            "27         None    None        None  \n",
            "28         None    None        None  \n",
            "29         None    None        None  \n",
            "\n",
            "[30 rows x 27 columns]\n",
            "Structured Field-Level Metrics: {'firstname_precision': 1.0, 'firstname_recall': 1.0, 'firstname_f1': 1.0, 'propertytype_precision': 1.0, 'propertytype_recall': 1.0, 'propertytype_f1': 1.0, 'preferredneighborhood_precision': 1.0, 'preferredneighborhood_recall': 1.0, 'preferredneighborhood_f1': 1.0, 'musthaves_precision': 1.0, 'musthaves_recall': 1.0, 'musthaves_f1': 1.0, 'macro_precision': np.float64(1.0), 'macro_recall': np.float64(1.0), 'macro_f1': np.float64(1.0)}\n",
            "Predictions saved to: /content/drive/MyDrive/distilbert_outputs/classic-sweep-14_predictions.json\n"
          ]
        },
        {
          "output_type": "display_data",
          "data": {
            "text/plain": [
              "<IPython.core.display.HTML object>"
            ],
            "text/html": []
          },
          "metadata": {}
        },
        {
          "output_type": "display_data",
          "data": {
            "text/plain": [
              "<IPython.core.display.HTML object>"
            ],
            "text/html": [
              "<br>    <style><br>        .wandb-row {<br>            display: flex;<br>            flex-direction: row;<br>            flex-wrap: wrap;<br>            justify-content: flex-start;<br>            width: 100%;<br>        }<br>        .wandb-col {<br>            display: flex;<br>            flex-direction: column;<br>            flex-basis: 100%;<br>            flex: 1;<br>            padding: 10px;<br>        }<br>    </style><br><div class=\"wandb-row\"><div class=\"wandb-col\"><h3>Run history:</h3><br/><table class=\"wandb\"><tr><td>eval/f1</td><td>▁▁▁▄▆▇▇█</td></tr><tr><td>eval/loss</td><td>█▄▃▂▁▁▁▁</td></tr><tr><td>eval/precision</td><td>███▂▁▁▁▂</td></tr><tr><td>eval/recall</td><td>▁▁▁▃▅▇▇█</td></tr><tr><td>eval/runtime</td><td>▄▂▂▂▅▂█▁</td></tr><tr><td>eval/samples_per_second</td><td>▅▇▇▇▄▇▁█</td></tr><tr><td>eval/steps_per_second</td><td>▅▇▇▇▄▇▁█</td></tr><tr><td>test/f1</td><td>▁</td></tr><tr><td>test/loss</td><td>▁</td></tr><tr><td>test/precision</td><td>▁</td></tr><tr><td>test/recall</td><td>▁</td></tr><tr><td>test/runtime</td><td>▁</td></tr><tr><td>test/samples_per_second</td><td>▁</td></tr><tr><td>test/steps_per_second</td><td>▁</td></tr><tr><td>test_firstname_f1</td><td>▁</td></tr><tr><td>test_firstname_precision</td><td>▁</td></tr><tr><td>test_firstname_recall</td><td>▁</td></tr><tr><td>test_macro_f1</td><td>▁</td></tr><tr><td>test_macro_precision</td><td>▁</td></tr><tr><td>test_macro_recall</td><td>▁</td></tr><tr><td>test_musthaves_f1</td><td>▁</td></tr><tr><td>test_musthaves_precision</td><td>▁</td></tr><tr><td>test_musthaves_recall</td><td>▁</td></tr><tr><td>test_preferredneighborhood_f1</td><td>▁</td></tr><tr><td>test_preferredneighborhood_precision</td><td>▁</td></tr><tr><td>test_preferredneighborhood_recall</td><td>▁</td></tr><tr><td>test_propertytype_f1</td><td>▁</td></tr><tr><td>test_propertytype_precision</td><td>▁</td></tr><tr><td>test_propertytype_recall</td><td>▁</td></tr><tr><td>train/epoch</td><td>▁▁▂▂▄▄▅▅▇▇█████</td></tr><tr><td>train/global_step</td><td>▁▁▂▂▄▄▅▅▇▇████████</td></tr><tr><td>train/grad_norm</td><td>█▂▂▁▁▁</td></tr><tr><td>train/learning_rate</td><td>█▇▅▄▂▁</td></tr><tr><td>train/loss</td><td>█▄▂▂▁▁</td></tr></table><br/></div><div class=\"wandb-col\"><h3>Run summary:</h3><br/><table class=\"wandb\"><tr><td>eval/f1</td><td>0.335</td></tr><tr><td>eval/loss</td><td>0.98969</td></tr><tr><td>eval/precision</td><td>0.34715</td></tr><tr><td>eval/recall</td><td>0.32367</td></tr><tr><td>eval/runtime</td><td>0.1779</td></tr><tr><td>eval/samples_per_second</td><td>168.592</td></tr><tr><td>eval/steps_per_second</td><td>11.239</td></tr><tr><td>test/f1</td><td>0.335</td></tr><tr><td>test/loss</td><td>0.98969</td></tr><tr><td>test/precision</td><td>0.34715</td></tr><tr><td>test/recall</td><td>0.32367</td></tr><tr><td>test/runtime</td><td>0.1786</td></tr><tr><td>test/samples_per_second</td><td>168.009</td></tr><tr><td>test/steps_per_second</td><td>11.201</td></tr><tr><td>test_firstname_f1</td><td>1</td></tr><tr><td>test_firstname_precision</td><td>1</td></tr><tr><td>test_firstname_recall</td><td>1</td></tr><tr><td>test_macro_f1</td><td>1</td></tr><tr><td>test_macro_precision</td><td>1</td></tr><tr><td>test_macro_recall</td><td>1</td></tr><tr><td>test_musthaves_f1</td><td>1</td></tr><tr><td>test_musthaves_precision</td><td>1</td></tr><tr><td>test_musthaves_recall</td><td>1</td></tr><tr><td>test_preferredneighborhood_f1</td><td>1</td></tr><tr><td>test_preferredneighborhood_precision</td><td>1</td></tr><tr><td>test_preferredneighborhood_recall</td><td>1</td></tr><tr><td>test_propertytype_f1</td><td>1</td></tr><tr><td>test_propertytype_precision</td><td>1</td></tr><tr><td>test_propertytype_recall</td><td>1</td></tr><tr><td>total_flos</td><td>109853776650240.0</td></tr><tr><td>train/epoch</td><td>6</td></tr><tr><td>train/global_step</td><td>54</td></tr><tr><td>train/grad_norm</td><td>1.41981</td></tr><tr><td>train/learning_rate</td><td>0.0</td></tr><tr><td>train/loss</td><td>1.0796</td></tr><tr><td>train_loss</td><td>1.86766</td></tr><tr><td>train_runtime</td><td>23.4997</td></tr><tr><td>train_samples_per_second</td><td>35.745</td></tr><tr><td>train_steps_per_second</td><td>2.298</td></tr></table><br/></div></div>"
            ]
          },
          "metadata": {}
        },
        {
          "output_type": "display_data",
          "data": {
            "text/plain": [
              "<IPython.core.display.HTML object>"
            ],
            "text/html": [
              " View run <strong style=\"color:#cdcd00\">classic-sweep-14</strong> at: <a href='https://wandb.ai/lidianeh-none/distilbert-final/runs/0fom09w6' target=\"_blank\">https://wandb.ai/lidianeh-none/distilbert-final/runs/0fom09w6</a><br> View project at: <a href='https://wandb.ai/lidianeh-none/distilbert-final' target=\"_blank\">https://wandb.ai/lidianeh-none/distilbert-final</a><br>Synced 5 W&B file(s), 1 media file(s), 2 artifact file(s) and 0 other file(s)"
            ]
          },
          "metadata": {}
        },
        {
          "output_type": "display_data",
          "data": {
            "text/plain": [
              "<IPython.core.display.HTML object>"
            ],
            "text/html": [
              "Find logs at: <code>./wandb/run-20250509_170928-0fom09w6/logs</code>"
            ]
          },
          "metadata": {}
        },
        {
          "output_type": "stream",
          "name": "stderr",
          "text": [
            "\u001b[34m\u001b[1mwandb\u001b[0m: Agent Starting Run: p21y10c7 with config:\n",
            "\u001b[34m\u001b[1mwandb\u001b[0m: \tadam_epsilon: 1e-06\n",
            "\u001b[34m\u001b[1mwandb\u001b[0m: \tlearning_rate: 2.0196671213787284e-05\n",
            "\u001b[34m\u001b[1mwandb\u001b[0m: \tnum_train_epochs: 10\n",
            "\u001b[34m\u001b[1mwandb\u001b[0m: \tper_device_train_batch_size: 8\n",
            "\u001b[34m\u001b[1mwandb\u001b[0m: \tseed: 2024\n",
            "\u001b[34m\u001b[1mwandb\u001b[0m: \twarmup_ratio: 0.07929368868700969\n",
            "\u001b[34m\u001b[1mwandb\u001b[0m: \tweight_decay: 0.06468597547011538\n"
          ]
        },
        {
          "output_type": "display_data",
          "data": {
            "text/plain": [
              "<IPython.core.display.HTML object>"
            ],
            "text/html": [
              "Tracking run with wandb version 0.19.10"
            ]
          },
          "metadata": {}
        },
        {
          "output_type": "display_data",
          "data": {
            "text/plain": [
              "<IPython.core.display.HTML object>"
            ],
            "text/html": [
              "Run data is saved locally in <code>/content/wandb/run-20250509_171006-p21y10c7</code>"
            ]
          },
          "metadata": {}
        },
        {
          "output_type": "display_data",
          "data": {
            "text/plain": [
              "<IPython.core.display.HTML object>"
            ],
            "text/html": [
              "Syncing run <strong><a href='https://wandb.ai/lidianeh-none/distilbert-final/runs/p21y10c7' target=\"_blank\">azure-sweep-15</a></strong> to <a href='https://wandb.ai/lidianeh-none/distilbert-final' target=\"_blank\">Weights & Biases</a> (<a href='https://wandb.me/developer-guide' target=\"_blank\">docs</a>)<br>Sweep page: <a href='https://wandb.ai/lidianeh-none/distilbert-final/sweeps/6yae4880' target=\"_blank\">https://wandb.ai/lidianeh-none/distilbert-final/sweeps/6yae4880</a>"
            ]
          },
          "metadata": {}
        },
        {
          "output_type": "display_data",
          "data": {
            "text/plain": [
              "<IPython.core.display.HTML object>"
            ],
            "text/html": [
              " View project at <a href='https://wandb.ai/lidianeh-none/distilbert-final' target=\"_blank\">https://wandb.ai/lidianeh-none/distilbert-final</a>"
            ]
          },
          "metadata": {}
        },
        {
          "output_type": "display_data",
          "data": {
            "text/plain": [
              "<IPython.core.display.HTML object>"
            ],
            "text/html": [
              " View sweep at <a href='https://wandb.ai/lidianeh-none/distilbert-final/sweeps/6yae4880' target=\"_blank\">https://wandb.ai/lidianeh-none/distilbert-final/sweeps/6yae4880</a>"
            ]
          },
          "metadata": {}
        },
        {
          "output_type": "display_data",
          "data": {
            "text/plain": [
              "<IPython.core.display.HTML object>"
            ],
            "text/html": [
              " View run at <a href='https://wandb.ai/lidianeh-none/distilbert-final/runs/p21y10c7' target=\"_blank\">https://wandb.ai/lidianeh-none/distilbert-final/runs/p21y10c7</a>"
            ]
          },
          "metadata": {}
        },
        {
          "output_type": "stream",
          "name": "stderr",
          "text": [
            "Some weights of WeightedDistilBertForTokenClassification were not initialized from the model checkpoint at distilbert-base-uncased and are newly initialized: ['classifier.bias', 'classifier.weight']\n",
            "You should probably TRAIN this model on a down-stream task to be able to use it for predictions and inference.\n",
            "<ipython-input-19-362b024c7306>:57: FutureWarning: `tokenizer` is deprecated and will be removed in version 5.0.0 for `Trainer.__init__`. Use `processing_class` instead.\n",
            "  trainer = Trainer(\n",
            "\u001b[34m\u001b[1mwandb\u001b[0m: \u001b[33mWARNING\u001b[0m Config item 'per_device_train_batch_size' was locked by 'sweep' (ignored update).\n",
            "\u001b[34m\u001b[1mwandb\u001b[0m: \u001b[33mWARNING\u001b[0m Config item 'learning_rate' was locked by 'sweep' (ignored update).\n",
            "\u001b[34m\u001b[1mwandb\u001b[0m: \u001b[33mWARNING\u001b[0m Config item 'weight_decay' was locked by 'sweep' (ignored update).\n",
            "\u001b[34m\u001b[1mwandb\u001b[0m: \u001b[33mWARNING\u001b[0m Config item 'adam_epsilon' was locked by 'sweep' (ignored update).\n",
            "\u001b[34m\u001b[1mwandb\u001b[0m: \u001b[33mWARNING\u001b[0m Config item 'num_train_epochs' was locked by 'sweep' (ignored update).\n",
            "\u001b[34m\u001b[1mwandb\u001b[0m: \u001b[33mWARNING\u001b[0m Config item 'warmup_ratio' was locked by 'sweep' (ignored update).\n",
            "\u001b[34m\u001b[1mwandb\u001b[0m: \u001b[33mWARNING\u001b[0m Config item 'seed' was locked by 'sweep' (ignored update).\n"
          ]
        },
        {
          "output_type": "display_data",
          "data": {
            "text/plain": [
              "<IPython.core.display.HTML object>"
            ],
            "text/html": [
              "\n",
              "    <div>\n",
              "      \n",
              "      <progress value='180' max='180' style='width:300px; height:20px; vertical-align: middle;'></progress>\n",
              "      [180/180 00:35, Epoch 10/10]\n",
              "    </div>\n",
              "    <table border=\"1\" class=\"dataframe\">\n",
              "  <thead>\n",
              " <tr style=\"text-align: left;\">\n",
              "      <th>Epoch</th>\n",
              "      <th>Training Loss</th>\n",
              "      <th>Validation Loss</th>\n",
              "      <th>Precision</th>\n",
              "      <th>Recall</th>\n",
              "      <th>F1</th>\n",
              "    </tr>\n",
              "  </thead>\n",
              "  <tbody>\n",
              "    <tr>\n",
              "      <td>1</td>\n",
              "      <td>3.720500</td>\n",
              "      <td>2.331753</td>\n",
              "      <td>1.000000</td>\n",
              "      <td>0.000000</td>\n",
              "      <td>0.000000</td>\n",
              "    </tr>\n",
              "    <tr>\n",
              "      <td>2</td>\n",
              "      <td>1.822700</td>\n",
              "      <td>1.541244</td>\n",
              "      <td>1.000000</td>\n",
              "      <td>0.000000</td>\n",
              "      <td>0.000000</td>\n",
              "    </tr>\n",
              "    <tr>\n",
              "      <td>3</td>\n",
              "      <td>1.314500</td>\n",
              "      <td>1.087859</td>\n",
              "      <td>0.285047</td>\n",
              "      <td>0.268722</td>\n",
              "      <td>0.276644</td>\n",
              "    </tr>\n",
              "    <tr>\n",
              "      <td>4</td>\n",
              "      <td>0.955700</td>\n",
              "      <td>0.821755</td>\n",
              "      <td>0.257143</td>\n",
              "      <td>0.515419</td>\n",
              "      <td>0.343109</td>\n",
              "    </tr>\n",
              "    <tr>\n",
              "      <td>5</td>\n",
              "      <td>0.739000</td>\n",
              "      <td>0.681347</td>\n",
              "      <td>0.265504</td>\n",
              "      <td>0.603524</td>\n",
              "      <td>0.368775</td>\n",
              "    </tr>\n",
              "    <tr>\n",
              "      <td>6</td>\n",
              "      <td>0.604300</td>\n",
              "      <td>0.613418</td>\n",
              "      <td>0.197581</td>\n",
              "      <td>0.647577</td>\n",
              "      <td>0.302781</td>\n",
              "    </tr>\n",
              "    <tr>\n",
              "      <td>7</td>\n",
              "      <td>0.545100</td>\n",
              "      <td>0.563645</td>\n",
              "      <td>0.251678</td>\n",
              "      <td>0.660793</td>\n",
              "      <td>0.364520</td>\n",
              "    </tr>\n",
              "    <tr>\n",
              "      <td>8</td>\n",
              "      <td>0.484000</td>\n",
              "      <td>0.543328</td>\n",
              "      <td>0.288168</td>\n",
              "      <td>0.665198</td>\n",
              "      <td>0.402130</td>\n",
              "    </tr>\n",
              "    <tr>\n",
              "      <td>9</td>\n",
              "      <td>0.452700</td>\n",
              "      <td>0.531513</td>\n",
              "      <td>0.278777</td>\n",
              "      <td>0.682819</td>\n",
              "      <td>0.395913</td>\n",
              "    </tr>\n",
              "    <tr>\n",
              "      <td>10</td>\n",
              "      <td>0.435000</td>\n",
              "      <td>0.527991</td>\n",
              "      <td>0.283054</td>\n",
              "      <td>0.669604</td>\n",
              "      <td>0.397906</td>\n",
              "    </tr>\n",
              "  </tbody>\n",
              "</table><p>"
            ]
          },
          "metadata": {}
        },
        {
          "output_type": "display_data",
          "data": {
            "text/plain": [
              "<IPython.core.display.HTML object>"
            ],
            "text/html": []
          },
          "metadata": {}
        },
        {
          "output_type": "stream",
          "name": "stdout",
          "text": [
            "{'eval_loss': 0.46156227588653564, 'eval_precision': 0.310838445807771, 'eval_recall': 0.7342995169082126, 'eval_f1': 0.4367816091954023, 'eval_runtime': 0.1958, 'eval_samples_per_second': 153.21, 'eval_steps_per_second': 20.428, 'epoch': 10.0}\n"
          ]
        },
        {
          "output_type": "stream",
          "name": "stderr",
          "text": [
            "/usr/local/lib/python3.11/dist-packages/seqeval/metrics/v1.py:57: UndefinedMetricWarning: Precision and F-score are ill-defined and being set to 0.0 in labels with no predicted samples. Use `zero_division` parameter to control this behavior.\n",
            "  _warn_prf(average, modifier, msg_start, len(result))\n",
            "/usr/local/lib/python3.11/dist-packages/seqeval/metrics/v1.py:57: UndefinedMetricWarning: Recall and F-score are ill-defined and being set to 0.0 in labels with no true samples. Use `zero_division` parameter to control this behavior.\n",
            "  _warn_prf(average, modifier, msg_start, len(result))\n"
          ]
        },
        {
          "output_type": "stream",
          "name": "stdout",
          "text": [
            "                       precision    recall  f1-score   support\n",
            "\n",
            "          CompanyName       0.40      0.78      0.53        27\n",
            "  CurrentNeighborhood       0.00      0.00      0.00         1\n",
            "    DecisionMakerRole       0.00      0.00      0.00         6\n",
            "            FirstName       0.38      0.93      0.54        30\n",
            "             Industry       0.47      0.58      0.52        12\n",
            "             LastName       0.35      0.88      0.50         8\n",
            "            MustHaves       0.22      0.80      0.35        50\n",
            "          NiceToHaves       0.00      0.00      0.00        10\n",
            "            PainPoint       0.00      0.00      0.00         1\n",
            "   PreferredLeaseTerm       0.25      0.33      0.29         3\n",
            "PreferredNeighborhood       0.71      0.92      0.80        13\n",
            "         PropertyType       0.65      0.92      0.76        26\n",
            "            SpaceSize       0.00      0.00      0.00         0\n",
            "         UrgencyScore       0.15      0.60      0.24        20\n",
            "\n",
            "            micro avg       0.31      0.73      0.44       207\n",
            "            macro avg       0.26      0.48      0.32       207\n",
            "         weighted avg       0.35      0.73      0.46       207\n",
            "\n",
            "   firstname lastname email phone           companyname     industry  \\\n",
            "0       luke     None  None  None           urban lease         None   \n",
            "1    michael   conrad  None  None            urban hype         None   \n",
            "2     daniel     None  None  None              medivibe         None   \n",
            "3       liam     None  None  None    future innovations         None   \n",
            "4      jamie    novak  None  None        heritage legal          nyc   \n",
            "5       liam   carter  None  None                altura         None   \n",
            "6    michael      kim  None  None          urban legacy     creative   \n",
            "7    rebecca     None  None  None               tenants         None   \n",
            "8     amelia    klein  None  None          urban retail    community   \n",
            "9       alex     None  None  None  greenview consulting    nonprofit   \n",
            "10      lena    mills  None  None            bridgeview  sustainable   \n",
            "11      reed    miles  None  None             urbancore   healthcare   \n",
            "12      liam     None  None  None          healthaccess         None   \n",
            "13    samuel      lee  None  None           urban vista         None   \n",
            "14    evelyn      lee  None  None  cityscape commercial     outreach   \n",
            "15     ethan   monroe  None  None              crescent         None   \n",
            "16   michael    cohen  None  None            urban wave    nonprofit   \n",
            "17      liam  collins  None  None          urban realms        legal   \n",
            "18      liam    grant  None  None         city cultural    nonprofit   \n",
            "19     ethan   morgan  None  None         bright future    nonprofit   \n",
            "20      eric    blake  None  None             urbanedge         None   \n",
            "21      alex   morris  None  None        crescent legal         None   \n",
            "22      None   foster  None  None          new horizons         None   \n",
            "23      liam     None  None  None              urbanarc         None   \n",
            "24    evelyn     None  None  None                summit         None   \n",
            "25      alex     None  None  None                  None   healthcare   \n",
            "26      dear   parker  None  None           careconnect       clinic   \n",
            "27      nina    blake  None  None   prestige properties         None   \n",
            "28      mark     None  None  None    urban creative lab         None   \n",
            "29      jane  daniels  None  None    premier properties         None   \n",
            "\n",
            "   companysize growthstage currentneighborhood firstinteraction  ...  \\\n",
            "0         None        None                None             None  ...   \n",
            "1         None        None                None             None  ...   \n",
            "2         None        None                None             None  ...   \n",
            "3         None        None                None             None  ...   \n",
            "4         None        None                None             None  ...   \n",
            "5         None        None                None             None  ...   \n",
            "6         None        None                None             None  ...   \n",
            "7         None        None                None             None  ...   \n",
            "8         None        None                None             None  ...   \n",
            "9         None        None                None             None  ...   \n",
            "10        None        None                None             None  ...   \n",
            "11        None        None                None             None  ...   \n",
            "12        None        None                None             None  ...   \n",
            "13        None        None                None             None  ...   \n",
            "14        None        None                None             None  ...   \n",
            "15        None        None                None             None  ...   \n",
            "16        None        None                None             None  ...   \n",
            "17        None        None                None             None  ...   \n",
            "18        None        None                None             None  ...   \n",
            "19        None        None                None             None  ...   \n",
            "20        None        None                None             None  ...   \n",
            "21        None        None                None             None  ...   \n",
            "22        None        None                None             None  ...   \n",
            "23        None        None                None             None  ...   \n",
            "24        None        None                None             None  ...   \n",
            "25        None        None                None             None  ...   \n",
            "26        None        None                None             None  ...   \n",
            "27        None        None                None             None  ...   \n",
            "28        None        None                None             None  ...   \n",
            "29        None        None                None             None  ...   \n",
            "\n",
            "   movingterm min_months max_months movingtimeline             musthaves  \\\n",
            "0        None       None       None           None                  high   \n",
            "1        None       None       None           None       parking options   \n",
            "2        None       None       None           None        public transit   \n",
            "3        None       None       None           None              flexible   \n",
            "4        None       None       None           None               private   \n",
            "5        None       None       None           None         natural light   \n",
            "6        None       None       None           None         high ceilings   \n",
            "7        None       None       None           None         natural light   \n",
            "8        None       None       None           None           easy access   \n",
            "9        None       None       None           None         natural light   \n",
            "10       None       None       None           None                   eco   \n",
            "11       None       None       None           None         natural light   \n",
            "12       None       None       None           None      hospital - grade   \n",
            "13       None       None       None           None                  None   \n",
            "14       None       None       None           None       street frontage   \n",
            "15       None       None       None           None                  good   \n",
            "16       None       None       None           None    building amenities   \n",
            "17       None       None       None           None                  high   \n",
            "18       None       None       None           None         natural light   \n",
            "19       None       None       None           None              flexible   \n",
            "20       None       None       None           None         ada compliant   \n",
            "21       None       None       None           None          foot traffic   \n",
            "22       None       None       None           None  community engagement   \n",
            "23       None       None       None           None         natural light   \n",
            "24       None       None       None           None              reliable   \n",
            "25       None       None       None           None         tech upgrades   \n",
            "26       None       None       None           None     natural light and   \n",
            "27       None       None       None           None           open layout   \n",
            "28       None       None       None           None                  open   \n",
            "29       None       None       None           None              creative   \n",
            "\n",
            "   nicetohaves painpoint urgencyscore outcome personality  \n",
            "0         None      None            4    None        None  \n",
            "1         None      None           45    None        None  \n",
            "2         None      None          555    None        None  \n",
            "3         None      None           45    None        None  \n",
            "4         None      None           40    None        None  \n",
            "5         None      None         20th    None        None  \n",
            "6         None      None           45    None        None  \n",
            "7         None      None            8    None        None  \n",
            "8         None      None           28    None        None  \n",
            "9         None      None           98    None        None  \n",
            "10        None      None           45    None        None  \n",
            "11        None      None            4    None        None  \n",
            "12        None      None           74    None        None  \n",
            "13        None      None           70    None        None  \n",
            "14        None      None           35    None        None  \n",
            "15        None      None            8    None        None  \n",
            "16        None      None         None    None        None  \n",
            "17        None      None            8    None        None  \n",
            "18        None      None         10th    None        None  \n",
            "19        None      None            5    None        None  \n",
            "20        None      None            4    None        None  \n",
            "21        None      None          800    None        None  \n",
            "22        None      None         22nd    None        None  \n",
            "23        None      None           65    None        None  \n",
            "24        None      None          500    None        None  \n",
            "25        None      None           34    None        None  \n",
            "26        None      None          500    None        None  \n",
            "27        None      None           60    None        None  \n",
            "28        None      None           45    None        None  \n",
            "29        None      None           35    None        None  \n",
            "\n",
            "[30 rows x 27 columns]\n",
            "Structured Field-Level Metrics: {'firstname_precision': 1.0, 'firstname_recall': 1.0, 'firstname_f1': 1.0, 'lastname_precision': 1.0, 'lastname_recall': 1.0, 'lastname_f1': 1.0, 'companyname_precision': 1.0, 'companyname_recall': 1.0, 'companyname_f1': 1.0, 'industry_precision': 1.0, 'industry_recall': 1.0, 'industry_f1': 1.0, 'propertytype_precision': 1.0, 'propertytype_recall': 1.0, 'propertytype_f1': 1.0, 'preferredneighborhood_precision': 1.0, 'preferredneighborhood_recall': 1.0, 'preferredneighborhood_f1': 1.0, 'preferredleaseterm_precision': 1.0, 'preferredleaseterm_recall': 1.0, 'preferredleaseterm_f1': 1.0, 'musthaves_precision': 1.0, 'musthaves_recall': 1.0, 'musthaves_f1': 1.0, 'urgencyscore_precision': 1.0, 'urgencyscore_recall': 1.0, 'urgencyscore_f1': 1.0, 'macro_precision': np.float64(1.0), 'macro_recall': np.float64(1.0), 'macro_f1': np.float64(1.0)}\n",
            "Predictions saved to: /content/drive/MyDrive/distilbert_outputs/azure-sweep-15_predictions.json\n"
          ]
        },
        {
          "output_type": "display_data",
          "data": {
            "text/plain": [
              "<IPython.core.display.HTML object>"
            ],
            "text/html": []
          },
          "metadata": {}
        },
        {
          "output_type": "display_data",
          "data": {
            "text/plain": [
              "<IPython.core.display.HTML object>"
            ],
            "text/html": [
              "<br>    <style><br>        .wandb-row {<br>            display: flex;<br>            flex-direction: row;<br>            flex-wrap: wrap;<br>            justify-content: flex-start;<br>            width: 100%;<br>        }<br>        .wandb-col {<br>            display: flex;<br>            flex-direction: column;<br>            flex-basis: 100%;<br>            flex: 1;<br>            padding: 10px;<br>        }<br>    </style><br><div class=\"wandb-row\"><div class=\"wandb-col\"><h3>Run history:</h3><br/><table class=\"wandb\"><tr><td>eval/f1</td><td>▁▁▅▆▇▆▇▇▇▇▇█</td></tr><tr><td>eval/loss</td><td>█▅▃▂▂▂▁▁▁▁▁▁</td></tr><tr><td>eval/precision</td><td>██▂▂▂▁▁▂▂▂▂▂</td></tr><tr><td>eval/recall</td><td>▁▁▄▆▇▇▇▇█▇▇█</td></tr><tr><td>eval/runtime</td><td>▂▁▂▁▃▁▁▅▁▃█▂</td></tr><tr><td>eval/samples_per_second</td><td>▇█▇█▆██▄█▆▁▆</td></tr><tr><td>eval/steps_per_second</td><td>▇█▇█▆██▄█▆▁▆</td></tr><tr><td>test/f1</td><td>▁</td></tr><tr><td>test/loss</td><td>▁</td></tr><tr><td>test/precision</td><td>▁</td></tr><tr><td>test/recall</td><td>▁</td></tr><tr><td>test/runtime</td><td>▁</td></tr><tr><td>test/samples_per_second</td><td>▁</td></tr><tr><td>test/steps_per_second</td><td>▁</td></tr><tr><td>test_companyname_f1</td><td>▁</td></tr><tr><td>test_companyname_precision</td><td>▁</td></tr><tr><td>test_companyname_recall</td><td>▁</td></tr><tr><td>test_firstname_f1</td><td>▁</td></tr><tr><td>test_firstname_precision</td><td>▁</td></tr><tr><td>test_firstname_recall</td><td>▁</td></tr><tr><td>test_industry_f1</td><td>▁</td></tr><tr><td>test_industry_precision</td><td>▁</td></tr><tr><td>test_industry_recall</td><td>▁</td></tr><tr><td>test_lastname_f1</td><td>▁</td></tr><tr><td>test_lastname_precision</td><td>▁</td></tr><tr><td>test_lastname_recall</td><td>▁</td></tr><tr><td>test_macro_f1</td><td>▁</td></tr><tr><td>test_macro_precision</td><td>▁</td></tr><tr><td>test_macro_recall</td><td>▁</td></tr><tr><td>test_musthaves_f1</td><td>▁</td></tr><tr><td>test_musthaves_precision</td><td>▁</td></tr><tr><td>test_musthaves_recall</td><td>▁</td></tr><tr><td>test_preferredleaseterm_f1</td><td>▁</td></tr><tr><td>test_preferredleaseterm_precision</td><td>▁</td></tr><tr><td>test_preferredleaseterm_recall</td><td>▁</td></tr><tr><td>test_preferredneighborhood_f1</td><td>▁</td></tr><tr><td>test_preferredneighborhood_precision</td><td>▁</td></tr><tr><td>test_preferredneighborhood_recall</td><td>▁</td></tr><tr><td>test_propertytype_f1</td><td>▁</td></tr><tr><td>test_propertytype_precision</td><td>▁</td></tr><tr><td>test_propertytype_recall</td><td>▁</td></tr><tr><td>test_urgencyscore_f1</td><td>▁</td></tr><tr><td>test_urgencyscore_precision</td><td>▁</td></tr><tr><td>test_urgencyscore_recall</td><td>▁</td></tr><tr><td>train/epoch</td><td>▁▁▂▂▃▃▃▃▄▄▅▅▆▆▆▆▇▇█████</td></tr><tr><td>train/global_step</td><td>▁▁▂▂▃▃▃▃▄▄▅▅▆▆▆▆▇▇████████</td></tr><tr><td>train/grad_norm</td><td>█▁▁▂▂▂▂▁▁▁</td></tr><tr><td>train/learning_rate</td><td>█▇▆▆▅▄▃▃▂▁</td></tr><tr><td>train/loss</td><td>█▄▃▂▂▁▁▁▁▁</td></tr></table><br/></div><div class=\"wandb-col\"><h3>Run summary:</h3><br/><table class=\"wandb\"><tr><td>eval/f1</td><td>0.43678</td></tr><tr><td>eval/loss</td><td>0.46156</td></tr><tr><td>eval/precision</td><td>0.31084</td></tr><tr><td>eval/recall</td><td>0.7343</td></tr><tr><td>eval/runtime</td><td>0.1958</td></tr><tr><td>eval/samples_per_second</td><td>153.21</td></tr><tr><td>eval/steps_per_second</td><td>20.428</td></tr><tr><td>test/f1</td><td>0.43678</td></tr><tr><td>test/loss</td><td>0.46156</td></tr><tr><td>test/precision</td><td>0.31084</td></tr><tr><td>test/recall</td><td>0.7343</td></tr><tr><td>test/runtime</td><td>0.1974</td></tr><tr><td>test/samples_per_second</td><td>151.96</td></tr><tr><td>test/steps_per_second</td><td>20.261</td></tr><tr><td>test_companyname_f1</td><td>1</td></tr><tr><td>test_companyname_precision</td><td>1</td></tr><tr><td>test_companyname_recall</td><td>1</td></tr><tr><td>test_firstname_f1</td><td>1</td></tr><tr><td>test_firstname_precision</td><td>1</td></tr><tr><td>test_firstname_recall</td><td>1</td></tr><tr><td>test_industry_f1</td><td>1</td></tr><tr><td>test_industry_precision</td><td>1</td></tr><tr><td>test_industry_recall</td><td>1</td></tr><tr><td>test_lastname_f1</td><td>1</td></tr><tr><td>test_lastname_precision</td><td>1</td></tr><tr><td>test_lastname_recall</td><td>1</td></tr><tr><td>test_macro_f1</td><td>1</td></tr><tr><td>test_macro_precision</td><td>1</td></tr><tr><td>test_macro_recall</td><td>1</td></tr><tr><td>test_musthaves_f1</td><td>1</td></tr><tr><td>test_musthaves_precision</td><td>1</td></tr><tr><td>test_musthaves_recall</td><td>1</td></tr><tr><td>test_preferredleaseterm_f1</td><td>1</td></tr><tr><td>test_preferredleaseterm_precision</td><td>1</td></tr><tr><td>test_preferredleaseterm_recall</td><td>1</td></tr><tr><td>test_preferredneighborhood_f1</td><td>1</td></tr><tr><td>test_preferredneighborhood_precision</td><td>1</td></tr><tr><td>test_preferredneighborhood_recall</td><td>1</td></tr><tr><td>test_propertytype_f1</td><td>1</td></tr><tr><td>test_propertytype_precision</td><td>1</td></tr><tr><td>test_propertytype_recall</td><td>1</td></tr><tr><td>test_urgencyscore_f1</td><td>1</td></tr><tr><td>test_urgencyscore_precision</td><td>1</td></tr><tr><td>test_urgencyscore_recall</td><td>1</td></tr><tr><td>total_flos</td><td>183089627750400.0</td></tr><tr><td>train/epoch</td><td>10</td></tr><tr><td>train/global_step</td><td>180</td></tr><tr><td>train/grad_norm</td><td>2.1095</td></tr><tr><td>train/learning_rate</td><td>0.0</td></tr><tr><td>train/loss</td><td>0.435</td></tr><tr><td>train_loss</td><td>1.10736</td></tr><tr><td>train_runtime</td><td>35.9325</td></tr><tr><td>train_samples_per_second</td><td>38.962</td></tr><tr><td>train_steps_per_second</td><td>5.009</td></tr></table><br/></div></div>"
            ]
          },
          "metadata": {}
        },
        {
          "output_type": "display_data",
          "data": {
            "text/plain": [
              "<IPython.core.display.HTML object>"
            ],
            "text/html": [
              " View run <strong style=\"color:#cdcd00\">azure-sweep-15</strong> at: <a href='https://wandb.ai/lidianeh-none/distilbert-final/runs/p21y10c7' target=\"_blank\">https://wandb.ai/lidianeh-none/distilbert-final/runs/p21y10c7</a><br> View project at: <a href='https://wandb.ai/lidianeh-none/distilbert-final' target=\"_blank\">https://wandb.ai/lidianeh-none/distilbert-final</a><br>Synced 5 W&B file(s), 1 media file(s), 2 artifact file(s) and 0 other file(s)"
            ]
          },
          "metadata": {}
        },
        {
          "output_type": "display_data",
          "data": {
            "text/plain": [
              "<IPython.core.display.HTML object>"
            ],
            "text/html": [
              "Find logs at: <code>./wandb/run-20250509_171006-p21y10c7/logs</code>"
            ]
          },
          "metadata": {}
        },
        {
          "output_type": "stream",
          "name": "stderr",
          "text": [
            "\u001b[34m\u001b[1mwandb\u001b[0m: Sweep Agent: Waiting for job.\n",
            "\u001b[34m\u001b[1mwandb\u001b[0m: Job received.\n",
            "\u001b[34m\u001b[1mwandb\u001b[0m: Agent Starting Run: mla5mf0k with config:\n",
            "\u001b[34m\u001b[1mwandb\u001b[0m: \tadam_epsilon: 1e-06\n",
            "\u001b[34m\u001b[1mwandb\u001b[0m: \tlearning_rate: 1.1887462672600453e-05\n",
            "\u001b[34m\u001b[1mwandb\u001b[0m: \tnum_train_epochs: 8\n",
            "\u001b[34m\u001b[1mwandb\u001b[0m: \tper_device_train_batch_size: 16\n",
            "\u001b[34m\u001b[1mwandb\u001b[0m: \tseed: 2024\n",
            "\u001b[34m\u001b[1mwandb\u001b[0m: \twarmup_ratio: 0.07103037657767161\n",
            "\u001b[34m\u001b[1mwandb\u001b[0m: \tweight_decay: 0.10425742983771658\n"
          ]
        },
        {
          "output_type": "display_data",
          "data": {
            "text/plain": [
              "<IPython.core.display.HTML object>"
            ],
            "text/html": [
              "Tracking run with wandb version 0.19.10"
            ]
          },
          "metadata": {}
        },
        {
          "output_type": "display_data",
          "data": {
            "text/plain": [
              "<IPython.core.display.HTML object>"
            ],
            "text/html": [
              "Run data is saved locally in <code>/content/wandb/run-20250509_171104-mla5mf0k</code>"
            ]
          },
          "metadata": {}
        },
        {
          "output_type": "display_data",
          "data": {
            "text/plain": [
              "<IPython.core.display.HTML object>"
            ],
            "text/html": [
              "Syncing run <strong><a href='https://wandb.ai/lidianeh-none/distilbert-final/runs/mla5mf0k' target=\"_blank\">sweepy-sweep-16</a></strong> to <a href='https://wandb.ai/lidianeh-none/distilbert-final' target=\"_blank\">Weights & Biases</a> (<a href='https://wandb.me/developer-guide' target=\"_blank\">docs</a>)<br>Sweep page: <a href='https://wandb.ai/lidianeh-none/distilbert-final/sweeps/6yae4880' target=\"_blank\">https://wandb.ai/lidianeh-none/distilbert-final/sweeps/6yae4880</a>"
            ]
          },
          "metadata": {}
        },
        {
          "output_type": "display_data",
          "data": {
            "text/plain": [
              "<IPython.core.display.HTML object>"
            ],
            "text/html": [
              " View project at <a href='https://wandb.ai/lidianeh-none/distilbert-final' target=\"_blank\">https://wandb.ai/lidianeh-none/distilbert-final</a>"
            ]
          },
          "metadata": {}
        },
        {
          "output_type": "display_data",
          "data": {
            "text/plain": [
              "<IPython.core.display.HTML object>"
            ],
            "text/html": [
              " View sweep at <a href='https://wandb.ai/lidianeh-none/distilbert-final/sweeps/6yae4880' target=\"_blank\">https://wandb.ai/lidianeh-none/distilbert-final/sweeps/6yae4880</a>"
            ]
          },
          "metadata": {}
        },
        {
          "output_type": "display_data",
          "data": {
            "text/plain": [
              "<IPython.core.display.HTML object>"
            ],
            "text/html": [
              " View run at <a href='https://wandb.ai/lidianeh-none/distilbert-final/runs/mla5mf0k' target=\"_blank\">https://wandb.ai/lidianeh-none/distilbert-final/runs/mla5mf0k</a>"
            ]
          },
          "metadata": {}
        },
        {
          "output_type": "stream",
          "name": "stderr",
          "text": [
            "Some weights of WeightedDistilBertForTokenClassification were not initialized from the model checkpoint at distilbert-base-uncased and are newly initialized: ['classifier.bias', 'classifier.weight']\n",
            "You should probably TRAIN this model on a down-stream task to be able to use it for predictions and inference.\n",
            "<ipython-input-19-362b024c7306>:57: FutureWarning: `tokenizer` is deprecated and will be removed in version 5.0.0 for `Trainer.__init__`. Use `processing_class` instead.\n",
            "  trainer = Trainer(\n",
            "\u001b[34m\u001b[1mwandb\u001b[0m: \u001b[33mWARNING\u001b[0m Config item 'per_device_train_batch_size' was locked by 'sweep' (ignored update).\n",
            "\u001b[34m\u001b[1mwandb\u001b[0m: \u001b[33mWARNING\u001b[0m Config item 'learning_rate' was locked by 'sweep' (ignored update).\n",
            "\u001b[34m\u001b[1mwandb\u001b[0m: \u001b[33mWARNING\u001b[0m Config item 'weight_decay' was locked by 'sweep' (ignored update).\n",
            "\u001b[34m\u001b[1mwandb\u001b[0m: \u001b[33mWARNING\u001b[0m Config item 'adam_epsilon' was locked by 'sweep' (ignored update).\n",
            "\u001b[34m\u001b[1mwandb\u001b[0m: \u001b[33mWARNING\u001b[0m Config item 'num_train_epochs' was locked by 'sweep' (ignored update).\n",
            "\u001b[34m\u001b[1mwandb\u001b[0m: \u001b[33mWARNING\u001b[0m Config item 'warmup_ratio' was locked by 'sweep' (ignored update).\n",
            "\u001b[34m\u001b[1mwandb\u001b[0m: \u001b[33mWARNING\u001b[0m Config item 'seed' was locked by 'sweep' (ignored update).\n"
          ]
        },
        {
          "output_type": "display_data",
          "data": {
            "text/plain": [
              "<IPython.core.display.HTML object>"
            ],
            "text/html": [
              "\n",
              "    <div>\n",
              "      \n",
              "      <progress value='72' max='72' style='width:300px; height:20px; vertical-align: middle;'></progress>\n",
              "      [72/72 00:27, Epoch 8/8]\n",
              "    </div>\n",
              "    <table border=\"1\" class=\"dataframe\">\n",
              "  <thead>\n",
              " <tr style=\"text-align: left;\">\n",
              "      <th>Epoch</th>\n",
              "      <th>Training Loss</th>\n",
              "      <th>Validation Loss</th>\n",
              "      <th>Precision</th>\n",
              "      <th>Recall</th>\n",
              "      <th>F1</th>\n",
              "    </tr>\n",
              "  </thead>\n",
              "  <tbody>\n",
              "    <tr>\n",
              "      <td>1</td>\n",
              "      <td>4.037600</td>\n",
              "      <td>3.612924</td>\n",
              "      <td>0.000000</td>\n",
              "      <td>0.000000</td>\n",
              "      <td>0.000000</td>\n",
              "    </tr>\n",
              "    <tr>\n",
              "      <td>2</td>\n",
              "      <td>3.075400</td>\n",
              "      <td>2.460662</td>\n",
              "      <td>1.000000</td>\n",
              "      <td>0.000000</td>\n",
              "      <td>0.000000</td>\n",
              "    </tr>\n",
              "    <tr>\n",
              "      <td>3</td>\n",
              "      <td>2.135200</td>\n",
              "      <td>1.917529</td>\n",
              "      <td>1.000000</td>\n",
              "      <td>0.000000</td>\n",
              "      <td>0.000000</td>\n",
              "    </tr>\n",
              "    <tr>\n",
              "      <td>4</td>\n",
              "      <td>1.781900</td>\n",
              "      <td>1.691248</td>\n",
              "      <td>1.000000</td>\n",
              "      <td>0.000000</td>\n",
              "      <td>0.000000</td>\n",
              "    </tr>\n",
              "    <tr>\n",
              "      <td>5</td>\n",
              "      <td>1.606100</td>\n",
              "      <td>1.548040</td>\n",
              "      <td>1.000000</td>\n",
              "      <td>0.000000</td>\n",
              "      <td>0.000000</td>\n",
              "    </tr>\n",
              "    <tr>\n",
              "      <td>6</td>\n",
              "      <td>1.489200</td>\n",
              "      <td>1.455692</td>\n",
              "      <td>1.000000</td>\n",
              "      <td>0.000000</td>\n",
              "      <td>0.000000</td>\n",
              "    </tr>\n",
              "    <tr>\n",
              "      <td>7</td>\n",
              "      <td>1.423700</td>\n",
              "      <td>1.400598</td>\n",
              "      <td>1.000000</td>\n",
              "      <td>0.000000</td>\n",
              "      <td>0.000000</td>\n",
              "    </tr>\n",
              "    <tr>\n",
              "      <td>8</td>\n",
              "      <td>1.381800</td>\n",
              "      <td>1.380021</td>\n",
              "      <td>1.000000</td>\n",
              "      <td>0.000000</td>\n",
              "      <td>0.000000</td>\n",
              "    </tr>\n",
              "  </tbody>\n",
              "</table><p>"
            ]
          },
          "metadata": {}
        },
        {
          "output_type": "display_data",
          "data": {
            "text/plain": [
              "<IPython.core.display.HTML object>"
            ],
            "text/html": []
          },
          "metadata": {}
        },
        {
          "output_type": "stream",
          "name": "stdout",
          "text": [
            "{'eval_loss': 3.6063168048858643, 'eval_precision': 0.00038211692777990065, 'eval_recall': 0.00966183574879227, 'eval_f1': 0.0007351589781290205, 'eval_runtime': 0.1907, 'eval_samples_per_second': 157.31, 'eval_steps_per_second': 10.487, 'epoch': 8.0}\n"
          ]
        },
        {
          "output_type": "stream",
          "name": "stderr",
          "text": [
            "/usr/local/lib/python3.11/dist-packages/seqeval/metrics/v1.py:57: UndefinedMetricWarning: Recall and F-score are ill-defined and being set to 0.0 in labels with no true samples. Use `zero_division` parameter to control this behavior.\n",
            "  _warn_prf(average, modifier, msg_start, len(result))\n"
          ]
        },
        {
          "output_type": "stream",
          "name": "stdout",
          "text": [
            "                       precision    recall  f1-score   support\n",
            "\n",
            "               Budget       0.00      0.00      0.00         0\n",
            "          CompanyName       0.00      0.00      0.00        27\n",
            "          CompanySize       0.00      0.00      0.00         0\n",
            "  CurrentNeighborhood       0.00      0.00      0.00         1\n",
            "    DecisionMakerRole       0.00      0.33      0.01         6\n",
            "                Email       0.00      0.00      0.00         0\n",
            "     FirstInteraction       0.00      0.00      0.00         0\n",
            "            FirstName       0.00      0.00      0.00        30\n",
            "          GrowthStage       0.00      0.00      0.00         0\n",
            "             Industry       0.00      0.00      0.00        12\n",
            "      LastInteraction       0.00      0.00      0.00         0\n",
            "             LastName       0.00      0.00      0.00         8\n",
            "           MovingTerm       0.00      0.00      0.00         0\n",
            "       MovingTimeline       0.00      0.00      0.00         0\n",
            "            MustHaves       0.00      0.00      0.00        50\n",
            "          NiceToHaves       0.00      0.00      0.00        10\n",
            "              Outcome       0.00      0.00      0.00         0\n",
            "            PainPoint       0.00      0.00      0.00         1\n",
            "          Personality       0.00      0.00      0.00         0\n",
            "                Phone       0.00      0.00      0.00         0\n",
            "   PreferredLeaseTerm       0.00      0.00      0.00         3\n",
            "PreferredNeighborhood       0.00      0.00      0.00        13\n",
            "         PropertyType       0.00      0.00      0.00        26\n",
            "         UrgencyScore       0.00      0.00      0.00        20\n",
            "           min_months       0.00      0.00      0.00         0\n",
            "\n",
            "            micro avg       0.00      0.01      0.00       207\n",
            "            macro avg       0.00      0.01      0.00       207\n",
            "         weighted avg       0.00      0.01      0.00       207\n",
            "\n",
            "   firstname lastname email phone companyname   industry companysize  \\\n",
            "0       None     None  None  None        None          .        None   \n",
            "1       None     None  None  None        None       site        None   \n",
            "2       None     None  None  None        None     budget        None   \n",
            "3       None     None  None  None        None   location        None   \n",
            "4       None     None  None  None        None         sq        None   \n",
            "5       None   plenty  None  None        None         sq        None   \n",
            "6       None     None   kim  None        None     budget        None   \n",
            "7       None   plenty  None  None        None  hospitals        None   \n",
            "8       None     None  None  None      retail          w        None   \n",
            "9       None     None  None  None        None      needs        None   \n",
            "10      None    mills  None  None        None          .        None   \n",
            "11      None     None  None  None        None     budget        None   \n",
            "12      None     None  None  None        None      boxes        None   \n",
            "13      None     None  None  None        None          .        None   \n",
            "14      None     None  None  None        None        its        None   \n",
            "15      None     None  None  None        None     budget        None   \n",
            "16      None     None  None  None        None       move        None   \n",
            "17      None     None  None  None        None          .        None   \n",
            "18      None     None  None  None        None      build        None   \n",
            "19      None     None  None  None        None      price        None   \n",
            "20      None     None  None  None        None     budget        None   \n",
            "21      None     None  None  None        None       None        None   \n",
            "22      None     None  None  None        None          .        None   \n",
            "23      None     None  None  None        None          .        None   \n",
            "24      None     None  None  None        None         sq        None   \n",
            "25      None     None  None  None        None     budget        None   \n",
            "26      None      4th  east  None        None   capacity        None   \n",
            "27      None  natural  None  None        None         sq        None   \n",
            "28      None     None  None  None        None    details        None   \n",
            "29      None     None  None  None        None     budget        None   \n",
            "\n",
            "   growthstage currentneighborhood firstinteraction  ... movingterm  \\\n",
            "0            ’              nearby             None  ...          .   \n",
            "1          ##k                  st             None  ...          '   \n",
            "2           48                  st             send  ...          .   \n",
            "3      chelsea                None             None  ...          '   \n",
            "4       budget              street             None  ...          '   \n",
            "5          ##k                None             None  ...          .   \n",
            "6          000                None             None  ...          .   \n",
            "7            ’                near             None  ...          .   \n",
            "8            ’                  st             None  ...          .   \n",
            "9            ’                 ave             None  ...      given   \n",
            "10         ##k               works             None  ...          .   \n",
            "11       miles                  st             None  ...          ,   \n",
            "12           ’                None             None  ...          ,   \n",
            "13           ’                None             None  ...          .   \n",
            "14         lee                 the             None  ...          '   \n",
            "15           ’                None             None  ...          .   \n",
            "16           ’                 3rd             None  ...          ,   \n",
            "17           ’                 3rd             None  ...          .   \n",
            "18           ’                10th             None  ...          ,   \n",
            "19      morgan                 ave             None  ...          ,   \n",
            "20           ’                park             None  ...          .   \n",
            "21      morris                None       understand  ...          ,   \n",
            "22      foster                 ave             None  ...          .   \n",
            "23         ##k                None             None  ...          ,   \n",
            "24         ##k                None             None  ...          ,   \n",
            "25        alex                None             None  ...       like   \n",
            "26      parker                  st             None  ...          .   \n",
            "27       blake                52nd             None  ...          .   \n",
            "28           ’                fall             None  ...          .   \n",
            "29     chelsea                None             None  ...          '   \n",
            "\n",
            "   min_months max_months movingtimeline    musthaves nicetohaves painpoint  \\\n",
            "0     natural       None            000            .        None      None   \n",
            "1        None       None             is         None        None      None   \n",
            "2        None       None            few         None        None      None   \n",
            "3      access       None           tour         None        None      None   \n",
            "4        None       None             is            .        None      None   \n",
            "5        None       None            few           10          56      None   \n",
            "6     initial       None           plan         None        None      None   \n",
            "7        None       None             is         None        None      None   \n",
            "8        None       None            and         None        None      None   \n",
            "9        None       None             is         None        None      None   \n",
            "10       None       None           some            .        None      None   \n",
            "11       None       None             is         None        None      None   \n",
            "12       None       None         health         None        None      None   \n",
            "13       None       None             is         None        None      None   \n",
            "14       None       None            few         None        None      None   \n",
            "15       None       None         within            .        None      None   \n",
            "16       None       None             40            .        None      None   \n",
            "17  requested       None         couple         None        None      None   \n",
            "18       None       None          about  programming        None      None   \n",
            "19       None       None         couple         None        None      None   \n",
            "20       None       None              ,         None        None      None   \n",
            "21       None       None         couple            .        None      None   \n",
            "22       None       None            000            .     natural      None   \n",
            "23       None       None             65         None        None      None   \n",
            "24        and       None         couple         None        None      None   \n",
            "25       None       None            000            .        None      None   \n",
            "26       None       None             is         None        None      None   \n",
            "27        and       None            few         None        None      None   \n",
            "28       None       None           ##am         None           ,      None   \n",
            "29       None       None            and         None        None      None   \n",
            "\n",
            "   urgencyscore outcome personality  \n",
            "0          None     273           .  \n",
            "1          None    None           -  \n",
            "2           one    None           .  \n",
            "3          None    None           -  \n",
            "4          None     and        wall  \n",
            "5           one   wants           -  \n",
            "6          None    None           .  \n",
            "7          None    None          hi  \n",
            "8          None    None           -  \n",
            "9           one    None           .  \n",
            "10         None    None          hi  \n",
            "11         None   wants           -  \n",
            "12         None    None        near  \n",
            "13         None    None           .  \n",
            "14         None    None           -  \n",
            "15         None    None           -  \n",
            "16         None    None           .  \n",
            "17         None    None           .  \n",
            "18         None    None           .  \n",
            "19         None    None           -  \n",
            "20         None    None           -  \n",
            "21      ideally    None           -  \n",
            "22         None    None        None  \n",
            "23         None    None           -  \n",
            "24      ideally      53           .  \n",
            "25         None    None         the  \n",
            "26       within    None        None  \n",
            "27         None    None        None  \n",
            "28         mark    None          hi  \n",
            "29         None    None        None  \n",
            "\n",
            "[30 rows x 27 columns]\n",
            "Structured Field-Level Metrics: {'lastname_precision': 1.0, 'lastname_recall': 1.0, 'lastname_f1': 1.0, 'email_precision': 1.0, 'email_recall': 1.0, 'email_f1': 1.0, 'companyname_precision': 1.0, 'companyname_recall': 1.0, 'companyname_f1': 1.0, 'industry_precision': 1.0, 'industry_recall': 1.0, 'industry_f1': 1.0, 'growthstage_precision': 1.0, 'growthstage_recall': 1.0, 'growthstage_f1': 1.0, 'currentneighborhood_precision': 1.0, 'currentneighborhood_recall': 1.0, 'currentneighborhood_f1': 1.0, 'firstinteraction_precision': 1.0, 'firstinteraction_recall': 1.0, 'firstinteraction_f1': 1.0, 'lastinteraction_precision': 1.0, 'lastinteraction_recall': 1.0, 'lastinteraction_f1': 1.0, 'decisionmakerrole_precision': 1.0, 'decisionmakerrole_recall': 1.0, 'decisionmakerrole_f1': 1.0, 'propertytype_precision': 1.0, 'propertytype_recall': 1.0, 'propertytype_f1': 1.0, 'preferredneighborhood_precision': 1.0, 'preferredneighborhood_recall': 1.0, 'preferredneighborhood_f1': 1.0, 'budget_precision': 1.0, 'budget_recall': 1.0, 'budget_f1': 1.0, 'preferredleaseterm_precision': 1.0, 'preferredleaseterm_recall': 1.0, 'preferredleaseterm_f1': 1.0, 'movingterm_precision': 1.0, 'movingterm_recall': 1.0, 'movingterm_f1': 1.0, 'min_months_precision': 1.0, 'min_months_recall': 1.0, 'min_months_f1': 1.0, 'movingtimeline_precision': 1.0, 'movingtimeline_recall': 1.0, 'movingtimeline_f1': 1.0, 'musthaves_precision': 1.0, 'musthaves_recall': 1.0, 'musthaves_f1': 1.0, 'nicetohaves_precision': 1.0, 'nicetohaves_recall': 1.0, 'nicetohaves_f1': 1.0, 'urgencyscore_precision': 1.0, 'urgencyscore_recall': 1.0, 'urgencyscore_f1': 1.0, 'outcome_precision': 1.0, 'outcome_recall': 1.0, 'outcome_f1': 1.0, 'personality_precision': 1.0, 'personality_recall': 1.0, 'personality_f1': 1.0, 'macro_precision': np.float64(1.0), 'macro_recall': np.float64(1.0), 'macro_f1': np.float64(1.0)}\n",
            "Predictions saved to: /content/drive/MyDrive/distilbert_outputs/sweepy-sweep-16_predictions.json\n"
          ]
        },
        {
          "output_type": "display_data",
          "data": {
            "text/plain": [
              "<IPython.core.display.HTML object>"
            ],
            "text/html": []
          },
          "metadata": {}
        },
        {
          "output_type": "display_data",
          "data": {
            "text/plain": [
              "<IPython.core.display.HTML object>"
            ],
            "text/html": [
              "<br>    <style><br>        .wandb-row {<br>            display: flex;<br>            flex-direction: row;<br>            flex-wrap: wrap;<br>            justify-content: flex-start;<br>            width: 100%;<br>        }<br>        .wandb-col {<br>            display: flex;<br>            flex-direction: column;<br>            flex-basis: 100%;<br>            flex: 1;<br>            padding: 10px;<br>        }<br>    </style><br><div class=\"wandb-row\"><div class=\"wandb-col\"><h3>Run history:</h3><br/><table class=\"wandb\"><tr><td>eval/f1</td><td>▁▁▁▁▁▁▁▁▁█</td></tr><tr><td>eval/loss</td><td>█▄▃▂▂▁▁▁██</td></tr><tr><td>eval/precision</td><td>▁███████▁▁</td></tr><tr><td>eval/recall</td><td>▁▁▁▁▁▁▁▁▁█</td></tr><tr><td>eval/runtime</td><td>▄▁▁▂▂▁▁▂█▃</td></tr><tr><td>eval/samples_per_second</td><td>▅██▇▇██▇▁▅</td></tr><tr><td>eval/steps_per_second</td><td>▅██▇▇██▇▁▅</td></tr><tr><td>test/f1</td><td>▁</td></tr><tr><td>test/loss</td><td>▁</td></tr><tr><td>test/precision</td><td>▁</td></tr><tr><td>test/recall</td><td>▁</td></tr><tr><td>test/runtime</td><td>▁</td></tr><tr><td>test/samples_per_second</td><td>▁</td></tr><tr><td>test/steps_per_second</td><td>▁</td></tr><tr><td>test_budget_f1</td><td>▁</td></tr><tr><td>test_budget_precision</td><td>▁</td></tr><tr><td>test_budget_recall</td><td>▁</td></tr><tr><td>test_companyname_f1</td><td>▁</td></tr><tr><td>test_companyname_precision</td><td>▁</td></tr><tr><td>test_companyname_recall</td><td>▁</td></tr><tr><td>test_currentneighborhood_f1</td><td>▁</td></tr><tr><td>test_currentneighborhood_precision</td><td>▁</td></tr><tr><td>test_currentneighborhood_recall</td><td>▁</td></tr><tr><td>test_decisionmakerrole_f1</td><td>▁</td></tr><tr><td>test_decisionmakerrole_precision</td><td>▁</td></tr><tr><td>test_decisionmakerrole_recall</td><td>▁</td></tr><tr><td>test_email_f1</td><td>▁</td></tr><tr><td>test_email_precision</td><td>▁</td></tr><tr><td>test_email_recall</td><td>▁</td></tr><tr><td>test_firstinteraction_f1</td><td>▁</td></tr><tr><td>test_firstinteraction_precision</td><td>▁</td></tr><tr><td>test_firstinteraction_recall</td><td>▁</td></tr><tr><td>test_growthstage_f1</td><td>▁</td></tr><tr><td>test_growthstage_precision</td><td>▁</td></tr><tr><td>test_growthstage_recall</td><td>▁</td></tr><tr><td>test_industry_f1</td><td>▁</td></tr><tr><td>test_industry_precision</td><td>▁</td></tr><tr><td>test_industry_recall</td><td>▁</td></tr><tr><td>test_lastinteraction_f1</td><td>▁</td></tr><tr><td>test_lastinteraction_precision</td><td>▁</td></tr><tr><td>test_lastinteraction_recall</td><td>▁</td></tr><tr><td>test_lastname_f1</td><td>▁</td></tr><tr><td>test_lastname_precision</td><td>▁</td></tr><tr><td>test_lastname_recall</td><td>▁</td></tr><tr><td>test_macro_f1</td><td>▁</td></tr><tr><td>test_macro_precision</td><td>▁</td></tr><tr><td>test_macro_recall</td><td>▁</td></tr><tr><td>test_min_months_f1</td><td>▁</td></tr><tr><td>test_min_months_precision</td><td>▁</td></tr><tr><td>test_min_months_recall</td><td>▁</td></tr><tr><td>test_movingterm_f1</td><td>▁</td></tr><tr><td>test_movingterm_precision</td><td>▁</td></tr><tr><td>test_movingterm_recall</td><td>▁</td></tr><tr><td>test_movingtimeline_f1</td><td>▁</td></tr><tr><td>test_movingtimeline_precision</td><td>▁</td></tr><tr><td>test_movingtimeline_recall</td><td>▁</td></tr><tr><td>test_musthaves_f1</td><td>▁</td></tr><tr><td>test_musthaves_precision</td><td>▁</td></tr><tr><td>test_musthaves_recall</td><td>▁</td></tr><tr><td>test_nicetohaves_f1</td><td>▁</td></tr><tr><td>test_nicetohaves_precision</td><td>▁</td></tr><tr><td>test_nicetohaves_recall</td><td>▁</td></tr><tr><td>test_outcome_f1</td><td>▁</td></tr><tr><td>test_outcome_precision</td><td>▁</td></tr><tr><td>test_outcome_recall</td><td>▁</td></tr><tr><td>test_personality_f1</td><td>▁</td></tr><tr><td>test_personality_precision</td><td>▁</td></tr><tr><td>test_personality_recall</td><td>▁</td></tr><tr><td>test_preferredleaseterm_f1</td><td>▁</td></tr><tr><td>test_preferredleaseterm_precision</td><td>▁</td></tr><tr><td>test_preferredleaseterm_recall</td><td>▁</td></tr><tr><td>test_preferredneighborhood_f1</td><td>▁</td></tr><tr><td>test_preferredneighborhood_precision</td><td>▁</td></tr><tr><td>test_preferredneighborhood_recall</td><td>▁</td></tr><tr><td>test_propertytype_f1</td><td>▁</td></tr><tr><td>test_propertytype_precision</td><td>▁</td></tr><tr><td>test_propertytype_recall</td><td>▁</td></tr><tr><td>test_urgencyscore_f1</td><td>▁</td></tr><tr><td>test_urgencyscore_precision</td><td>▁</td></tr><tr><td>test_urgencyscore_recall</td><td>▁</td></tr><tr><td>train/epoch</td><td>▁▁▂▂▃▃▄▄▅▅▆▆▇▇█████</td></tr><tr><td>train/global_step</td><td>▁▁▂▂▃▃▄▄▅▅▆▆▇▇████████</td></tr><tr><td>train/grad_norm</td><td>▆█▃▁▁▁▁▁</td></tr><tr><td>train/learning_rate</td><td>█▇▆▅▄▃▂▁</td></tr><tr><td>train/loss</td><td>█▅▃▂▂▁▁▁</td></tr></table><br/></div><div class=\"wandb-col\"><h3>Run summary:</h3><br/><table class=\"wandb\"><tr><td>eval/f1</td><td>0.00074</td></tr><tr><td>eval/loss</td><td>3.60632</td></tr><tr><td>eval/precision</td><td>0.00038</td></tr><tr><td>eval/recall</td><td>0.00966</td></tr><tr><td>eval/runtime</td><td>0.1907</td></tr><tr><td>eval/samples_per_second</td><td>157.31</td></tr><tr><td>eval/steps_per_second</td><td>10.487</td></tr><tr><td>test/f1</td><td>0.00074</td></tr><tr><td>test/loss</td><td>3.60632</td></tr><tr><td>test/precision</td><td>0.00038</td></tr><tr><td>test/recall</td><td>0.00966</td></tr><tr><td>test/runtime</td><td>0.2008</td></tr><tr><td>test/samples_per_second</td><td>149.394</td></tr><tr><td>test/steps_per_second</td><td>9.96</td></tr><tr><td>test_budget_f1</td><td>1</td></tr><tr><td>test_budget_precision</td><td>1</td></tr><tr><td>test_budget_recall</td><td>1</td></tr><tr><td>test_companyname_f1</td><td>1</td></tr><tr><td>test_companyname_precision</td><td>1</td></tr><tr><td>test_companyname_recall</td><td>1</td></tr><tr><td>test_currentneighborhood_f1</td><td>1</td></tr><tr><td>test_currentneighborhood_precision</td><td>1</td></tr><tr><td>test_currentneighborhood_recall</td><td>1</td></tr><tr><td>test_decisionmakerrole_f1</td><td>1</td></tr><tr><td>test_decisionmakerrole_precision</td><td>1</td></tr><tr><td>test_decisionmakerrole_recall</td><td>1</td></tr><tr><td>test_email_f1</td><td>1</td></tr><tr><td>test_email_precision</td><td>1</td></tr><tr><td>test_email_recall</td><td>1</td></tr><tr><td>test_firstinteraction_f1</td><td>1</td></tr><tr><td>test_firstinteraction_precision</td><td>1</td></tr><tr><td>test_firstinteraction_recall</td><td>1</td></tr><tr><td>test_growthstage_f1</td><td>1</td></tr><tr><td>test_growthstage_precision</td><td>1</td></tr><tr><td>test_growthstage_recall</td><td>1</td></tr><tr><td>test_industry_f1</td><td>1</td></tr><tr><td>test_industry_precision</td><td>1</td></tr><tr><td>test_industry_recall</td><td>1</td></tr><tr><td>test_lastinteraction_f1</td><td>1</td></tr><tr><td>test_lastinteraction_precision</td><td>1</td></tr><tr><td>test_lastinteraction_recall</td><td>1</td></tr><tr><td>test_lastname_f1</td><td>1</td></tr><tr><td>test_lastname_precision</td><td>1</td></tr><tr><td>test_lastname_recall</td><td>1</td></tr><tr><td>test_macro_f1</td><td>1</td></tr><tr><td>test_macro_precision</td><td>1</td></tr><tr><td>test_macro_recall</td><td>1</td></tr><tr><td>test_min_months_f1</td><td>1</td></tr><tr><td>test_min_months_precision</td><td>1</td></tr><tr><td>test_min_months_recall</td><td>1</td></tr><tr><td>test_movingterm_f1</td><td>1</td></tr><tr><td>test_movingterm_precision</td><td>1</td></tr><tr><td>test_movingterm_recall</td><td>1</td></tr><tr><td>test_movingtimeline_f1</td><td>1</td></tr><tr><td>test_movingtimeline_precision</td><td>1</td></tr><tr><td>test_movingtimeline_recall</td><td>1</td></tr><tr><td>test_musthaves_f1</td><td>1</td></tr><tr><td>test_musthaves_precision</td><td>1</td></tr><tr><td>test_musthaves_recall</td><td>1</td></tr><tr><td>test_nicetohaves_f1</td><td>1</td></tr><tr><td>test_nicetohaves_precision</td><td>1</td></tr><tr><td>test_nicetohaves_recall</td><td>1</td></tr><tr><td>test_outcome_f1</td><td>1</td></tr><tr><td>test_outcome_precision</td><td>1</td></tr><tr><td>test_outcome_recall</td><td>1</td></tr><tr><td>test_personality_f1</td><td>1</td></tr><tr><td>test_personality_precision</td><td>1</td></tr><tr><td>test_personality_recall</td><td>1</td></tr><tr><td>test_preferredleaseterm_f1</td><td>1</td></tr><tr><td>test_preferredleaseterm_precision</td><td>1</td></tr><tr><td>test_preferredleaseterm_recall</td><td>1</td></tr><tr><td>test_preferredneighborhood_f1</td><td>1</td></tr><tr><td>test_preferredneighborhood_precision</td><td>1</td></tr><tr><td>test_preferredneighborhood_recall</td><td>1</td></tr><tr><td>test_propertytype_f1</td><td>1</td></tr><tr><td>test_propertytype_precision</td><td>1</td></tr><tr><td>test_propertytype_recall</td><td>1</td></tr><tr><td>test_urgencyscore_f1</td><td>1</td></tr><tr><td>test_urgencyscore_precision</td><td>1</td></tr><tr><td>test_urgencyscore_recall</td><td>1</td></tr><tr><td>total_flos</td><td>146471702200320.0</td></tr><tr><td>train/epoch</td><td>8</td></tr><tr><td>train/global_step</td><td>72</td></tr><tr><td>train/grad_norm</td><td>1.80369</td></tr><tr><td>train/learning_rate</td><td>0.0</td></tr><tr><td>train/loss</td><td>1.3818</td></tr><tr><td>train_loss</td><td>2.11635</td></tr><tr><td>train_runtime</td><td>27.7398</td></tr><tr><td>train_samples_per_second</td><td>40.375</td></tr><tr><td>train_steps_per_second</td><td>2.596</td></tr></table><br/></div></div>"
            ]
          },
          "metadata": {}
        },
        {
          "output_type": "display_data",
          "data": {
            "text/plain": [
              "<IPython.core.display.HTML object>"
            ],
            "text/html": [
              " View run <strong style=\"color:#cdcd00\">sweepy-sweep-16</strong> at: <a href='https://wandb.ai/lidianeh-none/distilbert-final/runs/mla5mf0k' target=\"_blank\">https://wandb.ai/lidianeh-none/distilbert-final/runs/mla5mf0k</a><br> View project at: <a href='https://wandb.ai/lidianeh-none/distilbert-final' target=\"_blank\">https://wandb.ai/lidianeh-none/distilbert-final</a><br>Synced 5 W&B file(s), 1 media file(s), 2 artifact file(s) and 0 other file(s)"
            ]
          },
          "metadata": {}
        },
        {
          "output_type": "display_data",
          "data": {
            "text/plain": [
              "<IPython.core.display.HTML object>"
            ],
            "text/html": [
              "Find logs at: <code>./wandb/run-20250509_171104-mla5mf0k/logs</code>"
            ]
          },
          "metadata": {}
        },
        {
          "output_type": "stream",
          "name": "stderr",
          "text": [
            "\u001b[34m\u001b[1mwandb\u001b[0m: Agent Starting Run: 5s0wutum with config:\n",
            "\u001b[34m\u001b[1mwandb\u001b[0m: \tadam_epsilon: 1e-08\n",
            "\u001b[34m\u001b[1mwandb\u001b[0m: \tlearning_rate: 2.7269100045520024e-05\n",
            "\u001b[34m\u001b[1mwandb\u001b[0m: \tnum_train_epochs: 6\n",
            "\u001b[34m\u001b[1mwandb\u001b[0m: \tper_device_train_batch_size: 16\n",
            "\u001b[34m\u001b[1mwandb\u001b[0m: \tseed: 2024\n",
            "\u001b[34m\u001b[1mwandb\u001b[0m: \twarmup_ratio: 0.12933862217137568\n",
            "\u001b[34m\u001b[1mwandb\u001b[0m: \tweight_decay: 0.09599373053343042\n"
          ]
        },
        {
          "output_type": "display_data",
          "data": {
            "text/plain": [
              "<IPython.core.display.HTML object>"
            ],
            "text/html": [
              "Tracking run with wandb version 0.19.10"
            ]
          },
          "metadata": {}
        },
        {
          "output_type": "display_data",
          "data": {
            "text/plain": [
              "<IPython.core.display.HTML object>"
            ],
            "text/html": [
              "Run data is saved locally in <code>/content/wandb/run-20250509_171147-5s0wutum</code>"
            ]
          },
          "metadata": {}
        },
        {
          "output_type": "display_data",
          "data": {
            "text/plain": [
              "<IPython.core.display.HTML object>"
            ],
            "text/html": [
              "Syncing run <strong><a href='https://wandb.ai/lidianeh-none/distilbert-final/runs/5s0wutum' target=\"_blank\">hardy-sweep-17</a></strong> to <a href='https://wandb.ai/lidianeh-none/distilbert-final' target=\"_blank\">Weights & Biases</a> (<a href='https://wandb.me/developer-guide' target=\"_blank\">docs</a>)<br>Sweep page: <a href='https://wandb.ai/lidianeh-none/distilbert-final/sweeps/6yae4880' target=\"_blank\">https://wandb.ai/lidianeh-none/distilbert-final/sweeps/6yae4880</a>"
            ]
          },
          "metadata": {}
        },
        {
          "output_type": "display_data",
          "data": {
            "text/plain": [
              "<IPython.core.display.HTML object>"
            ],
            "text/html": [
              " View project at <a href='https://wandb.ai/lidianeh-none/distilbert-final' target=\"_blank\">https://wandb.ai/lidianeh-none/distilbert-final</a>"
            ]
          },
          "metadata": {}
        },
        {
          "output_type": "display_data",
          "data": {
            "text/plain": [
              "<IPython.core.display.HTML object>"
            ],
            "text/html": [
              " View sweep at <a href='https://wandb.ai/lidianeh-none/distilbert-final/sweeps/6yae4880' target=\"_blank\">https://wandb.ai/lidianeh-none/distilbert-final/sweeps/6yae4880</a>"
            ]
          },
          "metadata": {}
        },
        {
          "output_type": "display_data",
          "data": {
            "text/plain": [
              "<IPython.core.display.HTML object>"
            ],
            "text/html": [
              " View run at <a href='https://wandb.ai/lidianeh-none/distilbert-final/runs/5s0wutum' target=\"_blank\">https://wandb.ai/lidianeh-none/distilbert-final/runs/5s0wutum</a>"
            ]
          },
          "metadata": {}
        },
        {
          "output_type": "stream",
          "name": "stderr",
          "text": [
            "Some weights of WeightedDistilBertForTokenClassification were not initialized from the model checkpoint at distilbert-base-uncased and are newly initialized: ['classifier.bias', 'classifier.weight']\n",
            "You should probably TRAIN this model on a down-stream task to be able to use it for predictions and inference.\n",
            "<ipython-input-19-362b024c7306>:57: FutureWarning: `tokenizer` is deprecated and will be removed in version 5.0.0 for `Trainer.__init__`. Use `processing_class` instead.\n",
            "  trainer = Trainer(\n",
            "\u001b[34m\u001b[1mwandb\u001b[0m: \u001b[33mWARNING\u001b[0m Config item 'per_device_train_batch_size' was locked by 'sweep' (ignored update).\n",
            "\u001b[34m\u001b[1mwandb\u001b[0m: \u001b[33mWARNING\u001b[0m Config item 'learning_rate' was locked by 'sweep' (ignored update).\n",
            "\u001b[34m\u001b[1mwandb\u001b[0m: \u001b[33mWARNING\u001b[0m Config item 'weight_decay' was locked by 'sweep' (ignored update).\n",
            "\u001b[34m\u001b[1mwandb\u001b[0m: \u001b[33mWARNING\u001b[0m Config item 'adam_epsilon' was locked by 'sweep' (ignored update).\n",
            "\u001b[34m\u001b[1mwandb\u001b[0m: \u001b[33mWARNING\u001b[0m Config item 'num_train_epochs' was locked by 'sweep' (ignored update).\n",
            "\u001b[34m\u001b[1mwandb\u001b[0m: \u001b[33mWARNING\u001b[0m Config item 'warmup_ratio' was locked by 'sweep' (ignored update).\n",
            "\u001b[34m\u001b[1mwandb\u001b[0m: \u001b[33mWARNING\u001b[0m Config item 'seed' was locked by 'sweep' (ignored update).\n"
          ]
        },
        {
          "output_type": "display_data",
          "data": {
            "text/plain": [
              "<IPython.core.display.HTML object>"
            ],
            "text/html": [
              "\n",
              "    <div>\n",
              "      \n",
              "      <progress value='54' max='54' style='width:300px; height:20px; vertical-align: middle;'></progress>\n",
              "      [54/54 00:23, Epoch 6/6]\n",
              "    </div>\n",
              "    <table border=\"1\" class=\"dataframe\">\n",
              "  <thead>\n",
              " <tr style=\"text-align: left;\">\n",
              "      <th>Epoch</th>\n",
              "      <th>Training Loss</th>\n",
              "      <th>Validation Loss</th>\n",
              "      <th>Precision</th>\n",
              "      <th>Recall</th>\n",
              "      <th>F1</th>\n",
              "    </tr>\n",
              "  </thead>\n",
              "  <tbody>\n",
              "    <tr>\n",
              "      <td>1</td>\n",
              "      <td>3.608500</td>\n",
              "      <td>2.515304</td>\n",
              "      <td>1.000000</td>\n",
              "      <td>0.000000</td>\n",
              "      <td>0.000000</td>\n",
              "    </tr>\n",
              "    <tr>\n",
              "      <td>2</td>\n",
              "      <td>1.976700</td>\n",
              "      <td>1.713029</td>\n",
              "      <td>1.000000</td>\n",
              "      <td>0.000000</td>\n",
              "      <td>0.000000</td>\n",
              "    </tr>\n",
              "    <tr>\n",
              "      <td>3</td>\n",
              "      <td>1.561300</td>\n",
              "      <td>1.424658</td>\n",
              "      <td>1.000000</td>\n",
              "      <td>0.000000</td>\n",
              "      <td>0.000000</td>\n",
              "    </tr>\n",
              "    <tr>\n",
              "      <td>4</td>\n",
              "      <td>1.329700</td>\n",
              "      <td>1.234674</td>\n",
              "      <td>0.071429</td>\n",
              "      <td>0.008811</td>\n",
              "      <td>0.015686</td>\n",
              "    </tr>\n",
              "    <tr>\n",
              "      <td>5</td>\n",
              "      <td>1.172800</td>\n",
              "      <td>1.121809</td>\n",
              "      <td>0.226721</td>\n",
              "      <td>0.246696</td>\n",
              "      <td>0.236287</td>\n",
              "    </tr>\n",
              "    <tr>\n",
              "      <td>6</td>\n",
              "      <td>1.088900</td>\n",
              "      <td>1.081716</td>\n",
              "      <td>0.230483</td>\n",
              "      <td>0.273128</td>\n",
              "      <td>0.250000</td>\n",
              "    </tr>\n",
              "  </tbody>\n",
              "</table><p>"
            ]
          },
          "metadata": {}
        },
        {
          "output_type": "display_data",
          "data": {
            "text/plain": [
              "<IPython.core.display.HTML object>"
            ],
            "text/html": []
          },
          "metadata": {}
        },
        {
          "output_type": "stream",
          "name": "stdout",
          "text": [
            "{'eval_loss': 1.010423183441162, 'eval_precision': 0.3008474576271186, 'eval_recall': 0.34299516908212563, 'eval_f1': 0.32054176072234764, 'eval_runtime': 0.1907, 'eval_samples_per_second': 157.345, 'eval_steps_per_second': 10.49, 'epoch': 6.0}\n"
          ]
        },
        {
          "output_type": "stream",
          "name": "stderr",
          "text": [
            "/usr/local/lib/python3.11/dist-packages/seqeval/metrics/v1.py:57: UndefinedMetricWarning: Precision and F-score are ill-defined and being set to 0.0 in labels with no predicted samples. Use `zero_division` parameter to control this behavior.\n",
            "  _warn_prf(average, modifier, msg_start, len(result))\n"
          ]
        },
        {
          "output_type": "stream",
          "name": "stdout",
          "text": [
            "                       precision    recall  f1-score   support\n",
            "\n",
            "          CompanyName       0.38      0.67      0.49        27\n",
            "  CurrentNeighborhood       0.00      0.00      0.00         1\n",
            "    DecisionMakerRole       0.00      0.00      0.00         6\n",
            "            FirstName       0.41      0.90      0.56        30\n",
            "             Industry       0.00      0.00      0.00        12\n",
            "             LastName       0.00      0.00      0.00         8\n",
            "            MustHaves       0.18      0.42      0.25        50\n",
            "          NiceToHaves       0.00      0.00      0.00        10\n",
            "            PainPoint       0.00      0.00      0.00         1\n",
            "   PreferredLeaseTerm       0.00      0.00      0.00         3\n",
            "PreferredNeighborhood       0.00      0.00      0.00        13\n",
            "         PropertyType       1.00      0.19      0.32        26\n",
            "         UrgencyScore       0.00      0.00      0.00        20\n",
            "\n",
            "            micro avg       0.30      0.34      0.32       207\n",
            "            macro avg       0.15      0.17      0.12       207\n",
            "         weighted avg       0.28      0.34      0.25       207\n",
            "\n",
            "   firstname lastname email phone       companyname industry companysize  \\\n",
            "0       luke     None  None  None              None     None        None   \n",
            "1    michael     None  None  None              None     None        None   \n",
            "2     daniel     None  None  None              None     None        None   \n",
            "3       liam     None  None  None              None     None        None   \n",
            "4      jamie     None  None  None              None     None        None   \n",
            "5       liam     None  None  None              None     None        None   \n",
            "6    michael     None  None  None              None     None        None   \n",
            "7    rebecca     None  None  None              None     None        None   \n",
            "8     amelia     None  None  None              None     None        None   \n",
            "9       alex     None  None  None              None     None        None   \n",
            "10      lena     None  None  None              None     None        None   \n",
            "11      reed     None  None  None  urbancore realty     None        None   \n",
            "12      liam     None  None  None              None     None        None   \n",
            "13    samuel     None  None  None              None     None        None   \n",
            "14    evelyn     None  None  None              None     None        None   \n",
            "15     ethan     None  None  None              None     None        None   \n",
            "16   michael     None  None  None              None     None        None   \n",
            "17      liam     None  None  None              None     None        None   \n",
            "18      liam     None  None  None              None     None        None   \n",
            "19     ethan     None  None  None              None     None        None   \n",
            "20      eric     None  None  None              None     None        None   \n",
            "21      alex     None  None  None              None     None        None   \n",
            "22      None     None  None  None              None     None        None   \n",
            "23      liam     None  None  None              None     None        None   \n",
            "24    evelyn     None  None  None              None     None        None   \n",
            "25      alex     None  None  None              None     None        None   \n",
            "26    jordan     None  None  None              None     None        None   \n",
            "27      nina     None  None  None              None     None        None   \n",
            "28      mark     None  None  None              None     None        None   \n",
            "29   daniels     None  None  None              None     None        None   \n",
            "\n",
            "   growthstage currentneighborhood firstinteraction  ... movingterm  \\\n",
            "0         None                None             None  ...       None   \n",
            "1         None                None             None  ...       None   \n",
            "2         None                None             None  ...       None   \n",
            "3         None                None             None  ...       None   \n",
            "4         None                None             None  ...       None   \n",
            "5         None                None             None  ...       None   \n",
            "6         None                None             None  ...       None   \n",
            "7         None                None             None  ...       None   \n",
            "8         None                None             None  ...       None   \n",
            "9         None                None             None  ...       None   \n",
            "10        None                None             None  ...       None   \n",
            "11        None                None             None  ...       None   \n",
            "12        None                None             None  ...       None   \n",
            "13        None                None             None  ...       None   \n",
            "14        None                None             None  ...       None   \n",
            "15        None                None             None  ...       None   \n",
            "16        None                None             None  ...       None   \n",
            "17        None                None             None  ...       None   \n",
            "18        None                None             None  ...       None   \n",
            "19        None                None             None  ...       None   \n",
            "20        None                None             None  ...       None   \n",
            "21        None                None             None  ...       None   \n",
            "22        None                None             None  ...       None   \n",
            "23        None                None             None  ...       None   \n",
            "24        None                None             None  ...       None   \n",
            "25        None                None             None  ...       None   \n",
            "26        None                None             None  ...       None   \n",
            "27        None                None             None  ...       None   \n",
            "28        None                None             None  ...       None   \n",
            "29        None                None             None  ...       None   \n",
            "\n",
            "   min_months max_months movingtimeline       musthaves nicetohaves painpoint  \\\n",
            "0        None       None           None            hvac        None      None   \n",
            "1        None       None           None            None        None      None   \n",
            "2        None       None           None            None        None      None   \n",
            "3        None       None           None            None        None      None   \n",
            "4        None       None           None            None        None      None   \n",
            "5        None       None           None   natural light        None      None   \n",
            "6        None       None           None   exposed brick        None      None   \n",
            "7        None       None           None   natural light        None      None   \n",
            "8        None       None           None            None        None      None   \n",
            "9        None       None           None   natural light        None      None   \n",
            "10       None       None           None            None        None      None   \n",
            "11       None       None           None   natural light        None      None   \n",
            "12       None       None           None            None        None      None   \n",
            "13       None       None           None            None        None      None   \n",
            "14       None       None           None            None        None      None   \n",
            "15       None       None           None  ada compliance        None      None   \n",
            "16       None       None           None            None        None      None   \n",
            "17       None       None           None            None        None      None   \n",
            "18       None       None           None   natural light        None      None   \n",
            "19       None       None           None   natural light        None      None   \n",
            "20       None       None           None            None        None      None   \n",
            "21       None       None           None            None        None      None   \n",
            "22       None       None           None   natural light        None      None   \n",
            "23       None       None           None   natural light        None      None   \n",
            "24       None       None           None            hvac        None      None   \n",
            "25       None       None           None   natural light        None      None   \n",
            "26       None       None           None   natural light        None      None   \n",
            "27       None       None           None            None        None      None   \n",
            "28       None       None           None            open        None      None   \n",
            "29       None       None           None   natural light        None      None   \n",
            "\n",
            "   urgencyscore outcome personality  \n",
            "0          None    None        None  \n",
            "1          None    None        None  \n",
            "2          None    None        None  \n",
            "3          None    None        None  \n",
            "4          None    None        None  \n",
            "5          None    None        None  \n",
            "6          None    None        None  \n",
            "7          None    None        None  \n",
            "8          None    None        None  \n",
            "9          None    None        None  \n",
            "10         None    None        None  \n",
            "11         None    None        None  \n",
            "12         None    None        None  \n",
            "13         None    None        None  \n",
            "14         None    None        None  \n",
            "15         None    None        None  \n",
            "16         None    None        None  \n",
            "17         None    None        None  \n",
            "18         None    None        None  \n",
            "19         None    None        None  \n",
            "20         None    None        None  \n",
            "21         None    None        None  \n",
            "22         None    None        None  \n",
            "23         None    None        None  \n",
            "24         None    None        None  \n",
            "25         None    None        None  \n",
            "26         None    None        None  \n",
            "27         None    None        None  \n",
            "28         None    None        None  \n",
            "29         None    None        None  \n",
            "\n",
            "[30 rows x 27 columns]\n",
            "Structured Field-Level Metrics: {'firstname_precision': 1.0, 'firstname_recall': 1.0, 'firstname_f1': 1.0, 'companyname_precision': 1.0, 'companyname_recall': 1.0, 'companyname_f1': 1.0, 'propertytype_precision': 1.0, 'propertytype_recall': 1.0, 'propertytype_f1': 1.0, 'musthaves_precision': 1.0, 'musthaves_recall': 1.0, 'musthaves_f1': 1.0, 'macro_precision': np.float64(1.0), 'macro_recall': np.float64(1.0), 'macro_f1': np.float64(1.0)}\n",
            "Predictions saved to: /content/drive/MyDrive/distilbert_outputs/hardy-sweep-17_predictions.json\n"
          ]
        },
        {
          "output_type": "display_data",
          "data": {
            "text/plain": [
              "<IPython.core.display.HTML object>"
            ],
            "text/html": []
          },
          "metadata": {}
        },
        {
          "output_type": "display_data",
          "data": {
            "text/plain": [
              "<IPython.core.display.HTML object>"
            ],
            "text/html": [
              "<br>    <style><br>        .wandb-row {<br>            display: flex;<br>            flex-direction: row;<br>            flex-wrap: wrap;<br>            justify-content: flex-start;<br>            width: 100%;<br>        }<br>        .wandb-col {<br>            display: flex;<br>            flex-direction: column;<br>            flex-basis: 100%;<br>            flex: 1;<br>            padding: 10px;<br>        }<br>    </style><br><div class=\"wandb-row\"><div class=\"wandb-col\"><h3>Run history:</h3><br/><table class=\"wandb\"><tr><td>eval/f1</td><td>▁▁▁▁▆▆▆█</td></tr><tr><td>eval/loss</td><td>█▄▃▂▂▁▁▁</td></tr><tr><td>eval/precision</td><td>███▁▂▂▂▃</td></tr><tr><td>eval/recall</td><td>▁▁▁▁▆▇▇█</td></tr><tr><td>eval/runtime</td><td>▂▄▁▁▁▂█▇</td></tr><tr><td>eval/samples_per_second</td><td>▇▅███▇▁▂</td></tr><tr><td>eval/steps_per_second</td><td>▇▅███▇▁▂</td></tr><tr><td>test/f1</td><td>▁</td></tr><tr><td>test/loss</td><td>▁</td></tr><tr><td>test/precision</td><td>▁</td></tr><tr><td>test/recall</td><td>▁</td></tr><tr><td>test/runtime</td><td>▁</td></tr><tr><td>test/samples_per_second</td><td>▁</td></tr><tr><td>test/steps_per_second</td><td>▁</td></tr><tr><td>test_companyname_f1</td><td>▁</td></tr><tr><td>test_companyname_precision</td><td>▁</td></tr><tr><td>test_companyname_recall</td><td>▁</td></tr><tr><td>test_firstname_f1</td><td>▁</td></tr><tr><td>test_firstname_precision</td><td>▁</td></tr><tr><td>test_firstname_recall</td><td>▁</td></tr><tr><td>test_macro_f1</td><td>▁</td></tr><tr><td>test_macro_precision</td><td>▁</td></tr><tr><td>test_macro_recall</td><td>▁</td></tr><tr><td>test_musthaves_f1</td><td>▁</td></tr><tr><td>test_musthaves_precision</td><td>▁</td></tr><tr><td>test_musthaves_recall</td><td>▁</td></tr><tr><td>test_propertytype_f1</td><td>▁</td></tr><tr><td>test_propertytype_precision</td><td>▁</td></tr><tr><td>test_propertytype_recall</td><td>▁</td></tr><tr><td>train/epoch</td><td>▁▁▂▂▄▄▅▅▇▇█████</td></tr><tr><td>train/global_step</td><td>▁▁▂▂▄▄▅▅▇▇████████</td></tr><tr><td>train/grad_norm</td><td>█▂▁▁▁▁</td></tr><tr><td>train/learning_rate</td><td>█▇▅▄▂▁</td></tr><tr><td>train/loss</td><td>█▃▂▂▁▁</td></tr></table><br/></div><div class=\"wandb-col\"><h3>Run summary:</h3><br/><table class=\"wandb\"><tr><td>eval/f1</td><td>0.32054</td></tr><tr><td>eval/loss</td><td>1.01042</td></tr><tr><td>eval/precision</td><td>0.30085</td></tr><tr><td>eval/recall</td><td>0.343</td></tr><tr><td>eval/runtime</td><td>0.1907</td></tr><tr><td>eval/samples_per_second</td><td>157.345</td></tr><tr><td>eval/steps_per_second</td><td>10.49</td></tr><tr><td>test/f1</td><td>0.32054</td></tr><tr><td>test/loss</td><td>1.01042</td></tr><tr><td>test/precision</td><td>0.30085</td></tr><tr><td>test/recall</td><td>0.343</td></tr><tr><td>test/runtime</td><td>0.1776</td></tr><tr><td>test/samples_per_second</td><td>168.905</td></tr><tr><td>test/steps_per_second</td><td>11.26</td></tr><tr><td>test_companyname_f1</td><td>1</td></tr><tr><td>test_companyname_precision</td><td>1</td></tr><tr><td>test_companyname_recall</td><td>1</td></tr><tr><td>test_firstname_f1</td><td>1</td></tr><tr><td>test_firstname_precision</td><td>1</td></tr><tr><td>test_firstname_recall</td><td>1</td></tr><tr><td>test_macro_f1</td><td>1</td></tr><tr><td>test_macro_precision</td><td>1</td></tr><tr><td>test_macro_recall</td><td>1</td></tr><tr><td>test_musthaves_f1</td><td>1</td></tr><tr><td>test_musthaves_precision</td><td>1</td></tr><tr><td>test_musthaves_recall</td><td>1</td></tr><tr><td>test_propertytype_f1</td><td>1</td></tr><tr><td>test_propertytype_precision</td><td>1</td></tr><tr><td>test_propertytype_recall</td><td>1</td></tr><tr><td>total_flos</td><td>109853776650240.0</td></tr><tr><td>train/epoch</td><td>6</td></tr><tr><td>train/global_step</td><td>54</td></tr><tr><td>train/grad_norm</td><td>1.51572</td></tr><tr><td>train/learning_rate</td><td>0.0</td></tr><tr><td>train/loss</td><td>1.0889</td></tr><tr><td>train_loss</td><td>1.78962</td></tr><tr><td>train_runtime</td><td>23.8443</td></tr><tr><td>train_samples_per_second</td><td>35.229</td></tr><tr><td>train_steps_per_second</td><td>2.265</td></tr></table><br/></div></div>"
            ]
          },
          "metadata": {}
        },
        {
          "output_type": "display_data",
          "data": {
            "text/plain": [
              "<IPython.core.display.HTML object>"
            ],
            "text/html": [
              " View run <strong style=\"color:#cdcd00\">hardy-sweep-17</strong> at: <a href='https://wandb.ai/lidianeh-none/distilbert-final/runs/5s0wutum' target=\"_blank\">https://wandb.ai/lidianeh-none/distilbert-final/runs/5s0wutum</a><br> View project at: <a href='https://wandb.ai/lidianeh-none/distilbert-final' target=\"_blank\">https://wandb.ai/lidianeh-none/distilbert-final</a><br>Synced 5 W&B file(s), 1 media file(s), 2 artifact file(s) and 0 other file(s)"
            ]
          },
          "metadata": {}
        },
        {
          "output_type": "display_data",
          "data": {
            "text/plain": [
              "<IPython.core.display.HTML object>"
            ],
            "text/html": [
              "Find logs at: <code>./wandb/run-20250509_171147-5s0wutum/logs</code>"
            ]
          },
          "metadata": {}
        },
        {
          "output_type": "stream",
          "name": "stderr",
          "text": [
            "\u001b[34m\u001b[1mwandb\u001b[0m: Sweep Agent: Waiting for job.\n",
            "\u001b[34m\u001b[1mwandb\u001b[0m: Job received.\n",
            "\u001b[34m\u001b[1mwandb\u001b[0m: Agent Starting Run: kxgyusan with config:\n",
            "\u001b[34m\u001b[1mwandb\u001b[0m: \tadam_epsilon: 1e-08\n",
            "\u001b[34m\u001b[1mwandb\u001b[0m: \tlearning_rate: 3.89704952470483e-05\n",
            "\u001b[34m\u001b[1mwandb\u001b[0m: \tnum_train_epochs: 10\n",
            "\u001b[34m\u001b[1mwandb\u001b[0m: \tper_device_train_batch_size: 16\n",
            "\u001b[34m\u001b[1mwandb\u001b[0m: \tseed: 2024\n",
            "\u001b[34m\u001b[1mwandb\u001b[0m: \twarmup_ratio: 0.16922267105807787\n",
            "\u001b[34m\u001b[1mwandb\u001b[0m: \tweight_decay: 0.15180827596024266\n"
          ]
        },
        {
          "output_type": "display_data",
          "data": {
            "text/plain": [
              "<IPython.core.display.HTML object>"
            ],
            "text/html": [
              "Tracking run with wandb version 0.19.10"
            ]
          },
          "metadata": {}
        },
        {
          "output_type": "display_data",
          "data": {
            "text/plain": [
              "<IPython.core.display.HTML object>"
            ],
            "text/html": [
              "Run data is saved locally in <code>/content/wandb/run-20250509_171233-kxgyusan</code>"
            ]
          },
          "metadata": {}
        },
        {
          "output_type": "display_data",
          "data": {
            "text/plain": [
              "<IPython.core.display.HTML object>"
            ],
            "text/html": [
              "Syncing run <strong><a href='https://wandb.ai/lidianeh-none/distilbert-final/runs/kxgyusan' target=\"_blank\">brisk-sweep-18</a></strong> to <a href='https://wandb.ai/lidianeh-none/distilbert-final' target=\"_blank\">Weights & Biases</a> (<a href='https://wandb.me/developer-guide' target=\"_blank\">docs</a>)<br>Sweep page: <a href='https://wandb.ai/lidianeh-none/distilbert-final/sweeps/6yae4880' target=\"_blank\">https://wandb.ai/lidianeh-none/distilbert-final/sweeps/6yae4880</a>"
            ]
          },
          "metadata": {}
        },
        {
          "output_type": "display_data",
          "data": {
            "text/plain": [
              "<IPython.core.display.HTML object>"
            ],
            "text/html": [
              " View project at <a href='https://wandb.ai/lidianeh-none/distilbert-final' target=\"_blank\">https://wandb.ai/lidianeh-none/distilbert-final</a>"
            ]
          },
          "metadata": {}
        },
        {
          "output_type": "display_data",
          "data": {
            "text/plain": [
              "<IPython.core.display.HTML object>"
            ],
            "text/html": [
              " View sweep at <a href='https://wandb.ai/lidianeh-none/distilbert-final/sweeps/6yae4880' target=\"_blank\">https://wandb.ai/lidianeh-none/distilbert-final/sweeps/6yae4880</a>"
            ]
          },
          "metadata": {}
        },
        {
          "output_type": "display_data",
          "data": {
            "text/plain": [
              "<IPython.core.display.HTML object>"
            ],
            "text/html": [
              " View run at <a href='https://wandb.ai/lidianeh-none/distilbert-final/runs/kxgyusan' target=\"_blank\">https://wandb.ai/lidianeh-none/distilbert-final/runs/kxgyusan</a>"
            ]
          },
          "metadata": {}
        },
        {
          "output_type": "stream",
          "name": "stderr",
          "text": [
            "Some weights of WeightedDistilBertForTokenClassification were not initialized from the model checkpoint at distilbert-base-uncased and are newly initialized: ['classifier.bias', 'classifier.weight']\n",
            "You should probably TRAIN this model on a down-stream task to be able to use it for predictions and inference.\n",
            "<ipython-input-19-362b024c7306>:57: FutureWarning: `tokenizer` is deprecated and will be removed in version 5.0.0 for `Trainer.__init__`. Use `processing_class` instead.\n",
            "  trainer = Trainer(\n",
            "\u001b[34m\u001b[1mwandb\u001b[0m: \u001b[33mWARNING\u001b[0m Config item 'per_device_train_batch_size' was locked by 'sweep' (ignored update).\n",
            "\u001b[34m\u001b[1mwandb\u001b[0m: \u001b[33mWARNING\u001b[0m Config item 'learning_rate' was locked by 'sweep' (ignored update).\n",
            "\u001b[34m\u001b[1mwandb\u001b[0m: \u001b[33mWARNING\u001b[0m Config item 'weight_decay' was locked by 'sweep' (ignored update).\n",
            "\u001b[34m\u001b[1mwandb\u001b[0m: \u001b[33mWARNING\u001b[0m Config item 'adam_epsilon' was locked by 'sweep' (ignored update).\n",
            "\u001b[34m\u001b[1mwandb\u001b[0m: \u001b[33mWARNING\u001b[0m Config item 'num_train_epochs' was locked by 'sweep' (ignored update).\n",
            "\u001b[34m\u001b[1mwandb\u001b[0m: \u001b[33mWARNING\u001b[0m Config item 'warmup_ratio' was locked by 'sweep' (ignored update).\n",
            "\u001b[34m\u001b[1mwandb\u001b[0m: \u001b[33mWARNING\u001b[0m Config item 'seed' was locked by 'sweep' (ignored update).\n"
          ]
        },
        {
          "output_type": "display_data",
          "data": {
            "text/plain": [
              "<IPython.core.display.HTML object>"
            ],
            "text/html": [
              "\n",
              "    <div>\n",
              "      \n",
              "      <progress value='90' max='90' style='width:300px; height:20px; vertical-align: middle;'></progress>\n",
              "      [90/90 00:39, Epoch 10/10]\n",
              "    </div>\n",
              "    <table border=\"1\" class=\"dataframe\">\n",
              "  <thead>\n",
              " <tr style=\"text-align: left;\">\n",
              "      <th>Epoch</th>\n",
              "      <th>Training Loss</th>\n",
              "      <th>Validation Loss</th>\n",
              "      <th>Precision</th>\n",
              "      <th>Recall</th>\n",
              "      <th>F1</th>\n",
              "    </tr>\n",
              "  </thead>\n",
              "  <tbody>\n",
              "    <tr>\n",
              "      <td>1</td>\n",
              "      <td>3.977700</td>\n",
              "      <td>3.432479</td>\n",
              "      <td>0.005964</td>\n",
              "      <td>0.013216</td>\n",
              "      <td>0.008219</td>\n",
              "    </tr>\n",
              "    <tr>\n",
              "      <td>2</td>\n",
              "      <td>2.476500</td>\n",
              "      <td>1.826392</td>\n",
              "      <td>1.000000</td>\n",
              "      <td>0.000000</td>\n",
              "      <td>0.000000</td>\n",
              "    </tr>\n",
              "    <tr>\n",
              "      <td>3</td>\n",
              "      <td>1.581800</td>\n",
              "      <td>1.354357</td>\n",
              "      <td>0.229167</td>\n",
              "      <td>0.048458</td>\n",
              "      <td>0.080000</td>\n",
              "    </tr>\n",
              "    <tr>\n",
              "      <td>4</td>\n",
              "      <td>1.187300</td>\n",
              "      <td>0.987483</td>\n",
              "      <td>0.324042</td>\n",
              "      <td>0.409692</td>\n",
              "      <td>0.361868</td>\n",
              "    </tr>\n",
              "    <tr>\n",
              "      <td>5</td>\n",
              "      <td>0.890500</td>\n",
              "      <td>0.783145</td>\n",
              "      <td>0.211599</td>\n",
              "      <td>0.594714</td>\n",
              "      <td>0.312139</td>\n",
              "    </tr>\n",
              "    <tr>\n",
              "      <td>6</td>\n",
              "      <td>0.714500</td>\n",
              "      <td>0.670274</td>\n",
              "      <td>0.179894</td>\n",
              "      <td>0.599119</td>\n",
              "      <td>0.276704</td>\n",
              "    </tr>\n",
              "    <tr>\n",
              "      <td>7</td>\n",
              "      <td>0.605000</td>\n",
              "      <td>0.594737</td>\n",
              "      <td>0.239669</td>\n",
              "      <td>0.638767</td>\n",
              "      <td>0.348558</td>\n",
              "    </tr>\n",
              "    <tr>\n",
              "      <td>8</td>\n",
              "      <td>0.528500</td>\n",
              "      <td>0.557463</td>\n",
              "      <td>0.255537</td>\n",
              "      <td>0.660793</td>\n",
              "      <td>0.368550</td>\n",
              "    </tr>\n",
              "    <tr>\n",
              "      <td>9</td>\n",
              "      <td>0.484800</td>\n",
              "      <td>0.532288</td>\n",
              "      <td>0.266102</td>\n",
              "      <td>0.691630</td>\n",
              "      <td>0.384333</td>\n",
              "    </tr>\n",
              "    <tr>\n",
              "      <td>10</td>\n",
              "      <td>0.456600</td>\n",
              "      <td>0.527022</td>\n",
              "      <td>0.277487</td>\n",
              "      <td>0.700441</td>\n",
              "      <td>0.397500</td>\n",
              "    </tr>\n",
              "  </tbody>\n",
              "</table><p>"
            ]
          },
          "metadata": {}
        },
        {
          "output_type": "display_data",
          "data": {
            "text/plain": [
              "<IPython.core.display.HTML object>"
            ],
            "text/html": []
          },
          "metadata": {}
        },
        {
          "output_type": "stream",
          "name": "stdout",
          "text": [
            "{'eval_loss': 0.448280394077301, 'eval_precision': 0.29902912621359223, 'eval_recall': 0.7439613526570048, 'eval_f1': 0.4265927977839335, 'eval_runtime': 0.1904, 'eval_samples_per_second': 157.593, 'eval_steps_per_second': 10.506, 'epoch': 10.0}\n"
          ]
        },
        {
          "output_type": "stream",
          "name": "stderr",
          "text": [
            "/usr/local/lib/python3.11/dist-packages/seqeval/metrics/v1.py:57: UndefinedMetricWarning: Precision and F-score are ill-defined and being set to 0.0 in labels with no predicted samples. Use `zero_division` parameter to control this behavior.\n",
            "  _warn_prf(average, modifier, msg_start, len(result))\n",
            "/usr/local/lib/python3.11/dist-packages/seqeval/metrics/v1.py:57: UndefinedMetricWarning: Recall and F-score are ill-defined and being set to 0.0 in labels with no true samples. Use `zero_division` parameter to control this behavior.\n",
            "  _warn_prf(average, modifier, msg_start, len(result))\n"
          ]
        },
        {
          "output_type": "stream",
          "name": "stdout",
          "text": [
            "                       precision    recall  f1-score   support\n",
            "\n",
            "          CompanyName       0.47      0.78      0.58        27\n",
            "  CurrentNeighborhood       0.00      0.00      0.00         1\n",
            "    DecisionMakerRole       0.00      0.00      0.00         6\n",
            "            FirstName       0.41      0.93      0.57        30\n",
            "             Industry       0.47      0.67      0.55        12\n",
            "             LastName       0.33      0.75      0.46         8\n",
            "            MustHaves       0.23      0.84      0.36        50\n",
            "          NiceToHaves       0.00      0.00      0.00        10\n",
            "            PainPoint       0.00      0.00      0.00         1\n",
            "   PreferredLeaseTerm       0.25      0.67      0.36         3\n",
            "PreferredNeighborhood       0.71      0.92      0.80        13\n",
            "         PropertyType       0.53      0.92      0.68        26\n",
            "            SpaceSize       0.00      0.00      0.00         0\n",
            "         UrgencyScore       0.12      0.55      0.20        20\n",
            "\n",
            "            micro avg       0.30      0.74      0.43       207\n",
            "            macro avg       0.25      0.50      0.33       207\n",
            "         weighted avg       0.34      0.74      0.45       207\n",
            "\n",
            "   firstname lastname email phone           companyname     industry  \\\n",
            "0       luke     None  None  None           urban lease         None   \n",
            "1    michael   conrad  None  None                 urban         None   \n",
            "2     daniel     None  None  None              medivibe         None   \n",
            "3       liam     None  None  None    future innovations         None   \n",
            "4      jamie    novak  None  None        heritage legal         None   \n",
            "5       liam   carter  None  None                altura         None   \n",
            "6    michael      kim  None  None          urban legacy     creative   \n",
            "7    rebecca     None  None  None               tenants         None   \n",
            "8     amelia    klein  None  None          urban retail    community   \n",
            "9       alex     None  None  None  greenview consulting    nonprofit   \n",
            "10      lena    mills  None  None            bridgeview  sustainable   \n",
            "11      reed     None  None  None             urbancore   healthcare   \n",
            "12      liam     None  None  None          healthaccess         None   \n",
            "13    samuel      lee  None  None           urban vista         None   \n",
            "14    evelyn      lee  None  None  cityscape commercial     outreach   \n",
            "15     ethan   monroe  None  None              crescent         None   \n",
            "16   michael    cohen  None  None            urban wave    nonprofit   \n",
            "17      liam  collins  None  None          urban realms        legal   \n",
            "18      liam    grant  None  None         city cultural    nonprofit   \n",
            "19     ethan   morgan  None  None         bright future    nonprofit   \n",
            "20      eric    blake  None  None             urbanedge         None   \n",
            "21      alex   morris  None  None        crescent legal         None   \n",
            "22    foster     None  None  None          new horizons         None   \n",
            "23      liam     None  None  None              urbanarc         None   \n",
            "24    evelyn     None  None  None                summit         None   \n",
            "25      alex     None  None  None                  None   healthcare   \n",
            "26    jordan   parker  None  None           careconnect         None   \n",
            "27      nina    blake  None  None   prestige properties   healthcare   \n",
            "28      mark     None  None  None    urban creative lab         None   \n",
            "29      jane  daniels  None  None    premier properties     creative   \n",
            "\n",
            "   companysize growthstage currentneighborhood firstinteraction  ...  \\\n",
            "0         None        None                None             None  ...   \n",
            "1         None        None                None             None  ...   \n",
            "2         None        None                None             None  ...   \n",
            "3         None        None                None             None  ...   \n",
            "4         None        None                None             None  ...   \n",
            "5         None        None                None             None  ...   \n",
            "6         None        None                None             None  ...   \n",
            "7         None        None                None             None  ...   \n",
            "8         None        None                None             None  ...   \n",
            "9         None        None                None             None  ...   \n",
            "10        None        None                None             None  ...   \n",
            "11        None        None                None             None  ...   \n",
            "12        None        None                None             None  ...   \n",
            "13        None        None                None             None  ...   \n",
            "14        None        None                None             None  ...   \n",
            "15        None        None                None             None  ...   \n",
            "16        None        None                None             None  ...   \n",
            "17        None        None                None             None  ...   \n",
            "18        None        None                None             None  ...   \n",
            "19        None        None                None             None  ...   \n",
            "20        None        None                None             None  ...   \n",
            "21        None        None                None             None  ...   \n",
            "22        None        None                None             None  ...   \n",
            "23        None        None                None             None  ...   \n",
            "24        None        None                None             None  ...   \n",
            "25        None        None                None             None  ...   \n",
            "26        None        None                None             None  ...   \n",
            "27        None        None                None             None  ...   \n",
            "28        None        None                None             None  ...   \n",
            "29        None        None                None             None  ...   \n",
            "\n",
            "   movingterm min_months max_months movingtimeline           musthaves  \\\n",
            "0        None       None       None           None                hvac   \n",
            "1        None       None       None           None             parking   \n",
            "2        None       None       None           None      public transit   \n",
            "3        None       None       None           None                  24   \n",
            "4        None       None       None           None             private   \n",
            "5        None       None       None           None       natural light   \n",
            "6        None       None       None           None       high ceilings   \n",
            "7        None       None       None           None       natural light   \n",
            "8        None       None       None           None          visibility   \n",
            "9        None       None       None           None       natural light   \n",
            "10       None       None       None           None                 eco   \n",
            "11       None       None       None           None       natural light   \n",
            "12       None       None       None           None    hospital - grade   \n",
            "13       None       None       None           None                None   \n",
            "14       None       None       None           None     street frontage   \n",
            "15       None       None       None           None                good   \n",
            "16       None       None       None           None      flexible lease   \n",
            "17       None       None       None           None  transportation hub   \n",
            "18       None       None       None           None       natural light   \n",
            "19       None       None       None           None       natural light   \n",
            "20       None       None       None           None                 ada   \n",
            "21       None       None       None           None        foot traffic   \n",
            "22       None       None       None           None           community   \n",
            "23       None       None       None           None       natural light   \n",
            "24       None       None       None           None            reliable   \n",
            "25       None       None       None           None       tech upgrades   \n",
            "26       None       None       None           None   natural light and   \n",
            "27       None       None       None           None         open layout   \n",
            "28       None       None       None           None       high ceilings   \n",
            "29       None       None       None           None             gallery   \n",
            "\n",
            "   nicetohaves painpoint urgencyscore outcome personality  \n",
            "0         None      None            4    None        None  \n",
            "1         None      None            3    None        None  \n",
            "2         None      None         ##48    None        None  \n",
            "3         None      None           45    None        None  \n",
            "4         None      None            5    None        None  \n",
            "5         None      None            3    None        None  \n",
            "6         None      None           45    None        None  \n",
            "7         None      None            7    None        None  \n",
            "8         None      None           28    None        None  \n",
            "9         None      None           98    None        None  \n",
            "10        None      None          500    None        None  \n",
            "11        None      None            4    None        None  \n",
            "12        None      None           74    None        None  \n",
            "13        None      None            4    None        None  \n",
            "14        None      None            3    None        None  \n",
            "15        None      None            8    None        None  \n",
            "16        None      None         None    None        None  \n",
            "17        None      None            8    None        None  \n",
            "18        None      None          200    None        None  \n",
            "19        None      None            5    None        None  \n",
            "20        None      None            5    None        None  \n",
            "21        None      None          800    None        None  \n",
            "22        None      None            5    None        None  \n",
            "23        None      None           65    None        None  \n",
            "24        None      None          500    None        None  \n",
            "25        None      None            8    None        None  \n",
            "26        None      None          500    None        None  \n",
            "27        None      None           60    None        None  \n",
            "28        None      None          500    None        None  \n",
            "29        None      None          200    None        None  \n",
            "\n",
            "[30 rows x 27 columns]\n",
            "Structured Field-Level Metrics: {'firstname_precision': 1.0, 'firstname_recall': 1.0, 'firstname_f1': 1.0, 'lastname_precision': 1.0, 'lastname_recall': 1.0, 'lastname_f1': 1.0, 'companyname_precision': 1.0, 'companyname_recall': 1.0, 'companyname_f1': 1.0, 'industry_precision': 1.0, 'industry_recall': 1.0, 'industry_f1': 1.0, 'propertytype_precision': 1.0, 'propertytype_recall': 1.0, 'propertytype_f1': 1.0, 'preferredneighborhood_precision': 1.0, 'preferredneighborhood_recall': 1.0, 'preferredneighborhood_f1': 1.0, 'preferredleaseterm_precision': 1.0, 'preferredleaseterm_recall': 1.0, 'preferredleaseterm_f1': 1.0, 'musthaves_precision': 1.0, 'musthaves_recall': 1.0, 'musthaves_f1': 1.0, 'urgencyscore_precision': 1.0, 'urgencyscore_recall': 1.0, 'urgencyscore_f1': 1.0, 'macro_precision': np.float64(1.0), 'macro_recall': np.float64(1.0), 'macro_f1': np.float64(1.0)}\n",
            "Predictions saved to: /content/drive/MyDrive/distilbert_outputs/brisk-sweep-18_predictions.json\n"
          ]
        },
        {
          "output_type": "display_data",
          "data": {
            "text/plain": [
              "<IPython.core.display.HTML object>"
            ],
            "text/html": []
          },
          "metadata": {}
        },
        {
          "output_type": "display_data",
          "data": {
            "text/plain": [
              "<IPython.core.display.HTML object>"
            ],
            "text/html": [
              "<br>    <style><br>        .wandb-row {<br>            display: flex;<br>            flex-direction: row;<br>            flex-wrap: wrap;<br>            justify-content: flex-start;<br>            width: 100%;<br>        }<br>        .wandb-col {<br>            display: flex;<br>            flex-direction: column;<br>            flex-basis: 100%;<br>            flex: 1;<br>            padding: 10px;<br>        }<br>    </style><br><div class=\"wandb-row\"><div class=\"wandb-col\"><h3>Run history:</h3><br/><table class=\"wandb\"><tr><td>eval/f1</td><td>▁▁▂▇▆▆▇▇▇███</td></tr><tr><td>eval/loss</td><td>█▄▃▂▂▂▁▁▁▁▁▁</td></tr><tr><td>eval/precision</td><td>▁█▃▃▂▂▃▃▃▃▃▃</td></tr><tr><td>eval/recall</td><td>▁▁▁▅▇▇▇▇████</td></tr><tr><td>eval/runtime</td><td>▂▁▁▂▂▂▂▂▁▂█▄</td></tr><tr><td>eval/samples_per_second</td><td>▇██▇▇▇▇▇█▇▁▄</td></tr><tr><td>eval/steps_per_second</td><td>▇██▇▇▇▇▇█▇▁▄</td></tr><tr><td>test/f1</td><td>▁</td></tr><tr><td>test/loss</td><td>▁</td></tr><tr><td>test/precision</td><td>▁</td></tr><tr><td>test/recall</td><td>▁</td></tr><tr><td>test/runtime</td><td>▁</td></tr><tr><td>test/samples_per_second</td><td>▁</td></tr><tr><td>test/steps_per_second</td><td>▁</td></tr><tr><td>test_companyname_f1</td><td>▁</td></tr><tr><td>test_companyname_precision</td><td>▁</td></tr><tr><td>test_companyname_recall</td><td>▁</td></tr><tr><td>test_firstname_f1</td><td>▁</td></tr><tr><td>test_firstname_precision</td><td>▁</td></tr><tr><td>test_firstname_recall</td><td>▁</td></tr><tr><td>test_industry_f1</td><td>▁</td></tr><tr><td>test_industry_precision</td><td>▁</td></tr><tr><td>test_industry_recall</td><td>▁</td></tr><tr><td>test_lastname_f1</td><td>▁</td></tr><tr><td>test_lastname_precision</td><td>▁</td></tr><tr><td>test_lastname_recall</td><td>▁</td></tr><tr><td>test_macro_f1</td><td>▁</td></tr><tr><td>test_macro_precision</td><td>▁</td></tr><tr><td>test_macro_recall</td><td>▁</td></tr><tr><td>test_musthaves_f1</td><td>▁</td></tr><tr><td>test_musthaves_precision</td><td>▁</td></tr><tr><td>test_musthaves_recall</td><td>▁</td></tr><tr><td>test_preferredleaseterm_f1</td><td>▁</td></tr><tr><td>test_preferredleaseterm_precision</td><td>▁</td></tr><tr><td>test_preferredleaseterm_recall</td><td>▁</td></tr><tr><td>test_preferredneighborhood_f1</td><td>▁</td></tr><tr><td>test_preferredneighborhood_precision</td><td>▁</td></tr><tr><td>test_preferredneighborhood_recall</td><td>▁</td></tr><tr><td>test_propertytype_f1</td><td>▁</td></tr><tr><td>test_propertytype_precision</td><td>▁</td></tr><tr><td>test_propertytype_recall</td><td>▁</td></tr><tr><td>test_urgencyscore_f1</td><td>▁</td></tr><tr><td>test_urgencyscore_precision</td><td>▁</td></tr><tr><td>test_urgencyscore_recall</td><td>▁</td></tr><tr><td>train/epoch</td><td>▁▁▂▂▃▃▃▃▄▄▅▅▆▆▆▆▇▇█████</td></tr><tr><td>train/global_step</td><td>▁▁▂▂▃▃▃▃▄▄▅▅▆▆▆▆▇▇████████</td></tr><tr><td>train/grad_norm</td><td>█▄▂▁▁▁▂▃▁▁</td></tr><tr><td>train/learning_rate</td><td>▄█▇▆▅▄▄▃▂▁</td></tr><tr><td>train/loss</td><td>█▅▃▂▂▂▁▁▁▁</td></tr></table><br/></div><div class=\"wandb-col\"><h3>Run summary:</h3><br/><table class=\"wandb\"><tr><td>eval/f1</td><td>0.42659</td></tr><tr><td>eval/loss</td><td>0.44828</td></tr><tr><td>eval/precision</td><td>0.29903</td></tr><tr><td>eval/recall</td><td>0.74396</td></tr><tr><td>eval/runtime</td><td>0.1904</td></tr><tr><td>eval/samples_per_second</td><td>157.593</td></tr><tr><td>eval/steps_per_second</td><td>10.506</td></tr><tr><td>test/f1</td><td>0.42659</td></tr><tr><td>test/loss</td><td>0.44828</td></tr><tr><td>test/precision</td><td>0.29903</td></tr><tr><td>test/recall</td><td>0.74396</td></tr><tr><td>test/runtime</td><td>0.1798</td></tr><tr><td>test/samples_per_second</td><td>166.806</td></tr><tr><td>test/steps_per_second</td><td>11.12</td></tr><tr><td>test_companyname_f1</td><td>1</td></tr><tr><td>test_companyname_precision</td><td>1</td></tr><tr><td>test_companyname_recall</td><td>1</td></tr><tr><td>test_firstname_f1</td><td>1</td></tr><tr><td>test_firstname_precision</td><td>1</td></tr><tr><td>test_firstname_recall</td><td>1</td></tr><tr><td>test_industry_f1</td><td>1</td></tr><tr><td>test_industry_precision</td><td>1</td></tr><tr><td>test_industry_recall</td><td>1</td></tr><tr><td>test_lastname_f1</td><td>1</td></tr><tr><td>test_lastname_precision</td><td>1</td></tr><tr><td>test_lastname_recall</td><td>1</td></tr><tr><td>test_macro_f1</td><td>1</td></tr><tr><td>test_macro_precision</td><td>1</td></tr><tr><td>test_macro_recall</td><td>1</td></tr><tr><td>test_musthaves_f1</td><td>1</td></tr><tr><td>test_musthaves_precision</td><td>1</td></tr><tr><td>test_musthaves_recall</td><td>1</td></tr><tr><td>test_preferredleaseterm_f1</td><td>1</td></tr><tr><td>test_preferredleaseterm_precision</td><td>1</td></tr><tr><td>test_preferredleaseterm_recall</td><td>1</td></tr><tr><td>test_preferredneighborhood_f1</td><td>1</td></tr><tr><td>test_preferredneighborhood_precision</td><td>1</td></tr><tr><td>test_preferredneighborhood_recall</td><td>1</td></tr><tr><td>test_propertytype_f1</td><td>1</td></tr><tr><td>test_propertytype_precision</td><td>1</td></tr><tr><td>test_propertytype_recall</td><td>1</td></tr><tr><td>test_urgencyscore_f1</td><td>1</td></tr><tr><td>test_urgencyscore_precision</td><td>1</td></tr><tr><td>test_urgencyscore_recall</td><td>1</td></tr><tr><td>total_flos</td><td>183089627750400.0</td></tr><tr><td>train/epoch</td><td>10</td></tr><tr><td>train/global_step</td><td>90</td></tr><tr><td>train/grad_norm</td><td>1.12914</td></tr><tr><td>train/learning_rate</td><td>0.0</td></tr><tr><td>train/loss</td><td>0.4566</td></tr><tr><td>train_loss</td><td>1.29033</td></tr><tr><td>train_runtime</td><td>39.5364</td></tr><tr><td>train_samples_per_second</td><td>35.41</td></tr><tr><td>train_steps_per_second</td><td>2.276</td></tr></table><br/></div></div>"
            ]
          },
          "metadata": {}
        },
        {
          "output_type": "display_data",
          "data": {
            "text/plain": [
              "<IPython.core.display.HTML object>"
            ],
            "text/html": [
              " View run <strong style=\"color:#cdcd00\">brisk-sweep-18</strong> at: <a href='https://wandb.ai/lidianeh-none/distilbert-final/runs/kxgyusan' target=\"_blank\">https://wandb.ai/lidianeh-none/distilbert-final/runs/kxgyusan</a><br> View project at: <a href='https://wandb.ai/lidianeh-none/distilbert-final' target=\"_blank\">https://wandb.ai/lidianeh-none/distilbert-final</a><br>Synced 5 W&B file(s), 1 media file(s), 2 artifact file(s) and 0 other file(s)"
            ]
          },
          "metadata": {}
        },
        {
          "output_type": "display_data",
          "data": {
            "text/plain": [
              "<IPython.core.display.HTML object>"
            ],
            "text/html": [
              "Find logs at: <code>./wandb/run-20250509_171233-kxgyusan/logs</code>"
            ]
          },
          "metadata": {}
        },
        {
          "output_type": "stream",
          "name": "stderr",
          "text": [
            "\u001b[34m\u001b[1mwandb\u001b[0m: Agent Starting Run: 0hog3a3w with config:\n",
            "\u001b[34m\u001b[1mwandb\u001b[0m: \tadam_epsilon: 1e-08\n",
            "\u001b[34m\u001b[1mwandb\u001b[0m: \tlearning_rate: 1.3658396993314802e-05\n",
            "\u001b[34m\u001b[1mwandb\u001b[0m: \tnum_train_epochs: 6\n",
            "\u001b[34m\u001b[1mwandb\u001b[0m: \tper_device_train_batch_size: 8\n",
            "\u001b[34m\u001b[1mwandb\u001b[0m: \tseed: 2024\n",
            "\u001b[34m\u001b[1mwandb\u001b[0m: \twarmup_ratio: 0.10113018586437938\n",
            "\u001b[34m\u001b[1mwandb\u001b[0m: \tweight_decay: 0.09180623043220992\n"
          ]
        },
        {
          "output_type": "display_data",
          "data": {
            "text/plain": [
              "<IPython.core.display.HTML object>"
            ],
            "text/html": [
              "Tracking run with wandb version 0.19.10"
            ]
          },
          "metadata": {}
        },
        {
          "output_type": "display_data",
          "data": {
            "text/plain": [
              "<IPython.core.display.HTML object>"
            ],
            "text/html": [
              "Run data is saved locally in <code>/content/wandb/run-20250509_171326-0hog3a3w</code>"
            ]
          },
          "metadata": {}
        },
        {
          "output_type": "display_data",
          "data": {
            "text/plain": [
              "<IPython.core.display.HTML object>"
            ],
            "text/html": [
              "Syncing run <strong><a href='https://wandb.ai/lidianeh-none/distilbert-final/runs/0hog3a3w' target=\"_blank\">whole-sweep-19</a></strong> to <a href='https://wandb.ai/lidianeh-none/distilbert-final' target=\"_blank\">Weights & Biases</a> (<a href='https://wandb.me/developer-guide' target=\"_blank\">docs</a>)<br>Sweep page: <a href='https://wandb.ai/lidianeh-none/distilbert-final/sweeps/6yae4880' target=\"_blank\">https://wandb.ai/lidianeh-none/distilbert-final/sweeps/6yae4880</a>"
            ]
          },
          "metadata": {}
        },
        {
          "output_type": "display_data",
          "data": {
            "text/plain": [
              "<IPython.core.display.HTML object>"
            ],
            "text/html": [
              " View project at <a href='https://wandb.ai/lidianeh-none/distilbert-final' target=\"_blank\">https://wandb.ai/lidianeh-none/distilbert-final</a>"
            ]
          },
          "metadata": {}
        },
        {
          "output_type": "display_data",
          "data": {
            "text/plain": [
              "<IPython.core.display.HTML object>"
            ],
            "text/html": [
              " View sweep at <a href='https://wandb.ai/lidianeh-none/distilbert-final/sweeps/6yae4880' target=\"_blank\">https://wandb.ai/lidianeh-none/distilbert-final/sweeps/6yae4880</a>"
            ]
          },
          "metadata": {}
        },
        {
          "output_type": "display_data",
          "data": {
            "text/plain": [
              "<IPython.core.display.HTML object>"
            ],
            "text/html": [
              " View run at <a href='https://wandb.ai/lidianeh-none/distilbert-final/runs/0hog3a3w' target=\"_blank\">https://wandb.ai/lidianeh-none/distilbert-final/runs/0hog3a3w</a>"
            ]
          },
          "metadata": {}
        },
        {
          "output_type": "stream",
          "name": "stderr",
          "text": [
            "Some weights of WeightedDistilBertForTokenClassification were not initialized from the model checkpoint at distilbert-base-uncased and are newly initialized: ['classifier.bias', 'classifier.weight']\n",
            "You should probably TRAIN this model on a down-stream task to be able to use it for predictions and inference.\n",
            "<ipython-input-19-362b024c7306>:57: FutureWarning: `tokenizer` is deprecated and will be removed in version 5.0.0 for `Trainer.__init__`. Use `processing_class` instead.\n",
            "  trainer = Trainer(\n",
            "\u001b[34m\u001b[1mwandb\u001b[0m: \u001b[33mWARNING\u001b[0m Config item 'per_device_train_batch_size' was locked by 'sweep' (ignored update).\n",
            "\u001b[34m\u001b[1mwandb\u001b[0m: \u001b[33mWARNING\u001b[0m Config item 'learning_rate' was locked by 'sweep' (ignored update).\n",
            "\u001b[34m\u001b[1mwandb\u001b[0m: \u001b[33mWARNING\u001b[0m Config item 'weight_decay' was locked by 'sweep' (ignored update).\n",
            "\u001b[34m\u001b[1mwandb\u001b[0m: \u001b[33mWARNING\u001b[0m Config item 'adam_epsilon' was locked by 'sweep' (ignored update).\n",
            "\u001b[34m\u001b[1mwandb\u001b[0m: \u001b[33mWARNING\u001b[0m Config item 'num_train_epochs' was locked by 'sweep' (ignored update).\n",
            "\u001b[34m\u001b[1mwandb\u001b[0m: \u001b[33mWARNING\u001b[0m Config item 'warmup_ratio' was locked by 'sweep' (ignored update).\n",
            "\u001b[34m\u001b[1mwandb\u001b[0m: \u001b[33mWARNING\u001b[0m Config item 'seed' was locked by 'sweep' (ignored update).\n"
          ]
        },
        {
          "output_type": "display_data",
          "data": {
            "text/plain": [
              "<IPython.core.display.HTML object>"
            ],
            "text/html": [
              "\n",
              "    <div>\n",
              "      \n",
              "      <progress value='108' max='108' style='width:300px; height:20px; vertical-align: middle;'></progress>\n",
              "      [108/108 00:22, Epoch 6/6]\n",
              "    </div>\n",
              "    <table border=\"1\" class=\"dataframe\">\n",
              "  <thead>\n",
              " <tr style=\"text-align: left;\">\n",
              "      <th>Epoch</th>\n",
              "      <th>Training Loss</th>\n",
              "      <th>Validation Loss</th>\n",
              "      <th>Precision</th>\n",
              "      <th>Recall</th>\n",
              "      <th>F1</th>\n",
              "    </tr>\n",
              "  </thead>\n",
              "  <tbody>\n",
              "    <tr>\n",
              "      <td>1</td>\n",
              "      <td>3.655500</td>\n",
              "      <td>2.464374</td>\n",
              "      <td>1.000000</td>\n",
              "      <td>0.000000</td>\n",
              "      <td>0.000000</td>\n",
              "    </tr>\n",
              "    <tr>\n",
              "      <td>2</td>\n",
              "      <td>1.908200</td>\n",
              "      <td>1.601706</td>\n",
              "      <td>1.000000</td>\n",
              "      <td>0.000000</td>\n",
              "      <td>0.000000</td>\n",
              "    </tr>\n",
              "    <tr>\n",
              "      <td>3</td>\n",
              "      <td>1.433100</td>\n",
              "      <td>1.286296</td>\n",
              "      <td>0.000000</td>\n",
              "      <td>0.000000</td>\n",
              "      <td>0.000000</td>\n",
              "    </tr>\n",
              "    <tr>\n",
              "      <td>4</td>\n",
              "      <td>1.197500</td>\n",
              "      <td>1.088578</td>\n",
              "      <td>0.303965</td>\n",
              "      <td>0.303965</td>\n",
              "      <td>0.303965</td>\n",
              "    </tr>\n",
              "    <tr>\n",
              "      <td>5</td>\n",
              "      <td>1.055000</td>\n",
              "      <td>0.996702</td>\n",
              "      <td>0.255000</td>\n",
              "      <td>0.449339</td>\n",
              "      <td>0.325359</td>\n",
              "    </tr>\n",
              "    <tr>\n",
              "      <td>6</td>\n",
              "      <td>0.978400</td>\n",
              "      <td>0.964129</td>\n",
              "      <td>0.274112</td>\n",
              "      <td>0.475771</td>\n",
              "      <td>0.347826</td>\n",
              "    </tr>\n",
              "  </tbody>\n",
              "</table><p>"
            ]
          },
          "metadata": {}
        },
        {
          "output_type": "display_data",
          "data": {
            "text/plain": [
              "<IPython.core.display.HTML object>"
            ],
            "text/html": []
          },
          "metadata": {}
        },
        {
          "output_type": "stream",
          "name": "stdout",
          "text": [
            "{'eval_loss': 0.8959845900535583, 'eval_precision': 0.2845303867403315, 'eval_recall': 0.4975845410628019, 'eval_f1': 0.36203866432337434, 'eval_runtime': 0.19, 'eval_samples_per_second': 157.915, 'eval_steps_per_second': 21.055, 'epoch': 6.0}\n"
          ]
        },
        {
          "output_type": "stream",
          "name": "stderr",
          "text": [
            "/usr/local/lib/python3.11/dist-packages/seqeval/metrics/v1.py:57: UndefinedMetricWarning: Precision and F-score are ill-defined and being set to 0.0 in labels with no predicted samples. Use `zero_division` parameter to control this behavior.\n",
            "  _warn_prf(average, modifier, msg_start, len(result))\n"
          ]
        },
        {
          "output_type": "stream",
          "name": "stdout",
          "text": [
            "                       precision    recall  f1-score   support\n",
            "\n",
            "          CompanyName       0.32      0.70      0.44        27\n",
            "  CurrentNeighborhood       0.00      0.00      0.00         1\n",
            "    DecisionMakerRole       0.00      0.00      0.00         6\n",
            "            FirstName       0.39      0.93      0.55        30\n",
            "             Industry       0.00      0.00      0.00        12\n",
            "             LastName       0.00      0.00      0.00         8\n",
            "            MustHaves       0.18      0.70      0.28        50\n",
            "          NiceToHaves       0.00      0.00      0.00        10\n",
            "            PainPoint       0.00      0.00      0.00         1\n",
            "   PreferredLeaseTerm       0.00      0.00      0.00         3\n",
            "PreferredNeighborhood       0.20      0.08      0.11        13\n",
            "         PropertyType       0.69      0.77      0.73        26\n",
            "         UrgencyScore       0.00      0.00      0.00        20\n",
            "\n",
            "            micro avg       0.28      0.50      0.36       207\n",
            "            macro avg       0.14      0.24      0.16       207\n",
            "         weighted avg       0.24      0.50      0.30       207\n",
            "\n",
            "   firstname lastname email phone companyname industry companysize  \\\n",
            "0       luke     None  None  None        None     None        None   \n",
            "1    michael     None  None  None        None     None        None   \n",
            "2     daniel     None  None  None        None     None        None   \n",
            "3       liam     None  None  None        None     None        None   \n",
            "4      jamie     None  None  None        None     None        None   \n",
            "5       liam     None  None  None        None     None        None   \n",
            "6    michael     None  None  None        None     None        None   \n",
            "7    rebecca     None  None  None        None     None        None   \n",
            "8     amelia     None  None  None        None     None        None   \n",
            "9       alex     None  None  None        None     None        None   \n",
            "10      lena     None  None  None        None     None        None   \n",
            "11        hi     None  None  None        None     None        None   \n",
            "12      liam     None  None  None        None     None        None   \n",
            "13    samuel     None  None  None        None     None        None   \n",
            "14    evelyn     None  None  None        None     None        None   \n",
            "15     ethan     None  None  None        None     None        None   \n",
            "16   michael     None  None  None        None     None        None   \n",
            "17      liam     None  None  None        None     None        None   \n",
            "18      liam     None  None  None        None     None        None   \n",
            "19     ethan     None  None  None        None     None        None   \n",
            "20      eric     None  None  None        None     None        None   \n",
            "21      alex     None  None  None        None     None        None   \n",
            "22    foster     None  None  None        None     None        None   \n",
            "23      liam     None  None  None        None     None        None   \n",
            "24    evelyn     None  None  None        None     None        None   \n",
            "25      alex     None  None  None        None     None        None   \n",
            "26      dear     None  None  None        None     None        None   \n",
            "27      nina     None  None  None        None     None        None   \n",
            "28      mark     None  None  None        None     None        None   \n",
            "29      jane     None  None  None        None     None        None   \n",
            "\n",
            "   growthstage currentneighborhood firstinteraction  ... movingterm  \\\n",
            "0         None                None             None  ...       None   \n",
            "1         None                None             None  ...       None   \n",
            "2         None                None             None  ...       None   \n",
            "3         None                None             None  ...       None   \n",
            "4         None                None             None  ...       None   \n",
            "5         None                None             None  ...       None   \n",
            "6         None                None             None  ...       None   \n",
            "7         None                None             None  ...       None   \n",
            "8         None                None             None  ...       None   \n",
            "9         None                None             None  ...       None   \n",
            "10        None                None             None  ...       None   \n",
            "11        None                None             None  ...       None   \n",
            "12        None                None             None  ...       None   \n",
            "13        None                None             None  ...       None   \n",
            "14        None                None             None  ...       None   \n",
            "15        None                None             None  ...       None   \n",
            "16        None                None             None  ...       None   \n",
            "17        None                None             None  ...       None   \n",
            "18        None                None             None  ...       None   \n",
            "19        None                None             None  ...       None   \n",
            "20        None                None             None  ...       None   \n",
            "21        None                None             None  ...       None   \n",
            "22        None                None             None  ...       None   \n",
            "23        None                None             None  ...       None   \n",
            "24        None                None             None  ...       None   \n",
            "25        None                None             None  ...       None   \n",
            "26        None                None             None  ...       None   \n",
            "27        None                None             None  ...       None   \n",
            "28        None                None             None  ...       None   \n",
            "29        None                None             None  ...       None   \n",
            "\n",
            "   min_months max_months movingtimeline           musthaves nicetohaves  \\\n",
            "0        None       None           None                hvac        None   \n",
            "1        None       None           None                None        None   \n",
            "2        None       None           None           welcoming        None   \n",
            "3        None       None           None                hvac        None   \n",
            "4        None       None           None            internet        None   \n",
            "5        None       None           None       natural light        None   \n",
            "6        None       None           None       high ceilings        None   \n",
            "7        None       None           None       natural light        None   \n",
            "8        None       None           None     display windows        None   \n",
            "9        None       None           None       natural light        None   \n",
            "10       None       None           None                cert        None   \n",
            "11       None       None           None       natural light        None   \n",
            "12       None       None           None                hvac        None   \n",
            "13       None       None           None                None        None   \n",
            "14       None       None           None                None        None   \n",
            "15       None       None           None                hvac        None   \n",
            "16       None       None           None  building amenities        None   \n",
            "17       None       None           None                None        None   \n",
            "18       None       None           None       natural light        None   \n",
            "19       None       None           None       natural light        None   \n",
            "20       None       None           None                None        None   \n",
            "21       None       None           None                None        None   \n",
            "22       None       None           None                work        None   \n",
            "23       None       None           None       natural light        None   \n",
            "24       None       None           None                hvac        None   \n",
            "25       None       None           None       tech upgrades        None   \n",
            "26       None       None           None       natural light        None   \n",
            "27       None       None           None          modern fit        None   \n",
            "28       None       None           None       high ceilings        None   \n",
            "29       None       None           None       natural light        None   \n",
            "\n",
            "   painpoint urgencyscore outcome personality  \n",
            "0       None         None    None        None  \n",
            "1       None         None    None        None  \n",
            "2       None         None    None        None  \n",
            "3       None         None    None        None  \n",
            "4       None         None    None        None  \n",
            "5       None         None    None        None  \n",
            "6       None         None    None        None  \n",
            "7       None         None    None        None  \n",
            "8       None         None    None        None  \n",
            "9       None         None    None        None  \n",
            "10      None         None    None        None  \n",
            "11      None         None    None        None  \n",
            "12      None         None    None        None  \n",
            "13      None         None    None        None  \n",
            "14      None         None    None        None  \n",
            "15      None         None    None        None  \n",
            "16      None         None    None        None  \n",
            "17      None         None    None        None  \n",
            "18      None         None    None        None  \n",
            "19      None         None    None        None  \n",
            "20      None         None    None        None  \n",
            "21      None         None    None        None  \n",
            "22      None         None    None        None  \n",
            "23      None         None    None        None  \n",
            "24      None         None    None        None  \n",
            "25      None         None    None        None  \n",
            "26      None         None    None        None  \n",
            "27      None         None    None        None  \n",
            "28      None         None    None        None  \n",
            "29      None         None    None        None  \n",
            "\n",
            "[30 rows x 27 columns]\n",
            "Structured Field-Level Metrics: {'firstname_precision': 1.0, 'firstname_recall': 1.0, 'firstname_f1': 1.0, 'propertytype_precision': 1.0, 'propertytype_recall': 1.0, 'propertytype_f1': 1.0, 'preferredneighborhood_precision': 1.0, 'preferredneighborhood_recall': 1.0, 'preferredneighborhood_f1': 1.0, 'musthaves_precision': 1.0, 'musthaves_recall': 1.0, 'musthaves_f1': 1.0, 'macro_precision': np.float64(1.0), 'macro_recall': np.float64(1.0), 'macro_f1': np.float64(1.0)}\n",
            "Predictions saved to: /content/drive/MyDrive/distilbert_outputs/whole-sweep-19_predictions.json\n"
          ]
        },
        {
          "output_type": "display_data",
          "data": {
            "text/plain": [
              "<IPython.core.display.HTML object>"
            ],
            "text/html": []
          },
          "metadata": {}
        },
        {
          "output_type": "display_data",
          "data": {
            "text/plain": [
              "<IPython.core.display.HTML object>"
            ],
            "text/html": [
              "<br>    <style><br>        .wandb-row {<br>            display: flex;<br>            flex-direction: row;<br>            flex-wrap: wrap;<br>            justify-content: flex-start;<br>            width: 100%;<br>        }<br>        .wandb-col {<br>            display: flex;<br>            flex-direction: column;<br>            flex-basis: 100%;<br>            flex: 1;<br>            padding: 10px;<br>        }<br>    </style><br><div class=\"wandb-row\"><div class=\"wandb-col\"><h3>Run history:</h3><br/><table class=\"wandb\"><tr><td>eval/f1</td><td>▁▁▁▇▇███</td></tr><tr><td>eval/loss</td><td>█▄▃▂▁▁▁▁</td></tr><tr><td>eval/precision</td><td>██▁▃▃▃▃▃</td></tr><tr><td>eval/recall</td><td>▁▁▁▅▇███</td></tr><tr><td>eval/runtime</td><td>▂▃▁▂▂█▁▁</td></tr><tr><td>eval/samples_per_second</td><td>▇▆█▇▇▁██</td></tr><tr><td>eval/steps_per_second</td><td>▇▆█▇▇▁██</td></tr><tr><td>test/f1</td><td>▁</td></tr><tr><td>test/loss</td><td>▁</td></tr><tr><td>test/precision</td><td>▁</td></tr><tr><td>test/recall</td><td>▁</td></tr><tr><td>test/runtime</td><td>▁</td></tr><tr><td>test/samples_per_second</td><td>▁</td></tr><tr><td>test/steps_per_second</td><td>▁</td></tr><tr><td>test_firstname_f1</td><td>▁</td></tr><tr><td>test_firstname_precision</td><td>▁</td></tr><tr><td>test_firstname_recall</td><td>▁</td></tr><tr><td>test_macro_f1</td><td>▁</td></tr><tr><td>test_macro_precision</td><td>▁</td></tr><tr><td>test_macro_recall</td><td>▁</td></tr><tr><td>test_musthaves_f1</td><td>▁</td></tr><tr><td>test_musthaves_precision</td><td>▁</td></tr><tr><td>test_musthaves_recall</td><td>▁</td></tr><tr><td>test_preferredneighborhood_f1</td><td>▁</td></tr><tr><td>test_preferredneighborhood_precision</td><td>▁</td></tr><tr><td>test_preferredneighborhood_recall</td><td>▁</td></tr><tr><td>test_propertytype_f1</td><td>▁</td></tr><tr><td>test_propertytype_precision</td><td>▁</td></tr><tr><td>test_propertytype_recall</td><td>▁</td></tr><tr><td>train/epoch</td><td>▁▁▂▂▄▄▅▅▇▇█████</td></tr><tr><td>train/global_step</td><td>▁▁▂▂▄▄▅▅▇▇████████</td></tr><tr><td>train/grad_norm</td><td>█▁▁▁▁▁</td></tr><tr><td>train/learning_rate</td><td>█▇▅▄▂▁</td></tr><tr><td>train/loss</td><td>█▃▂▂▁▁</td></tr></table><br/></div><div class=\"wandb-col\"><h3>Run summary:</h3><br/><table class=\"wandb\"><tr><td>eval/f1</td><td>0.36204</td></tr><tr><td>eval/loss</td><td>0.89598</td></tr><tr><td>eval/precision</td><td>0.28453</td></tr><tr><td>eval/recall</td><td>0.49758</td></tr><tr><td>eval/runtime</td><td>0.19</td></tr><tr><td>eval/samples_per_second</td><td>157.915</td></tr><tr><td>eval/steps_per_second</td><td>21.055</td></tr><tr><td>test/f1</td><td>0.36204</td></tr><tr><td>test/loss</td><td>0.89598</td></tr><tr><td>test/precision</td><td>0.28453</td></tr><tr><td>test/recall</td><td>0.49758</td></tr><tr><td>test/runtime</td><td>0.1879</td></tr><tr><td>test/samples_per_second</td><td>159.651</td></tr><tr><td>test/steps_per_second</td><td>21.287</td></tr><tr><td>test_firstname_f1</td><td>1</td></tr><tr><td>test_firstname_precision</td><td>1</td></tr><tr><td>test_firstname_recall</td><td>1</td></tr><tr><td>test_macro_f1</td><td>1</td></tr><tr><td>test_macro_precision</td><td>1</td></tr><tr><td>test_macro_recall</td><td>1</td></tr><tr><td>test_musthaves_f1</td><td>1</td></tr><tr><td>test_musthaves_precision</td><td>1</td></tr><tr><td>test_musthaves_recall</td><td>1</td></tr><tr><td>test_preferredneighborhood_f1</td><td>1</td></tr><tr><td>test_preferredneighborhood_precision</td><td>1</td></tr><tr><td>test_preferredneighborhood_recall</td><td>1</td></tr><tr><td>test_propertytype_f1</td><td>1</td></tr><tr><td>test_propertytype_precision</td><td>1</td></tr><tr><td>test_propertytype_recall</td><td>1</td></tr><tr><td>total_flos</td><td>109853776650240.0</td></tr><tr><td>train/epoch</td><td>6</td></tr><tr><td>train/global_step</td><td>108</td></tr><tr><td>train/grad_norm</td><td>2.44454</td></tr><tr><td>train/learning_rate</td><td>0.0</td></tr><tr><td>train/loss</td><td>0.9784</td></tr><tr><td>train_loss</td><td>1.70463</td></tr><tr><td>train_runtime</td><td>22.3391</td></tr><tr><td>train_samples_per_second</td><td>37.602</td></tr><tr><td>train_steps_per_second</td><td>4.835</td></tr></table><br/></div></div>"
            ]
          },
          "metadata": {}
        },
        {
          "output_type": "display_data",
          "data": {
            "text/plain": [
              "<IPython.core.display.HTML object>"
            ],
            "text/html": [
              " View run <strong style=\"color:#cdcd00\">whole-sweep-19</strong> at: <a href='https://wandb.ai/lidianeh-none/distilbert-final/runs/0hog3a3w' target=\"_blank\">https://wandb.ai/lidianeh-none/distilbert-final/runs/0hog3a3w</a><br> View project at: <a href='https://wandb.ai/lidianeh-none/distilbert-final' target=\"_blank\">https://wandb.ai/lidianeh-none/distilbert-final</a><br>Synced 5 W&B file(s), 1 media file(s), 2 artifact file(s) and 0 other file(s)"
            ]
          },
          "metadata": {}
        },
        {
          "output_type": "display_data",
          "data": {
            "text/plain": [
              "<IPython.core.display.HTML object>"
            ],
            "text/html": [
              "Find logs at: <code>./wandb/run-20250509_171326-0hog3a3w/logs</code>"
            ]
          },
          "metadata": {}
        },
        {
          "output_type": "stream",
          "name": "stderr",
          "text": [
            "\u001b[34m\u001b[1mwandb\u001b[0m: Agent Starting Run: tocn7h7g with config:\n",
            "\u001b[34m\u001b[1mwandb\u001b[0m: \tadam_epsilon: 1e-06\n",
            "\u001b[34m\u001b[1mwandb\u001b[0m: \tlearning_rate: 1.790378047578456e-05\n",
            "\u001b[34m\u001b[1mwandb\u001b[0m: \tnum_train_epochs: 6\n",
            "\u001b[34m\u001b[1mwandb\u001b[0m: \tper_device_train_batch_size: 16\n",
            "\u001b[34m\u001b[1mwandb\u001b[0m: \tseed: 2024\n",
            "\u001b[34m\u001b[1mwandb\u001b[0m: \twarmup_ratio: 0.1618188442658644\n",
            "\u001b[34m\u001b[1mwandb\u001b[0m: \tweight_decay: 0.1089280688898064\n"
          ]
        },
        {
          "output_type": "display_data",
          "data": {
            "text/plain": [
              "<IPython.core.display.HTML object>"
            ],
            "text/html": [
              "Tracking run with wandb version 0.19.10"
            ]
          },
          "metadata": {}
        },
        {
          "output_type": "display_data",
          "data": {
            "text/plain": [
              "<IPython.core.display.HTML object>"
            ],
            "text/html": [
              "Run data is saved locally in <code>/content/wandb/run-20250509_171404-tocn7h7g</code>"
            ]
          },
          "metadata": {}
        },
        {
          "output_type": "display_data",
          "data": {
            "text/plain": [
              "<IPython.core.display.HTML object>"
            ],
            "text/html": [
              "Syncing run <strong><a href='https://wandb.ai/lidianeh-none/distilbert-final/runs/tocn7h7g' target=\"_blank\">ancient-sweep-20</a></strong> to <a href='https://wandb.ai/lidianeh-none/distilbert-final' target=\"_blank\">Weights & Biases</a> (<a href='https://wandb.me/developer-guide' target=\"_blank\">docs</a>)<br>Sweep page: <a href='https://wandb.ai/lidianeh-none/distilbert-final/sweeps/6yae4880' target=\"_blank\">https://wandb.ai/lidianeh-none/distilbert-final/sweeps/6yae4880</a>"
            ]
          },
          "metadata": {}
        },
        {
          "output_type": "display_data",
          "data": {
            "text/plain": [
              "<IPython.core.display.HTML object>"
            ],
            "text/html": [
              " View project at <a href='https://wandb.ai/lidianeh-none/distilbert-final' target=\"_blank\">https://wandb.ai/lidianeh-none/distilbert-final</a>"
            ]
          },
          "metadata": {}
        },
        {
          "output_type": "display_data",
          "data": {
            "text/plain": [
              "<IPython.core.display.HTML object>"
            ],
            "text/html": [
              " View sweep at <a href='https://wandb.ai/lidianeh-none/distilbert-final/sweeps/6yae4880' target=\"_blank\">https://wandb.ai/lidianeh-none/distilbert-final/sweeps/6yae4880</a>"
            ]
          },
          "metadata": {}
        },
        {
          "output_type": "display_data",
          "data": {
            "text/plain": [
              "<IPython.core.display.HTML object>"
            ],
            "text/html": [
              " View run at <a href='https://wandb.ai/lidianeh-none/distilbert-final/runs/tocn7h7g' target=\"_blank\">https://wandb.ai/lidianeh-none/distilbert-final/runs/tocn7h7g</a>"
            ]
          },
          "metadata": {}
        },
        {
          "output_type": "stream",
          "name": "stderr",
          "text": [
            "Some weights of WeightedDistilBertForTokenClassification were not initialized from the model checkpoint at distilbert-base-uncased and are newly initialized: ['classifier.bias', 'classifier.weight']\n",
            "You should probably TRAIN this model on a down-stream task to be able to use it for predictions and inference.\n",
            "<ipython-input-19-362b024c7306>:57: FutureWarning: `tokenizer` is deprecated and will be removed in version 5.0.0 for `Trainer.__init__`. Use `processing_class` instead.\n",
            "  trainer = Trainer(\n",
            "\u001b[34m\u001b[1mwandb\u001b[0m: \u001b[33mWARNING\u001b[0m Config item 'per_device_train_batch_size' was locked by 'sweep' (ignored update).\n",
            "\u001b[34m\u001b[1mwandb\u001b[0m: \u001b[33mWARNING\u001b[0m Config item 'learning_rate' was locked by 'sweep' (ignored update).\n",
            "\u001b[34m\u001b[1mwandb\u001b[0m: \u001b[33mWARNING\u001b[0m Config item 'weight_decay' was locked by 'sweep' (ignored update).\n",
            "\u001b[34m\u001b[1mwandb\u001b[0m: \u001b[33mWARNING\u001b[0m Config item 'adam_epsilon' was locked by 'sweep' (ignored update).\n",
            "\u001b[34m\u001b[1mwandb\u001b[0m: \u001b[33mWARNING\u001b[0m Config item 'num_train_epochs' was locked by 'sweep' (ignored update).\n",
            "\u001b[34m\u001b[1mwandb\u001b[0m: \u001b[33mWARNING\u001b[0m Config item 'warmup_ratio' was locked by 'sweep' (ignored update).\n",
            "\u001b[34m\u001b[1mwandb\u001b[0m: \u001b[33mWARNING\u001b[0m Config item 'seed' was locked by 'sweep' (ignored update).\n"
          ]
        },
        {
          "output_type": "display_data",
          "data": {
            "text/plain": [
              "<IPython.core.display.HTML object>"
            ],
            "text/html": [
              "\n",
              "    <div>\n",
              "      \n",
              "      <progress value='54' max='54' style='width:300px; height:20px; vertical-align: middle;'></progress>\n",
              "      [54/54 00:22, Epoch 6/6]\n",
              "    </div>\n",
              "    <table border=\"1\" class=\"dataframe\">\n",
              "  <thead>\n",
              " <tr style=\"text-align: left;\">\n",
              "      <th>Epoch</th>\n",
              "      <th>Training Loss</th>\n",
              "      <th>Validation Loss</th>\n",
              "      <th>Precision</th>\n",
              "      <th>Recall</th>\n",
              "      <th>F1</th>\n",
              "    </tr>\n",
              "  </thead>\n",
              "  <tbody>\n",
              "    <tr>\n",
              "      <td>1</td>\n",
              "      <td>4.016500</td>\n",
              "      <td>3.581460</td>\n",
              "      <td>0.001156</td>\n",
              "      <td>0.013216</td>\n",
              "      <td>0.002126</td>\n",
              "    </tr>\n",
              "    <tr>\n",
              "      <td>2</td>\n",
              "      <td>2.883000</td>\n",
              "      <td>2.070069</td>\n",
              "      <td>1.000000</td>\n",
              "      <td>0.000000</td>\n",
              "      <td>0.000000</td>\n",
              "    </tr>\n",
              "    <tr>\n",
              "      <td>3</td>\n",
              "      <td>1.869300</td>\n",
              "      <td>1.747147</td>\n",
              "      <td>1.000000</td>\n",
              "      <td>0.000000</td>\n",
              "      <td>0.000000</td>\n",
              "    </tr>\n",
              "    <tr>\n",
              "      <td>4</td>\n",
              "      <td>1.629700</td>\n",
              "      <td>1.554653</td>\n",
              "      <td>1.000000</td>\n",
              "      <td>0.000000</td>\n",
              "      <td>0.000000</td>\n",
              "    </tr>\n",
              "    <tr>\n",
              "      <td>5</td>\n",
              "      <td>1.488600</td>\n",
              "      <td>1.444985</td>\n",
              "      <td>1.000000</td>\n",
              "      <td>0.000000</td>\n",
              "      <td>0.000000</td>\n",
              "    </tr>\n",
              "    <tr>\n",
              "      <td>6</td>\n",
              "      <td>1.403900</td>\n",
              "      <td>1.400702</td>\n",
              "      <td>0.000000</td>\n",
              "      <td>0.000000</td>\n",
              "      <td>0.000000</td>\n",
              "    </tr>\n",
              "  </tbody>\n",
              "</table><p>"
            ]
          },
          "metadata": {}
        },
        {
          "output_type": "display_data",
          "data": {
            "text/plain": [
              "<IPython.core.display.HTML object>"
            ],
            "text/html": []
          },
          "metadata": {}
        },
        {
          "output_type": "stream",
          "name": "stdout",
          "text": [
            "{'eval_loss': 3.570537567138672, 'eval_precision': 0.0, 'eval_recall': 0.0, 'eval_f1': 0.0, 'eval_runtime': 0.1872, 'eval_samples_per_second': 160.249, 'eval_steps_per_second': 10.683, 'epoch': 6.0}\n"
          ]
        },
        {
          "output_type": "stream",
          "name": "stderr",
          "text": [
            "/usr/local/lib/python3.11/dist-packages/seqeval/metrics/v1.py:57: UndefinedMetricWarning: Precision and F-score are ill-defined and being set to 0.0 in labels with no predicted samples. Use `zero_division` parameter to control this behavior.\n",
            "  _warn_prf(average, modifier, msg_start, len(result))\n",
            "/usr/local/lib/python3.11/dist-packages/seqeval/metrics/v1.py:57: UndefinedMetricWarning: Recall and F-score are ill-defined and being set to 0.0 in labels with no true samples. Use `zero_division` parameter to control this behavior.\n",
            "  _warn_prf(average, modifier, msg_start, len(result))\n"
          ]
        },
        {
          "output_type": "stream",
          "name": "stdout",
          "text": [
            "                       precision    recall  f1-score   support\n",
            "\n",
            "               Budget       0.00      0.00      0.00         0\n",
            "          CompanyName       0.00      0.00      0.00        27\n",
            "          CompanySize       0.00      0.00      0.00         0\n",
            "  CurrentNeighborhood       0.00      0.00      0.00         1\n",
            "    DecisionMakerRole       0.00      0.00      0.00         6\n",
            "                Email       0.00      0.00      0.00         0\n",
            "     FirstInteraction       0.00      0.00      0.00         0\n",
            "            FirstName       0.00      0.00      0.00        30\n",
            "          GrowthStage       0.00      0.00      0.00         0\n",
            "             Industry       0.00      0.00      0.00        12\n",
            "      LastInteraction       0.00      0.00      0.00         0\n",
            "             LastName       0.00      0.00      0.00         8\n",
            "           MovingTerm       0.00      0.00      0.00         0\n",
            "       MovingTimeline       0.00      0.00      0.00         0\n",
            "            MustHaves       0.00      0.00      0.00        50\n",
            "          NiceToHaves       0.00      0.00      0.00        10\n",
            "              Outcome       0.00      0.00      0.00         0\n",
            "            PainPoint       0.00      0.00      0.00         1\n",
            "          Personality       0.00      0.00      0.00         0\n",
            "   PreferredLeaseTerm       0.00      0.00      0.00         3\n",
            "PreferredNeighborhood       0.00      0.00      0.00        13\n",
            "         PropertyType       0.00      0.00      0.00        26\n",
            "            SpaceSize       0.00      0.00      0.00         0\n",
            "         UrgencyScore       0.00      0.00      0.00        20\n",
            "           max_months       0.00      0.00      0.00         0\n",
            "           min_months       0.00      0.00      0.00         0\n",
            "\n",
            "            micro avg       0.00      0.00      0.00       207\n",
            "            macro avg       0.00      0.00      0.00       207\n",
            "         weighted avg       0.00      0.00      0.00       207\n",
            "\n",
            "   firstname lastname     email phone companyname industry companysize  \\\n",
            "0       None     None  s growth  None        None      200        None   \n",
            "1       None     None      None  None        None     None        None   \n",
            "2       None     None         s  None           3     None        None   \n",
            "3       None     None      None  None        None     None        None   \n",
            "4       None     None      None  None       ##ing     None        None   \n",
            "5       None     None   horizon  None           3     ##ty        None   \n",
            "6       None     None      None  None        work      our        None   \n",
            "7       None     None      None  None        None     ##ce        None   \n",
            "8       None     None  crescent  None        None     None        None   \n",
            "9       None     None    person  None        None     None        None   \n",
            "10      None     None  ##sphere  None         ##d     ##ty        lena   \n",
            "11      None     None         s  None        None     None        None   \n",
            "12      None     None      None  None        None      ##s        None   \n",
            "13      None     None      None  None        None     None        None   \n",
            "14      None     None      None  None        None     None           -   \n",
            "15      None     None  crescent  None        None    least        None   \n",
            "16      None     None      None  None           3    least        None   \n",
            "17      None     None         m  None        None     None        None   \n",
            "18      None     None      None  None        None     None        None   \n",
            "19      None     None      None  None        None     None        None   \n",
            "20      None     None      None  None        None     None        None   \n",
            "21      None     None      None  None        None     None        None   \n",
            "22      None     None      None  None        None     None        None   \n",
            "23      None     None      None  None        None        s          re   \n",
            "24      None     None      None  None        firm     None        None   \n",
            "25      None     None         ,  None        None     None        None   \n",
            "26      None     None      None  None        None     None        None   \n",
            "27      None     None      None  None        None     None        None   \n",
            "28      None     None      None  None        None     None        None   \n",
            "29      None     None      None  None        None     None        None   \n",
            "\n",
            "   growthstage currentneighborhood firstinteraction  ... movingterm  \\\n",
            "0         None                None             None  ...       None   \n",
            "1         None                None             None  ...        but   \n",
            "2            $                None             None  ...        and   \n",
            "3         None                None             None  ...       None   \n",
            "4           40                None             None  ...          :   \n",
            "5           56                 ##k             None  ...        and   \n",
            "6         None                None             None  ...       None   \n",
            "7         None                None             None  ...        and   \n",
            "8         None                None             None  ...       None   \n",
            "9         None                None             None  ...       None   \n",
            "10           $               works             None  ...       None   \n",
            "11           $                None             None  ...        but   \n",
            "12        None                None             None  ...       None   \n",
            "13        None                None             None  ...       None   \n",
            "14        None                None             None  ...       None   \n",
            "15        None                None             None  ...       None   \n",
            "16        None                None             None  ...        but   \n",
            "17        None                None             None  ...       such   \n",
            "18        None                 ##k             None  ...       None   \n",
            "19        None                None             None  ...       None   \n",
            "20           $                None             None  ...       None   \n",
            "21        None                None             None  ...       with   \n",
            "22        None                None             None  ...         to   \n",
            "23        None                 ##k             None  ...        and   \n",
            "24           $                None             None  ...       None   \n",
            "25          60                None             None  ...        and   \n",
            "26        None                None             None  ...       None   \n",
            "27        None                 ##k             None  ...       None   \n",
            "28        None                None             None  ...          —   \n",
            "29        None                None             None  ...       both   \n",
            "\n",
            "   min_months max_months movingtimeline musthaves nicetohaves painpoint  \\\n",
            "0        None       None           None         d        None      None   \n",
            "1        18th       None           None      None        None      None   \n",
            "2        None       None           None         d        None      None   \n",
            "3        liam       None           None      None        None      None   \n",
            "4        None       None           None      None        None      None   \n",
            "5        liam       None           None      None        None      None   \n",
            "6    creative       None           None      None        None      None   \n",
            "7        None       None           None        ll        None      None   \n",
            "8        18th       None           None      None        None      None   \n",
            "9       ##sca       None           None      None        None      None   \n",
            "10       None       None           None        ll        None      None   \n",
            "11       22nd       None           None      None        None      None   \n",
            "12       liam       None           None      None        None      None   \n",
            "13       None       None           None      None        None      None   \n",
            "14      ##sca       None           None         d        None      None   \n",
            "15       None       None           None      None        None      None   \n",
            "16       wave       None           None      None        None      None   \n",
            "17       liam       None           None      None        None      None   \n",
            "18       liam       None           None      None        None      None   \n",
            "19       None       None           None      None        None      None   \n",
            "20       None       None           None      None        None      None   \n",
            "21       None       None           None         d        None      None   \n",
            "22       None       None           None      None        None      None   \n",
            "23       liam       None           None      None        None      None   \n",
            "24       None       None           None         d        None      None   \n",
            "25      ##sca       None           None         d        None      None   \n",
            "26       None       find           None      None        None   village   \n",
            "27       None       None           None      None        None      None   \n",
            "28   creative       None           None         d        None      None   \n",
            "29       None       None           None      None        None      None   \n",
            "\n",
            "   urgencyscore outcome personality  \n",
            "0          None    None        send  \n",
            "1          None     200        None  \n",
            "2          None    None        None  \n",
            "3          None    None       plans  \n",
            "4          None    None        None  \n",
            "5          None     200        None  \n",
            "6          None    None        None  \n",
            "7          None    None       plans  \n",
            "8          None    None       plans  \n",
            "9          None    None        None  \n",
            "10         None    None       plans  \n",
            "11         None    None          on  \n",
            "12         None    None        None  \n",
            "13         None     200        None  \n",
            "14         None    None        None  \n",
            "15         None    None        None  \n",
            "16         None     200        over  \n",
            "17         None    None        None  \n",
            "18         None     200  engagement  \n",
            "19         None    None        None  \n",
            "20         None    None        None  \n",
            "21         None    None        None  \n",
            "22         None     200        None  \n",
            "23         None    None        None  \n",
            "24         None     200        None  \n",
            "25         None    None        this  \n",
            "26         None    None       plans  \n",
            "27         None    None        None  \n",
            "28         None    None          to  \n",
            "29         None    None        None  \n",
            "\n",
            "[30 rows x 27 columns]\n",
            "Structured Field-Level Metrics: {'email_precision': 1.0, 'email_recall': 1.0, 'email_f1': 1.0, 'companyname_precision': 1.0, 'companyname_recall': 1.0, 'companyname_f1': 1.0, 'industry_precision': 1.0, 'industry_recall': 1.0, 'industry_f1': 1.0, 'companysize_precision': 1.0, 'companysize_recall': 1.0, 'companysize_f1': 1.0, 'growthstage_precision': 1.0, 'growthstage_recall': 1.0, 'growthstage_f1': 1.0, 'currentneighborhood_precision': 1.0, 'currentneighborhood_recall': 1.0, 'currentneighborhood_f1': 1.0, 'lastinteraction_precision': 1.0, 'lastinteraction_recall': 1.0, 'lastinteraction_f1': 1.0, 'decisionmakerrole_precision': 1.0, 'decisionmakerrole_recall': 1.0, 'decisionmakerrole_f1': 1.0, 'propertytype_precision': 1.0, 'propertytype_recall': 1.0, 'propertytype_f1': 1.0, 'preferredneighborhood_precision': 1.0, 'preferredneighborhood_recall': 1.0, 'preferredneighborhood_f1': 1.0, 'budget_precision': 1.0, 'budget_recall': 1.0, 'budget_f1': 1.0, 'spacesize_precision': 1.0, 'spacesize_recall': 1.0, 'spacesize_f1': 1.0, 'preferredleaseterm_precision': 1.0, 'preferredleaseterm_recall': 1.0, 'preferredleaseterm_f1': 1.0, 'movingterm_precision': 1.0, 'movingterm_recall': 1.0, 'movingterm_f1': 1.0, 'min_months_precision': 1.0, 'min_months_recall': 1.0, 'min_months_f1': 1.0, 'max_months_precision': 1.0, 'max_months_recall': 1.0, 'max_months_f1': 1.0, 'musthaves_precision': 1.0, 'musthaves_recall': 1.0, 'musthaves_f1': 1.0, 'painpoint_precision': 1.0, 'painpoint_recall': 1.0, 'painpoint_f1': 1.0, 'outcome_precision': 1.0, 'outcome_recall': 1.0, 'outcome_f1': 1.0, 'personality_precision': 1.0, 'personality_recall': 1.0, 'personality_f1': 1.0, 'macro_precision': np.float64(1.0), 'macro_recall': np.float64(1.0), 'macro_f1': np.float64(1.0)}\n",
            "Predictions saved to: /content/drive/MyDrive/distilbert_outputs/ancient-sweep-20_predictions.json\n"
          ]
        },
        {
          "output_type": "display_data",
          "data": {
            "text/plain": [
              "<IPython.core.display.HTML object>"
            ],
            "text/html": []
          },
          "metadata": {}
        },
        {
          "output_type": "display_data",
          "data": {
            "text/plain": [
              "<IPython.core.display.HTML object>"
            ],
            "text/html": [
              "<br>    <style><br>        .wandb-row {<br>            display: flex;<br>            flex-direction: row;<br>            flex-wrap: wrap;<br>            justify-content: flex-start;<br>            width: 100%;<br>        }<br>        .wandb-col {<br>            display: flex;<br>            flex-direction: column;<br>            flex-basis: 100%;<br>            flex: 1;<br>            padding: 10px;<br>        }<br>    </style><br><div class=\"wandb-row\"><div class=\"wandb-col\"><h3>Run history:</h3><br/><table class=\"wandb\"><tr><td>eval/f1</td><td>█▁▁▁▁▁█▁</td></tr><tr><td>eval/loss</td><td>█▃▂▁▁▁██</td></tr><tr><td>eval/precision</td><td>▁████▁▁▁</td></tr><tr><td>eval/recall</td><td>█▁▁▁▁▁█▁</td></tr><tr><td>eval/runtime</td><td>▆▂▂▁▂▁█▅</td></tr><tr><td>eval/samples_per_second</td><td>▃▇▇█▇█▁▄</td></tr><tr><td>eval/steps_per_second</td><td>▃▇▇█▇█▁▄</td></tr><tr><td>test/f1</td><td>▁</td></tr><tr><td>test/loss</td><td>▁</td></tr><tr><td>test/precision</td><td>▁</td></tr><tr><td>test/recall</td><td>▁</td></tr><tr><td>test/runtime</td><td>▁</td></tr><tr><td>test/samples_per_second</td><td>▁</td></tr><tr><td>test/steps_per_second</td><td>▁</td></tr><tr><td>test_budget_f1</td><td>▁</td></tr><tr><td>test_budget_precision</td><td>▁</td></tr><tr><td>test_budget_recall</td><td>▁</td></tr><tr><td>test_companyname_f1</td><td>▁</td></tr><tr><td>test_companyname_precision</td><td>▁</td></tr><tr><td>test_companyname_recall</td><td>▁</td></tr><tr><td>test_companysize_f1</td><td>▁</td></tr><tr><td>test_companysize_precision</td><td>▁</td></tr><tr><td>test_companysize_recall</td><td>▁</td></tr><tr><td>test_currentneighborhood_f1</td><td>▁</td></tr><tr><td>test_currentneighborhood_precision</td><td>▁</td></tr><tr><td>test_currentneighborhood_recall</td><td>▁</td></tr><tr><td>test_decisionmakerrole_f1</td><td>▁</td></tr><tr><td>test_decisionmakerrole_precision</td><td>▁</td></tr><tr><td>test_decisionmakerrole_recall</td><td>▁</td></tr><tr><td>test_email_f1</td><td>▁</td></tr><tr><td>test_email_precision</td><td>▁</td></tr><tr><td>test_email_recall</td><td>▁</td></tr><tr><td>test_growthstage_f1</td><td>▁</td></tr><tr><td>test_growthstage_precision</td><td>▁</td></tr><tr><td>test_growthstage_recall</td><td>▁</td></tr><tr><td>test_industry_f1</td><td>▁</td></tr><tr><td>test_industry_precision</td><td>▁</td></tr><tr><td>test_industry_recall</td><td>▁</td></tr><tr><td>test_lastinteraction_f1</td><td>▁</td></tr><tr><td>test_lastinteraction_precision</td><td>▁</td></tr><tr><td>test_lastinteraction_recall</td><td>▁</td></tr><tr><td>test_macro_f1</td><td>▁</td></tr><tr><td>test_macro_precision</td><td>▁</td></tr><tr><td>test_macro_recall</td><td>▁</td></tr><tr><td>test_max_months_f1</td><td>▁</td></tr><tr><td>test_max_months_precision</td><td>▁</td></tr><tr><td>test_max_months_recall</td><td>▁</td></tr><tr><td>test_min_months_f1</td><td>▁</td></tr><tr><td>test_min_months_precision</td><td>▁</td></tr><tr><td>test_min_months_recall</td><td>▁</td></tr><tr><td>test_movingterm_f1</td><td>▁</td></tr><tr><td>test_movingterm_precision</td><td>▁</td></tr><tr><td>test_movingterm_recall</td><td>▁</td></tr><tr><td>test_musthaves_f1</td><td>▁</td></tr><tr><td>test_musthaves_precision</td><td>▁</td></tr><tr><td>test_musthaves_recall</td><td>▁</td></tr><tr><td>test_outcome_f1</td><td>▁</td></tr><tr><td>test_outcome_precision</td><td>▁</td></tr><tr><td>test_outcome_recall</td><td>▁</td></tr><tr><td>test_painpoint_f1</td><td>▁</td></tr><tr><td>test_painpoint_precision</td><td>▁</td></tr><tr><td>test_painpoint_recall</td><td>▁</td></tr><tr><td>test_personality_f1</td><td>▁</td></tr><tr><td>test_personality_precision</td><td>▁</td></tr><tr><td>test_personality_recall</td><td>▁</td></tr><tr><td>test_preferredleaseterm_f1</td><td>▁</td></tr><tr><td>test_preferredleaseterm_precision</td><td>▁</td></tr><tr><td>test_preferredleaseterm_recall</td><td>▁</td></tr><tr><td>test_preferredneighborhood_f1</td><td>▁</td></tr><tr><td>test_preferredneighborhood_precision</td><td>▁</td></tr><tr><td>test_preferredneighborhood_recall</td><td>▁</td></tr><tr><td>test_propertytype_f1</td><td>▁</td></tr><tr><td>test_propertytype_precision</td><td>▁</td></tr><tr><td>test_propertytype_recall</td><td>▁</td></tr><tr><td>test_spacesize_f1</td><td>▁</td></tr><tr><td>test_spacesize_precision</td><td>▁</td></tr><tr><td>test_spacesize_recall</td><td>▁</td></tr><tr><td>train/epoch</td><td>▁▁▂▂▄▄▅▅▇▇█████</td></tr><tr><td>train/global_step</td><td>▁▁▂▂▄▄▅▅▇▇████████</td></tr><tr><td>train/grad_norm</td><td>▆█▂▁▁▁</td></tr><tr><td>train/learning_rate</td><td>█▇▆▄▃▁</td></tr><tr><td>train/loss</td><td>█▅▂▂▁▁</td></tr></table><br/></div><div class=\"wandb-col\"><h3>Run summary:</h3><br/><table class=\"wandb\"><tr><td>eval/f1</td><td>0</td></tr><tr><td>eval/loss</td><td>3.57054</td></tr><tr><td>eval/precision</td><td>0</td></tr><tr><td>eval/recall</td><td>0</td></tr><tr><td>eval/runtime</td><td>0.1872</td></tr><tr><td>eval/samples_per_second</td><td>160.249</td></tr><tr><td>eval/steps_per_second</td><td>10.683</td></tr><tr><td>test/f1</td><td>0</td></tr><tr><td>test/loss</td><td>3.57054</td></tr><tr><td>test/precision</td><td>0</td></tr><tr><td>test/recall</td><td>0</td></tr><tr><td>test/runtime</td><td>0.1867</td></tr><tr><td>test/samples_per_second</td><td>160.712</td></tr><tr><td>test/steps_per_second</td><td>10.714</td></tr><tr><td>test_budget_f1</td><td>1</td></tr><tr><td>test_budget_precision</td><td>1</td></tr><tr><td>test_budget_recall</td><td>1</td></tr><tr><td>test_companyname_f1</td><td>1</td></tr><tr><td>test_companyname_precision</td><td>1</td></tr><tr><td>test_companyname_recall</td><td>1</td></tr><tr><td>test_companysize_f1</td><td>1</td></tr><tr><td>test_companysize_precision</td><td>1</td></tr><tr><td>test_companysize_recall</td><td>1</td></tr><tr><td>test_currentneighborhood_f1</td><td>1</td></tr><tr><td>test_currentneighborhood_precision</td><td>1</td></tr><tr><td>test_currentneighborhood_recall</td><td>1</td></tr><tr><td>test_decisionmakerrole_f1</td><td>1</td></tr><tr><td>test_decisionmakerrole_precision</td><td>1</td></tr><tr><td>test_decisionmakerrole_recall</td><td>1</td></tr><tr><td>test_email_f1</td><td>1</td></tr><tr><td>test_email_precision</td><td>1</td></tr><tr><td>test_email_recall</td><td>1</td></tr><tr><td>test_growthstage_f1</td><td>1</td></tr><tr><td>test_growthstage_precision</td><td>1</td></tr><tr><td>test_growthstage_recall</td><td>1</td></tr><tr><td>test_industry_f1</td><td>1</td></tr><tr><td>test_industry_precision</td><td>1</td></tr><tr><td>test_industry_recall</td><td>1</td></tr><tr><td>test_lastinteraction_f1</td><td>1</td></tr><tr><td>test_lastinteraction_precision</td><td>1</td></tr><tr><td>test_lastinteraction_recall</td><td>1</td></tr><tr><td>test_macro_f1</td><td>1</td></tr><tr><td>test_macro_precision</td><td>1</td></tr><tr><td>test_macro_recall</td><td>1</td></tr><tr><td>test_max_months_f1</td><td>1</td></tr><tr><td>test_max_months_precision</td><td>1</td></tr><tr><td>test_max_months_recall</td><td>1</td></tr><tr><td>test_min_months_f1</td><td>1</td></tr><tr><td>test_min_months_precision</td><td>1</td></tr><tr><td>test_min_months_recall</td><td>1</td></tr><tr><td>test_movingterm_f1</td><td>1</td></tr><tr><td>test_movingterm_precision</td><td>1</td></tr><tr><td>test_movingterm_recall</td><td>1</td></tr><tr><td>test_musthaves_f1</td><td>1</td></tr><tr><td>test_musthaves_precision</td><td>1</td></tr><tr><td>test_musthaves_recall</td><td>1</td></tr><tr><td>test_outcome_f1</td><td>1</td></tr><tr><td>test_outcome_precision</td><td>1</td></tr><tr><td>test_outcome_recall</td><td>1</td></tr><tr><td>test_painpoint_f1</td><td>1</td></tr><tr><td>test_painpoint_precision</td><td>1</td></tr><tr><td>test_painpoint_recall</td><td>1</td></tr><tr><td>test_personality_f1</td><td>1</td></tr><tr><td>test_personality_precision</td><td>1</td></tr><tr><td>test_personality_recall</td><td>1</td></tr><tr><td>test_preferredleaseterm_f1</td><td>1</td></tr><tr><td>test_preferredleaseterm_precision</td><td>1</td></tr><tr><td>test_preferredleaseterm_recall</td><td>1</td></tr><tr><td>test_preferredneighborhood_f1</td><td>1</td></tr><tr><td>test_preferredneighborhood_precision</td><td>1</td></tr><tr><td>test_preferredneighborhood_recall</td><td>1</td></tr><tr><td>test_propertytype_f1</td><td>1</td></tr><tr><td>test_propertytype_precision</td><td>1</td></tr><tr><td>test_propertytype_recall</td><td>1</td></tr><tr><td>test_spacesize_f1</td><td>1</td></tr><tr><td>test_spacesize_precision</td><td>1</td></tr><tr><td>test_spacesize_recall</td><td>1</td></tr><tr><td>total_flos</td><td>109853776650240.0</td></tr><tr><td>train/epoch</td><td>6</td></tr><tr><td>train/global_step</td><td>54</td></tr><tr><td>train/grad_norm</td><td>1.79825</td></tr><tr><td>train/learning_rate</td><td>0.0</td></tr><tr><td>train/loss</td><td>1.4039</td></tr><tr><td>train_loss</td><td>2.21515</td></tr><tr><td>train_runtime</td><td>23.2224</td></tr><tr><td>train_samples_per_second</td><td>36.172</td></tr><tr><td>train_steps_per_second</td><td>2.325</td></tr></table><br/></div></div>"
            ]
          },
          "metadata": {}
        },
        {
          "output_type": "display_data",
          "data": {
            "text/plain": [
              "<IPython.core.display.HTML object>"
            ],
            "text/html": [
              " View run <strong style=\"color:#cdcd00\">ancient-sweep-20</strong> at: <a href='https://wandb.ai/lidianeh-none/distilbert-final/runs/tocn7h7g' target=\"_blank\">https://wandb.ai/lidianeh-none/distilbert-final/runs/tocn7h7g</a><br> View project at: <a href='https://wandb.ai/lidianeh-none/distilbert-final' target=\"_blank\">https://wandb.ai/lidianeh-none/distilbert-final</a><br>Synced 5 W&B file(s), 1 media file(s), 2 artifact file(s) and 0 other file(s)"
            ]
          },
          "metadata": {}
        },
        {
          "output_type": "display_data",
          "data": {
            "text/plain": [
              "<IPython.core.display.HTML object>"
            ],
            "text/html": [
              "Find logs at: <code>./wandb/run-20250509_171404-tocn7h7g/logs</code>"
            ]
          },
          "metadata": {}
        },
        {
          "output_type": "stream",
          "name": "stderr",
          "text": [
            "\u001b[34m\u001b[1mwandb\u001b[0m: Agent Starting Run: bfa7a5w0 with config:\n",
            "\u001b[34m\u001b[1mwandb\u001b[0m: \tadam_epsilon: 1e-06\n",
            "\u001b[34m\u001b[1mwandb\u001b[0m: \tlearning_rate: 1.7381869753526496e-05\n",
            "\u001b[34m\u001b[1mwandb\u001b[0m: \tnum_train_epochs: 6\n",
            "\u001b[34m\u001b[1mwandb\u001b[0m: \tper_device_train_batch_size: 16\n",
            "\u001b[34m\u001b[1mwandb\u001b[0m: \tseed: 42\n",
            "\u001b[34m\u001b[1mwandb\u001b[0m: \twarmup_ratio: 0.05497732539023774\n",
            "\u001b[34m\u001b[1mwandb\u001b[0m: \tweight_decay: 0.1337149404446114\n"
          ]
        },
        {
          "output_type": "display_data",
          "data": {
            "text/plain": [
              "<IPython.core.display.HTML object>"
            ],
            "text/html": [
              "Tracking run with wandb version 0.19.10"
            ]
          },
          "metadata": {}
        },
        {
          "output_type": "display_data",
          "data": {
            "text/plain": [
              "<IPython.core.display.HTML object>"
            ],
            "text/html": [
              "Run data is saved locally in <code>/content/wandb/run-20250509_171443-bfa7a5w0</code>"
            ]
          },
          "metadata": {}
        },
        {
          "output_type": "display_data",
          "data": {
            "text/plain": [
              "<IPython.core.display.HTML object>"
            ],
            "text/html": [
              "Syncing run <strong><a href='https://wandb.ai/lidianeh-none/distilbert-final/runs/bfa7a5w0' target=\"_blank\">driven-sweep-21</a></strong> to <a href='https://wandb.ai/lidianeh-none/distilbert-final' target=\"_blank\">Weights & Biases</a> (<a href='https://wandb.me/developer-guide' target=\"_blank\">docs</a>)<br>Sweep page: <a href='https://wandb.ai/lidianeh-none/distilbert-final/sweeps/6yae4880' target=\"_blank\">https://wandb.ai/lidianeh-none/distilbert-final/sweeps/6yae4880</a>"
            ]
          },
          "metadata": {}
        },
        {
          "output_type": "display_data",
          "data": {
            "text/plain": [
              "<IPython.core.display.HTML object>"
            ],
            "text/html": [
              " View project at <a href='https://wandb.ai/lidianeh-none/distilbert-final' target=\"_blank\">https://wandb.ai/lidianeh-none/distilbert-final</a>"
            ]
          },
          "metadata": {}
        },
        {
          "output_type": "display_data",
          "data": {
            "text/plain": [
              "<IPython.core.display.HTML object>"
            ],
            "text/html": [
              " View sweep at <a href='https://wandb.ai/lidianeh-none/distilbert-final/sweeps/6yae4880' target=\"_blank\">https://wandb.ai/lidianeh-none/distilbert-final/sweeps/6yae4880</a>"
            ]
          },
          "metadata": {}
        },
        {
          "output_type": "display_data",
          "data": {
            "text/plain": [
              "<IPython.core.display.HTML object>"
            ],
            "text/html": [
              " View run at <a href='https://wandb.ai/lidianeh-none/distilbert-final/runs/bfa7a5w0' target=\"_blank\">https://wandb.ai/lidianeh-none/distilbert-final/runs/bfa7a5w0</a>"
            ]
          },
          "metadata": {}
        },
        {
          "output_type": "stream",
          "name": "stderr",
          "text": [
            "Some weights of WeightedDistilBertForTokenClassification were not initialized from the model checkpoint at distilbert-base-uncased and are newly initialized: ['classifier.bias', 'classifier.weight']\n",
            "You should probably TRAIN this model on a down-stream task to be able to use it for predictions and inference.\n",
            "<ipython-input-19-362b024c7306>:57: FutureWarning: `tokenizer` is deprecated and will be removed in version 5.0.0 for `Trainer.__init__`. Use `processing_class` instead.\n",
            "  trainer = Trainer(\n",
            "\u001b[34m\u001b[1mwandb\u001b[0m: \u001b[33mWARNING\u001b[0m Config item 'per_device_train_batch_size' was locked by 'sweep' (ignored update).\n",
            "\u001b[34m\u001b[1mwandb\u001b[0m: \u001b[33mWARNING\u001b[0m Config item 'learning_rate' was locked by 'sweep' (ignored update).\n",
            "\u001b[34m\u001b[1mwandb\u001b[0m: \u001b[33mWARNING\u001b[0m Config item 'weight_decay' was locked by 'sweep' (ignored update).\n",
            "\u001b[34m\u001b[1mwandb\u001b[0m: \u001b[33mWARNING\u001b[0m Config item 'adam_epsilon' was locked by 'sweep' (ignored update).\n",
            "\u001b[34m\u001b[1mwandb\u001b[0m: \u001b[33mWARNING\u001b[0m Config item 'num_train_epochs' was locked by 'sweep' (ignored update).\n",
            "\u001b[34m\u001b[1mwandb\u001b[0m: \u001b[33mWARNING\u001b[0m Config item 'warmup_ratio' was locked by 'sweep' (ignored update).\n",
            "\u001b[34m\u001b[1mwandb\u001b[0m: \u001b[33mWARNING\u001b[0m Config item 'seed' was locked by 'sweep' (ignored update).\n"
          ]
        },
        {
          "output_type": "display_data",
          "data": {
            "text/plain": [
              "<IPython.core.display.HTML object>"
            ],
            "text/html": [
              "\n",
              "    <div>\n",
              "      \n",
              "      <progress value='54' max='54' style='width:300px; height:20px; vertical-align: middle;'></progress>\n",
              "      [54/54 00:23, Epoch 6/6]\n",
              "    </div>\n",
              "    <table border=\"1\" class=\"dataframe\">\n",
              "  <thead>\n",
              " <tr style=\"text-align: left;\">\n",
              "      <th>Epoch</th>\n",
              "      <th>Training Loss</th>\n",
              "      <th>Validation Loss</th>\n",
              "      <th>Precision</th>\n",
              "      <th>Recall</th>\n",
              "      <th>F1</th>\n",
              "    </tr>\n",
              "  </thead>\n",
              "  <tbody>\n",
              "    <tr>\n",
              "      <td>1</td>\n",
              "      <td>3.829900</td>\n",
              "      <td>3.190325</td>\n",
              "      <td>0.000000</td>\n",
              "      <td>0.000000</td>\n",
              "      <td>0.000000</td>\n",
              "    </tr>\n",
              "    <tr>\n",
              "      <td>2</td>\n",
              "      <td>2.524100</td>\n",
              "      <td>1.942060</td>\n",
              "      <td>1.000000</td>\n",
              "      <td>0.000000</td>\n",
              "      <td>0.000000</td>\n",
              "    </tr>\n",
              "    <tr>\n",
              "      <td>3</td>\n",
              "      <td>1.805900</td>\n",
              "      <td>1.710446</td>\n",
              "      <td>1.000000</td>\n",
              "      <td>0.000000</td>\n",
              "      <td>0.000000</td>\n",
              "    </tr>\n",
              "    <tr>\n",
              "      <td>4</td>\n",
              "      <td>1.609200</td>\n",
              "      <td>1.545092</td>\n",
              "      <td>1.000000</td>\n",
              "      <td>0.000000</td>\n",
              "      <td>0.000000</td>\n",
              "    </tr>\n",
              "    <tr>\n",
              "      <td>5</td>\n",
              "      <td>1.478400</td>\n",
              "      <td>1.446247</td>\n",
              "      <td>1.000000</td>\n",
              "      <td>0.000000</td>\n",
              "      <td>0.000000</td>\n",
              "    </tr>\n",
              "    <tr>\n",
              "      <td>6</td>\n",
              "      <td>1.412300</td>\n",
              "      <td>1.407818</td>\n",
              "      <td>0.000000</td>\n",
              "      <td>0.000000</td>\n",
              "      <td>0.000000</td>\n",
              "    </tr>\n",
              "  </tbody>\n",
              "</table><p>"
            ]
          },
          "metadata": {}
        },
        {
          "output_type": "display_data",
          "data": {
            "text/plain": [
              "<IPython.core.display.HTML object>"
            ],
            "text/html": []
          },
          "metadata": {}
        },
        {
          "output_type": "stream",
          "name": "stdout",
          "text": [
            "{'eval_loss': 3.174240827560425, 'eval_precision': 0.0, 'eval_recall': 0.0, 'eval_f1': 0.0, 'eval_runtime': 0.1768, 'eval_samples_per_second': 169.643, 'eval_steps_per_second': 11.31, 'epoch': 6.0}\n"
          ]
        },
        {
          "output_type": "stream",
          "name": "stderr",
          "text": [
            "/usr/local/lib/python3.11/dist-packages/seqeval/metrics/v1.py:57: UndefinedMetricWarning: Precision and F-score are ill-defined and being set to 0.0 in labels with no predicted samples. Use `zero_division` parameter to control this behavior.\n",
            "  _warn_prf(average, modifier, msg_start, len(result))\n"
          ]
        },
        {
          "output_type": "stream",
          "name": "stdout",
          "text": [
            "                       precision    recall  f1-score   support\n",
            "\n",
            "          CompanyName       0.00      0.00      0.00        27\n",
            "  CurrentNeighborhood       0.00      0.00      0.00         1\n",
            "    DecisionMakerRole       0.00      0.00      0.00         6\n",
            "            FirstName       0.00      0.00      0.00        30\n",
            "             Industry       0.00      0.00      0.00        12\n",
            "             LastName       0.00      0.00      0.00         8\n",
            "            MustHaves       0.00      0.00      0.00        50\n",
            "          NiceToHaves       0.00      0.00      0.00        10\n",
            "            PainPoint       0.00      0.00      0.00         1\n",
            "   PreferredLeaseTerm       0.00      0.00      0.00         3\n",
            "PreferredNeighborhood       0.00      0.00      0.00        13\n",
            "         PropertyType       0.00      0.00      0.00        26\n",
            "         UrgencyScore       0.00      0.00      0.00        20\n",
            "\n",
            "            micro avg       0.00      0.00      0.00       207\n",
            "            macro avg       0.00      0.00      0.00       207\n",
            "         weighted avg       0.00      0.00      0.00       207\n",
            "\n",
            "   firstname lastname email phone companyname industry companysize  \\\n",
            "0       None     None  None  None        None     None        None   \n",
            "1       None     None  None  None        None     None        None   \n",
            "2       None     None  None  None        None     None        None   \n",
            "3       None     None  None  None        None     None        None   \n",
            "4       None     None  None  None        None     None        None   \n",
            "5       None     None  None  None        None     None        None   \n",
            "6       None     None  None  None        None     None        None   \n",
            "7       None     None  None  None        None     None        None   \n",
            "8       None     None  None  None        None     None        None   \n",
            "9       None     None  None  None        None     None        None   \n",
            "10      None     None  None  None        None     None        None   \n",
            "11      None     None  None  None        None     None        None   \n",
            "12      None     None  None  None        None     None        None   \n",
            "13      None     None  None  None        None     None        None   \n",
            "14      None     None  None  None        None     None        None   \n",
            "15      None     None  None  None        None     None        None   \n",
            "16      None     None  None  None        None     None        None   \n",
            "17      None     None  None  None        None     None        None   \n",
            "18      None     None  None  None        None     None        None   \n",
            "19      None     None  None  None        None     None        None   \n",
            "20      None     None  None  None        None     None        None   \n",
            "21      None     None  None  None        None     None        None   \n",
            "22      None     None  None  None        None     None        None   \n",
            "23      None     None  None  None        None     None        None   \n",
            "24      None     None  None  None        None     None        None   \n",
            "25      None     None  None  None        None     None        None   \n",
            "26      None     None  None  None        None     None        None   \n",
            "27      None     None  None  None        None     None        None   \n",
            "28      None     None  None  None        None     None        None   \n",
            "29      None     None  None  None        None     None        None   \n",
            "\n",
            "   growthstage currentneighborhood firstinteraction  ... movingterm  \\\n",
            "0         None                None             None  ...       None   \n",
            "1         None                None             None  ...       None   \n",
            "2         None                None             None  ...       None   \n",
            "3         None                None             None  ...       None   \n",
            "4         None                None             None  ...       None   \n",
            "5         None                None             None  ...       None   \n",
            "6         None                None             None  ...       None   \n",
            "7         None                None             None  ...       None   \n",
            "8         None                None             None  ...       None   \n",
            "9         None                None             None  ...       None   \n",
            "10        None                None             None  ...       None   \n",
            "11        None                None             None  ...       None   \n",
            "12        None                None             None  ...       None   \n",
            "13        None                None             None  ...       None   \n",
            "14        None                None             None  ...       None   \n",
            "15        None                None             None  ...       None   \n",
            "16        None                None             None  ...       None   \n",
            "17        None                None             None  ...       None   \n",
            "18        None                None             None  ...       None   \n",
            "19        None                None             None  ...       None   \n",
            "20        None                None             None  ...       None   \n",
            "21        None                None             None  ...       None   \n",
            "22        None                None             None  ...       None   \n",
            "23        None                None             None  ...       None   \n",
            "24        None                None             None  ...       None   \n",
            "25        None                None             None  ...       None   \n",
            "26        None                None             None  ...       None   \n",
            "27        None                None             None  ...       None   \n",
            "28        None                None             None  ...       None   \n",
            "29        None                None             None  ...       None   \n",
            "\n",
            "   min_months max_months movingtimeline musthaves nicetohaves painpoint  \\\n",
            "0        None       None           None      None        None      None   \n",
            "1        None       None           None      None        None      None   \n",
            "2        None       None           None      None        None      None   \n",
            "3        None       None           None      None        None      None   \n",
            "4        None       None           None      None        None      None   \n",
            "5        None       None           None      None        None      None   \n",
            "6        None       None           None      None        None      None   \n",
            "7        None       None           None      None        None      None   \n",
            "8        None       None           None      None        None      None   \n",
            "9        None       None           None      None        None      None   \n",
            "10       None       None           None      None        None      None   \n",
            "11       None       None           None      None        None      None   \n",
            "12       None       None           None      None        None      None   \n",
            "13       None       None           None      None        None      None   \n",
            "14       None       None           None      None        None      None   \n",
            "15       None       None           None      None        None      None   \n",
            "16       None       None           None      None        None      None   \n",
            "17       None       None           None      None        None      None   \n",
            "18       None       None           None      None        None      None   \n",
            "19       None       None           None      None        None      None   \n",
            "20       None       None           None      None        None      None   \n",
            "21       None       None           None      None        None      None   \n",
            "22       None       None           None      None        None      None   \n",
            "23       None       None           None      None        None      None   \n",
            "24       None       None           None      None        None      None   \n",
            "25       None       None           None      None        None      None   \n",
            "26       None       None           None      None        None      None   \n",
            "27       None       None           None      None        None      None   \n",
            "28       None       None           None      None        None      None   \n",
            "29       None       None           None      None        None      None   \n",
            "\n",
            "   urgencyscore outcome personality  \n",
            "0          None    None        None  \n",
            "1          None    None        None  \n",
            "2          None    None        None  \n",
            "3          None    None        None  \n",
            "4          None    None        None  \n",
            "5          None    None        None  \n",
            "6          None    None        None  \n",
            "7          None    None        None  \n",
            "8          None    None        None  \n",
            "9          None    None        None  \n",
            "10         None    None        None  \n",
            "11         None    None        None  \n",
            "12         None    None        None  \n",
            "13         None    None        None  \n",
            "14         None    None        None  \n",
            "15         None    None        None  \n",
            "16         None    None        None  \n",
            "17         None    None        None  \n",
            "18         None    None        None  \n",
            "19         None    None        None  \n",
            "20         None    None        None  \n",
            "21         None    None        None  \n",
            "22         None    None        None  \n",
            "23         None    None        None  \n",
            "24         None    None        None  \n",
            "25         None    None        None  \n",
            "26         None    None        None  \n",
            "27         None    None        None  \n",
            "28         None    None        None  \n",
            "29         None    None        None  \n",
            "\n",
            "[30 rows x 27 columns]\n",
            "Structured Field-Level Metrics: {'macro_precision': 0.0, 'macro_recall': 0.0, 'macro_f1': 0.0}\n",
            "Predictions saved to: /content/drive/MyDrive/distilbert_outputs/driven-sweep-21_predictions.json\n"
          ]
        },
        {
          "output_type": "display_data",
          "data": {
            "text/plain": [
              "<IPython.core.display.HTML object>"
            ],
            "text/html": []
          },
          "metadata": {}
        },
        {
          "output_type": "display_data",
          "data": {
            "text/plain": [
              "<IPython.core.display.HTML object>"
            ],
            "text/html": [
              "<br>    <style><br>        .wandb-row {<br>            display: flex;<br>            flex-direction: row;<br>            flex-wrap: wrap;<br>            justify-content: flex-start;<br>            width: 100%;<br>        }<br>        .wandb-col {<br>            display: flex;<br>            flex-direction: column;<br>            flex-basis: 100%;<br>            flex: 1;<br>            padding: 10px;<br>        }<br>    </style><br><div class=\"wandb-row\"><div class=\"wandb-col\"><h3>Run history:</h3><br/><table class=\"wandb\"><tr><td>eval/f1</td><td>▁▁▁▁▁▁▁▁</td></tr><tr><td>eval/loss</td><td>█▃▂▂▁▁██</td></tr><tr><td>eval/precision</td><td>▁████▁▁▁</td></tr><tr><td>eval/recall</td><td>▁▁▁▁▁▁▁▁</td></tr><tr><td>eval/runtime</td><td>▂▂▁▂▂▁█▁</td></tr><tr><td>eval/samples_per_second</td><td>▇▇█▇▇█▁█</td></tr><tr><td>eval/steps_per_second</td><td>▇▇█▇▇█▁█</td></tr><tr><td>test/f1</td><td>▁</td></tr><tr><td>test/loss</td><td>▁</td></tr><tr><td>test/precision</td><td>▁</td></tr><tr><td>test/recall</td><td>▁</td></tr><tr><td>test/runtime</td><td>▁</td></tr><tr><td>test/samples_per_second</td><td>▁</td></tr><tr><td>test/steps_per_second</td><td>▁</td></tr><tr><td>test_macro_f1</td><td>▁</td></tr><tr><td>test_macro_precision</td><td>▁</td></tr><tr><td>test_macro_recall</td><td>▁</td></tr><tr><td>train/epoch</td><td>▁▁▂▂▄▄▅▅▇▇█████</td></tr><tr><td>train/global_step</td><td>▁▁▂▂▄▄▅▅▇▇████████</td></tr><tr><td>train/grad_norm</td><td>█▄▂▁▂▁</td></tr><tr><td>train/learning_rate</td><td>█▇▅▄▂▁</td></tr><tr><td>train/loss</td><td>█▄▂▂▁▁</td></tr></table><br/></div><div class=\"wandb-col\"><h3>Run summary:</h3><br/><table class=\"wandb\"><tr><td>eval/f1</td><td>0</td></tr><tr><td>eval/loss</td><td>3.17424</td></tr><tr><td>eval/precision</td><td>0</td></tr><tr><td>eval/recall</td><td>0</td></tr><tr><td>eval/runtime</td><td>0.1768</td></tr><tr><td>eval/samples_per_second</td><td>169.643</td></tr><tr><td>eval/steps_per_second</td><td>11.31</td></tr><tr><td>test/f1</td><td>0</td></tr><tr><td>test/loss</td><td>3.17424</td></tr><tr><td>test/precision</td><td>0</td></tr><tr><td>test/recall</td><td>0</td></tr><tr><td>test/runtime</td><td>0.1775</td></tr><tr><td>test/samples_per_second</td><td>169.037</td></tr><tr><td>test/steps_per_second</td><td>11.269</td></tr><tr><td>test_macro_f1</td><td>0</td></tr><tr><td>test_macro_precision</td><td>0</td></tr><tr><td>test_macro_recall</td><td>0</td></tr><tr><td>total_flos</td><td>109853776650240.0</td></tr><tr><td>train/epoch</td><td>6</td></tr><tr><td>train/global_step</td><td>54</td></tr><tr><td>train/grad_norm</td><td>1.65306</td></tr><tr><td>train/learning_rate</td><td>0.0</td></tr><tr><td>train/loss</td><td>1.4123</td></tr><tr><td>train_loss</td><td>2.10994</td></tr><tr><td>train_runtime</td><td>23.2573</td></tr><tr><td>train_samples_per_second</td><td>36.118</td></tr><tr><td>train_steps_per_second</td><td>2.322</td></tr></table><br/></div></div>"
            ]
          },
          "metadata": {}
        },
        {
          "output_type": "display_data",
          "data": {
            "text/plain": [
              "<IPython.core.display.HTML object>"
            ],
            "text/html": [
              " View run <strong style=\"color:#cdcd00\">driven-sweep-21</strong> at: <a href='https://wandb.ai/lidianeh-none/distilbert-final/runs/bfa7a5w0' target=\"_blank\">https://wandb.ai/lidianeh-none/distilbert-final/runs/bfa7a5w0</a><br> View project at: <a href='https://wandb.ai/lidianeh-none/distilbert-final' target=\"_blank\">https://wandb.ai/lidianeh-none/distilbert-final</a><br>Synced 5 W&B file(s), 1 media file(s), 2 artifact file(s) and 0 other file(s)"
            ]
          },
          "metadata": {}
        },
        {
          "output_type": "display_data",
          "data": {
            "text/plain": [
              "<IPython.core.display.HTML object>"
            ],
            "text/html": [
              "Find logs at: <code>./wandb/run-20250509_171443-bfa7a5w0/logs</code>"
            ]
          },
          "metadata": {}
        },
        {
          "output_type": "stream",
          "name": "stderr",
          "text": [
            "\u001b[34m\u001b[1mwandb\u001b[0m: Agent Starting Run: zgurtt5n with config:\n",
            "\u001b[34m\u001b[1mwandb\u001b[0m: \tadam_epsilon: 1e-08\n",
            "\u001b[34m\u001b[1mwandb\u001b[0m: \tlearning_rate: 2.0473532964088585e-05\n",
            "\u001b[34m\u001b[1mwandb\u001b[0m: \tnum_train_epochs: 8\n",
            "\u001b[34m\u001b[1mwandb\u001b[0m: \tper_device_train_batch_size: 16\n",
            "\u001b[34m\u001b[1mwandb\u001b[0m: \tseed: 2024\n",
            "\u001b[34m\u001b[1mwandb\u001b[0m: \twarmup_ratio: 0.11883239631743574\n",
            "\u001b[34m\u001b[1mwandb\u001b[0m: \tweight_decay: 0.11046032671086913\n"
          ]
        },
        {
          "output_type": "display_data",
          "data": {
            "text/plain": [
              "<IPython.core.display.HTML object>"
            ],
            "text/html": [
              "Tracking run with wandb version 0.19.10"
            ]
          },
          "metadata": {}
        },
        {
          "output_type": "display_data",
          "data": {
            "text/plain": [
              "<IPython.core.display.HTML object>"
            ],
            "text/html": [
              "Run data is saved locally in <code>/content/wandb/run-20250509_171521-zgurtt5n</code>"
            ]
          },
          "metadata": {}
        },
        {
          "output_type": "display_data",
          "data": {
            "text/plain": [
              "<IPython.core.display.HTML object>"
            ],
            "text/html": [
              "Syncing run <strong><a href='https://wandb.ai/lidianeh-none/distilbert-final/runs/zgurtt5n' target=\"_blank\">vital-sweep-22</a></strong> to <a href='https://wandb.ai/lidianeh-none/distilbert-final' target=\"_blank\">Weights & Biases</a> (<a href='https://wandb.me/developer-guide' target=\"_blank\">docs</a>)<br>Sweep page: <a href='https://wandb.ai/lidianeh-none/distilbert-final/sweeps/6yae4880' target=\"_blank\">https://wandb.ai/lidianeh-none/distilbert-final/sweeps/6yae4880</a>"
            ]
          },
          "metadata": {}
        },
        {
          "output_type": "display_data",
          "data": {
            "text/plain": [
              "<IPython.core.display.HTML object>"
            ],
            "text/html": [
              " View project at <a href='https://wandb.ai/lidianeh-none/distilbert-final' target=\"_blank\">https://wandb.ai/lidianeh-none/distilbert-final</a>"
            ]
          },
          "metadata": {}
        },
        {
          "output_type": "display_data",
          "data": {
            "text/plain": [
              "<IPython.core.display.HTML object>"
            ],
            "text/html": [
              " View sweep at <a href='https://wandb.ai/lidianeh-none/distilbert-final/sweeps/6yae4880' target=\"_blank\">https://wandb.ai/lidianeh-none/distilbert-final/sweeps/6yae4880</a>"
            ]
          },
          "metadata": {}
        },
        {
          "output_type": "display_data",
          "data": {
            "text/plain": [
              "<IPython.core.display.HTML object>"
            ],
            "text/html": [
              " View run at <a href='https://wandb.ai/lidianeh-none/distilbert-final/runs/zgurtt5n' target=\"_blank\">https://wandb.ai/lidianeh-none/distilbert-final/runs/zgurtt5n</a>"
            ]
          },
          "metadata": {}
        },
        {
          "output_type": "stream",
          "name": "stderr",
          "text": [
            "Some weights of WeightedDistilBertForTokenClassification were not initialized from the model checkpoint at distilbert-base-uncased and are newly initialized: ['classifier.bias', 'classifier.weight']\n",
            "You should probably TRAIN this model on a down-stream task to be able to use it for predictions and inference.\n",
            "<ipython-input-19-362b024c7306>:57: FutureWarning: `tokenizer` is deprecated and will be removed in version 5.0.0 for `Trainer.__init__`. Use `processing_class` instead.\n",
            "  trainer = Trainer(\n",
            "\u001b[34m\u001b[1mwandb\u001b[0m: \u001b[33mWARNING\u001b[0m Config item 'per_device_train_batch_size' was locked by 'sweep' (ignored update).\n",
            "\u001b[34m\u001b[1mwandb\u001b[0m: \u001b[33mWARNING\u001b[0m Config item 'learning_rate' was locked by 'sweep' (ignored update).\n",
            "\u001b[34m\u001b[1mwandb\u001b[0m: \u001b[33mWARNING\u001b[0m Config item 'weight_decay' was locked by 'sweep' (ignored update).\n",
            "\u001b[34m\u001b[1mwandb\u001b[0m: \u001b[33mWARNING\u001b[0m Config item 'adam_epsilon' was locked by 'sweep' (ignored update).\n",
            "\u001b[34m\u001b[1mwandb\u001b[0m: \u001b[33mWARNING\u001b[0m Config item 'num_train_epochs' was locked by 'sweep' (ignored update).\n",
            "\u001b[34m\u001b[1mwandb\u001b[0m: \u001b[33mWARNING\u001b[0m Config item 'warmup_ratio' was locked by 'sweep' (ignored update).\n",
            "\u001b[34m\u001b[1mwandb\u001b[0m: \u001b[33mWARNING\u001b[0m Config item 'seed' was locked by 'sweep' (ignored update).\n"
          ]
        },
        {
          "output_type": "display_data",
          "data": {
            "text/plain": [
              "<IPython.core.display.HTML object>"
            ],
            "text/html": [
              "\n",
              "    <div>\n",
              "      \n",
              "      <progress value='72' max='72' style='width:300px; height:20px; vertical-align: middle;'></progress>\n",
              "      [72/72 00:33, Epoch 8/8]\n",
              "    </div>\n",
              "    <table border=\"1\" class=\"dataframe\">\n",
              "  <thead>\n",
              " <tr style=\"text-align: left;\">\n",
              "      <th>Epoch</th>\n",
              "      <th>Training Loss</th>\n",
              "      <th>Validation Loss</th>\n",
              "      <th>Precision</th>\n",
              "      <th>Recall</th>\n",
              "      <th>F1</th>\n",
              "    </tr>\n",
              "  </thead>\n",
              "  <tbody>\n",
              "    <tr>\n",
              "      <td>1</td>\n",
              "      <td>4.067300</td>\n",
              "      <td>3.584230</td>\n",
              "      <td>0.000664</td>\n",
              "      <td>0.008811</td>\n",
              "      <td>0.001236</td>\n",
              "    </tr>\n",
              "    <tr>\n",
              "      <td>2</td>\n",
              "      <td>2.767500</td>\n",
              "      <td>2.018287</td>\n",
              "      <td>1.000000</td>\n",
              "      <td>0.000000</td>\n",
              "      <td>0.000000</td>\n",
              "    </tr>\n",
              "    <tr>\n",
              "      <td>3</td>\n",
              "      <td>1.858400</td>\n",
              "      <td>1.720939</td>\n",
              "      <td>1.000000</td>\n",
              "      <td>0.000000</td>\n",
              "      <td>0.000000</td>\n",
              "    </tr>\n",
              "    <tr>\n",
              "      <td>4</td>\n",
              "      <td>1.600700</td>\n",
              "      <td>1.501794</td>\n",
              "      <td>1.000000</td>\n",
              "      <td>0.000000</td>\n",
              "      <td>0.000000</td>\n",
              "    </tr>\n",
              "    <tr>\n",
              "      <td>5</td>\n",
              "      <td>1.409600</td>\n",
              "      <td>1.319821</td>\n",
              "      <td>0.227273</td>\n",
              "      <td>0.022026</td>\n",
              "      <td>0.040161</td>\n",
              "    </tr>\n",
              "    <tr>\n",
              "      <td>6</td>\n",
              "      <td>1.248800</td>\n",
              "      <td>1.189204</td>\n",
              "      <td>0.226190</td>\n",
              "      <td>0.083700</td>\n",
              "      <td>0.122186</td>\n",
              "    </tr>\n",
              "    <tr>\n",
              "      <td>7</td>\n",
              "      <td>1.147800</td>\n",
              "      <td>1.111193</td>\n",
              "      <td>0.272727</td>\n",
              "      <td>0.211454</td>\n",
              "      <td>0.238213</td>\n",
              "    </tr>\n",
              "    <tr>\n",
              "      <td>8</td>\n",
              "      <td>1.091600</td>\n",
              "      <td>1.084343</td>\n",
              "      <td>0.298077</td>\n",
              "      <td>0.273128</td>\n",
              "      <td>0.285057</td>\n",
              "    </tr>\n",
              "  </tbody>\n",
              "</table><p>"
            ]
          },
          "metadata": {}
        },
        {
          "output_type": "display_data",
          "data": {
            "text/plain": [
              "<IPython.core.display.HTML object>"
            ],
            "text/html": []
          },
          "metadata": {}
        },
        {
          "output_type": "stream",
          "name": "stdout",
          "text": [
            "{'eval_loss': 1.0181485414505005, 'eval_precision': 0.29842931937172773, 'eval_recall': 0.2753623188405797, 'eval_f1': 0.2864321608040201, 'eval_runtime': 0.1784, 'eval_samples_per_second': 168.189, 'eval_steps_per_second': 11.213, 'epoch': 8.0}\n"
          ]
        },
        {
          "output_type": "stream",
          "name": "stderr",
          "text": [
            "/usr/local/lib/python3.11/dist-packages/seqeval/metrics/v1.py:57: UndefinedMetricWarning: Precision and F-score are ill-defined and being set to 0.0 in labels with no predicted samples. Use `zero_division` parameter to control this behavior.\n",
            "  _warn_prf(average, modifier, msg_start, len(result))\n"
          ]
        },
        {
          "output_type": "stream",
          "name": "stdout",
          "text": [
            "                       precision    recall  f1-score   support\n",
            "\n",
            "          CompanyName       0.29      0.63      0.40        27\n",
            "  CurrentNeighborhood       0.00      0.00      0.00         1\n",
            "    DecisionMakerRole       0.00      0.00      0.00         6\n",
            "            FirstName       0.83      0.17      0.28        30\n",
            "             Industry       0.00      0.00      0.00        12\n",
            "             LastName       0.00      0.00      0.00         8\n",
            "            MustHaves       0.22      0.48      0.31        50\n",
            "          NiceToHaves       0.00      0.00      0.00        10\n",
            "            PainPoint       0.00      0.00      0.00         1\n",
            "   PreferredLeaseTerm       0.00      0.00      0.00         3\n",
            "PreferredNeighborhood       0.00      0.00      0.00        13\n",
            "         PropertyType       1.00      0.42      0.59        26\n",
            "         UrgencyScore       0.00      0.00      0.00        20\n",
            "\n",
            "            micro avg       0.30      0.28      0.29       207\n",
            "            macro avg       0.18      0.13      0.12       207\n",
            "         weighted avg       0.34      0.28      0.24       207\n",
            "\n",
            "   firstname lastname email phone   companyname industry companysize  \\\n",
            "0       None     None  None  None   urban lease     None        None   \n",
            "1    michael     None  None  None          None     None        None   \n",
            "2     daniel     None  None  None  midtown east     None        None   \n",
            "3       None     None  None  None          None     None        None   \n",
            "4       None     None  None  None          None     None        None   \n",
            "5       None     None  None  None          None     None        None   \n",
            "6    michael     None  None  None          None     None        None   \n",
            "7       None     None  None  None          None     None        None   \n",
            "8       None     None  None  None          None     None        None   \n",
            "9       None     None  None  None          None     None        None   \n",
            "10      None     None  None  None          None     None        None   \n",
            "11      None     None  None  None          None     None        None   \n",
            "12      None     None  None  None          None     None        None   \n",
            "13      None     None  None  None   urban vista     None        None   \n",
            "14      None     None  None  None          None     None        None   \n",
            "15     ethan     None  None  None          None     None        None   \n",
            "16      None     None  None  None          None     None        None   \n",
            "17      liam     None  None  None          None     None        None   \n",
            "18      None     None  None  None          None     None        None   \n",
            "19      None     None  None  None          None     None        None   \n",
            "20      eric     None  None  None          None     None        None   \n",
            "21      None     None  None  None          None     None        None   \n",
            "22      None     None  None  None          None     None        None   \n",
            "23      None     None  None  None          None     None        None   \n",
            "24      None     None  None  None          None     None        None   \n",
            "25      None     None  None  None          None     None        None   \n",
            "26      None     None  None  None          east     None        None   \n",
            "27      None     None  None  None          None     None        None   \n",
            "28      None     None  None  None          None     None        None   \n",
            "29      None     None  None  None          None     None        None   \n",
            "\n",
            "   growthstage currentneighborhood firstinteraction  ... movingterm  \\\n",
            "0         None                None             None  ...       None   \n",
            "1         None                None             None  ...       None   \n",
            "2         None                None             None  ...       None   \n",
            "3         None                None             None  ...       None   \n",
            "4         None                None             None  ...       None   \n",
            "5         None                None             None  ...       None   \n",
            "6         None                None             None  ...       None   \n",
            "7         None                None             None  ...       None   \n",
            "8         None                None             None  ...       None   \n",
            "9         None                None             None  ...       None   \n",
            "10        None                None             None  ...       None   \n",
            "11        None                None             None  ...       None   \n",
            "12        None                None             None  ...       None   \n",
            "13        None                None             None  ...       None   \n",
            "14        None                None             None  ...       None   \n",
            "15        None                None             None  ...       None   \n",
            "16        None                None             None  ...       None   \n",
            "17        None                None             None  ...       None   \n",
            "18        None                None             None  ...       None   \n",
            "19        None                None             None  ...       None   \n",
            "20        None                None             None  ...       None   \n",
            "21        None                None             None  ...       None   \n",
            "22        None                None             None  ...       None   \n",
            "23        None                None             None  ...       None   \n",
            "24        None                None             None  ...       None   \n",
            "25        None                None             None  ...       None   \n",
            "26        None                None             None  ...       None   \n",
            "27        None                None             None  ...       None   \n",
            "28        None                None             None  ...       None   \n",
            "29        None                None             None  ...       None   \n",
            "\n",
            "   min_months max_months movingtimeline                         musthaves  \\\n",
            "0        None       None           None                     natural light   \n",
            "1        None       None           None                              None   \n",
            "2        None       None           None                              None   \n",
            "3        None       None           None                              None   \n",
            "4        None       None           None                              high   \n",
            "5        None       None           None                   conference room   \n",
            "6        None       None           None                     natural light   \n",
            "7        None       None           None                     natural light   \n",
            "8        None       None           None                              None   \n",
            "9        None       None           None                     natural light   \n",
            "10       None       None           None                              None   \n",
            "11       None       None           None                              None   \n",
            "12       None       None           None                          hospital   \n",
            "13       None       None           None                              None   \n",
            "14       None       None           None                              None   \n",
            "15       None       None           None                              hvac   \n",
            "16       None       None           None                              None   \n",
            "17       None       None           None                  conference rooms   \n",
            "18       None       None           None                     natural light   \n",
            "19       None       None           None                           kitchen   \n",
            "20       None       None           None                              None   \n",
            "21       None       None           None                      foot traffic   \n",
            "22       None       None           None                         community   \n",
            "23       None       None           None                     natural light   \n",
            "24       None       None           None                              hvac   \n",
            "25       None       None           None                     natural light   \n",
            "26       None       None           None  natural light and ada compliance   \n",
            "27       None       None           None                              None   \n",
            "28       None       None           None                     high ceilings   \n",
            "29       None       None           None                     high ceilings   \n",
            "\n",
            "   nicetohaves painpoint urgencyscore outcome personality  \n",
            "0         None      None         None    None        None  \n",
            "1         None      None         None    None        None  \n",
            "2         None      None         None    None        None  \n",
            "3         None      None         None    None        None  \n",
            "4         None      None         None    None        None  \n",
            "5         None      None         None    None        None  \n",
            "6         None      None         None    None        None  \n",
            "7         None      None         None    None        None  \n",
            "8         None      None         None    None        None  \n",
            "9         None      None         None    None        None  \n",
            "10        None      None         None    None        None  \n",
            "11        None      None         None    None        None  \n",
            "12        None      None         None    None        None  \n",
            "13        None      None         None    None        None  \n",
            "14        None      None         None    None        None  \n",
            "15        None      None         None    None        None  \n",
            "16        None      None         None    None        None  \n",
            "17        None      None         None    None        None  \n",
            "18        None      None         None    None        None  \n",
            "19        None      None         None    None        None  \n",
            "20        None      None         None    None        None  \n",
            "21        None      None         None    None        None  \n",
            "22        None      None         None    None        None  \n",
            "23        None      None         None    None        None  \n",
            "24        None      None         None    None        None  \n",
            "25        None      None         None    None        None  \n",
            "26        None      None         None    None        None  \n",
            "27        None      None         None    None        None  \n",
            "28        None      None         None    None        None  \n",
            "29        None      None         None    None        None  \n",
            "\n",
            "[30 rows x 27 columns]\n",
            "Structured Field-Level Metrics: {'firstname_precision': 1.0, 'firstname_recall': 1.0, 'firstname_f1': 1.0, 'companyname_precision': 1.0, 'companyname_recall': 1.0, 'companyname_f1': 1.0, 'propertytype_precision': 1.0, 'propertytype_recall': 1.0, 'propertytype_f1': 1.0, 'preferredneighborhood_precision': 1.0, 'preferredneighborhood_recall': 1.0, 'preferredneighborhood_f1': 1.0, 'musthaves_precision': 1.0, 'musthaves_recall': 1.0, 'musthaves_f1': 1.0, 'macro_precision': np.float64(1.0), 'macro_recall': np.float64(1.0), 'macro_f1': np.float64(1.0)}\n",
            "Predictions saved to: /content/drive/MyDrive/distilbert_outputs/vital-sweep-22_predictions.json\n"
          ]
        },
        {
          "output_type": "display_data",
          "data": {
            "text/plain": [
              "<IPython.core.display.HTML object>"
            ],
            "text/html": []
          },
          "metadata": {}
        },
        {
          "output_type": "display_data",
          "data": {
            "text/plain": [
              "<IPython.core.display.HTML object>"
            ],
            "text/html": [
              "<br>    <style><br>        .wandb-row {<br>            display: flex;<br>            flex-direction: row;<br>            flex-wrap: wrap;<br>            justify-content: flex-start;<br>            width: 100%;<br>        }<br>        .wandb-col {<br>            display: flex;<br>            flex-direction: column;<br>            flex-basis: 100%;<br>            flex: 1;<br>            padding: 10px;<br>        }<br>    </style><br><div class=\"wandb-row\"><div class=\"wandb-col\"><h3>Run history:</h3><br/><table class=\"wandb\"><tr><td>eval/f1</td><td>▁▁▁▁▂▄▇███</td></tr><tr><td>eval/loss</td><td>█▄▃▂▂▁▁▁▁▁</td></tr><tr><td>eval/precision</td><td>▁███▃▃▃▃▃▃</td></tr><tr><td>eval/recall</td><td>▁▁▁▁▂▃▆███</td></tr><tr><td>eval/runtime</td><td>▄▁▂▁▃▁▃▄█▁</td></tr><tr><td>eval/samples_per_second</td><td>▅▇▇█▅▇▆▅▁█</td></tr><tr><td>eval/steps_per_second</td><td>▅▇▇█▅▇▆▅▁█</td></tr><tr><td>test/f1</td><td>▁</td></tr><tr><td>test/loss</td><td>▁</td></tr><tr><td>test/precision</td><td>▁</td></tr><tr><td>test/recall</td><td>▁</td></tr><tr><td>test/runtime</td><td>▁</td></tr><tr><td>test/samples_per_second</td><td>▁</td></tr><tr><td>test/steps_per_second</td><td>▁</td></tr><tr><td>test_companyname_f1</td><td>▁</td></tr><tr><td>test_companyname_precision</td><td>▁</td></tr><tr><td>test_companyname_recall</td><td>▁</td></tr><tr><td>test_firstname_f1</td><td>▁</td></tr><tr><td>test_firstname_precision</td><td>▁</td></tr><tr><td>test_firstname_recall</td><td>▁</td></tr><tr><td>test_macro_f1</td><td>▁</td></tr><tr><td>test_macro_precision</td><td>▁</td></tr><tr><td>test_macro_recall</td><td>▁</td></tr><tr><td>test_musthaves_f1</td><td>▁</td></tr><tr><td>test_musthaves_precision</td><td>▁</td></tr><tr><td>test_musthaves_recall</td><td>▁</td></tr><tr><td>test_preferredneighborhood_f1</td><td>▁</td></tr><tr><td>test_preferredneighborhood_precision</td><td>▁</td></tr><tr><td>test_preferredneighborhood_recall</td><td>▁</td></tr><tr><td>test_propertytype_f1</td><td>▁</td></tr><tr><td>test_propertytype_precision</td><td>▁</td></tr><tr><td>test_propertytype_recall</td><td>▁</td></tr><tr><td>train/epoch</td><td>▁▁▂▂▃▃▄▄▅▅▆▆▇▇█████</td></tr><tr><td>train/global_step</td><td>▁▁▂▂▃▃▄▄▅▅▆▆▇▇████████</td></tr><tr><td>train/grad_norm</td><td>█▅▂▂▁▁▁▁</td></tr><tr><td>train/learning_rate</td><td>██▇▆▄▃▂▁</td></tr><tr><td>train/loss</td><td>█▅▃▂▂▁▁▁</td></tr></table><br/></div><div class=\"wandb-col\"><h3>Run summary:</h3><br/><table class=\"wandb\"><tr><td>eval/f1</td><td>0.28643</td></tr><tr><td>eval/loss</td><td>1.01815</td></tr><tr><td>eval/precision</td><td>0.29843</td></tr><tr><td>eval/recall</td><td>0.27536</td></tr><tr><td>eval/runtime</td><td>0.1784</td></tr><tr><td>eval/samples_per_second</td><td>168.189</td></tr><tr><td>eval/steps_per_second</td><td>11.213</td></tr><tr><td>test/f1</td><td>0.28643</td></tr><tr><td>test/loss</td><td>1.01815</td></tr><tr><td>test/precision</td><td>0.29843</td></tr><tr><td>test/recall</td><td>0.27536</td></tr><tr><td>test/runtime</td><td>0.178</td></tr><tr><td>test/samples_per_second</td><td>168.567</td></tr><tr><td>test/steps_per_second</td><td>11.238</td></tr><tr><td>test_companyname_f1</td><td>1</td></tr><tr><td>test_companyname_precision</td><td>1</td></tr><tr><td>test_companyname_recall</td><td>1</td></tr><tr><td>test_firstname_f1</td><td>1</td></tr><tr><td>test_firstname_precision</td><td>1</td></tr><tr><td>test_firstname_recall</td><td>1</td></tr><tr><td>test_macro_f1</td><td>1</td></tr><tr><td>test_macro_precision</td><td>1</td></tr><tr><td>test_macro_recall</td><td>1</td></tr><tr><td>test_musthaves_f1</td><td>1</td></tr><tr><td>test_musthaves_precision</td><td>1</td></tr><tr><td>test_musthaves_recall</td><td>1</td></tr><tr><td>test_preferredneighborhood_f1</td><td>1</td></tr><tr><td>test_preferredneighborhood_precision</td><td>1</td></tr><tr><td>test_preferredneighborhood_recall</td><td>1</td></tr><tr><td>test_propertytype_f1</td><td>1</td></tr><tr><td>test_propertytype_precision</td><td>1</td></tr><tr><td>test_propertytype_recall</td><td>1</td></tr><tr><td>total_flos</td><td>146471702200320.0</td></tr><tr><td>train/epoch</td><td>8</td></tr><tr><td>train/global_step</td><td>72</td></tr><tr><td>train/grad_norm</td><td>1.58294</td></tr><tr><td>train/learning_rate</td><td>0.0</td></tr><tr><td>train/loss</td><td>1.0916</td></tr><tr><td>train_loss</td><td>1.89894</td></tr><tr><td>train_runtime</td><td>33.7856</td></tr><tr><td>train_samples_per_second</td><td>33.15</td></tr><tr><td>train_steps_per_second</td><td>2.131</td></tr></table><br/></div></div>"
            ]
          },
          "metadata": {}
        },
        {
          "output_type": "display_data",
          "data": {
            "text/plain": [
              "<IPython.core.display.HTML object>"
            ],
            "text/html": [
              " View run <strong style=\"color:#cdcd00\">vital-sweep-22</strong> at: <a href='https://wandb.ai/lidianeh-none/distilbert-final/runs/zgurtt5n' target=\"_blank\">https://wandb.ai/lidianeh-none/distilbert-final/runs/zgurtt5n</a><br> View project at: <a href='https://wandb.ai/lidianeh-none/distilbert-final' target=\"_blank\">https://wandb.ai/lidianeh-none/distilbert-final</a><br>Synced 5 W&B file(s), 1 media file(s), 2 artifact file(s) and 0 other file(s)"
            ]
          },
          "metadata": {}
        },
        {
          "output_type": "display_data",
          "data": {
            "text/plain": [
              "<IPython.core.display.HTML object>"
            ],
            "text/html": [
              "Find logs at: <code>./wandb/run-20250509_171521-zgurtt5n/logs</code>"
            ]
          },
          "metadata": {}
        },
        {
          "output_type": "stream",
          "name": "stderr",
          "text": [
            "\u001b[34m\u001b[1mwandb\u001b[0m: Agent Starting Run: ehmuiv8o with config:\n",
            "\u001b[34m\u001b[1mwandb\u001b[0m: \tadam_epsilon: 1e-08\n",
            "\u001b[34m\u001b[1mwandb\u001b[0m: \tlearning_rate: 2.255144336221304e-05\n",
            "\u001b[34m\u001b[1mwandb\u001b[0m: \tnum_train_epochs: 8\n",
            "\u001b[34m\u001b[1mwandb\u001b[0m: \tper_device_train_batch_size: 8\n",
            "\u001b[34m\u001b[1mwandb\u001b[0m: \tseed: 2024\n",
            "\u001b[34m\u001b[1mwandb\u001b[0m: \twarmup_ratio: 0.14692367295531478\n",
            "\u001b[34m\u001b[1mwandb\u001b[0m: \tweight_decay: 0.06326732597381508\n"
          ]
        },
        {
          "output_type": "display_data",
          "data": {
            "text/plain": [
              "<IPython.core.display.HTML object>"
            ],
            "text/html": [
              "Tracking run with wandb version 0.19.10"
            ]
          },
          "metadata": {}
        },
        {
          "output_type": "display_data",
          "data": {
            "text/plain": [
              "<IPython.core.display.HTML object>"
            ],
            "text/html": [
              "Run data is saved locally in <code>/content/wandb/run-20250509_171609-ehmuiv8o</code>"
            ]
          },
          "metadata": {}
        },
        {
          "output_type": "display_data",
          "data": {
            "text/plain": [
              "<IPython.core.display.HTML object>"
            ],
            "text/html": [
              "Syncing run <strong><a href='https://wandb.ai/lidianeh-none/distilbert-final/runs/ehmuiv8o' target=\"_blank\">atomic-sweep-23</a></strong> to <a href='https://wandb.ai/lidianeh-none/distilbert-final' target=\"_blank\">Weights & Biases</a> (<a href='https://wandb.me/developer-guide' target=\"_blank\">docs</a>)<br>Sweep page: <a href='https://wandb.ai/lidianeh-none/distilbert-final/sweeps/6yae4880' target=\"_blank\">https://wandb.ai/lidianeh-none/distilbert-final/sweeps/6yae4880</a>"
            ]
          },
          "metadata": {}
        },
        {
          "output_type": "display_data",
          "data": {
            "text/plain": [
              "<IPython.core.display.HTML object>"
            ],
            "text/html": [
              " View project at <a href='https://wandb.ai/lidianeh-none/distilbert-final' target=\"_blank\">https://wandb.ai/lidianeh-none/distilbert-final</a>"
            ]
          },
          "metadata": {}
        },
        {
          "output_type": "display_data",
          "data": {
            "text/plain": [
              "<IPython.core.display.HTML object>"
            ],
            "text/html": [
              " View sweep at <a href='https://wandb.ai/lidianeh-none/distilbert-final/sweeps/6yae4880' target=\"_blank\">https://wandb.ai/lidianeh-none/distilbert-final/sweeps/6yae4880</a>"
            ]
          },
          "metadata": {}
        },
        {
          "output_type": "display_data",
          "data": {
            "text/plain": [
              "<IPython.core.display.HTML object>"
            ],
            "text/html": [
              " View run at <a href='https://wandb.ai/lidianeh-none/distilbert-final/runs/ehmuiv8o' target=\"_blank\">https://wandb.ai/lidianeh-none/distilbert-final/runs/ehmuiv8o</a>"
            ]
          },
          "metadata": {}
        },
        {
          "output_type": "stream",
          "name": "stderr",
          "text": [
            "Some weights of WeightedDistilBertForTokenClassification were not initialized from the model checkpoint at distilbert-base-uncased and are newly initialized: ['classifier.bias', 'classifier.weight']\n",
            "You should probably TRAIN this model on a down-stream task to be able to use it for predictions and inference.\n",
            "<ipython-input-19-362b024c7306>:57: FutureWarning: `tokenizer` is deprecated and will be removed in version 5.0.0 for `Trainer.__init__`. Use `processing_class` instead.\n",
            "  trainer = Trainer(\n",
            "\u001b[34m\u001b[1mwandb\u001b[0m: \u001b[33mWARNING\u001b[0m Config item 'per_device_train_batch_size' was locked by 'sweep' (ignored update).\n",
            "\u001b[34m\u001b[1mwandb\u001b[0m: \u001b[33mWARNING\u001b[0m Config item 'learning_rate' was locked by 'sweep' (ignored update).\n",
            "\u001b[34m\u001b[1mwandb\u001b[0m: \u001b[33mWARNING\u001b[0m Config item 'weight_decay' was locked by 'sweep' (ignored update).\n",
            "\u001b[34m\u001b[1mwandb\u001b[0m: \u001b[33mWARNING\u001b[0m Config item 'adam_epsilon' was locked by 'sweep' (ignored update).\n",
            "\u001b[34m\u001b[1mwandb\u001b[0m: \u001b[33mWARNING\u001b[0m Config item 'num_train_epochs' was locked by 'sweep' (ignored update).\n",
            "\u001b[34m\u001b[1mwandb\u001b[0m: \u001b[33mWARNING\u001b[0m Config item 'warmup_ratio' was locked by 'sweep' (ignored update).\n",
            "\u001b[34m\u001b[1mwandb\u001b[0m: \u001b[33mWARNING\u001b[0m Config item 'seed' was locked by 'sweep' (ignored update).\n"
          ]
        },
        {
          "output_type": "display_data",
          "data": {
            "text/plain": [
              "<IPython.core.display.HTML object>"
            ],
            "text/html": [
              "\n",
              "    <div>\n",
              "      \n",
              "      <progress value='144' max='144' style='width:300px; height:20px; vertical-align: middle;'></progress>\n",
              "      [144/144 00:29, Epoch 8/8]\n",
              "    </div>\n",
              "    <table border=\"1\" class=\"dataframe\">\n",
              "  <thead>\n",
              " <tr style=\"text-align: left;\">\n",
              "      <th>Epoch</th>\n",
              "      <th>Training Loss</th>\n",
              "      <th>Validation Loss</th>\n",
              "      <th>Precision</th>\n",
              "      <th>Recall</th>\n",
              "      <th>F1</th>\n",
              "    </tr>\n",
              "  </thead>\n",
              "  <tbody>\n",
              "    <tr>\n",
              "      <td>1</td>\n",
              "      <td>3.474900</td>\n",
              "      <td>2.225406</td>\n",
              "      <td>1.000000</td>\n",
              "      <td>0.000000</td>\n",
              "      <td>0.000000</td>\n",
              "    </tr>\n",
              "    <tr>\n",
              "      <td>2</td>\n",
              "      <td>1.734700</td>\n",
              "      <td>1.413702</td>\n",
              "      <td>1.000000</td>\n",
              "      <td>0.000000</td>\n",
              "      <td>0.000000</td>\n",
              "    </tr>\n",
              "    <tr>\n",
              "      <td>3</td>\n",
              "      <td>1.193200</td>\n",
              "      <td>1.001495</td>\n",
              "      <td>0.237288</td>\n",
              "      <td>0.493392</td>\n",
              "      <td>0.320458</td>\n",
              "    </tr>\n",
              "    <tr>\n",
              "      <td>4</td>\n",
              "      <td>0.890900</td>\n",
              "      <td>0.771280</td>\n",
              "      <td>0.224561</td>\n",
              "      <td>0.563877</td>\n",
              "      <td>0.321205</td>\n",
              "    </tr>\n",
              "    <tr>\n",
              "      <td>5</td>\n",
              "      <td>0.703400</td>\n",
              "      <td>0.653493</td>\n",
              "      <td>0.220758</td>\n",
              "      <td>0.590308</td>\n",
              "      <td>0.321343</td>\n",
              "    </tr>\n",
              "    <tr>\n",
              "      <td>6</td>\n",
              "      <td>0.588800</td>\n",
              "      <td>0.601132</td>\n",
              "      <td>0.191816</td>\n",
              "      <td>0.660793</td>\n",
              "      <td>0.297324</td>\n",
              "    </tr>\n",
              "    <tr>\n",
              "      <td>7</td>\n",
              "      <td>0.542400</td>\n",
              "      <td>0.568642</td>\n",
              "      <td>0.244767</td>\n",
              "      <td>0.669604</td>\n",
              "      <td>0.358491</td>\n",
              "    </tr>\n",
              "    <tr>\n",
              "      <td>8</td>\n",
              "      <td>0.505600</td>\n",
              "      <td>0.565445</td>\n",
              "      <td>0.263158</td>\n",
              "      <td>0.660793</td>\n",
              "      <td>0.376412</td>\n",
              "    </tr>\n",
              "  </tbody>\n",
              "</table><p>"
            ]
          },
          "metadata": {}
        },
        {
          "output_type": "display_data",
          "data": {
            "text/plain": [
              "<IPython.core.display.HTML object>"
            ],
            "text/html": []
          },
          "metadata": {}
        },
        {
          "output_type": "stream",
          "name": "stdout",
          "text": [
            "{'eval_loss': 0.4824983477592468, 'eval_precision': 0.291015625, 'eval_recall': 0.7198067632850241, 'eval_f1': 0.41446453407510425, 'eval_runtime': 0.1938, 'eval_samples_per_second': 154.835, 'eval_steps_per_second': 20.645, 'epoch': 8.0}\n"
          ]
        },
        {
          "output_type": "stream",
          "name": "stderr",
          "text": [
            "/usr/local/lib/python3.11/dist-packages/seqeval/metrics/v1.py:57: UndefinedMetricWarning: Precision and F-score are ill-defined and being set to 0.0 in labels with no predicted samples. Use `zero_division` parameter to control this behavior.\n",
            "  _warn_prf(average, modifier, msg_start, len(result))\n",
            "/usr/local/lib/python3.11/dist-packages/seqeval/metrics/v1.py:57: UndefinedMetricWarning: Recall and F-score are ill-defined and being set to 0.0 in labels with no true samples. Use `zero_division` parameter to control this behavior.\n",
            "  _warn_prf(average, modifier, msg_start, len(result))\n"
          ]
        },
        {
          "output_type": "stream",
          "name": "stdout",
          "text": [
            "                       precision    recall  f1-score   support\n",
            "\n",
            "          CompanyName       0.37      0.67      0.47        27\n",
            "  CurrentNeighborhood       0.00      0.00      0.00         1\n",
            "    DecisionMakerRole       0.00      0.00      0.00         6\n",
            "            FirstName       0.43      0.97      0.59        30\n",
            "             Industry       0.50      0.42      0.45        12\n",
            "             LastName       0.35      0.88      0.50         8\n",
            "            MustHaves       0.22      0.84      0.35        50\n",
            "          NiceToHaves       0.00      0.00      0.00        10\n",
            "            PainPoint       0.00      0.00      0.00         1\n",
            "   PreferredLeaseTerm       0.20      0.33      0.25         3\n",
            "PreferredNeighborhood       0.71      0.92      0.80        13\n",
            "         PropertyType       0.57      0.92      0.71        26\n",
            "            SpaceSize       0.00      0.00      0.00         0\n",
            "         UrgencyScore       0.11      0.55      0.19        20\n",
            "\n",
            "            micro avg       0.29      0.72      0.41       207\n",
            "            macro avg       0.25      0.46      0.31       207\n",
            "         weighted avg       0.34      0.72      0.44       207\n",
            "\n",
            "   firstname lastname email phone           companyname    industry  \\\n",
            "0       luke     None  None  None           urban lease        None   \n",
            "1    michael   conrad  None  None            urban hype        None   \n",
            "2     daniel     None  None  None              medivibe        None   \n",
            "3       liam     None  None  None    future innovations        None   \n",
            "4      jamie    novak  None  None        heritage legal        None   \n",
            "5       liam   carter  None  None                altura        None   \n",
            "6    michael      kim  None  None          urban legacy    creative   \n",
            "7    rebecca     None  None  None          tenantsource        None   \n",
            "8     amelia    klein  None  None          urban retail        None   \n",
            "9       alex     None  None  None  greenview consulting   nonprofit   \n",
            "10      lena    mills  None  None            bridgeview        None   \n",
            "11      reed    miles  None  None             urbancore        None   \n",
            "12      liam     None  None  None          healthaccess        None   \n",
            "13    samuel      lee  None  None           urban vista        None   \n",
            "14    evelyn      lee  None  None  cityscape commercial        None   \n",
            "15     ethan   monroe  None  None              crescent        None   \n",
            "16   michael    cohen  None  None            urban wave   nonprofit   \n",
            "17      liam  collins  None  None          urban realms        None   \n",
            "18      liam    grant  None  None        city cultural,   nonprofit   \n",
            "19     ethan   morgan  None  None         bright future   nonprofit   \n",
            "20      eric    blake  None  None             urbanedge        None   \n",
            "21      alex   morris  None  None        crescent legal        None   \n",
            "22      None   foster  None  None          new horizons        None   \n",
            "23      liam     None  None  None              urbanarc        None   \n",
            "24    evelyn     None  None  None                summit        None   \n",
            "25      alex     None  None  None                  None  healthcare   \n",
            "26    jordan   parker  None  None                  None      clinic   \n",
            "27      nina    blake  None  None   prestige properties        None   \n",
            "28      mark     None  None  None    urban creative lab        None   \n",
            "29      jane  daniels  None  None    premier properties        None   \n",
            "\n",
            "   companysize growthstage currentneighborhood firstinteraction  ...  \\\n",
            "0         None        None                None             None  ...   \n",
            "1         None        None                None             None  ...   \n",
            "2         None        None                None             None  ...   \n",
            "3         None        None                None             None  ...   \n",
            "4         None        None                None             None  ...   \n",
            "5         None        None                None             None  ...   \n",
            "6         None        None                None             None  ...   \n",
            "7         None        None                None             None  ...   \n",
            "8         None        None                None             None  ...   \n",
            "9         None        None                None             None  ...   \n",
            "10        None        None                None             None  ...   \n",
            "11        None        None                None             None  ...   \n",
            "12        None        None                None             None  ...   \n",
            "13        None        None                None             None  ...   \n",
            "14        None        None                None             None  ...   \n",
            "15        None        None                None             None  ...   \n",
            "16        None        None                None             None  ...   \n",
            "17        None        None                None             None  ...   \n",
            "18        None        None                None             None  ...   \n",
            "19        None        None                None             None  ...   \n",
            "20        None        None                None             None  ...   \n",
            "21        None        None                None             None  ...   \n",
            "22        None        None                None             None  ...   \n",
            "23        None        None                None             None  ...   \n",
            "24        None        None                None             None  ...   \n",
            "25        None        None                None             None  ...   \n",
            "26        None        None                None             None  ...   \n",
            "27        None        None                None             None  ...   \n",
            "28        None        None                None             None  ...   \n",
            "29        None        None                None             None  ...   \n",
            "\n",
            "   movingterm min_months max_months movingtimeline             musthaves  \\\n",
            "0        None       None       None           None          neighborhood   \n",
            "1        None       None       None           None               parking   \n",
            "2        None       None       None           None        public transit   \n",
            "3        None       None       None           None                  hvac   \n",
            "4        None       None       None           None     quiet environment   \n",
            "5        None       None       None           None         natural light   \n",
            "6        None       None       None           None         high ceilings   \n",
            "7        None       None       None           None         natural light   \n",
            "8        None       None       None           None           easy access   \n",
            "9        None       None       None           None         natural light   \n",
            "10       None       None       None           None                   eco   \n",
            "11       None       None       None           None         natural light   \n",
            "12       None       None       None           None      hospital - grade   \n",
            "13       None       None       None           None                  None   \n",
            "14       None       None       None           None       street frontage   \n",
            "15       None       None       None           None                  good   \n",
            "16       None       None       None           None    building amenities   \n",
            "17       None       None       None           None    transportation hub   \n",
            "18       None       None       None           None         natural light   \n",
            "19       None       None       None           None         natural light   \n",
            "20       None       None       None           None         ada compliant   \n",
            "21       None       None       None           None          foot traffic   \n",
            "22       None       None       None           None  community engagement   \n",
            "23       None       None       None           None         natural light   \n",
            "24       None       None       None           None              reliable   \n",
            "25       None       None       None           None         tech upgrades   \n",
            "26       None       None       None           None         natural light   \n",
            "27       None       None       None           None           open layout   \n",
            "28       None       None       None           None         high ceilings   \n",
            "29       None       None       None           None               gallery   \n",
            "\n",
            "   nicetohaves painpoint urgencyscore outcome personality  \n",
            "0         None      None            4    None        None  \n",
            "1         None      None            3    None        None  \n",
            "2         None      None           01    None        None  \n",
            "3         None      None            4    None        None  \n",
            "4         None      None            5    None        None  \n",
            "5         None      None            3    None        None  \n",
            "6         None      None            4    None        None  \n",
            "7         None      None            7    None        None  \n",
            "8         None      None           28    None        None  \n",
            "9         None      None           98    None        None  \n",
            "10        None      None            4    None        None  \n",
            "11        None      None            4    None        None  \n",
            "12        None      None           74    None        None  \n",
            "13        None      None            4    None        None  \n",
            "14        None      None            2    None        None  \n",
            "15        None      None            8    None        None  \n",
            "16        None      None           42    None        None  \n",
            "17        None      None            8    None        None  \n",
            "18        None      None          200    None        None  \n",
            "19        None      None            5    None        None  \n",
            "20        None      None            4    None        None  \n",
            "21        None      None            4    None        None  \n",
            "22        None      None           01    None        None  \n",
            "23        None      None           65    None        None  \n",
            "24        None      None          500    None        None  \n",
            "25        None      None            8    None        None  \n",
            "26        None      None          500    None        None  \n",
            "27        None      None            4    None        None  \n",
            "28        None      None           45    None        None  \n",
            "29        None      None          200    None        None  \n",
            "\n",
            "[30 rows x 27 columns]\n",
            "Structured Field-Level Metrics: {'firstname_precision': 1.0, 'firstname_recall': 1.0, 'firstname_f1': 1.0, 'lastname_precision': 1.0, 'lastname_recall': 1.0, 'lastname_f1': 1.0, 'companyname_precision': 1.0, 'companyname_recall': 1.0, 'companyname_f1': 1.0, 'industry_precision': 1.0, 'industry_recall': 1.0, 'industry_f1': 1.0, 'propertytype_precision': 1.0, 'propertytype_recall': 1.0, 'propertytype_f1': 1.0, 'preferredneighborhood_precision': 1.0, 'preferredneighborhood_recall': 1.0, 'preferredneighborhood_f1': 1.0, 'preferredleaseterm_precision': 1.0, 'preferredleaseterm_recall': 1.0, 'preferredleaseterm_f1': 1.0, 'musthaves_precision': 1.0, 'musthaves_recall': 1.0, 'musthaves_f1': 1.0, 'urgencyscore_precision': 1.0, 'urgencyscore_recall': 1.0, 'urgencyscore_f1': 1.0, 'macro_precision': np.float64(1.0), 'macro_recall': np.float64(1.0), 'macro_f1': np.float64(1.0)}\n",
            "Predictions saved to: /content/drive/MyDrive/distilbert_outputs/atomic-sweep-23_predictions.json\n"
          ]
        },
        {
          "output_type": "display_data",
          "data": {
            "text/plain": [
              "<IPython.core.display.HTML object>"
            ],
            "text/html": []
          },
          "metadata": {}
        },
        {
          "output_type": "display_data",
          "data": {
            "text/plain": [
              "<IPython.core.display.HTML object>"
            ],
            "text/html": [
              "<br>    <style><br>        .wandb-row {<br>            display: flex;<br>            flex-direction: row;<br>            flex-wrap: wrap;<br>            justify-content: flex-start;<br>            width: 100%;<br>        }<br>        .wandb-col {<br>            display: flex;<br>            flex-direction: column;<br>            flex-basis: 100%;<br>            flex: 1;<br>            padding: 10px;<br>        }<br>    </style><br><div class=\"wandb-row\"><div class=\"wandb-col\"><h3>Run history:</h3><br/><table class=\"wandb\"><tr><td>eval/f1</td><td>▁▁▆▆▆▆▇▇▇█</td></tr><tr><td>eval/loss</td><td>█▅▃▂▂▁▁▁▁▁</td></tr><tr><td>eval/precision</td><td>██▁▁▁▁▁▂▂▂</td></tr><tr><td>eval/recall</td><td>▁▁▆▆▇▇█▇▇█</td></tr><tr><td>eval/runtime</td><td>▅█▇▂▂▄▃▁▆▄</td></tr><tr><td>eval/samples_per_second</td><td>▄▁▂▇▇▅▆█▃▅</td></tr><tr><td>eval/steps_per_second</td><td>▄▁▂▇▇▅▆█▃▅</td></tr><tr><td>test/f1</td><td>▁</td></tr><tr><td>test/loss</td><td>▁</td></tr><tr><td>test/precision</td><td>▁</td></tr><tr><td>test/recall</td><td>▁</td></tr><tr><td>test/runtime</td><td>▁</td></tr><tr><td>test/samples_per_second</td><td>▁</td></tr><tr><td>test/steps_per_second</td><td>▁</td></tr><tr><td>test_companyname_f1</td><td>▁</td></tr><tr><td>test_companyname_precision</td><td>▁</td></tr><tr><td>test_companyname_recall</td><td>▁</td></tr><tr><td>test_firstname_f1</td><td>▁</td></tr><tr><td>test_firstname_precision</td><td>▁</td></tr><tr><td>test_firstname_recall</td><td>▁</td></tr><tr><td>test_industry_f1</td><td>▁</td></tr><tr><td>test_industry_precision</td><td>▁</td></tr><tr><td>test_industry_recall</td><td>▁</td></tr><tr><td>test_lastname_f1</td><td>▁</td></tr><tr><td>test_lastname_precision</td><td>▁</td></tr><tr><td>test_lastname_recall</td><td>▁</td></tr><tr><td>test_macro_f1</td><td>▁</td></tr><tr><td>test_macro_precision</td><td>▁</td></tr><tr><td>test_macro_recall</td><td>▁</td></tr><tr><td>test_musthaves_f1</td><td>▁</td></tr><tr><td>test_musthaves_precision</td><td>▁</td></tr><tr><td>test_musthaves_recall</td><td>▁</td></tr><tr><td>test_preferredleaseterm_f1</td><td>▁</td></tr><tr><td>test_preferredleaseterm_precision</td><td>▁</td></tr><tr><td>test_preferredleaseterm_recall</td><td>▁</td></tr><tr><td>test_preferredneighborhood_f1</td><td>▁</td></tr><tr><td>test_preferredneighborhood_precision</td><td>▁</td></tr><tr><td>test_preferredneighborhood_recall</td><td>▁</td></tr><tr><td>test_propertytype_f1</td><td>▁</td></tr><tr><td>test_propertytype_precision</td><td>▁</td></tr><tr><td>test_propertytype_recall</td><td>▁</td></tr><tr><td>test_urgencyscore_f1</td><td>▁</td></tr><tr><td>test_urgencyscore_precision</td><td>▁</td></tr><tr><td>test_urgencyscore_recall</td><td>▁</td></tr><tr><td>train/epoch</td><td>▁▁▂▂▃▃▄▄▅▅▆▆▇▇█████</td></tr><tr><td>train/global_step</td><td>▁▁▂▂▃▃▄▄▅▅▆▆▇▇████████</td></tr><tr><td>train/grad_norm</td><td>█▁▁▂▁▂▃▁</td></tr><tr><td>train/learning_rate</td><td>▇█▇▆▅▃▂▁</td></tr><tr><td>train/loss</td><td>█▄▃▂▁▁▁▁</td></tr></table><br/></div><div class=\"wandb-col\"><h3>Run summary:</h3><br/><table class=\"wandb\"><tr><td>eval/f1</td><td>0.41446</td></tr><tr><td>eval/loss</td><td>0.4825</td></tr><tr><td>eval/precision</td><td>0.29102</td></tr><tr><td>eval/recall</td><td>0.71981</td></tr><tr><td>eval/runtime</td><td>0.1938</td></tr><tr><td>eval/samples_per_second</td><td>154.835</td></tr><tr><td>eval/steps_per_second</td><td>20.645</td></tr><tr><td>test/f1</td><td>0.41446</td></tr><tr><td>test/loss</td><td>0.4825</td></tr><tr><td>test/precision</td><td>0.29102</td></tr><tr><td>test/recall</td><td>0.71981</td></tr><tr><td>test/runtime</td><td>0.1921</td></tr><tr><td>test/samples_per_second</td><td>156.207</td></tr><tr><td>test/steps_per_second</td><td>20.828</td></tr><tr><td>test_companyname_f1</td><td>1</td></tr><tr><td>test_companyname_precision</td><td>1</td></tr><tr><td>test_companyname_recall</td><td>1</td></tr><tr><td>test_firstname_f1</td><td>1</td></tr><tr><td>test_firstname_precision</td><td>1</td></tr><tr><td>test_firstname_recall</td><td>1</td></tr><tr><td>test_industry_f1</td><td>1</td></tr><tr><td>test_industry_precision</td><td>1</td></tr><tr><td>test_industry_recall</td><td>1</td></tr><tr><td>test_lastname_f1</td><td>1</td></tr><tr><td>test_lastname_precision</td><td>1</td></tr><tr><td>test_lastname_recall</td><td>1</td></tr><tr><td>test_macro_f1</td><td>1</td></tr><tr><td>test_macro_precision</td><td>1</td></tr><tr><td>test_macro_recall</td><td>1</td></tr><tr><td>test_musthaves_f1</td><td>1</td></tr><tr><td>test_musthaves_precision</td><td>1</td></tr><tr><td>test_musthaves_recall</td><td>1</td></tr><tr><td>test_preferredleaseterm_f1</td><td>1</td></tr><tr><td>test_preferredleaseterm_precision</td><td>1</td></tr><tr><td>test_preferredleaseterm_recall</td><td>1</td></tr><tr><td>test_preferredneighborhood_f1</td><td>1</td></tr><tr><td>test_preferredneighborhood_precision</td><td>1</td></tr><tr><td>test_preferredneighborhood_recall</td><td>1</td></tr><tr><td>test_propertytype_f1</td><td>1</td></tr><tr><td>test_propertytype_precision</td><td>1</td></tr><tr><td>test_propertytype_recall</td><td>1</td></tr><tr><td>test_urgencyscore_f1</td><td>1</td></tr><tr><td>test_urgencyscore_precision</td><td>1</td></tr><tr><td>test_urgencyscore_recall</td><td>1</td></tr><tr><td>total_flos</td><td>146471702200320.0</td></tr><tr><td>train/epoch</td><td>8</td></tr><tr><td>train/global_step</td><td>144</td></tr><tr><td>train/grad_norm</td><td>1.90063</td></tr><tr><td>train/learning_rate</td><td>0.0</td></tr><tr><td>train/loss</td><td>0.5056</td></tr><tr><td>train_loss</td><td>1.20425</td></tr><tr><td>train_runtime</td><td>29.7055</td></tr><tr><td>train_samples_per_second</td><td>37.703</td></tr><tr><td>train_steps_per_second</td><td>4.848</td></tr></table><br/></div></div>"
            ]
          },
          "metadata": {}
        },
        {
          "output_type": "display_data",
          "data": {
            "text/plain": [
              "<IPython.core.display.HTML object>"
            ],
            "text/html": [
              " View run <strong style=\"color:#cdcd00\">atomic-sweep-23</strong> at: <a href='https://wandb.ai/lidianeh-none/distilbert-final/runs/ehmuiv8o' target=\"_blank\">https://wandb.ai/lidianeh-none/distilbert-final/runs/ehmuiv8o</a><br> View project at: <a href='https://wandb.ai/lidianeh-none/distilbert-final' target=\"_blank\">https://wandb.ai/lidianeh-none/distilbert-final</a><br>Synced 5 W&B file(s), 1 media file(s), 2 artifact file(s) and 0 other file(s)"
            ]
          },
          "metadata": {}
        },
        {
          "output_type": "display_data",
          "data": {
            "text/plain": [
              "<IPython.core.display.HTML object>"
            ],
            "text/html": [
              "Find logs at: <code>./wandb/run-20250509_171609-ehmuiv8o/logs</code>"
            ]
          },
          "metadata": {}
        },
        {
          "output_type": "stream",
          "name": "stderr",
          "text": [
            "\u001b[34m\u001b[1mwandb\u001b[0m: Agent Starting Run: urnba9n5 with config:\n",
            "\u001b[34m\u001b[1mwandb\u001b[0m: \tadam_epsilon: 1e-08\n",
            "\u001b[34m\u001b[1mwandb\u001b[0m: \tlearning_rate: 2.038221046426919e-05\n",
            "\u001b[34m\u001b[1mwandb\u001b[0m: \tnum_train_epochs: 8\n",
            "\u001b[34m\u001b[1mwandb\u001b[0m: \tper_device_train_batch_size: 16\n",
            "\u001b[34m\u001b[1mwandb\u001b[0m: \tseed: 2024\n",
            "\u001b[34m\u001b[1mwandb\u001b[0m: \twarmup_ratio: 0.10165667838056204\n",
            "\u001b[34m\u001b[1mwandb\u001b[0m: \tweight_decay: 0.1098727733489712\n"
          ]
        },
        {
          "output_type": "display_data",
          "data": {
            "text/plain": [
              "<IPython.core.display.HTML object>"
            ],
            "text/html": [
              "Tracking run with wandb version 0.19.10"
            ]
          },
          "metadata": {}
        },
        {
          "output_type": "display_data",
          "data": {
            "text/plain": [
              "<IPython.core.display.HTML object>"
            ],
            "text/html": [
              "Run data is saved locally in <code>/content/wandb/run-20250509_171652-urnba9n5</code>"
            ]
          },
          "metadata": {}
        },
        {
          "output_type": "display_data",
          "data": {
            "text/plain": [
              "<IPython.core.display.HTML object>"
            ],
            "text/html": [
              "Syncing run <strong><a href='https://wandb.ai/lidianeh-none/distilbert-final/runs/urnba9n5' target=\"_blank\">royal-sweep-24</a></strong> to <a href='https://wandb.ai/lidianeh-none/distilbert-final' target=\"_blank\">Weights & Biases</a> (<a href='https://wandb.me/developer-guide' target=\"_blank\">docs</a>)<br>Sweep page: <a href='https://wandb.ai/lidianeh-none/distilbert-final/sweeps/6yae4880' target=\"_blank\">https://wandb.ai/lidianeh-none/distilbert-final/sweeps/6yae4880</a>"
            ]
          },
          "metadata": {}
        },
        {
          "output_type": "display_data",
          "data": {
            "text/plain": [
              "<IPython.core.display.HTML object>"
            ],
            "text/html": [
              " View project at <a href='https://wandb.ai/lidianeh-none/distilbert-final' target=\"_blank\">https://wandb.ai/lidianeh-none/distilbert-final</a>"
            ]
          },
          "metadata": {}
        },
        {
          "output_type": "display_data",
          "data": {
            "text/plain": [
              "<IPython.core.display.HTML object>"
            ],
            "text/html": [
              " View sweep at <a href='https://wandb.ai/lidianeh-none/distilbert-final/sweeps/6yae4880' target=\"_blank\">https://wandb.ai/lidianeh-none/distilbert-final/sweeps/6yae4880</a>"
            ]
          },
          "metadata": {}
        },
        {
          "output_type": "display_data",
          "data": {
            "text/plain": [
              "<IPython.core.display.HTML object>"
            ],
            "text/html": [
              " View run at <a href='https://wandb.ai/lidianeh-none/distilbert-final/runs/urnba9n5' target=\"_blank\">https://wandb.ai/lidianeh-none/distilbert-final/runs/urnba9n5</a>"
            ]
          },
          "metadata": {}
        },
        {
          "output_type": "stream",
          "name": "stderr",
          "text": [
            "Some weights of WeightedDistilBertForTokenClassification were not initialized from the model checkpoint at distilbert-base-uncased and are newly initialized: ['classifier.bias', 'classifier.weight']\n",
            "You should probably TRAIN this model on a down-stream task to be able to use it for predictions and inference.\n",
            "<ipython-input-19-362b024c7306>:57: FutureWarning: `tokenizer` is deprecated and will be removed in version 5.0.0 for `Trainer.__init__`. Use `processing_class` instead.\n",
            "  trainer = Trainer(\n",
            "\u001b[34m\u001b[1mwandb\u001b[0m: \u001b[33mWARNING\u001b[0m Config item 'per_device_train_batch_size' was locked by 'sweep' (ignored update).\n",
            "\u001b[34m\u001b[1mwandb\u001b[0m: \u001b[33mWARNING\u001b[0m Config item 'learning_rate' was locked by 'sweep' (ignored update).\n",
            "\u001b[34m\u001b[1mwandb\u001b[0m: \u001b[33mWARNING\u001b[0m Config item 'weight_decay' was locked by 'sweep' (ignored update).\n",
            "\u001b[34m\u001b[1mwandb\u001b[0m: \u001b[33mWARNING\u001b[0m Config item 'adam_epsilon' was locked by 'sweep' (ignored update).\n",
            "\u001b[34m\u001b[1mwandb\u001b[0m: \u001b[33mWARNING\u001b[0m Config item 'num_train_epochs' was locked by 'sweep' (ignored update).\n",
            "\u001b[34m\u001b[1mwandb\u001b[0m: \u001b[33mWARNING\u001b[0m Config item 'warmup_ratio' was locked by 'sweep' (ignored update).\n",
            "\u001b[34m\u001b[1mwandb\u001b[0m: \u001b[33mWARNING\u001b[0m Config item 'seed' was locked by 'sweep' (ignored update).\n"
          ]
        },
        {
          "output_type": "display_data",
          "data": {
            "text/plain": [
              "<IPython.core.display.HTML object>"
            ],
            "text/html": [
              "\n",
              "    <div>\n",
              "      \n",
              "      <progress value='72' max='72' style='width:300px; height:20px; vertical-align: middle;'></progress>\n",
              "      [72/72 00:31, Epoch 8/8]\n",
              "    </div>\n",
              "    <table border=\"1\" class=\"dataframe\">\n",
              "  <thead>\n",
              " <tr style=\"text-align: left;\">\n",
              "      <th>Epoch</th>\n",
              "      <th>Training Loss</th>\n",
              "      <th>Validation Loss</th>\n",
              "      <th>Precision</th>\n",
              "      <th>Recall</th>\n",
              "      <th>F1</th>\n",
              "    </tr>\n",
              "  </thead>\n",
              "  <tbody>\n",
              "    <tr>\n",
              "      <td>1</td>\n",
              "      <td>3.744300</td>\n",
              "      <td>3.018028</td>\n",
              "      <td>1.000000</td>\n",
              "      <td>0.000000</td>\n",
              "      <td>0.000000</td>\n",
              "    </tr>\n",
              "    <tr>\n",
              "      <td>2</td>\n",
              "      <td>2.263600</td>\n",
              "      <td>1.852144</td>\n",
              "      <td>1.000000</td>\n",
              "      <td>0.000000</td>\n",
              "      <td>0.000000</td>\n",
              "    </tr>\n",
              "    <tr>\n",
              "      <td>3</td>\n",
              "      <td>1.691500</td>\n",
              "      <td>1.551706</td>\n",
              "      <td>1.000000</td>\n",
              "      <td>0.000000</td>\n",
              "      <td>0.000000</td>\n",
              "    </tr>\n",
              "    <tr>\n",
              "      <td>4</td>\n",
              "      <td>1.448600</td>\n",
              "      <td>1.346835</td>\n",
              "      <td>1.000000</td>\n",
              "      <td>0.000000</td>\n",
              "      <td>0.000000</td>\n",
              "    </tr>\n",
              "    <tr>\n",
              "      <td>5</td>\n",
              "      <td>1.268000</td>\n",
              "      <td>1.191570</td>\n",
              "      <td>0.194444</td>\n",
              "      <td>0.123348</td>\n",
              "      <td>0.150943</td>\n",
              "    </tr>\n",
              "    <tr>\n",
              "      <td>6</td>\n",
              "      <td>1.135100</td>\n",
              "      <td>1.089383</td>\n",
              "      <td>0.233463</td>\n",
              "      <td>0.264317</td>\n",
              "      <td>0.247934</td>\n",
              "    </tr>\n",
              "    <tr>\n",
              "      <td>7</td>\n",
              "      <td>1.056600</td>\n",
              "      <td>1.035074</td>\n",
              "      <td>0.255102</td>\n",
              "      <td>0.440529</td>\n",
              "      <td>0.323102</td>\n",
              "    </tr>\n",
              "    <tr>\n",
              "      <td>8</td>\n",
              "      <td>1.017100</td>\n",
              "      <td>1.013880</td>\n",
              "      <td>0.267677</td>\n",
              "      <td>0.466960</td>\n",
              "      <td>0.340289</td>\n",
              "    </tr>\n",
              "  </tbody>\n",
              "</table><p>"
            ]
          },
          "metadata": {}
        },
        {
          "output_type": "display_data",
          "data": {
            "text/plain": [
              "<IPython.core.display.HTML object>"
            ],
            "text/html": []
          },
          "metadata": {}
        },
        {
          "output_type": "stream",
          "name": "stdout",
          "text": [
            "{'eval_loss': 0.9401419162750244, 'eval_precision': 0.30346820809248554, 'eval_recall': 0.5072463768115942, 'eval_f1': 0.37974683544303794, 'eval_runtime': 0.1819, 'eval_samples_per_second': 164.889, 'eval_steps_per_second': 10.993, 'epoch': 8.0}\n"
          ]
        },
        {
          "output_type": "stream",
          "name": "stderr",
          "text": [
            "/usr/local/lib/python3.11/dist-packages/seqeval/metrics/v1.py:57: UndefinedMetricWarning: Precision and F-score are ill-defined and being set to 0.0 in labels with no predicted samples. Use `zero_division` parameter to control this behavior.\n",
            "  _warn_prf(average, modifier, msg_start, len(result))\n"
          ]
        },
        {
          "output_type": "stream",
          "name": "stdout",
          "text": [
            "                       precision    recall  f1-score   support\n",
            "\n",
            "          CompanyName       0.38      0.70      0.49        27\n",
            "  CurrentNeighborhood       0.00      0.00      0.00         1\n",
            "    DecisionMakerRole       0.00      0.00      0.00         6\n",
            "            FirstName       0.34      0.93      0.50        30\n",
            "             Industry       0.00      0.00      0.00        12\n",
            "             LastName       0.00      0.00      0.00         8\n",
            "            MustHaves       0.19      0.72      0.30        50\n",
            "          NiceToHaves       0.00      0.00      0.00        10\n",
            "            PainPoint       0.00      0.00      0.00         1\n",
            "   PreferredLeaseTerm       0.00      0.00      0.00         3\n",
            "PreferredNeighborhood       0.57      0.31      0.40        13\n",
            "         PropertyType       0.95      0.69      0.80        26\n",
            "         UrgencyScore       0.00      0.00      0.00        20\n",
            "\n",
            "            micro avg       0.30      0.51      0.38       207\n",
            "            macro avg       0.19      0.26      0.19       207\n",
            "         weighted avg       0.30      0.51      0.34       207\n",
            "\n",
            "   firstname lastname email phone        companyname industry companysize  \\\n",
            "0       luke     None  None  None               None     None        None   \n",
            "1    michael     None  None  None               None     None        None   \n",
            "2     daniel     None  None  None               None     None        None   \n",
            "3       liam     None  None  None               None     None        None   \n",
            "4      jamie     None  None  None               None     None        None   \n",
            "5       liam     None  None  None               None     None        None   \n",
            "6    michael     None  None  None               None     None        None   \n",
            "7    rebecca     None  None  None               None     None        None   \n",
            "8     amelia     None  None  None               None     None        None   \n",
            "9       alex     None  None  None               None     None        None   \n",
            "10      lena     None  None  None  bridgeview realty     None        None   \n",
            "11      reed     None  None  None   urbancore realty     None        None   \n",
            "12      liam     None  None  None               None     None        None   \n",
            "13    samuel     None  None  None               None     None        None   \n",
            "14    evelyn     None  None  None               None     None        None   \n",
            "15     ethan     None  None  None               None     None        None   \n",
            "16   michael     None  None  None               None     None        None   \n",
            "17      liam     None  None  None               None     None        None   \n",
            "18      liam     None  None  None               None     None        None   \n",
            "19     ethan     None  None  None               None     None        None   \n",
            "20      eric     None  None  None               None     None        None   \n",
            "21      alex     None  None  None               None     None        None   \n",
            "22    foster     None  None  None               None     None        None   \n",
            "23      liam     None  None  None               None     None        None   \n",
            "24    evelyn     None  None  None               None     None        None   \n",
            "25      alex     None  None  None               None     None        None   \n",
            "26    jordan     None  None  None               None     None        None   \n",
            "27      nina     None  None  None               None     None        None   \n",
            "28      mark     None  None  None               None     None        None   \n",
            "29      jane     None  None  None               None     None        None   \n",
            "\n",
            "   growthstage currentneighborhood firstinteraction  ... movingterm  \\\n",
            "0         None                None             None  ...       None   \n",
            "1         None                None             None  ...       None   \n",
            "2         None                None             None  ...       None   \n",
            "3         None                None             None  ...       None   \n",
            "4         None                None             None  ...       None   \n",
            "5         None                None             None  ...       None   \n",
            "6         None                None             None  ...       None   \n",
            "7         None                None             None  ...       None   \n",
            "8         None                None             None  ...       None   \n",
            "9         None                None             None  ...       None   \n",
            "10        None                None             None  ...       None   \n",
            "11        None                None             None  ...       None   \n",
            "12        None                None             None  ...       None   \n",
            "13        None                None             None  ...       None   \n",
            "14        None                None             None  ...       None   \n",
            "15        None                None             None  ...       None   \n",
            "16        None                None             None  ...       None   \n",
            "17        None                None             None  ...       None   \n",
            "18        None                None             None  ...       None   \n",
            "19        None                None             None  ...       None   \n",
            "20        None                None             None  ...       None   \n",
            "21        None                None             None  ...       None   \n",
            "22        None                None             None  ...       None   \n",
            "23        None                None             None  ...       None   \n",
            "24        None                None             None  ...       None   \n",
            "25        None                None             None  ...       None   \n",
            "26        None                None             None  ...       None   \n",
            "27        None                None             None  ...       None   \n",
            "28        None                None             None  ...       None   \n",
            "29        None                None             None  ...       None   \n",
            "\n",
            "   min_months max_months movingtimeline                   musthaves  \\\n",
            "0        None       None           None                        high   \n",
            "1        None       None           None                        None   \n",
            "2        None       None           None                urban spaces   \n",
            "3        None       None           None                        hvac   \n",
            "4        None       None           None                  soundproof   \n",
            "5        None       None           None               natural light   \n",
            "6        None       None           None               high ceilings   \n",
            "7        None       None           None               natural light   \n",
            "8        None       None           None                 easy access   \n",
            "9        None       None           None               natural light   \n",
            "10       None       None           None                         eco   \n",
            "11       None       None           None               natural light   \n",
            "12       None       None           None                       urban   \n",
            "13       None       None           None                        None   \n",
            "14       None       None           None                      street   \n",
            "15       None       None           None                        hvac   \n",
            "16       None       None           None                        None   \n",
            "17       None       None           None          transportation hub   \n",
            "18       None       None           None               natural light   \n",
            "19       None       None           None               natural light   \n",
            "20       None       None           None                        None   \n",
            "21       None       None           None                foot traffic   \n",
            "22       None       None           None  flexible work environments   \n",
            "23       None       None           None               natural light   \n",
            "24       None       None           None                        hvac   \n",
            "25       None       None           None               natural light   \n",
            "26       None       None           None               natural light   \n",
            "27       None       None           None        patient consultation   \n",
            "28       None       None           None                        open   \n",
            "29       None       None           None                    workshop   \n",
            "\n",
            "   nicetohaves painpoint urgencyscore outcome personality  \n",
            "0         None      None         None    None        None  \n",
            "1         None      None         None    None        None  \n",
            "2         None      None         None    None        None  \n",
            "3         None      None         None    None        None  \n",
            "4         None      None         None    None        None  \n",
            "5         None      None         None    None        None  \n",
            "6         None      None         None    None        None  \n",
            "7         None      None         None    None        None  \n",
            "8         None      None         None    None        None  \n",
            "9         None      None         None    None        None  \n",
            "10        None      None         None    None        None  \n",
            "11        None      None         None    None        None  \n",
            "12        None      None         None    None        None  \n",
            "13        None      None         None    None        None  \n",
            "14        None      None         None    None        None  \n",
            "15        None      None         None    None        None  \n",
            "16        None      None         None    None        None  \n",
            "17        None      None         None    None        None  \n",
            "18        None      None         None    None        None  \n",
            "19        None      None         None    None        None  \n",
            "20        None      None         None    None        None  \n",
            "21        None      None         None    None        None  \n",
            "22        None      None         None    None        None  \n",
            "23        None      None         None    None        None  \n",
            "24        None      None         None    None        None  \n",
            "25        None      None         None    None        None  \n",
            "26        None      None         None    None        None  \n",
            "27        None      None         None    None        None  \n",
            "28        None      None         None    None        None  \n",
            "29        None      None         None    None        None  \n",
            "\n",
            "[30 rows x 27 columns]\n",
            "Structured Field-Level Metrics: {'firstname_precision': 1.0, 'firstname_recall': 1.0, 'firstname_f1': 1.0, 'companyname_precision': 1.0, 'companyname_recall': 1.0, 'companyname_f1': 1.0, 'propertytype_precision': 1.0, 'propertytype_recall': 1.0, 'propertytype_f1': 1.0, 'preferredneighborhood_precision': 1.0, 'preferredneighborhood_recall': 1.0, 'preferredneighborhood_f1': 1.0, 'musthaves_precision': 1.0, 'musthaves_recall': 1.0, 'musthaves_f1': 1.0, 'macro_precision': np.float64(1.0), 'macro_recall': np.float64(1.0), 'macro_f1': np.float64(1.0)}\n",
            "Predictions saved to: /content/drive/MyDrive/distilbert_outputs/royal-sweep-24_predictions.json\n"
          ]
        },
        {
          "output_type": "display_data",
          "data": {
            "text/plain": [
              "<IPython.core.display.HTML object>"
            ],
            "text/html": []
          },
          "metadata": {}
        },
        {
          "output_type": "display_data",
          "data": {
            "text/plain": [
              "<IPython.core.display.HTML object>"
            ],
            "text/html": [
              "<br>    <style><br>        .wandb-row {<br>            display: flex;<br>            flex-direction: row;<br>            flex-wrap: wrap;<br>            justify-content: flex-start;<br>            width: 100%;<br>        }<br>        .wandb-col {<br>            display: flex;<br>            flex-direction: column;<br>            flex-basis: 100%;<br>            flex: 1;<br>            padding: 10px;<br>        }<br>    </style><br><div class=\"wandb-row\"><div class=\"wandb-col\"><h3>Run history:</h3><br/><table class=\"wandb\"><tr><td>eval/f1</td><td>▁▁▁▁▄▆▇▇▇█</td></tr><tr><td>eval/loss</td><td>█▄▃▂▂▂▁▁▁▁</td></tr><tr><td>eval/precision</td><td>████▁▁▂▂▂▂</td></tr><tr><td>eval/recall</td><td>▁▁▁▁▃▅▇▇▇█</td></tr><tr><td>eval/runtime</td><td>▃▁▁█▂▅▄▃▄▃</td></tr><tr><td>eval/samples_per_second</td><td>▆██▁▇▄▅▆▅▆</td></tr><tr><td>eval/steps_per_second</td><td>▆██▁▇▄▅▆▅▆</td></tr><tr><td>test/f1</td><td>▁</td></tr><tr><td>test/loss</td><td>▁</td></tr><tr><td>test/precision</td><td>▁</td></tr><tr><td>test/recall</td><td>▁</td></tr><tr><td>test/runtime</td><td>▁</td></tr><tr><td>test/samples_per_second</td><td>▁</td></tr><tr><td>test/steps_per_second</td><td>▁</td></tr><tr><td>test_companyname_f1</td><td>▁</td></tr><tr><td>test_companyname_precision</td><td>▁</td></tr><tr><td>test_companyname_recall</td><td>▁</td></tr><tr><td>test_firstname_f1</td><td>▁</td></tr><tr><td>test_firstname_precision</td><td>▁</td></tr><tr><td>test_firstname_recall</td><td>▁</td></tr><tr><td>test_macro_f1</td><td>▁</td></tr><tr><td>test_macro_precision</td><td>▁</td></tr><tr><td>test_macro_recall</td><td>▁</td></tr><tr><td>test_musthaves_f1</td><td>▁</td></tr><tr><td>test_musthaves_precision</td><td>▁</td></tr><tr><td>test_musthaves_recall</td><td>▁</td></tr><tr><td>test_preferredneighborhood_f1</td><td>▁</td></tr><tr><td>test_preferredneighborhood_precision</td><td>▁</td></tr><tr><td>test_preferredneighborhood_recall</td><td>▁</td></tr><tr><td>test_propertytype_f1</td><td>▁</td></tr><tr><td>test_propertytype_precision</td><td>▁</td></tr><tr><td>test_propertytype_recall</td><td>▁</td></tr><tr><td>train/epoch</td><td>▁▁▂▂▃▃▄▄▅▅▆▆▇▇█████</td></tr><tr><td>train/global_step</td><td>▁▁▂▂▃▃▄▄▅▅▆▆▇▇████████</td></tr><tr><td>train/grad_norm</td><td>█▃▁▁▁▁▁▁</td></tr><tr><td>train/learning_rate</td><td>█▇▆▅▄▃▂▁</td></tr><tr><td>train/loss</td><td>█▄▃▂▂▁▁▁</td></tr></table><br/></div><div class=\"wandb-col\"><h3>Run summary:</h3><br/><table class=\"wandb\"><tr><td>eval/f1</td><td>0.37975</td></tr><tr><td>eval/loss</td><td>0.94014</td></tr><tr><td>eval/precision</td><td>0.30347</td></tr><tr><td>eval/recall</td><td>0.50725</td></tr><tr><td>eval/runtime</td><td>0.1819</td></tr><tr><td>eval/samples_per_second</td><td>164.889</td></tr><tr><td>eval/steps_per_second</td><td>10.993</td></tr><tr><td>test/f1</td><td>0.37975</td></tr><tr><td>test/loss</td><td>0.94014</td></tr><tr><td>test/precision</td><td>0.30347</td></tr><tr><td>test/recall</td><td>0.50725</td></tr><tr><td>test/runtime</td><td>0.1847</td></tr><tr><td>test/samples_per_second</td><td>162.385</td></tr><tr><td>test/steps_per_second</td><td>10.826</td></tr><tr><td>test_companyname_f1</td><td>1</td></tr><tr><td>test_companyname_precision</td><td>1</td></tr><tr><td>test_companyname_recall</td><td>1</td></tr><tr><td>test_firstname_f1</td><td>1</td></tr><tr><td>test_firstname_precision</td><td>1</td></tr><tr><td>test_firstname_recall</td><td>1</td></tr><tr><td>test_macro_f1</td><td>1</td></tr><tr><td>test_macro_precision</td><td>1</td></tr><tr><td>test_macro_recall</td><td>1</td></tr><tr><td>test_musthaves_f1</td><td>1</td></tr><tr><td>test_musthaves_precision</td><td>1</td></tr><tr><td>test_musthaves_recall</td><td>1</td></tr><tr><td>test_preferredneighborhood_f1</td><td>1</td></tr><tr><td>test_preferredneighborhood_precision</td><td>1</td></tr><tr><td>test_preferredneighborhood_recall</td><td>1</td></tr><tr><td>test_propertytype_f1</td><td>1</td></tr><tr><td>test_propertytype_precision</td><td>1</td></tr><tr><td>test_propertytype_recall</td><td>1</td></tr><tr><td>total_flos</td><td>146471702200320.0</td></tr><tr><td>train/epoch</td><td>8</td></tr><tr><td>train/global_step</td><td>72</td></tr><tr><td>train/grad_norm</td><td>1.45865</td></tr><tr><td>train/learning_rate</td><td>0.0</td></tr><tr><td>train/loss</td><td>1.0171</td></tr><tr><td>train_loss</td><td>1.70311</td></tr><tr><td>train_runtime</td><td>31.81</td></tr><tr><td>train_samples_per_second</td><td>35.209</td></tr><tr><td>train_steps_per_second</td><td>2.263</td></tr></table><br/></div></div>"
            ]
          },
          "metadata": {}
        },
        {
          "output_type": "display_data",
          "data": {
            "text/plain": [
              "<IPython.core.display.HTML object>"
            ],
            "text/html": [
              " View run <strong style=\"color:#cdcd00\">royal-sweep-24</strong> at: <a href='https://wandb.ai/lidianeh-none/distilbert-final/runs/urnba9n5' target=\"_blank\">https://wandb.ai/lidianeh-none/distilbert-final/runs/urnba9n5</a><br> View project at: <a href='https://wandb.ai/lidianeh-none/distilbert-final' target=\"_blank\">https://wandb.ai/lidianeh-none/distilbert-final</a><br>Synced 5 W&B file(s), 1 media file(s), 2 artifact file(s) and 0 other file(s)"
            ]
          },
          "metadata": {}
        },
        {
          "output_type": "display_data",
          "data": {
            "text/plain": [
              "<IPython.core.display.HTML object>"
            ],
            "text/html": [
              "Find logs at: <code>./wandb/run-20250509_171652-urnba9n5/logs</code>"
            ]
          },
          "metadata": {}
        },
        {
          "output_type": "stream",
          "name": "stderr",
          "text": [
            "\u001b[34m\u001b[1mwandb\u001b[0m: Agent Starting Run: ykpq0hhi with config:\n",
            "\u001b[34m\u001b[1mwandb\u001b[0m: \tadam_epsilon: 1e-06\n",
            "\u001b[34m\u001b[1mwandb\u001b[0m: \tlearning_rate: 2.937363415135835e-05\n",
            "\u001b[34m\u001b[1mwandb\u001b[0m: \tnum_train_epochs: 6\n",
            "\u001b[34m\u001b[1mwandb\u001b[0m: \tper_device_train_batch_size: 16\n",
            "\u001b[34m\u001b[1mwandb\u001b[0m: \tseed: 2024\n",
            "\u001b[34m\u001b[1mwandb\u001b[0m: \twarmup_ratio: 0.1300715751459401\n",
            "\u001b[34m\u001b[1mwandb\u001b[0m: \tweight_decay: 0.16895242624596368\n"
          ]
        },
        {
          "output_type": "display_data",
          "data": {
            "text/plain": [
              "<IPython.core.display.HTML object>"
            ],
            "text/html": [
              "Tracking run with wandb version 0.19.10"
            ]
          },
          "metadata": {}
        },
        {
          "output_type": "display_data",
          "data": {
            "text/plain": [
              "<IPython.core.display.HTML object>"
            ],
            "text/html": [
              "Run data is saved locally in <code>/content/wandb/run-20250509_171735-ykpq0hhi</code>"
            ]
          },
          "metadata": {}
        },
        {
          "output_type": "display_data",
          "data": {
            "text/plain": [
              "<IPython.core.display.HTML object>"
            ],
            "text/html": [
              "Syncing run <strong><a href='https://wandb.ai/lidianeh-none/distilbert-final/runs/ykpq0hhi' target=\"_blank\">woven-sweep-25</a></strong> to <a href='https://wandb.ai/lidianeh-none/distilbert-final' target=\"_blank\">Weights & Biases</a> (<a href='https://wandb.me/developer-guide' target=\"_blank\">docs</a>)<br>Sweep page: <a href='https://wandb.ai/lidianeh-none/distilbert-final/sweeps/6yae4880' target=\"_blank\">https://wandb.ai/lidianeh-none/distilbert-final/sweeps/6yae4880</a>"
            ]
          },
          "metadata": {}
        },
        {
          "output_type": "display_data",
          "data": {
            "text/plain": [
              "<IPython.core.display.HTML object>"
            ],
            "text/html": [
              " View project at <a href='https://wandb.ai/lidianeh-none/distilbert-final' target=\"_blank\">https://wandb.ai/lidianeh-none/distilbert-final</a>"
            ]
          },
          "metadata": {}
        },
        {
          "output_type": "display_data",
          "data": {
            "text/plain": [
              "<IPython.core.display.HTML object>"
            ],
            "text/html": [
              " View sweep at <a href='https://wandb.ai/lidianeh-none/distilbert-final/sweeps/6yae4880' target=\"_blank\">https://wandb.ai/lidianeh-none/distilbert-final/sweeps/6yae4880</a>"
            ]
          },
          "metadata": {}
        },
        {
          "output_type": "display_data",
          "data": {
            "text/plain": [
              "<IPython.core.display.HTML object>"
            ],
            "text/html": [
              " View run at <a href='https://wandb.ai/lidianeh-none/distilbert-final/runs/ykpq0hhi' target=\"_blank\">https://wandb.ai/lidianeh-none/distilbert-final/runs/ykpq0hhi</a>"
            ]
          },
          "metadata": {}
        },
        {
          "output_type": "stream",
          "name": "stderr",
          "text": [
            "Some weights of WeightedDistilBertForTokenClassification were not initialized from the model checkpoint at distilbert-base-uncased and are newly initialized: ['classifier.bias', 'classifier.weight']\n",
            "You should probably TRAIN this model on a down-stream task to be able to use it for predictions and inference.\n",
            "<ipython-input-19-362b024c7306>:57: FutureWarning: `tokenizer` is deprecated and will be removed in version 5.0.0 for `Trainer.__init__`. Use `processing_class` instead.\n",
            "  trainer = Trainer(\n",
            "\u001b[34m\u001b[1mwandb\u001b[0m: \u001b[33mWARNING\u001b[0m Config item 'per_device_train_batch_size' was locked by 'sweep' (ignored update).\n",
            "\u001b[34m\u001b[1mwandb\u001b[0m: \u001b[33mWARNING\u001b[0m Config item 'learning_rate' was locked by 'sweep' (ignored update).\n",
            "\u001b[34m\u001b[1mwandb\u001b[0m: \u001b[33mWARNING\u001b[0m Config item 'weight_decay' was locked by 'sweep' (ignored update).\n",
            "\u001b[34m\u001b[1mwandb\u001b[0m: \u001b[33mWARNING\u001b[0m Config item 'adam_epsilon' was locked by 'sweep' (ignored update).\n",
            "\u001b[34m\u001b[1mwandb\u001b[0m: \u001b[33mWARNING\u001b[0m Config item 'num_train_epochs' was locked by 'sweep' (ignored update).\n",
            "\u001b[34m\u001b[1mwandb\u001b[0m: \u001b[33mWARNING\u001b[0m Config item 'warmup_ratio' was locked by 'sweep' (ignored update).\n",
            "\u001b[34m\u001b[1mwandb\u001b[0m: \u001b[33mWARNING\u001b[0m Config item 'seed' was locked by 'sweep' (ignored update).\n"
          ]
        },
        {
          "output_type": "display_data",
          "data": {
            "text/plain": [
              "<IPython.core.display.HTML object>"
            ],
            "text/html": [
              "\n",
              "    <div>\n",
              "      \n",
              "      <progress value='54' max='54' style='width:300px; height:20px; vertical-align: middle;'></progress>\n",
              "      [54/54 00:22, Epoch 6/6]\n",
              "    </div>\n",
              "    <table border=\"1\" class=\"dataframe\">\n",
              "  <thead>\n",
              " <tr style=\"text-align: left;\">\n",
              "      <th>Epoch</th>\n",
              "      <th>Training Loss</th>\n",
              "      <th>Validation Loss</th>\n",
              "      <th>Precision</th>\n",
              "      <th>Recall</th>\n",
              "      <th>F1</th>\n",
              "    </tr>\n",
              "  </thead>\n",
              "  <tbody>\n",
              "    <tr>\n",
              "      <td>1</td>\n",
              "      <td>3.639100</td>\n",
              "      <td>2.582971</td>\n",
              "      <td>1.000000</td>\n",
              "      <td>0.000000</td>\n",
              "      <td>0.000000</td>\n",
              "    </tr>\n",
              "    <tr>\n",
              "      <td>2</td>\n",
              "      <td>1.990500</td>\n",
              "      <td>1.709658</td>\n",
              "      <td>1.000000</td>\n",
              "      <td>0.000000</td>\n",
              "      <td>0.000000</td>\n",
              "    </tr>\n",
              "    <tr>\n",
              "      <td>3</td>\n",
              "      <td>1.552100</td>\n",
              "      <td>1.410122</td>\n",
              "      <td>1.000000</td>\n",
              "      <td>0.000000</td>\n",
              "      <td>0.000000</td>\n",
              "    </tr>\n",
              "    <tr>\n",
              "      <td>4</td>\n",
              "      <td>1.310600</td>\n",
              "      <td>1.209551</td>\n",
              "      <td>0.134615</td>\n",
              "      <td>0.030837</td>\n",
              "      <td>0.050179</td>\n",
              "    </tr>\n",
              "    <tr>\n",
              "      <td>5</td>\n",
              "      <td>1.146600</td>\n",
              "      <td>1.093116</td>\n",
              "      <td>0.224561</td>\n",
              "      <td>0.281938</td>\n",
              "      <td>0.250000</td>\n",
              "    </tr>\n",
              "    <tr>\n",
              "      <td>6</td>\n",
              "      <td>1.060000</td>\n",
              "      <td>1.051925</td>\n",
              "      <td>0.263492</td>\n",
              "      <td>0.365639</td>\n",
              "      <td>0.306273</td>\n",
              "    </tr>\n",
              "  </tbody>\n",
              "</table><p>"
            ]
          },
          "metadata": {}
        },
        {
          "output_type": "display_data",
          "data": {
            "text/plain": [
              "<IPython.core.display.HTML object>"
            ],
            "text/html": []
          },
          "metadata": {}
        },
        {
          "output_type": "stream",
          "name": "stdout",
          "text": [
            "{'eval_loss': 0.9791063070297241, 'eval_precision': 0.3074074074074074, 'eval_recall': 0.40096618357487923, 'eval_f1': 0.34800838574423487, 'eval_runtime': 0.1835, 'eval_samples_per_second': 163.517, 'eval_steps_per_second': 10.901, 'epoch': 6.0}\n"
          ]
        },
        {
          "output_type": "stream",
          "name": "stderr",
          "text": [
            "/usr/local/lib/python3.11/dist-packages/seqeval/metrics/v1.py:57: UndefinedMetricWarning: Precision and F-score are ill-defined and being set to 0.0 in labels with no predicted samples. Use `zero_division` parameter to control this behavior.\n",
            "  _warn_prf(average, modifier, msg_start, len(result))\n"
          ]
        },
        {
          "output_type": "stream",
          "name": "stdout",
          "text": [
            "                       precision    recall  f1-score   support\n",
            "\n",
            "          CompanyName       0.38      0.67      0.48        27\n",
            "  CurrentNeighborhood       0.00      0.00      0.00         1\n",
            "    DecisionMakerRole       0.00      0.00      0.00         6\n",
            "            FirstName       0.37      0.90      0.52        30\n",
            "             Industry       0.00      0.00      0.00        12\n",
            "             LastName       0.00      0.00      0.00         8\n",
            "            MustHaves       0.20      0.56      0.30        50\n",
            "          NiceToHaves       0.00      0.00      0.00        10\n",
            "            PainPoint       0.00      0.00      0.00         1\n",
            "   PreferredLeaseTerm       0.00      0.00      0.00         3\n",
            "PreferredNeighborhood       0.00      0.00      0.00        13\n",
            "         PropertyType       1.00      0.38      0.56        26\n",
            "         UrgencyScore       0.00      0.00      0.00        20\n",
            "\n",
            "            micro avg       0.31      0.40      0.35       207\n",
            "            macro avg       0.15      0.19      0.14       207\n",
            "         weighted avg       0.28      0.40      0.28       207\n",
            "\n",
            "   firstname lastname email phone       companyname industry companysize  \\\n",
            "0       luke     None  None  None              None     None        None   \n",
            "1    michael     None  None  None              None     None        None   \n",
            "2     daniel     None  None  None              None     None        None   \n",
            "3       liam     None  None  None              None     None        None   \n",
            "4      jamie     None  None  None              None     None        None   \n",
            "5       liam     None  None  None              None     None        None   \n",
            "6    michael     None  None  None              None     None        None   \n",
            "7    rebecca     None  None  None              None     None        None   \n",
            "8     amelia     None  None  None              None     None        None   \n",
            "9       alex     None  None  None              None     None        None   \n",
            "10      lena     None  None  None              None     None        None   \n",
            "11      reed     None  None  None  urbancore realty     None        None   \n",
            "12      liam     None  None  None              None     None        None   \n",
            "13    samuel     None  None  None              None     None        None   \n",
            "14    evelyn     None  None  None              None     None        None   \n",
            "15     ethan     None  None  None              None     None        None   \n",
            "16   michael     None  None  None              None     None        None   \n",
            "17      liam     None  None  None              None     None        None   \n",
            "18      liam     None  None  None              None     None        None   \n",
            "19     ethan     None  None  None              None     None        None   \n",
            "20      eric     None  None  None              None     None        None   \n",
            "21      alex     None  None  None              None     None        None   \n",
            "22    foster     None  None  None              None     None        None   \n",
            "23      liam     None  None  None              None     None        None   \n",
            "24    evelyn     None  None  None              None     None        None   \n",
            "25      alex     None  None  None              None     None        None   \n",
            "26    jordan     None  None  None              None     None        None   \n",
            "27      nina     None  None  None              None     None        None   \n",
            "28      mark     None  None  None              None     None        None   \n",
            "29      jane     None  None  None              None     None        None   \n",
            "\n",
            "   growthstage currentneighborhood firstinteraction  ... movingterm  \\\n",
            "0         None                None             None  ...       None   \n",
            "1         None                None             None  ...       None   \n",
            "2         None                None             None  ...       None   \n",
            "3         None                None             None  ...       None   \n",
            "4         None                None             None  ...       None   \n",
            "5         None                None             None  ...       None   \n",
            "6         None                None             None  ...       None   \n",
            "7         None                None             None  ...       None   \n",
            "8         None                None             None  ...       None   \n",
            "9         None                None             None  ...       None   \n",
            "10        None                None             None  ...       None   \n",
            "11        None                None             None  ...       None   \n",
            "12        None                None             None  ...       None   \n",
            "13        None                None             None  ...       None   \n",
            "14        None                None             None  ...       None   \n",
            "15        None                None             None  ...       None   \n",
            "16        None                None             None  ...       None   \n",
            "17        None                None             None  ...       None   \n",
            "18        None                None             None  ...       None   \n",
            "19        None                None             None  ...       None   \n",
            "20        None                None             None  ...       None   \n",
            "21        None                None             None  ...       None   \n",
            "22        None                None             None  ...       None   \n",
            "23        None                None             None  ...       None   \n",
            "24        None                None             None  ...       None   \n",
            "25        None                None             None  ...       None   \n",
            "26        None                None             None  ...       None   \n",
            "27        None                None             None  ...       None   \n",
            "28        None                None             None  ...       None   \n",
            "29        None                None             None  ...       None   \n",
            "\n",
            "   min_months max_months movingtimeline      musthaves nicetohaves painpoint  \\\n",
            "0        None       None           None           hvac        None      None   \n",
            "1        None       None           None           None        None      None   \n",
            "2        None       None           None           None        None      None   \n",
            "3        None       None           None           None        None      None   \n",
            "4        None       None           None           None        None      None   \n",
            "5        None       None           None  natural light        None      None   \n",
            "6        None       None           None  high ceilings        None      None   \n",
            "7        None       None           None  natural light        None      None   \n",
            "8        None       None           None           None        None      None   \n",
            "9        None       None           None  natural light        None      None   \n",
            "10       None       None           None            eco        None      None   \n",
            "11       None       None           None  natural light        None      None   \n",
            "12       None       None           None           hvac        None      None   \n",
            "13       None       None           None           None        None      None   \n",
            "14       None       None           None           None        None      None   \n",
            "15       None       None           None           hvac        None      None   \n",
            "16       None       None           None           None        None      None   \n",
            "17       None       None           None           None        None      None   \n",
            "18       None       None           None  natural light        None      None   \n",
            "19       None       None           None  natural light        None      None   \n",
            "20       None       None           None           None        None      None   \n",
            "21       None       None           None           None        None      None   \n",
            "22       None       None           None  natural light        None      None   \n",
            "23       None       None           None  natural light        None      None   \n",
            "24       None       None           None           hvac        None      None   \n",
            "25       None       None           None  natural light        None      None   \n",
            "26       None       None           None  natural light        None      None   \n",
            "27       None       None           None            ada        None      None   \n",
            "28       None       None           None           open        None      None   \n",
            "29       None       None           None  natural light        None      None   \n",
            "\n",
            "   urgencyscore outcome personality  \n",
            "0          None    None        None  \n",
            "1          None    None        None  \n",
            "2          None    None        None  \n",
            "3          None    None        None  \n",
            "4          None    None        None  \n",
            "5          None    None        None  \n",
            "6          None    None        None  \n",
            "7          None    None        None  \n",
            "8          None    None        None  \n",
            "9          None    None        None  \n",
            "10         None    None        None  \n",
            "11         None    None        None  \n",
            "12         None    None        None  \n",
            "13         None    None        None  \n",
            "14         None    None        None  \n",
            "15         None    None        None  \n",
            "16         None    None        None  \n",
            "17         None    None        None  \n",
            "18         None    None        None  \n",
            "19         None    None        None  \n",
            "20         None    None        None  \n",
            "21         None    None        None  \n",
            "22         None    None        None  \n",
            "23         None    None        None  \n",
            "24         None    None        None  \n",
            "25         None    None        None  \n",
            "26         None    None        None  \n",
            "27         None    None        None  \n",
            "28         None    None        None  \n",
            "29         None    None        None  \n",
            "\n",
            "[30 rows x 27 columns]\n",
            "Structured Field-Level Metrics: {'firstname_precision': 1.0, 'firstname_recall': 1.0, 'firstname_f1': 1.0, 'companyname_precision': 1.0, 'companyname_recall': 1.0, 'companyname_f1': 1.0, 'propertytype_precision': 1.0, 'propertytype_recall': 1.0, 'propertytype_f1': 1.0, 'musthaves_precision': 1.0, 'musthaves_recall': 1.0, 'musthaves_f1': 1.0, 'macro_precision': np.float64(1.0), 'macro_recall': np.float64(1.0), 'macro_f1': np.float64(1.0)}\n",
            "Predictions saved to: /content/drive/MyDrive/distilbert_outputs/woven-sweep-25_predictions.json\n"
          ]
        },
        {
          "output_type": "display_data",
          "data": {
            "text/plain": [
              "<IPython.core.display.HTML object>"
            ],
            "text/html": []
          },
          "metadata": {}
        },
        {
          "output_type": "display_data",
          "data": {
            "text/plain": [
              "<IPython.core.display.HTML object>"
            ],
            "text/html": [
              "<br>    <style><br>        .wandb-row {<br>            display: flex;<br>            flex-direction: row;<br>            flex-wrap: wrap;<br>            justify-content: flex-start;<br>            width: 100%;<br>        }<br>        .wandb-col {<br>            display: flex;<br>            flex-direction: column;<br>            flex-basis: 100%;<br>            flex: 1;<br>            padding: 10px;<br>        }<br>    </style><br><div class=\"wandb-row\"><div class=\"wandb-col\"><h3>Run history:</h3><br/><table class=\"wandb\"><tr><td>eval/f1</td><td>▁▁▁▂▆▇▇█</td></tr><tr><td>eval/loss</td><td>█▄▃▂▁▁▁▁</td></tr><tr><td>eval/precision</td><td>███▁▂▂▂▂</td></tr><tr><td>eval/recall</td><td>▁▁▁▂▆▇▇█</td></tr><tr><td>eval/runtime</td><td>▇▁▂▁▄██▆</td></tr><tr><td>eval/samples_per_second</td><td>▂█▇█▅▁▁▃</td></tr><tr><td>eval/steps_per_second</td><td>▂█▇█▅▁▁▃</td></tr><tr><td>test/f1</td><td>▁</td></tr><tr><td>test/loss</td><td>▁</td></tr><tr><td>test/precision</td><td>▁</td></tr><tr><td>test/recall</td><td>▁</td></tr><tr><td>test/runtime</td><td>▁</td></tr><tr><td>test/samples_per_second</td><td>▁</td></tr><tr><td>test/steps_per_second</td><td>▁</td></tr><tr><td>test_companyname_f1</td><td>▁</td></tr><tr><td>test_companyname_precision</td><td>▁</td></tr><tr><td>test_companyname_recall</td><td>▁</td></tr><tr><td>test_firstname_f1</td><td>▁</td></tr><tr><td>test_firstname_precision</td><td>▁</td></tr><tr><td>test_firstname_recall</td><td>▁</td></tr><tr><td>test_macro_f1</td><td>▁</td></tr><tr><td>test_macro_precision</td><td>▁</td></tr><tr><td>test_macro_recall</td><td>▁</td></tr><tr><td>test_musthaves_f1</td><td>▁</td></tr><tr><td>test_musthaves_precision</td><td>▁</td></tr><tr><td>test_musthaves_recall</td><td>▁</td></tr><tr><td>test_propertytype_f1</td><td>▁</td></tr><tr><td>test_propertytype_precision</td><td>▁</td></tr><tr><td>test_propertytype_recall</td><td>▁</td></tr><tr><td>train/epoch</td><td>▁▁▂▂▄▄▅▅▇▇█████</td></tr><tr><td>train/global_step</td><td>▁▁▂▂▄▄▅▅▇▇████████</td></tr><tr><td>train/grad_norm</td><td>█▂▁▁▁▁</td></tr><tr><td>train/learning_rate</td><td>█▇▅▄▂▁</td></tr><tr><td>train/loss</td><td>█▄▂▂▁▁</td></tr></table><br/></div><div class=\"wandb-col\"><h3>Run summary:</h3><br/><table class=\"wandb\"><tr><td>eval/f1</td><td>0.34801</td></tr><tr><td>eval/loss</td><td>0.97911</td></tr><tr><td>eval/precision</td><td>0.30741</td></tr><tr><td>eval/recall</td><td>0.40097</td></tr><tr><td>eval/runtime</td><td>0.1835</td></tr><tr><td>eval/samples_per_second</td><td>163.517</td></tr><tr><td>eval/steps_per_second</td><td>10.901</td></tr><tr><td>test/f1</td><td>0.34801</td></tr><tr><td>test/loss</td><td>0.97911</td></tr><tr><td>test/precision</td><td>0.30741</td></tr><tr><td>test/recall</td><td>0.40097</td></tr><tr><td>test/runtime</td><td>0.1792</td></tr><tr><td>test/samples_per_second</td><td>167.384</td></tr><tr><td>test/steps_per_second</td><td>11.159</td></tr><tr><td>test_companyname_f1</td><td>1</td></tr><tr><td>test_companyname_precision</td><td>1</td></tr><tr><td>test_companyname_recall</td><td>1</td></tr><tr><td>test_firstname_f1</td><td>1</td></tr><tr><td>test_firstname_precision</td><td>1</td></tr><tr><td>test_firstname_recall</td><td>1</td></tr><tr><td>test_macro_f1</td><td>1</td></tr><tr><td>test_macro_precision</td><td>1</td></tr><tr><td>test_macro_recall</td><td>1</td></tr><tr><td>test_musthaves_f1</td><td>1</td></tr><tr><td>test_musthaves_precision</td><td>1</td></tr><tr><td>test_musthaves_recall</td><td>1</td></tr><tr><td>test_propertytype_f1</td><td>1</td></tr><tr><td>test_propertytype_precision</td><td>1</td></tr><tr><td>test_propertytype_recall</td><td>1</td></tr><tr><td>total_flos</td><td>109853776650240.0</td></tr><tr><td>train/epoch</td><td>6</td></tr><tr><td>train/global_step</td><td>54</td></tr><tr><td>train/grad_norm</td><td>1.50866</td></tr><tr><td>train/learning_rate</td><td>0.0</td></tr><tr><td>train/loss</td><td>1.06</td></tr><tr><td>train_loss</td><td>1.78313</td></tr><tr><td>train_runtime</td><td>23.0634</td></tr><tr><td>train_samples_per_second</td><td>36.421</td></tr><tr><td>train_steps_per_second</td><td>2.341</td></tr></table><br/></div></div>"
            ]
          },
          "metadata": {}
        },
        {
          "output_type": "display_data",
          "data": {
            "text/plain": [
              "<IPython.core.display.HTML object>"
            ],
            "text/html": [
              " View run <strong style=\"color:#cdcd00\">woven-sweep-25</strong> at: <a href='https://wandb.ai/lidianeh-none/distilbert-final/runs/ykpq0hhi' target=\"_blank\">https://wandb.ai/lidianeh-none/distilbert-final/runs/ykpq0hhi</a><br> View project at: <a href='https://wandb.ai/lidianeh-none/distilbert-final' target=\"_blank\">https://wandb.ai/lidianeh-none/distilbert-final</a><br>Synced 5 W&B file(s), 1 media file(s), 2 artifact file(s) and 0 other file(s)"
            ]
          },
          "metadata": {}
        },
        {
          "output_type": "display_data",
          "data": {
            "text/plain": [
              "<IPython.core.display.HTML object>"
            ],
            "text/html": [
              "Find logs at: <code>./wandb/run-20250509_171735-ykpq0hhi/logs</code>"
            ]
          },
          "metadata": {}
        },
        {
          "output_type": "stream",
          "name": "stdout",
          "text": [
            "Error in callback <bound method _WandbInit._post_run_cell_hook of <wandb.sdk.wandb_init._WandbInit object at 0x7cf499a5bf10>> (for post_run_cell):\n"
          ]
        },
        {
          "output_type": "error",
          "ename": "BrokenPipeError",
          "evalue": "[Errno 32] Broken pipe",
          "traceback": [
            "\u001b[0;31m---------------------------------------------------------------------------\u001b[0m",
            "\u001b[0;31mBrokenPipeError\u001b[0m                           Traceback (most recent call last)",
            "\u001b[0;32m/usr/local/lib/python3.11/dist-packages/wandb/sdk/wandb_init.py\u001b[0m in \u001b[0;36m_post_run_cell_hook\u001b[0;34m(self, *args, **kwargs)\u001b[0m\n\u001b[1;32m    612\u001b[0m \u001b[0;34m\u001b[0m\u001b[0m\n\u001b[1;32m    613\u001b[0m         \u001b[0mself\u001b[0m\u001b[0;34m.\u001b[0m\u001b[0m_logger\u001b[0m\u001b[0;34m.\u001b[0m\u001b[0minfo\u001b[0m\u001b[0;34m(\u001b[0m\u001b[0;34m\"resuming backend\"\u001b[0m\u001b[0;34m)\u001b[0m\u001b[0;34m\u001b[0m\u001b[0;34m\u001b[0m\u001b[0m\n\u001b[0;32m--> 614\u001b[0;31m         \u001b[0mself\u001b[0m\u001b[0;34m.\u001b[0m\u001b[0mbackend\u001b[0m\u001b[0;34m.\u001b[0m\u001b[0minterface\u001b[0m\u001b[0;34m.\u001b[0m\u001b[0mpublish_resume\u001b[0m\u001b[0;34m(\u001b[0m\u001b[0;34m)\u001b[0m\u001b[0;34m\u001b[0m\u001b[0;34m\u001b[0m\u001b[0m\n\u001b[0m\u001b[1;32m    615\u001b[0m \u001b[0;34m\u001b[0m\u001b[0m\n\u001b[1;32m    616\u001b[0m     \u001b[0;32mdef\u001b[0m \u001b[0m_jupyter_teardown\u001b[0m\u001b[0;34m(\u001b[0m\u001b[0mself\u001b[0m\u001b[0;34m)\u001b[0m \u001b[0;34m->\u001b[0m \u001b[0;32mNone\u001b[0m\u001b[0;34m:\u001b[0m\u001b[0;34m\u001b[0m\u001b[0;34m\u001b[0m\u001b[0m\n",
            "\u001b[0;32m/usr/local/lib/python3.11/dist-packages/wandb/sdk/interface/interface.py\u001b[0m in \u001b[0;36mpublish_resume\u001b[0;34m(self)\u001b[0m\n\u001b[1;32m    777\u001b[0m     \u001b[0;32mdef\u001b[0m \u001b[0mpublish_resume\u001b[0m\u001b[0;34m(\u001b[0m\u001b[0mself\u001b[0m\u001b[0;34m)\u001b[0m \u001b[0;34m->\u001b[0m \u001b[0;32mNone\u001b[0m\u001b[0;34m:\u001b[0m\u001b[0;34m\u001b[0m\u001b[0;34m\u001b[0m\u001b[0m\n\u001b[1;32m    778\u001b[0m         \u001b[0mresume\u001b[0m \u001b[0;34m=\u001b[0m \u001b[0mpb\u001b[0m\u001b[0;34m.\u001b[0m\u001b[0mResumeRequest\u001b[0m\u001b[0;34m(\u001b[0m\u001b[0;34m)\u001b[0m\u001b[0;34m\u001b[0m\u001b[0;34m\u001b[0m\u001b[0m\n\u001b[0;32m--> 779\u001b[0;31m         \u001b[0mself\u001b[0m\u001b[0;34m.\u001b[0m\u001b[0m_publish_resume\u001b[0m\u001b[0;34m(\u001b[0m\u001b[0mresume\u001b[0m\u001b[0;34m)\u001b[0m\u001b[0;34m\u001b[0m\u001b[0;34m\u001b[0m\u001b[0m\n\u001b[0m\u001b[1;32m    780\u001b[0m \u001b[0;34m\u001b[0m\u001b[0m\n\u001b[1;32m    781\u001b[0m     \u001b[0;34m@\u001b[0m\u001b[0mabstractmethod\u001b[0m\u001b[0;34m\u001b[0m\u001b[0;34m\u001b[0m\u001b[0m\n",
            "\u001b[0;32m/usr/local/lib/python3.11/dist-packages/wandb/sdk/interface/interface_shared.py\u001b[0m in \u001b[0;36m_publish_resume\u001b[0;34m(self, resume)\u001b[0m\n\u001b[1;32m    291\u001b[0m     \u001b[0;32mdef\u001b[0m \u001b[0m_publish_resume\u001b[0m\u001b[0;34m(\u001b[0m\u001b[0mself\u001b[0m\u001b[0;34m,\u001b[0m \u001b[0mresume\u001b[0m\u001b[0;34m:\u001b[0m \u001b[0mpb\u001b[0m\u001b[0;34m.\u001b[0m\u001b[0mResumeRequest\u001b[0m\u001b[0;34m)\u001b[0m \u001b[0;34m->\u001b[0m \u001b[0;32mNone\u001b[0m\u001b[0;34m:\u001b[0m\u001b[0;34m\u001b[0m\u001b[0;34m\u001b[0m\u001b[0m\n\u001b[1;32m    292\u001b[0m         \u001b[0mrec\u001b[0m \u001b[0;34m=\u001b[0m \u001b[0mself\u001b[0m\u001b[0;34m.\u001b[0m\u001b[0m_make_request\u001b[0m\u001b[0;34m(\u001b[0m\u001b[0mresume\u001b[0m\u001b[0;34m=\u001b[0m\u001b[0mresume\u001b[0m\u001b[0;34m)\u001b[0m\u001b[0;34m\u001b[0m\u001b[0;34m\u001b[0m\u001b[0m\n\u001b[0;32m--> 293\u001b[0;31m         \u001b[0mself\u001b[0m\u001b[0;34m.\u001b[0m\u001b[0m_publish\u001b[0m\u001b[0;34m(\u001b[0m\u001b[0mrec\u001b[0m\u001b[0;34m)\u001b[0m\u001b[0;34m\u001b[0m\u001b[0;34m\u001b[0m\u001b[0m\n\u001b[0m\u001b[1;32m    294\u001b[0m \u001b[0;34m\u001b[0m\u001b[0m\n\u001b[1;32m    295\u001b[0m     \u001b[0;32mdef\u001b[0m \u001b[0m_publish_run\u001b[0m\u001b[0;34m(\u001b[0m\u001b[0mself\u001b[0m\u001b[0;34m,\u001b[0m \u001b[0mrun\u001b[0m\u001b[0;34m:\u001b[0m \u001b[0mpb\u001b[0m\u001b[0;34m.\u001b[0m\u001b[0mRunRecord\u001b[0m\u001b[0;34m)\u001b[0m \u001b[0;34m->\u001b[0m \u001b[0;32mNone\u001b[0m\u001b[0;34m:\u001b[0m\u001b[0;34m\u001b[0m\u001b[0;34m\u001b[0m\u001b[0m\n",
            "\u001b[0;32m/usr/local/lib/python3.11/dist-packages/wandb/sdk/interface/interface_sock.py\u001b[0m in \u001b[0;36m_publish\u001b[0;34m(self, record, local)\u001b[0m\n\u001b[1;32m     37\u001b[0m     \u001b[0;32mdef\u001b[0m \u001b[0m_publish\u001b[0m\u001b[0;34m(\u001b[0m\u001b[0mself\u001b[0m\u001b[0;34m,\u001b[0m \u001b[0mrecord\u001b[0m\u001b[0;34m:\u001b[0m \u001b[0;34m\"pb.Record\"\u001b[0m\u001b[0;34m,\u001b[0m \u001b[0mlocal\u001b[0m\u001b[0;34m:\u001b[0m \u001b[0mOptional\u001b[0m\u001b[0;34m[\u001b[0m\u001b[0mbool\u001b[0m\u001b[0;34m]\u001b[0m \u001b[0;34m=\u001b[0m \u001b[0;32mNone\u001b[0m\u001b[0;34m)\u001b[0m \u001b[0;34m->\u001b[0m \u001b[0;32mNone\u001b[0m\u001b[0;34m:\u001b[0m\u001b[0;34m\u001b[0m\u001b[0;34m\u001b[0m\u001b[0m\n\u001b[1;32m     38\u001b[0m         \u001b[0mself\u001b[0m\u001b[0;34m.\u001b[0m\u001b[0m_assign\u001b[0m\u001b[0;34m(\u001b[0m\u001b[0mrecord\u001b[0m\u001b[0;34m)\u001b[0m\u001b[0;34m\u001b[0m\u001b[0;34m\u001b[0m\u001b[0m\n\u001b[0;32m---> 39\u001b[0;31m         \u001b[0mself\u001b[0m\u001b[0;34m.\u001b[0m\u001b[0m_sock_client\u001b[0m\u001b[0;34m.\u001b[0m\u001b[0msend_record_publish\u001b[0m\u001b[0;34m(\u001b[0m\u001b[0mrecord\u001b[0m\u001b[0;34m)\u001b[0m\u001b[0;34m\u001b[0m\u001b[0;34m\u001b[0m\u001b[0m\n\u001b[0m",
            "\u001b[0;32m/usr/local/lib/python3.11/dist-packages/wandb/sdk/lib/sock_client.py\u001b[0m in \u001b[0;36msend_record_publish\u001b[0;34m(self, record)\u001b[0m\n\u001b[1;32m    172\u001b[0m         \u001b[0mserver_req\u001b[0m\u001b[0;34m.\u001b[0m\u001b[0mrequest_id\u001b[0m \u001b[0;34m=\u001b[0m \u001b[0mrecord\u001b[0m\u001b[0;34m.\u001b[0m\u001b[0mcontrol\u001b[0m\u001b[0;34m.\u001b[0m\u001b[0mmailbox_slot\u001b[0m\u001b[0;34m\u001b[0m\u001b[0;34m\u001b[0m\u001b[0m\n\u001b[1;32m    173\u001b[0m         \u001b[0mserver_req\u001b[0m\u001b[0;34m.\u001b[0m\u001b[0mrecord_publish\u001b[0m\u001b[0;34m.\u001b[0m\u001b[0mCopyFrom\u001b[0m\u001b[0;34m(\u001b[0m\u001b[0mrecord\u001b[0m\u001b[0;34m)\u001b[0m\u001b[0;34m\u001b[0m\u001b[0;34m\u001b[0m\u001b[0m\n\u001b[0;32m--> 174\u001b[0;31m         \u001b[0mself\u001b[0m\u001b[0;34m.\u001b[0m\u001b[0msend_server_request\u001b[0m\u001b[0;34m(\u001b[0m\u001b[0mserver_req\u001b[0m\u001b[0;34m)\u001b[0m\u001b[0;34m\u001b[0m\u001b[0;34m\u001b[0m\u001b[0m\n\u001b[0m\u001b[1;32m    175\u001b[0m \u001b[0;34m\u001b[0m\u001b[0m\n\u001b[1;32m    176\u001b[0m     \u001b[0;32mdef\u001b[0m \u001b[0m_extract_packet_bytes\u001b[0m\u001b[0;34m(\u001b[0m\u001b[0mself\u001b[0m\u001b[0;34m)\u001b[0m \u001b[0;34m->\u001b[0m \u001b[0mOptional\u001b[0m\u001b[0;34m[\u001b[0m\u001b[0mbytes\u001b[0m\u001b[0;34m]\u001b[0m\u001b[0;34m:\u001b[0m\u001b[0;34m\u001b[0m\u001b[0;34m\u001b[0m\u001b[0m\n",
            "\u001b[0;32m/usr/local/lib/python3.11/dist-packages/wandb/sdk/lib/sock_client.py\u001b[0m in \u001b[0;36msend_server_request\u001b[0;34m(self, msg)\u001b[0m\n\u001b[1;32m    152\u001b[0m \u001b[0;34m\u001b[0m\u001b[0m\n\u001b[1;32m    153\u001b[0m     \u001b[0;32mdef\u001b[0m \u001b[0msend_server_request\u001b[0m\u001b[0;34m(\u001b[0m\u001b[0mself\u001b[0m\u001b[0;34m,\u001b[0m \u001b[0mmsg\u001b[0m\u001b[0;34m:\u001b[0m \u001b[0mspb\u001b[0m\u001b[0;34m.\u001b[0m\u001b[0mServerRequest\u001b[0m\u001b[0;34m)\u001b[0m \u001b[0;34m->\u001b[0m \u001b[0;32mNone\u001b[0m\u001b[0;34m:\u001b[0m\u001b[0;34m\u001b[0m\u001b[0;34m\u001b[0m\u001b[0m\n\u001b[0;32m--> 154\u001b[0;31m         \u001b[0mself\u001b[0m\u001b[0;34m.\u001b[0m\u001b[0m_send_message\u001b[0m\u001b[0;34m(\u001b[0m\u001b[0mmsg\u001b[0m\u001b[0;34m)\u001b[0m\u001b[0;34m\u001b[0m\u001b[0;34m\u001b[0m\u001b[0m\n\u001b[0m\u001b[1;32m    155\u001b[0m \u001b[0;34m\u001b[0m\u001b[0m\n\u001b[1;32m    156\u001b[0m     \u001b[0;32mdef\u001b[0m \u001b[0msend_server_response\u001b[0m\u001b[0;34m(\u001b[0m\u001b[0mself\u001b[0m\u001b[0;34m,\u001b[0m \u001b[0mmsg\u001b[0m\u001b[0;34m:\u001b[0m \u001b[0mspb\u001b[0m\u001b[0;34m.\u001b[0m\u001b[0mServerResponse\u001b[0m\u001b[0;34m)\u001b[0m \u001b[0;34m->\u001b[0m \u001b[0;32mNone\u001b[0m\u001b[0;34m:\u001b[0m\u001b[0;34m\u001b[0m\u001b[0;34m\u001b[0m\u001b[0m\n",
            "\u001b[0;32m/usr/local/lib/python3.11/dist-packages/wandb/sdk/lib/sock_client.py\u001b[0m in \u001b[0;36m_send_message\u001b[0;34m(self, msg)\u001b[0m\n\u001b[1;32m    149\u001b[0m         \u001b[0mheader\u001b[0m \u001b[0;34m=\u001b[0m \u001b[0mstruct\u001b[0m\u001b[0;34m.\u001b[0m\u001b[0mpack\u001b[0m\u001b[0;34m(\u001b[0m\u001b[0;34m\"<BI\"\u001b[0m\u001b[0;34m,\u001b[0m \u001b[0mord\u001b[0m\u001b[0;34m(\u001b[0m\u001b[0;34m\"W\"\u001b[0m\u001b[0;34m)\u001b[0m\u001b[0;34m,\u001b[0m \u001b[0mraw_size\u001b[0m\u001b[0;34m)\u001b[0m\u001b[0;34m\u001b[0m\u001b[0;34m\u001b[0m\u001b[0m\n\u001b[1;32m    150\u001b[0m         \u001b[0;32mwith\u001b[0m \u001b[0mself\u001b[0m\u001b[0;34m.\u001b[0m\u001b[0m_lock\u001b[0m\u001b[0;34m:\u001b[0m\u001b[0;34m\u001b[0m\u001b[0;34m\u001b[0m\u001b[0m\n\u001b[0;32m--> 151\u001b[0;31m             \u001b[0mself\u001b[0m\u001b[0;34m.\u001b[0m\u001b[0m_sendall_with_error_handle\u001b[0m\u001b[0;34m(\u001b[0m\u001b[0mheader\u001b[0m \u001b[0;34m+\u001b[0m \u001b[0mdata\u001b[0m\u001b[0;34m)\u001b[0m\u001b[0;34m\u001b[0m\u001b[0;34m\u001b[0m\u001b[0m\n\u001b[0m\u001b[1;32m    152\u001b[0m \u001b[0;34m\u001b[0m\u001b[0m\n\u001b[1;32m    153\u001b[0m     \u001b[0;32mdef\u001b[0m \u001b[0msend_server_request\u001b[0m\u001b[0;34m(\u001b[0m\u001b[0mself\u001b[0m\u001b[0;34m,\u001b[0m \u001b[0mmsg\u001b[0m\u001b[0;34m:\u001b[0m \u001b[0mspb\u001b[0m\u001b[0;34m.\u001b[0m\u001b[0mServerRequest\u001b[0m\u001b[0;34m)\u001b[0m \u001b[0;34m->\u001b[0m \u001b[0;32mNone\u001b[0m\u001b[0;34m:\u001b[0m\u001b[0;34m\u001b[0m\u001b[0;34m\u001b[0m\u001b[0m\n",
            "\u001b[0;32m/usr/local/lib/python3.11/dist-packages/wandb/sdk/lib/sock_client.py\u001b[0m in \u001b[0;36m_sendall_with_error_handle\u001b[0;34m(self, data)\u001b[0m\n\u001b[1;32m    128\u001b[0m             \u001b[0mstart_time\u001b[0m \u001b[0;34m=\u001b[0m \u001b[0mtime\u001b[0m\u001b[0;34m.\u001b[0m\u001b[0mmonotonic\u001b[0m\u001b[0;34m(\u001b[0m\u001b[0;34m)\u001b[0m\u001b[0;34m\u001b[0m\u001b[0;34m\u001b[0m\u001b[0m\n\u001b[1;32m    129\u001b[0m             \u001b[0;32mtry\u001b[0m\u001b[0;34m:\u001b[0m\u001b[0;34m\u001b[0m\u001b[0;34m\u001b[0m\u001b[0m\n\u001b[0;32m--> 130\u001b[0;31m                 \u001b[0msent\u001b[0m \u001b[0;34m=\u001b[0m \u001b[0mself\u001b[0m\u001b[0;34m.\u001b[0m\u001b[0m_sock\u001b[0m\u001b[0;34m.\u001b[0m\u001b[0msend\u001b[0m\u001b[0;34m(\u001b[0m\u001b[0mdata\u001b[0m\u001b[0;34m)\u001b[0m\u001b[0;34m\u001b[0m\u001b[0;34m\u001b[0m\u001b[0m\n\u001b[0m\u001b[1;32m    131\u001b[0m                 \u001b[0;31m# sent equal to 0 indicates a closed socket\u001b[0m\u001b[0;34m\u001b[0m\u001b[0;34m\u001b[0m\u001b[0m\n\u001b[1;32m    132\u001b[0m                 \u001b[0;32mif\u001b[0m \u001b[0msent\u001b[0m \u001b[0;34m==\u001b[0m \u001b[0;36m0\u001b[0m\u001b[0;34m:\u001b[0m\u001b[0;34m\u001b[0m\u001b[0;34m\u001b[0m\u001b[0m\n",
            "\u001b[0;31mBrokenPipeError\u001b[0m: [Errno 32] Broken pipe"
          ]
        }
      ]
    },
    {
      "cell_type": "code",
      "source": [
        "'''\n",
        "Predict and Evaluate results on DistilBERT model without training\n",
        "'''\n",
        "\n",
        "def run_base_model():\n",
        "    print(\"Running base DistilBERT model without training...\")\n",
        "\n",
        "    with wandb.init(project=\"distilbert-final\", name=\"distilbert_base\", reinit=True) as run:\n",
        "\n",
        "        # Load pre-trained base model\n",
        "        base_model = DistilBertForTokenClassification.from_pretrained(\n",
        "            \"distilbert-base-uncased\",\n",
        "            num_labels=len(ENTITY_TAGS),\n",
        "            id2label=id2label,\n",
        "            label2id=label2id\n",
        "        ).to(\"cuda\" if torch.cuda.is_available() else \"cpu\")\n",
        "\n",
        "        # Setup trainer\n",
        "        eval_args = TrainingArguments(\n",
        "            output_dir=\"./base_model_results\",\n",
        "            per_device_eval_batch_size=8,\n",
        "            report_to=\"wandb\",\n",
        "            logging_dir=\"./logs\",\n",
        "            seed=42\n",
        "        )\n",
        "\n",
        "        # Initiate trainer\n",
        "        trainer = Trainer(\n",
        "            model=base_model,\n",
        "            args=eval_args,\n",
        "            eval_dataset=test_data,\n",
        "            tokenizer=tokenizer,\n",
        "            compute_metrics=compute_metrics\n",
        "        )\n",
        "\n",
        "        # Evaluate trainer\n",
        "        trainer.evaluate()\n",
        "        metrics = trainer.evaluate(test_data)\n",
        "        print(metrics)\n",
        "        df = evaluate_model(trainer, test_data, id2label, tokenizer)\n",
        "        print(df)\n",
        "        wandb_table = wandb.Table(dataframe=df)\n",
        "        wandb.log({f\"{run.name} Predictions\": wandb_table})\n",
        "\n",
        "        entity_metrics = get_entity_metrics(df)\n",
        "        wandb.log({**{f\"test_{k}\": float(v) for k, v in entity_metrics.items()}})\n",
        "\n",
        "        # Save all predictions to Google Drive\n",
        "        pred_path = os.path.join(output_dir, f\"{wandb.run.name}_predictions.json\")\n",
        "        df.to_json(pred_path, orient=\"records\", indent=2)\n",
        "        print(f\"Predictions saved to: {pred_path}\")\n",
        "\n",
        "#run_base_model()"
      ],
      "metadata": {
        "id": "rtu0YJMsHRft"
      },
      "execution_count": null,
      "outputs": []
    }
  ]
}