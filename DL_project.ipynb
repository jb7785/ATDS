{
  "nbformat": 4,
  "nbformat_minor": 0,
  "metadata": {
    "colab": {
      "provenance": []
    },
    "kernelspec": {
      "name": "python3",
      "display_name": "Python 3"
    },
    "language_info": {
      "name": "python"
    }
  },
  "cells": [
    {
      "cell_type": "code",
      "execution_count": null,
      "metadata": {
        "colab": {
          "base_uri": "https://localhost:8080/"
        },
        "id": "mdpZplmWa7cX",
        "outputId": "0320c6fe-4a27-4bde-db03-e0ef4e1dfbf7"
      },
      "outputs": [
        {
          "output_type": "stream",
          "name": "stdout",
          "text": [
            "Requirement already satisfied: pydantic in /usr/local/lib/python3.11/dist-packages (2.11.4)\n",
            "Requirement already satisfied: openai in /usr/local/lib/python3.11/dist-packages (1.76.2)\n",
            "Requirement already satisfied: annotated-types>=0.6.0 in /usr/local/lib/python3.11/dist-packages (from pydantic) (0.7.0)\n",
            "Requirement already satisfied: pydantic-core==2.33.2 in /usr/local/lib/python3.11/dist-packages (from pydantic) (2.33.2)\n",
            "Requirement already satisfied: typing-extensions>=4.12.2 in /usr/local/lib/python3.11/dist-packages (from pydantic) (4.13.2)\n",
            "Requirement already satisfied: typing-inspection>=0.4.0 in /usr/local/lib/python3.11/dist-packages (from pydantic) (0.4.0)\n",
            "Requirement already satisfied: anyio<5,>=3.5.0 in /usr/local/lib/python3.11/dist-packages (from openai) (4.9.0)\n",
            "Requirement already satisfied: distro<2,>=1.7.0 in /usr/local/lib/python3.11/dist-packages (from openai) (1.9.0)\n",
            "Requirement already satisfied: httpx<1,>=0.23.0 in /usr/local/lib/python3.11/dist-packages (from openai) (0.28.1)\n",
            "Requirement already satisfied: jiter<1,>=0.4.0 in /usr/local/lib/python3.11/dist-packages (from openai) (0.9.0)\n",
            "Requirement already satisfied: sniffio in /usr/local/lib/python3.11/dist-packages (from openai) (1.3.1)\n",
            "Requirement already satisfied: tqdm>4 in /usr/local/lib/python3.11/dist-packages (from openai) (4.67.1)\n",
            "Requirement already satisfied: idna>=2.8 in /usr/local/lib/python3.11/dist-packages (from anyio<5,>=3.5.0->openai) (3.10)\n",
            "Requirement already satisfied: certifi in /usr/local/lib/python3.11/dist-packages (from httpx<1,>=0.23.0->openai) (2025.4.26)\n",
            "Requirement already satisfied: httpcore==1.* in /usr/local/lib/python3.11/dist-packages (from httpx<1,>=0.23.0->openai) (1.0.9)\n",
            "Requirement already satisfied: h11>=0.16 in /usr/local/lib/python3.11/dist-packages (from httpcore==1.*->httpx<1,>=0.23.0->openai) (0.16.0)\n"
          ]
        }
      ],
      "source": [
        "!pip install pydantic openai"
      ]
    },
    {
      "cell_type": "code",
      "source": [
        "!pip install pydantic==1.10.11"
      ],
      "metadata": {
        "colab": {
          "base_uri": "https://localhost:8080/"
        },
        "id": "Dsxq5msfdHLl",
        "outputId": "f35c6a36-de79-4619-d1d0-724949bcd0ac"
      },
      "execution_count": null,
      "outputs": [
        {
          "output_type": "stream",
          "name": "stdout",
          "text": [
            "Requirement already satisfied: pydantic==1.10.11 in /usr/local/lib/python3.11/dist-packages (1.10.11)\n",
            "Requirement already satisfied: typing-extensions>=4.2.0 in /usr/local/lib/python3.11/dist-packages (from pydantic==1.10.11) (4.13.2)\n"
          ]
        }
      ]
    },
    {
      "cell_type": "code",
      "source": [
        "!pip install gradio"
      ],
      "metadata": {
        "colab": {
          "base_uri": "https://localhost:8080/"
        },
        "id": "iWYKZrCpaQQ2",
        "outputId": "5250d2a6-17c0-4ee3-f6fb-db6564e7c15c"
      },
      "execution_count": 11,
      "outputs": [
        {
          "output_type": "stream",
          "name": "stdout",
          "text": [
            "Collecting gradio\n",
            "  Downloading gradio-5.29.0-py3-none-any.whl.metadata (16 kB)\n",
            "Collecting aiofiles<25.0,>=22.0 (from gradio)\n",
            "  Downloading aiofiles-24.1.0-py3-none-any.whl.metadata (10 kB)\n",
            "Requirement already satisfied: anyio<5.0,>=3.0 in /usr/local/lib/python3.11/dist-packages (from gradio) (4.9.0)\n",
            "Collecting fastapi<1.0,>=0.115.2 (from gradio)\n",
            "  Downloading fastapi-0.115.12-py3-none-any.whl.metadata (27 kB)\n",
            "Collecting ffmpy (from gradio)\n",
            "  Downloading ffmpy-0.5.0-py3-none-any.whl.metadata (3.0 kB)\n",
            "Collecting gradio-client==1.10.0 (from gradio)\n",
            "  Downloading gradio_client-1.10.0-py3-none-any.whl.metadata (7.1 kB)\n",
            "Collecting groovy~=0.1 (from gradio)\n",
            "  Downloading groovy-0.1.2-py3-none-any.whl.metadata (6.1 kB)\n",
            "Requirement already satisfied: httpx>=0.24.1 in /usr/local/lib/python3.11/dist-packages (from gradio) (0.28.1)\n",
            "Requirement already satisfied: huggingface-hub>=0.28.1 in /usr/local/lib/python3.11/dist-packages (from gradio) (0.30.2)\n",
            "Requirement already satisfied: jinja2<4.0 in /usr/local/lib/python3.11/dist-packages (from gradio) (3.1.6)\n",
            "Requirement already satisfied: markupsafe<4.0,>=2.0 in /usr/local/lib/python3.11/dist-packages (from gradio) (3.0.2)\n",
            "Requirement already satisfied: numpy<3.0,>=1.0 in /usr/local/lib/python3.11/dist-packages (from gradio) (2.0.2)\n",
            "Requirement already satisfied: orjson~=3.0 in /usr/local/lib/python3.11/dist-packages (from gradio) (3.10.18)\n",
            "Requirement already satisfied: packaging in /usr/local/lib/python3.11/dist-packages (from gradio) (24.2)\n",
            "Requirement already satisfied: pandas<3.0,>=1.0 in /usr/local/lib/python3.11/dist-packages (from gradio) (2.2.2)\n",
            "Requirement already satisfied: pillow<12.0,>=8.0 in /usr/local/lib/python3.11/dist-packages (from gradio) (11.2.1)\n",
            "Requirement already satisfied: pydantic<2.12,>=2.0 in /usr/local/lib/python3.11/dist-packages (from gradio) (2.11.4)\n",
            "Collecting pydub (from gradio)\n",
            "  Downloading pydub-0.25.1-py2.py3-none-any.whl.metadata (1.4 kB)\n",
            "Collecting python-multipart>=0.0.18 (from gradio)\n",
            "  Downloading python_multipart-0.0.20-py3-none-any.whl.metadata (1.8 kB)\n",
            "Requirement already satisfied: pyyaml<7.0,>=5.0 in /usr/local/lib/python3.11/dist-packages (from gradio) (6.0.2)\n",
            "Collecting ruff>=0.9.3 (from gradio)\n",
            "  Downloading ruff-0.11.9-py3-none-manylinux_2_17_x86_64.manylinux2014_x86_64.whl.metadata (25 kB)\n",
            "Collecting safehttpx<0.2.0,>=0.1.6 (from gradio)\n",
            "  Downloading safehttpx-0.1.6-py3-none-any.whl.metadata (4.2 kB)\n",
            "Collecting semantic-version~=2.0 (from gradio)\n",
            "  Downloading semantic_version-2.10.0-py2.py3-none-any.whl.metadata (9.7 kB)\n",
            "Collecting starlette<1.0,>=0.40.0 (from gradio)\n",
            "  Downloading starlette-0.46.2-py3-none-any.whl.metadata (6.2 kB)\n",
            "Collecting tomlkit<0.14.0,>=0.12.0 (from gradio)\n",
            "  Downloading tomlkit-0.13.2-py3-none-any.whl.metadata (2.7 kB)\n",
            "Requirement already satisfied: typer<1.0,>=0.12 in /usr/local/lib/python3.11/dist-packages (from gradio) (0.15.3)\n",
            "Requirement already satisfied: typing-extensions~=4.0 in /usr/local/lib/python3.11/dist-packages (from gradio) (4.13.2)\n",
            "Collecting uvicorn>=0.14.0 (from gradio)\n",
            "  Downloading uvicorn-0.34.2-py3-none-any.whl.metadata (6.5 kB)\n",
            "Requirement already satisfied: fsspec in /usr/local/lib/python3.11/dist-packages (from gradio-client==1.10.0->gradio) (2025.3.2)\n",
            "Requirement already satisfied: websockets<16.0,>=10.0 in /usr/local/lib/python3.11/dist-packages (from gradio-client==1.10.0->gradio) (15.0.1)\n",
            "Requirement already satisfied: idna>=2.8 in /usr/local/lib/python3.11/dist-packages (from anyio<5.0,>=3.0->gradio) (3.10)\n",
            "Requirement already satisfied: sniffio>=1.1 in /usr/local/lib/python3.11/dist-packages (from anyio<5.0,>=3.0->gradio) (1.3.1)\n",
            "Requirement already satisfied: certifi in /usr/local/lib/python3.11/dist-packages (from httpx>=0.24.1->gradio) (2025.4.26)\n",
            "Requirement already satisfied: httpcore==1.* in /usr/local/lib/python3.11/dist-packages (from httpx>=0.24.1->gradio) (1.0.9)\n",
            "Requirement already satisfied: h11>=0.16 in /usr/local/lib/python3.11/dist-packages (from httpcore==1.*->httpx>=0.24.1->gradio) (0.16.0)\n",
            "Requirement already satisfied: filelock in /usr/local/lib/python3.11/dist-packages (from huggingface-hub>=0.28.1->gradio) (3.18.0)\n",
            "Requirement already satisfied: requests in /usr/local/lib/python3.11/dist-packages (from huggingface-hub>=0.28.1->gradio) (2.32.3)\n",
            "Requirement already satisfied: tqdm>=4.42.1 in /usr/local/lib/python3.11/dist-packages (from huggingface-hub>=0.28.1->gradio) (4.67.1)\n",
            "Requirement already satisfied: python-dateutil>=2.8.2 in /usr/local/lib/python3.11/dist-packages (from pandas<3.0,>=1.0->gradio) (2.9.0.post0)\n",
            "Requirement already satisfied: pytz>=2020.1 in /usr/local/lib/python3.11/dist-packages (from pandas<3.0,>=1.0->gradio) (2025.2)\n",
            "Requirement already satisfied: tzdata>=2022.7 in /usr/local/lib/python3.11/dist-packages (from pandas<3.0,>=1.0->gradio) (2025.2)\n",
            "Requirement already satisfied: annotated-types>=0.6.0 in /usr/local/lib/python3.11/dist-packages (from pydantic<2.12,>=2.0->gradio) (0.7.0)\n",
            "Requirement already satisfied: pydantic-core==2.33.2 in /usr/local/lib/python3.11/dist-packages (from pydantic<2.12,>=2.0->gradio) (2.33.2)\n",
            "Requirement already satisfied: typing-inspection>=0.4.0 in /usr/local/lib/python3.11/dist-packages (from pydantic<2.12,>=2.0->gradio) (0.4.0)\n",
            "Requirement already satisfied: click>=8.0.0 in /usr/local/lib/python3.11/dist-packages (from typer<1.0,>=0.12->gradio) (8.1.8)\n",
            "Requirement already satisfied: shellingham>=1.3.0 in /usr/local/lib/python3.11/dist-packages (from typer<1.0,>=0.12->gradio) (1.5.4)\n",
            "Requirement already satisfied: rich>=10.11.0 in /usr/local/lib/python3.11/dist-packages (from typer<1.0,>=0.12->gradio) (13.9.4)\n",
            "Requirement already satisfied: six>=1.5 in /usr/local/lib/python3.11/dist-packages (from python-dateutil>=2.8.2->pandas<3.0,>=1.0->gradio) (1.17.0)\n",
            "Requirement already satisfied: markdown-it-py>=2.2.0 in /usr/local/lib/python3.11/dist-packages (from rich>=10.11.0->typer<1.0,>=0.12->gradio) (3.0.0)\n",
            "Requirement already satisfied: pygments<3.0.0,>=2.13.0 in /usr/local/lib/python3.11/dist-packages (from rich>=10.11.0->typer<1.0,>=0.12->gradio) (2.19.1)\n",
            "Requirement already satisfied: charset-normalizer<4,>=2 in /usr/local/lib/python3.11/dist-packages (from requests->huggingface-hub>=0.28.1->gradio) (3.4.1)\n",
            "Requirement already satisfied: urllib3<3,>=1.21.1 in /usr/local/lib/python3.11/dist-packages (from requests->huggingface-hub>=0.28.1->gradio) (2.4.0)\n",
            "Requirement already satisfied: mdurl~=0.1 in /usr/local/lib/python3.11/dist-packages (from markdown-it-py>=2.2.0->rich>=10.11.0->typer<1.0,>=0.12->gradio) (0.1.2)\n",
            "Downloading gradio-5.29.0-py3-none-any.whl (54.1 MB)\n",
            "\u001b[2K   \u001b[90m━━━━━━━━━━━━━━━━━━━━━━━━━━━━━━━━━━━━━━━━\u001b[0m \u001b[32m54.1/54.1 MB\u001b[0m \u001b[31m19.8 MB/s\u001b[0m eta \u001b[36m0:00:00\u001b[0m\n",
            "\u001b[?25hDownloading gradio_client-1.10.0-py3-none-any.whl (322 kB)\n",
            "\u001b[2K   \u001b[90m━━━━━━━━━━━━━━━━━━━━━━━━━━━━━━━━━━━━━━━━\u001b[0m \u001b[32m322.9/322.9 kB\u001b[0m \u001b[31m28.6 MB/s\u001b[0m eta \u001b[36m0:00:00\u001b[0m\n",
            "\u001b[?25hDownloading aiofiles-24.1.0-py3-none-any.whl (15 kB)\n",
            "Downloading fastapi-0.115.12-py3-none-any.whl (95 kB)\n",
            "\u001b[2K   \u001b[90m━━━━━━━━━━━━━━━━━━━━━━━━━━━━━━━━━━━━━━━━\u001b[0m \u001b[32m95.2/95.2 kB\u001b[0m \u001b[31m7.8 MB/s\u001b[0m eta \u001b[36m0:00:00\u001b[0m\n",
            "\u001b[?25hDownloading groovy-0.1.2-py3-none-any.whl (14 kB)\n",
            "Downloading python_multipart-0.0.20-py3-none-any.whl (24 kB)\n",
            "Downloading ruff-0.11.9-py3-none-manylinux_2_17_x86_64.manylinux2014_x86_64.whl (11.5 MB)\n",
            "\u001b[2K   \u001b[90m━━━━━━━━━━━━━━━━━━━━━━━━━━━━━━━━━━━━━━━━\u001b[0m \u001b[32m11.5/11.5 MB\u001b[0m \u001b[31m109.6 MB/s\u001b[0m eta \u001b[36m0:00:00\u001b[0m\n",
            "\u001b[?25hDownloading safehttpx-0.1.6-py3-none-any.whl (8.7 kB)\n",
            "Downloading semantic_version-2.10.0-py2.py3-none-any.whl (15 kB)\n",
            "Downloading starlette-0.46.2-py3-none-any.whl (72 kB)\n",
            "\u001b[2K   \u001b[90m━━━━━━━━━━━━━━━━━━━━━━━━━━━━━━━━━━━━━━━━\u001b[0m \u001b[32m72.0/72.0 kB\u001b[0m \u001b[31m5.8 MB/s\u001b[0m eta \u001b[36m0:00:00\u001b[0m\n",
            "\u001b[?25hDownloading tomlkit-0.13.2-py3-none-any.whl (37 kB)\n",
            "Downloading uvicorn-0.34.2-py3-none-any.whl (62 kB)\n",
            "\u001b[2K   \u001b[90m━━━━━━━━━━━━━━━━━━━━━━━━━━━━━━━━━━━━━━━━\u001b[0m \u001b[32m62.5/62.5 kB\u001b[0m \u001b[31m4.8 MB/s\u001b[0m eta \u001b[36m0:00:00\u001b[0m\n",
            "\u001b[?25hDownloading ffmpy-0.5.0-py3-none-any.whl (6.0 kB)\n",
            "Downloading pydub-0.25.1-py2.py3-none-any.whl (32 kB)\n",
            "Installing collected packages: pydub, uvicorn, tomlkit, semantic-version, ruff, python-multipart, groovy, ffmpy, aiofiles, starlette, safehttpx, gradio-client, fastapi, gradio\n",
            "Successfully installed aiofiles-24.1.0 fastapi-0.115.12 ffmpy-0.5.0 gradio-5.29.0 gradio-client-1.10.0 groovy-0.1.2 pydub-0.25.1 python-multipart-0.0.20 ruff-0.11.9 safehttpx-0.1.6 semantic-version-2.10.0 starlette-0.46.2 tomlkit-0.13.2 uvicorn-0.34.2\n"
          ]
        }
      ]
    },
    {
      "cell_type": "code",
      "source": [
        "import os\n",
        "from google.colab import userdata\n",
        "\n",
        "os.environ[\"OPENAI_API_KEY\"] = userdata.get(\"OPENAI_API_KEY\")"
      ],
      "metadata": {
        "id": "sjxm0CO6bY0v"
      },
      "execution_count": 1,
      "outputs": []
    },
    {
      "cell_type": "code",
      "source": [
        "from pydantic import BaseModel\n",
        "from typing import List, Optional\n",
        "\n",
        "class TenantRepresentativeDetails(BaseModel):\n",
        "    FirstName: str\n",
        "    LastName:  str\n",
        "    Email:     str\n",
        "    Phone:     Optional[str]\n",
        "\n",
        "class CompanyDetails(BaseModel):\n",
        "    CompanyName:        str\n",
        "    Industry:           str\n",
        "    CompanySize:        str\n",
        "    GrowthStage:        str\n",
        "    CurrentNeighborhood: Optional[str]\n",
        "\n",
        "class PropertyPreferences(BaseModel):\n",
        "    PropertyType:            str\n",
        "    PreferredNeighborhood:   str\n",
        "    EstimatedOrStatedBudget: str\n",
        "    MustHaves:               List[str]\n",
        "    NiceToHaves:             List[str]\n",
        "    SpaceSize:               str\n",
        "    PreferredLeaseTerm:      Optional[str]\n",
        "\n",
        "class TenantProfile(BaseModel):\n",
        "    TenantRepresentativeDetails: TenantRepresentativeDetails\n",
        "    CompanyDetails:              CompanyDetails\n",
        "    FirstInteraction:            str\n",
        "    LastInteraction:             str\n",
        "    DecisionMakerRole:           Optional[str]\n",
        "    PropertyPreferences:         PropertyPreferences\n",
        "    MovingTimeline:              str\n",
        "    PainPoints:                  List[str]\n",
        "    UrgencyScore:                int\n",
        "    Outcome:                     str\n",
        "\n",
        "class EmailChainRecord(BaseModel):\n",
        "    email_chain:   List[str]\n",
        "    tenant_profile: TenantProfile"
      ],
      "metadata": {
        "id": "on69m2r6c3-N"
      },
      "execution_count": 2,
      "outputs": []
    },
    {
      "cell_type": "code",
      "source": [
        "import json\n",
        "\n",
        "data = json.load(open(\"/content/ one_chain.json\"))\n",
        "\n",
        "#remap the tenant_profile keys themselves\n",
        "tp = data[\"tenant_profile\"]\n",
        "tp[\"TenantRepresentativeDetails\"] = tp.pop(\"Tenant Representative Details\")\n",
        "tp[\"CompanyDetails\"]              = tp.pop(\"Company Details\")\n",
        "tp[\"FirstInteraction\"]            = tp.pop(\"First Interaction\")\n",
        "tp[\"LastInteraction\"]             = tp.pop(\"Last Interaction\")\n",
        "tp[\"DecisionMakerRole\"]           = tp.pop(\"Decision-Maker Role\")\n",
        "tp[\"PropertyPreferences\"]         = tp.pop(\"Property Preferences\")\n",
        "tp[\"MovingTimeline\"]              = tp.pop(\"Moving Timeline\")\n",
        "tp[\"PainPoints\"]                  = tp.pop(\"Pain Points\")\n",
        "tp[\"UrgencyScore\"]                = tp.pop(\"Urgency Score\")\n",
        "data[\"tenant_profile\"] = tp\n",
        "\n",
        "#TenantRepresentativeDetails\n",
        "rep = tp[\"TenantRepresentativeDetails\"]\n",
        "rep[\"FirstName\"] = rep.pop(\"First Name\")\n",
        "rep[\"LastName\"]  = rep.pop(\"Last Name\")\n",
        "\n",
        "tp[\"TenantRepresentativeDetails\"] = rep\n",
        "\n",
        "#CompanyDetails\n",
        "cd = tp[\"CompanyDetails\"]\n",
        "cd[\"CompanyName\"]        = cd.pop(\"Company Name\")\n",
        "cd[\"CompanySize\"]        = cd.pop(\"Company Size\")\n",
        "cd[\"GrowthStage\"]        = cd.pop(\"Growth Stage\")\n",
        "cd[\"CurrentNeighborhood\"]= cd.pop(\"Current Neighborhood\")\n",
        "tp[\"CompanyDetails\"] = cd\n",
        "\n",
        "#PropertyPreferences\n",
        "pp = tp[\"PropertyPreferences\"]\n",
        "pp[\"PropertyType\"]            = pp.pop(\"Property Type\")\n",
        "pp[\"PreferredNeighborhood\"]   = pp.pop(\"Preferred Neighborhood\")\n",
        "pp[\"EstimatedOrStatedBudget\"] = pp.pop(\"Estimated or Stated Budget\")\n",
        "pp[\"MustHaves\"]               = pp.pop(\"Must-Haves\")\n",
        "pp[\"NiceToHaves\"]             = pp.pop(\"Nice-to-Haves\")\n",
        "pp[\"SpaceSize\"]               = pp.pop(\"Space Size\")\n",
        "pp[\"PreferredLeaseTerm\"]      = pp.pop(\"Preferred Lease Term\")\n",
        "tp[\"PropertyPreferences\"] = pp\n",
        "\n",
        "\n",
        "record = EmailChainRecord(**data)\n",
        "print(\"✅ Schema validated\")\n",
        "record"
      ],
      "metadata": {
        "id": "4sEWuCXZmaRl",
        "colab": {
          "base_uri": "https://localhost:8080/"
        },
        "outputId": "063bbf3d-7e3d-4fb7-ab92-8c3ddbd23b7d"
      },
      "execution_count": 4,
      "outputs": [
        {
          "output_type": "stream",
          "name": "stdout",
          "text": [
            "✅ Schema validated\n"
          ]
        },
        {
          "output_type": "execute_result",
          "data": {
            "text/plain": [
              "EmailChainRecord(email_chain=['From: Alex Carter <alex.carter@pinnaclerealty.com>\\\\nTo: Lauren Hayes <lauren@pixelcraft.design>\\\\nSubject: Unique Office Spaces in Manhattan\\\\n\\\\nHi Lauren,\\\\n\\\\nI’m Alex Carter with Pinnacle Realty. Are you considering a new space for PixelCraft? I specialize in unique properties that might fit your creative vibe.\\\\n\\\\nBest,\\\\nAlex Carter', 'From: Lauren Hayes <lauren@pixelcraft.design>\\\\nTo: Alex Carter <alex.carter@pinnaclerealty.com>\\\\nSubject: Re: Unique Office Spaces in Manhattan\\\\n\\\\nAlex,\\\\n\\\\nWe’re a design firm, 25 people, and we need a space under $20k/month with a freight elevator, lots of light, and a unique feel. Don’t waste my time with anything else.\\\\n\\\\n— Lauren', 'From: Alex Carter <alex.carter@pinnaclerealty.com>\\\\nTo: Lauren Hayes <lauren@pixelcraft.design>\\\\nSubject: Re: Unique Office Spaces in Manhattan\\\\n\\\\nHi Lauren,\\\\n\\\\nI’ve got a 2,000 sqft loft in East Village—$18k/month, exposed brick, skylights. No freight elevator, but the landlord might add one. Want to check it out?\\\\n\\\\nBest,\\\\nAlex', 'From: Lauren Hayes <lauren@pixelcraft.design>\\\\nTo: Alex Carter <alex.carter@pinnaclerealty.com>\\\\nSubject: Re: Unique Office Spaces in Manhattan\\\\n\\\\nAlex,\\\\n\\\\nDid you even read my email? We NEED a freight elevator already installed. Stop sending me useless options. Do you have anything that actually works or not?\\\\n\\\\n— Lauren', 'From: Alex Carter <alex.carter@pinnaclerealty.com>\\\\nTo: Lauren Hayes <lauren@pixelcraft.design>\\\\nSubject: Re: Unique Office Spaces in Manhattan\\\\n\\\\nLauren,\\\\n\\\\nI get it, you want a freight elevator. Here’s a Chelsea spot—2,500 sqft, $22k/month, freight elevator included, plus a rooftop. It’s a bit over your budget, but good luck finding better in this market.\\\\n\\\\n— Alex', 'From: Lauren Hayes <lauren@pixelcraft.design>\\\\nTo: Alex Carter <alex.carter@pinnaclerealty.com>\\\\nSubject: Re: Unique Office Spaces in Manhattan\\\\n\\\\nAlex,\\\\n\\\\nAre you serious? We said UNDER $20k, not over it. You’re either ignoring me or just incompetent. Send me something that fits our budget and needs, or I’m done here.\\\\n\\\\n— Lauren', 'From: Alex Carter <alex.carter@pinnaclerealty.com>\\\\nTo: Lauren Hayes <lauren@pixelcraft.design>\\\\nSubject: Re: Unique Office Spaces in Manhattan\\\\n\\\\nLauren,\\\\n\\\\nI’m not ignoring you—spaces with freight elevators under $20k are nearly impossible in Manhattan. I’m trying to help, but if you think you can do better, go ahead and prove it. I’ll keep looking, grudgingly.\\\\n\\\\n— Alex', 'From: Lauren Hayes <lauren@pixelcraft.design>\\\\nTo: Alex Carter <alex.carter@pinnaclerealty.com>\\\\nSubject: Re: Unique Office Spaces in Manhattan\\\\n\\\\nAlex,\\\\n\\\\nYour excuses are pathetic. We’ve wasted a week on this nonsense because you can’t deliver. We’re done—consider this a formal notice to stop contacting me. I’ll find a broker who isn’t clueless.\\\\n\\\\n— Lauren', 'From: Alex Carter <alex.carter@pinnaclerealty.com>\\\\nTo: Lauren Hayes <lauren@pixelcraft.design>\\\\nSubject: Re: Unique Office Spaces in Manhattan\\\\n\\\\nLauren,\\\\n\\\\nFine, I’m out. Good luck finding your unicorn space with that attitude. Don’t come crawling back when you realize I was right about the market.\\\\n\\\\n— Alex'], tenant_profile=TenantProfile(TenantRepresentativeDetails=TenantRepresentativeDetails(FirstName='Lauren', LastName='Hayes', Email='lauren@pixelcraft.design', Phone=None), CompanyDetails=CompanyDetails(CompanyName='PixelCraft', Industry='Creative', CompanySize='Small (20-75 employees)', GrowthStage='Startup', CurrentNeighborhood=None), FirstInteraction='31-10-2025', LastInteraction='07-11-2025', DecisionMakerRole=None, PropertyPreferences=PropertyPreferences(PropertyType='Office', PreferredNeighborhood='East Village, Chelsea', EstimatedOrStatedBudget='Under $20,000/month', MustHaves=['Freight elevator', 'Unique space', 'Natural light'], NiceToHaves=[], SpaceSize='2,000-2,500 sqft', PreferredLeaseTerm=None), MovingTimeline='Exploratory', PainPoints=['Budget constraints', 'Broker incompetence'], UrgencyScore=3, Outcome='Tenant terminates relationship with broker in hostile exchange'))"
            ]
          },
          "metadata": {},
          "execution_count": 4
        }
      ]
    },
    {
      "cell_type": "code",
      "source": [
        "record.tenant_profile"
      ],
      "metadata": {
        "colab": {
          "base_uri": "https://localhost:8080/"
        },
        "id": "EiUi_sxEW9An",
        "outputId": "82947748-5e10-4c44-a01c-d058d867281a"
      },
      "execution_count": 5,
      "outputs": [
        {
          "output_type": "execute_result",
          "data": {
            "text/plain": [
              "TenantProfile(TenantRepresentativeDetails=TenantRepresentativeDetails(FirstName='Lauren', LastName='Hayes', Email='lauren@pixelcraft.design', Phone=None), CompanyDetails=CompanyDetails(CompanyName='PixelCraft', Industry='Creative', CompanySize='Small (20-75 employees)', GrowthStage='Startup', CurrentNeighborhood=None), FirstInteraction='31-10-2025', LastInteraction='07-11-2025', DecisionMakerRole=None, PropertyPreferences=PropertyPreferences(PropertyType='Office', PreferredNeighborhood='East Village, Chelsea', EstimatedOrStatedBudget='Under $20,000/month', MustHaves=['Freight elevator', 'Unique space', 'Natural light'], NiceToHaves=[], SpaceSize='2,000-2,500 sqft', PreferredLeaseTerm=None), MovingTimeline='Exploratory', PainPoints=['Budget constraints', 'Broker incompetence'], UrgencyScore=3, Outcome='Tenant terminates relationship with broker in hostile exchange')"
            ]
          },
          "metadata": {},
          "execution_count": 5
        }
      ]
    },
    {
      "cell_type": "code",
      "source": [
        "def run_rules(tp):\n",
        "    suggestions = []\n",
        "\n",
        "    # R1: high urgency → immediate tour\n",
        "    if tp.UrgencyScore >= 8 and \"Immediate\" in tp.MovingTimeline:\n",
        "        suggestions.append(\n",
        "            \"Schedule tour within next 24 hours; follow up by phone if no confirmation in 2 hours.\"\n",
        "        )\n",
        "\n",
        "    # R2: budget conflict → negotiate incentives\n",
        "    if \"Under\" in tp.PropertyPreferences.EstimatedOrStatedBudget and \"$\" in tp.PropertyPreferences.EstimatedOrStatedBudget:\n",
        "        suggestions.append(\n",
        "            \"Negotiate rent concessions or landlord incentives (e.g., free month) rather than expanding search.\"\n",
        "        )\n",
        "\n",
        "    # R3: pet‑friendly must-have → highlight certification\n",
        "    if any(\"pet\" in m.lower() for m in tp.PropertyPreferences.MustHaves):\n",
        "        suggestions.append(\n",
        "            \"Filter listings for pet‑friendly certification; highlight this feature in outreach email.\"\n",
        "        )\n",
        "\n",
        "    # R4: decision‑maker is COO or Founder → include ROI/floorplans\n",
        "    role = (tp.DecisionMakerRole or \"\").lower()\n",
        "    if \"coo\" in role or \"founder\" in role:\n",
        "        suggestions.append(\n",
        "            \"Include detailed floor plans and ROI analysis in the next message.\"\n",
        "        )\n",
        "\n",
        "    # R5: tenant tone hesitant or budget dispute → dual‑option offering\n",
        "    if tp.UrgencyScore < 5 or any(\"still\" in point.lower() or \"considering\" in point.lower()\n",
        "                                  for point in tp.PainPoints):\n",
        "        suggestions.append(\n",
        "            \"Offer two alternative listings: one slightly under budget, one with added amenity incentive.\"\n",
        "        )\n",
        "\n",
        "    # R6: noisy neighbors or HVAC issues → prioritize sound‑proofing\n",
        "    if any(\"noisy\" in p.lower() or \"hvac\" in p.lower() for p in tp.PainPoints):\n",
        "        suggestions.append(\n",
        "            \"Prioritize buildings with sound‑proofing specs and documented HVAC maintenance.\"\n",
        "        )\n",
        "\n",
        "    # R7: short lease term preference → propose flexible terms\n",
        "    term = tp.PropertyPreferences.PreferredLeaseTerm or \"\"\n",
        "    if \"short\" in term.lower() or \"1-3\" in term.lower():\n",
        "        suggestions.append(\n",
        "            \"Emphasize short‑term lease flexibility and renewal options in your proposal.\"\n",
        "        )\n",
        "\n",
        "    # R8: large space size requested → suggest space‑planning service\n",
        "    size = tp.PropertyPreferences.SpaceSize or \"\"\n",
        "    if any(label in size.lower() for label in [\"5000\", \"large\", \"5,000\"]):\n",
        "        suggestions.append(\n",
        "            \"Offer a complimentary space‑planning consultation to optimize large‑floor layouts.\"\n",
        "        )\n",
        "\n",
        "    return suggestions"
      ],
      "metadata": {
        "id": "aT1UD6cJEwlE"
      },
      "execution_count": 6,
      "outputs": []
    },
    {
      "cell_type": "code",
      "source": [
        "print(run_rules(record.tenant_profile))"
      ],
      "metadata": {
        "colab": {
          "base_uri": "https://localhost:8080/"
        },
        "id": "hllC7xIPFRq4",
        "outputId": "0b553d28-88fd-444b-d32c-d042466e199b"
      },
      "execution_count": 7,
      "outputs": [
        {
          "output_type": "stream",
          "name": "stdout",
          "text": [
            "['Negotiate rent concessions or landlord incentives (e.g., free month) rather than expanding search.', 'Offer two alternative listings: one slightly under budget, one with added amenity incentive.']\n"
          ]
        }
      ]
    },
    {
      "cell_type": "code",
      "source": [
        "import openai, json, os\n",
        "openai.api_key = os.environ[\"OPENAI_API_KEY\"]\n",
        "\n",
        "def llm_summarize(sample_dict):\n",
        "    prompt = f\"\"\"\n",
        "You are an email‑thread summarization engine.\n",
        "Input JSON:\n",
        "{json.dumps(sample_dict, indent=2)}\n",
        "Respond only with valid JSON of the form:\n",
        "{{ \"summary\": {{…}}, \"suggestions\": […] }}\n",
        "\"\"\"\n",
        "    resp = openai.chat.completions.create(\n",
        "        model=\"gpt-3.5-turbo\",\n",
        "        messages=[{\"role\":\"user\",\"content\":prompt}],\n",
        "        temperature=0.2\n",
        "    )\n",
        "    return json.loads(resp.choices[0].message.content)\n",
        "\n",
        "out = llm_summarize(data)\n",
        "print(json.dumps(out, indent=2))"
      ],
      "metadata": {
        "id": "ihDIyZhcFTRZ",
        "colab": {
          "base_uri": "https://localhost:8080/"
        },
        "outputId": "1280aa19-153b-41f8-9dd8-09894a74475d"
      },
      "execution_count": 8,
      "outputs": [
        {
          "output_type": "stream",
          "name": "stdout",
          "text": [
            "{\n",
            "  \"summary\": {\n",
            "    \"outcome\": \"Tenant terminates relationship with broker in hostile exchange\",\n",
            "    \"pain_points\": [\n",
            "      \"Budget constraints\",\n",
            "      \"Broker incompetence\"\n",
            "    ],\n",
            "    \"final_interaction_date\": \"07-11-2025\"\n",
            "  },\n",
            "  \"suggestions\": []\n",
            "}\n"
          ]
        }
      ]
    },
    {
      "cell_type": "code",
      "source": [
        "#integrate rules\n",
        "combined = out.copy()\n",
        "combined[\"rules\"] = run_rules(record.tenant_profile)\n",
        "print(json.dumps(combined, indent=2))"
      ],
      "metadata": {
        "id": "jPcOUy-KJiIF",
        "outputId": "28f044a0-2a1e-45c0-ae17-fc3747f531db",
        "colab": {
          "base_uri": "https://localhost:8080/"
        }
      },
      "execution_count": 9,
      "outputs": [
        {
          "output_type": "stream",
          "name": "stdout",
          "text": [
            "{\n",
            "  \"summary\": {\n",
            "    \"outcome\": \"Tenant terminates relationship with broker in hostile exchange\",\n",
            "    \"pain_points\": [\n",
            "      \"Budget constraints\",\n",
            "      \"Broker incompetence\"\n",
            "    ],\n",
            "    \"final_interaction_date\": \"07-11-2025\"\n",
            "  },\n",
            "  \"suggestions\": [],\n",
            "  \"rules\": [\n",
            "    \"Negotiate rent concessions or landlord incentives (e.g., free month) rather than expanding search.\",\n",
            "    \"Offer two alternative listings: one slightly under budget, one with added amenity incentive.\"\n",
            "  ]\n",
            "}\n"
          ]
        }
      ]
    },
    {
      "cell_type": "code",
      "source": [
        "import gradio as gr\n",
        "\n",
        "def analyze_chain(raw_json):\n",
        "    try:\n",
        "        sample = json.loads(raw_json)\n",
        "        #remap\n",
        "        tp = sample[\"tenant_profile\"]\n",
        "        mapping_tp = {\n",
        "            \"Tenant Representative Details\":\"TenantRepresentativeDetails\",\n",
        "            \"Company Details\":\"CompanyDetails\",\n",
        "            \"First Interaction\":\"FirstInteraction\",\n",
        "            \"Last Interaction\":\"LastInteraction\",\n",
        "            \"Decision-Maker Role\":\"DecisionMakerRole\",\n",
        "            \"Property Preferences\":\"PropertyPreferences\",\n",
        "            \"Moving Timeline\":\"MovingTimeline\",\n",
        "            \"Pain Points\":\"PainPoints\",\n",
        "            \"Urgency Score\":\"UrgencyScore\"\n",
        "        }\n",
        "        for old, new in mapping_tp.items():\n",
        "            tp[new] = tp.pop(old)\n",
        "\n",
        "        #TRD\n",
        "        rep = tp[\"TenantRepresentativeDetails\"]\n",
        "        rep[\"FirstName\"] = rep.pop(\"First Name\")\n",
        "        rep[\"LastName\"]  = rep.pop(\"Last Name\")\n",
        "        tp[\"TenantRepresentativeDetails\"] = rep\n",
        "        cd = tp[\"CompanyDetails\"]\n",
        "        mapping_cd = {\n",
        "            \"Company Name\":\"CompanyName\",\n",
        "            \"Company Size\":\"CompanySize\",\n",
        "            \"Growth Stage\":\"GrowthStage\",\n",
        "            \"Current Neighborhood\":\"CurrentNeighborhood\"\n",
        "        }\n",
        "        for old, new in mapping_cd.items():\n",
        "            cd[new] = cd.pop(old)\n",
        "        tp[\"CompanyDetails\"] = cd\n",
        "        #PP\n",
        "        pp = tp[\"PropertyPreferences\"]\n",
        "        mapping_pp = {\n",
        "            \"Property Type\":\"PropertyType\",\n",
        "            \"Preferred Neighborhood\":\"PreferredNeighborhood\",\n",
        "            \"Estimated or Stated Budget\":\"EstimatedOrStatedBudget\",\n",
        "            \"Must-Haves\":\"MustHaves\",\n",
        "            \"Nice-to-Haves\":\"NiceToHaves\",\n",
        "            \"Space Size\":\"SpaceSize\",\n",
        "            \"Preferred Lease Term\":\"PreferredLeaseTerm\"\n",
        "        }\n",
        "        for old, new in mapping_pp.items():\n",
        "            pp[new] = pp.pop(old)\n",
        "        tp[\"PropertyPreferences\"] = pp\n",
        "        sample[\"tenant_profile\"] = tp\n",
        "\n",
        "        record = EmailChainRecord(**sample)\n",
        "        out = llm_summarize(sample)\n",
        "        out[\"rules\"] = run_rules(record.tenant_profile)\n",
        "\n",
        "        return json.dumps(out, indent=2)\n",
        "\n",
        "    except Exception as e:\n",
        "        return f\"⚠️ Error: {type(e).__name__}: {e}\""
      ],
      "metadata": {
        "id": "HZ73az8uCdRo"
      },
      "execution_count": 12,
      "outputs": []
    },
    {
      "cell_type": "code",
      "source": [
        "import matplotlib.pyplot as plt\n",
        "import gradio as gr\n",
        "\n",
        "def analyze_chain_with_plot(raw_json):\n",
        "    result_json = analyze_chain(raw_json)\n",
        "\n",
        "    # parse back into dict so we can chart\n",
        "    data = json.loads(result_json)\n",
        "    profile = json.loads(raw_json)[\"tenant_profile\"]\n",
        "    # pull numeric values\n",
        "    urgency = profile[\"Urgency Score\"]\n",
        "    # convert MovingTimeline to a number of days\n",
        "    mt = profile[\"Moving Timeline\"]\n",
        "    days = 0\n",
        "    if \"Immediate\" in mt:\n",
        "        days = 10\n",
        "    elif \"30\" in mt:\n",
        "        days = 30\n",
        "    elif \"Short‑term\" in mt or \"3-6\" in mt:\n",
        "        days = 90\n",
        "    elif \"Exploratory\" in mt:\n",
        "        days = 180\n",
        "    #bar chart\n",
        "    fig, ax = plt.subplots()\n",
        "    ax.bar([\"UrgencyScore\",\"TimelineDays\"], [urgency, days])\n",
        "    ax.set_ylabel(\"Value\")\n",
        "    ax.set_title(\"Tenant Urgency vs Timeline\")\n",
        "    fig.tight_layout()\n",
        "\n",
        "    return result_json, fig\n",
        "\n",
        "\n",
        "iface = gr.Interface(\n",
        "    fn=analyze_chain_with_plot,\n",
        "    inputs=gr.Textbox(lines=15, label=\"Paste chain JSON here\"),\n",
        "    outputs=[\n",
        "      gr.Code(label=\"Summary + Suggestions\"),\n",
        "      gr.Plot(label=\"Urgency vs Timeline\")\n",
        "    ],\n",
        "    title=\"Email Chain Analyzer\"\n",
        ")\n",
        "\n",
        "iface.launch(share=True)"
      ],
      "metadata": {
        "colab": {
          "base_uri": "https://localhost:8080/",
          "height": 611
        },
        "id": "1rKzXcNNPtcg",
        "outputId": "239d6e72-14d8-4a7c-a9b3-a86bad176e1e"
      },
      "execution_count": 13,
      "outputs": [
        {
          "output_type": "stream",
          "name": "stdout",
          "text": [
            "Colab notebook detected. To show errors in colab notebook, set debug=True in launch()\n",
            "* Running on public URL: https://fbbe8870a9d468371a.gradio.live\n",
            "\n",
            "This share link expires in 1 week. For free permanent hosting and GPU upgrades, run `gradio deploy` from the terminal in the working directory to deploy to Hugging Face Spaces (https://huggingface.co/spaces)\n"
          ]
        },
        {
          "output_type": "display_data",
          "data": {
            "text/plain": [
              "<IPython.core.display.HTML object>"
            ],
            "text/html": [
              "<div><iframe src=\"https://fbbe8870a9d468371a.gradio.live\" width=\"100%\" height=\"500\" allow=\"autoplay; camera; microphone; clipboard-read; clipboard-write;\" frameborder=\"0\" allowfullscreen></iframe></div>"
            ]
          },
          "metadata": {}
        },
        {
          "output_type": "execute_result",
          "data": {
            "text/plain": []
          },
          "metadata": {},
          "execution_count": 13
        }
      ]
    },
    {
      "cell_type": "code",
      "source": [],
      "metadata": {
        "id": "HUNfxiZMfmR9"
      },
      "execution_count": null,
      "outputs": []
    }
  ]
}